{
 "cells": [
  {
   "cell_type": "code",
   "execution_count": 1,
   "id": "2976aa31",
   "metadata": {},
   "outputs": [],
   "source": [
    "import os\n",
    "import sys\n",
    "import pandas as pd\n",
    "import numpy as np\n",
    "import glob"
   ]
  },
  {
   "cell_type": "code",
   "execution_count": 2,
   "id": "8aa1d4c2",
   "metadata": {},
   "outputs": [],
   "source": [
    "results_df = pd.read_csv(\"tests/evaluation_19_retrievers_000_009_sampled_50_queries_gpt-4-1106-preview_20240204.tsv\", sep='\\t')"
   ]
  },
  {
   "cell_type": "code",
   "execution_count": 3,
   "id": "32663e70",
   "metadata": {},
   "outputs": [
    {
     "data": {
      "text/html": [
       "<div>\n",
       "<style scoped>\n",
       "    .dataframe tbody tr th:only-of-type {\n",
       "        vertical-align: middle;\n",
       "    }\n",
       "\n",
       "    .dataframe tbody tr th {\n",
       "        vertical-align: top;\n",
       "    }\n",
       "\n",
       "    .dataframe thead th {\n",
       "        text-align: right;\n",
       "    }\n",
       "</style>\n",
       "<table border=\"1\" class=\"dataframe\">\n",
       "  <thead>\n",
       "    <tr style=\"text-align: right;\">\n",
       "      <th></th>\n",
       "      <th>query_id</th>\n",
       "      <th>query</th>\n",
       "      <th>passage_id</th>\n",
       "      <th>mT5</th>\n",
       "      <th>splade</th>\n",
       "      <th>colbertx</th>\n",
       "      <th>bm25_e5</th>\n",
       "      <th>bm25</th>\n",
       "      <th>e5</th>\n",
       "      <th>e5_base</th>\n",
       "      <th>...</th>\n",
       "      <th>bm25_e5_1M_massiveweb</th>\n",
       "      <th>text-embbeding-3-large_1M_massiveweb</th>\n",
       "      <th>text-embbeding-3-small_1M_massiveweb</th>\n",
       "      <th>passage</th>\n",
       "      <th>score</th>\n",
       "      <th>reasoning</th>\n",
       "      <th>usage</th>\n",
       "      <th>cost</th>\n",
       "      <th>duration</th>\n",
       "      <th>saved_cost</th>\n",
       "    </tr>\n",
       "  </thead>\n",
       "  <tbody>\n",
       "    <tr>\n",
       "      <th>0</th>\n",
       "      <td>1</td>\n",
       "      <td>Qual a maior característica da fauna brasileira?</td>\n",
       "      <td>clueweb22-pt0000-82-13187_0</td>\n",
       "      <td>False</td>\n",
       "      <td>False</td>\n",
       "      <td>True</td>\n",
       "      <td>False</td>\n",
       "      <td>False</td>\n",
       "      <td>False</td>\n",
       "      <td>False</td>\n",
       "      <td>...</td>\n",
       "      <td>False</td>\n",
       "      <td>False</td>\n",
       "      <td>False</td>\n",
       "      <td>Mamíferos do Brasil - Zoologia | Museu Naciona...</td>\n",
       "      <td>1</td>\n",
       "      <td>A passagem lista vários mamíferos da fauna bra...</td>\n",
       "      <td>{'prompt_tokens': 765, 'completion_tokens': 75...</td>\n",
       "      <td>0.00000</td>\n",
       "      <td>6.693229</td>\n",
       "      <td>0.02745</td>\n",
       "    </tr>\n",
       "    <tr>\n",
       "      <th>1</th>\n",
       "      <td>1</td>\n",
       "      <td>Qual a maior característica da fauna brasileira?</td>\n",
       "      <td>clueweb22-pt0000-59-04599_2</td>\n",
       "      <td>False</td>\n",
       "      <td>False</td>\n",
       "      <td>True</td>\n",
       "      <td>False</td>\n",
       "      <td>False</td>\n",
       "      <td>False</td>\n",
       "      <td>False</td>\n",
       "      <td>...</td>\n",
       "      <td>False</td>\n",
       "      <td>False</td>\n",
       "      <td>False</td>\n",
       "      <td>Segundo uma lista levantada pelo Comitê Brasil...</td>\n",
       "      <td>1</td>\n",
       "      <td>A passagem descreve várias espécies de aves en...</td>\n",
       "      <td>{'prompt_tokens': 860, 'completion_tokens': 82...</td>\n",
       "      <td>0.00000</td>\n",
       "      <td>5.163547</td>\n",
       "      <td>0.03072</td>\n",
       "    </tr>\n",
       "    <tr>\n",
       "      <th>2</th>\n",
       "      <td>1</td>\n",
       "      <td>Qual a maior característica da fauna brasileira?</td>\n",
       "      <td>clueweb22-pt0000-64-06285_39</td>\n",
       "      <td>True</td>\n",
       "      <td>True</td>\n",
       "      <td>False</td>\n",
       "      <td>False</td>\n",
       "      <td>False</td>\n",
       "      <td>False</td>\n",
       "      <td>True</td>\n",
       "      <td>...</td>\n",
       "      <td>False</td>\n",
       "      <td>False</td>\n",
       "      <td>False</td>\n",
       "      <td>A exuberante fauna e flora brasileiras, relata...</td>\n",
       "      <td>3</td>\n",
       "      <td>A passagem menciona que o Brasil tem a maior b...</td>\n",
       "      <td>{'prompt_tokens': 840, 'completion_tokens': 46...</td>\n",
       "      <td>0.00000</td>\n",
       "      <td>5.185688</td>\n",
       "      <td>0.02796</td>\n",
       "    </tr>\n",
       "    <tr>\n",
       "      <th>3</th>\n",
       "      <td>1</td>\n",
       "      <td>Qual a maior característica da fauna brasileira?</td>\n",
       "      <td>clueweb22-pt0000-77-06884_1</td>\n",
       "      <td>False</td>\n",
       "      <td>True</td>\n",
       "      <td>True</td>\n",
       "      <td>False</td>\n",
       "      <td>False</td>\n",
       "      <td>False</td>\n",
       "      <td>False</td>\n",
       "      <td>...</td>\n",
       "      <td>False</td>\n",
       "      <td>False</td>\n",
       "      <td>False</td>\n",
       "      <td>O tamanho do Brasil e a grande variedade de cl...</td>\n",
       "      <td>1</td>\n",
       "      <td>A passagem menciona a alta biodiversidade do B...</td>\n",
       "      <td>{'prompt_tokens': 812, 'completion_tokens': 81...</td>\n",
       "      <td>0.00000</td>\n",
       "      <td>5.882017</td>\n",
       "      <td>0.02922</td>\n",
       "    </tr>\n",
       "    <tr>\n",
       "      <th>4</th>\n",
       "      <td>1</td>\n",
       "      <td>Qual a maior característica da fauna brasileira?</td>\n",
       "      <td>clueweb22-pt0000-78-09747_0</td>\n",
       "      <td>True</td>\n",
       "      <td>False</td>\n",
       "      <td>False</td>\n",
       "      <td>False</td>\n",
       "      <td>True</td>\n",
       "      <td>False</td>\n",
       "      <td>False</td>\n",
       "      <td>...</td>\n",
       "      <td>False</td>\n",
       "      <td>False</td>\n",
       "      <td>False</td>\n",
       "      <td>Onça-pintada - Escola Kids Qual matéria está p...</td>\n",
       "      <td>1</td>\n",
       "      <td>A passagem menciona que a onça-pintada é um do...</td>\n",
       "      <td>{'prompt_tokens': 805, 'completion_tokens': 96...</td>\n",
       "      <td>0.00000</td>\n",
       "      <td>5.774773</td>\n",
       "      <td>0.02991</td>\n",
       "    </tr>\n",
       "    <tr>\n",
       "      <th>...</th>\n",
       "      <td>...</td>\n",
       "      <td>...</td>\n",
       "      <td>...</td>\n",
       "      <td>...</td>\n",
       "      <td>...</td>\n",
       "      <td>...</td>\n",
       "      <td>...</td>\n",
       "      <td>...</td>\n",
       "      <td>...</td>\n",
       "      <td>...</td>\n",
       "      <td>...</td>\n",
       "      <td>...</td>\n",
       "      <td>...</td>\n",
       "      <td>...</td>\n",
       "      <td>...</td>\n",
       "      <td>...</td>\n",
       "      <td>...</td>\n",
       "      <td>...</td>\n",
       "      <td>...</td>\n",
       "      <td>...</td>\n",
       "      <td>...</td>\n",
       "    </tr>\n",
       "    <tr>\n",
       "      <th>4839</th>\n",
       "      <td>199</td>\n",
       "      <td>Quais foram os principais artistas do Impressi...</td>\n",
       "      <td>clueweb22-pt0001-29-09969_2</td>\n",
       "      <td>False</td>\n",
       "      <td>False</td>\n",
       "      <td>False</td>\n",
       "      <td>False</td>\n",
       "      <td>False</td>\n",
       "      <td>False</td>\n",
       "      <td>False</td>\n",
       "      <td>...</td>\n",
       "      <td>True</td>\n",
       "      <td>False</td>\n",
       "      <td>False</td>\n",
       "      <td>Considerado o maior pintor do romantismo franc...</td>\n",
       "      <td>2</td>\n",
       "      <td>A passagem menciona Edgar Degas como um dos fu...</td>\n",
       "      <td>{'prompt_tokens': 840, 'completion_tokens': 86...</td>\n",
       "      <td>0.03036</td>\n",
       "      <td>5.756289</td>\n",
       "      <td>0.00000</td>\n",
       "    </tr>\n",
       "    <tr>\n",
       "      <th>4840</th>\n",
       "      <td>199</td>\n",
       "      <td>Quais foram os principais artistas do Impressi...</td>\n",
       "      <td>clueweb22-pt0000-26-12708_2</td>\n",
       "      <td>False</td>\n",
       "      <td>False</td>\n",
       "      <td>False</td>\n",
       "      <td>False</td>\n",
       "      <td>False</td>\n",
       "      <td>False</td>\n",
       "      <td>False</td>\n",
       "      <td>...</td>\n",
       "      <td>True</td>\n",
       "      <td>False</td>\n",
       "      <td>False</td>\n",
       "      <td>O pintor mais conhecido é Van Gogh, conhecido ...</td>\n",
       "      <td>2</td>\n",
       "      <td>A passagem menciona Monet como o impressionist...</td>\n",
       "      <td>{'prompt_tokens': 750, 'completion_tokens': 73...</td>\n",
       "      <td>0.02688</td>\n",
       "      <td>4.359926</td>\n",
       "      <td>0.00000</td>\n",
       "    </tr>\n",
       "    <tr>\n",
       "      <th>4841</th>\n",
       "      <td>199</td>\n",
       "      <td>Quais foram os principais artistas do Impressi...</td>\n",
       "      <td>clueweb22-pt0000-17-07130_2</td>\n",
       "      <td>False</td>\n",
       "      <td>False</td>\n",
       "      <td>False</td>\n",
       "      <td>False</td>\n",
       "      <td>False</td>\n",
       "      <td>False</td>\n",
       "      <td>False</td>\n",
       "      <td>...</td>\n",
       "      <td>True</td>\n",
       "      <td>False</td>\n",
       "      <td>False</td>\n",
       "      <td>Dadaísmo: corrente mais radical, mostra-se tot...</td>\n",
       "      <td>0</td>\n",
       "      <td>A passagem não menciona o Impressionismo nem s...</td>\n",
       "      <td>{'prompt_tokens': 747, 'completion_tokens': 59...</td>\n",
       "      <td>0.02595</td>\n",
       "      <td>3.649166</td>\n",
       "      <td>0.00000</td>\n",
       "    </tr>\n",
       "    <tr>\n",
       "      <th>4842</th>\n",
       "      <td>199</td>\n",
       "      <td>Quais foram os principais artistas do Impressi...</td>\n",
       "      <td>clueweb22-pt0001-22-00434_5</td>\n",
       "      <td>False</td>\n",
       "      <td>False</td>\n",
       "      <td>False</td>\n",
       "      <td>False</td>\n",
       "      <td>False</td>\n",
       "      <td>False</td>\n",
       "      <td>False</td>\n",
       "      <td>...</td>\n",
       "      <td>True</td>\n",
       "      <td>False</td>\n",
       "      <td>False</td>\n",
       "      <td>Em face de tal refutação, coloca-se não apenas...</td>\n",
       "      <td>1</td>\n",
       "      <td>A passagem menciona a tradição do impressionis...</td>\n",
       "      <td>{'prompt_tokens': 817, 'completion_tokens': 12...</td>\n",
       "      <td>0.03201</td>\n",
       "      <td>3.651713</td>\n",
       "      <td>0.00000</td>\n",
       "    </tr>\n",
       "    <tr>\n",
       "      <th>4843</th>\n",
       "      <td>199</td>\n",
       "      <td>Quais foram os principais artistas do Impressi...</td>\n",
       "      <td>clueweb22-pt0000-99-07380_96</td>\n",
       "      <td>False</td>\n",
       "      <td>False</td>\n",
       "      <td>False</td>\n",
       "      <td>False</td>\n",
       "      <td>False</td>\n",
       "      <td>False</td>\n",
       "      <td>False</td>\n",
       "      <td>...</td>\n",
       "      <td>True</td>\n",
       "      <td>True</td>\n",
       "      <td>True</td>\n",
       "      <td>motivação para a Primeira Exposição Impression...</td>\n",
       "      <td>0</td>\n",
       "      <td>A passagem não lista os principais artistas do...</td>\n",
       "      <td>{'prompt_tokens': 840, 'completion_tokens': 88...</td>\n",
       "      <td>0.03048</td>\n",
       "      <td>2.944433</td>\n",
       "      <td>0.00000</td>\n",
       "    </tr>\n",
       "  </tbody>\n",
       "</table>\n",
       "<p>4844 rows × 30 columns</p>\n",
       "</div>"
      ],
      "text/plain": [
       "      query_id                                              query  \\\n",
       "0            1   Qual a maior característica da fauna brasileira?   \n",
       "1            1   Qual a maior característica da fauna brasileira?   \n",
       "2            1   Qual a maior característica da fauna brasileira?   \n",
       "3            1   Qual a maior característica da fauna brasileira?   \n",
       "4            1   Qual a maior característica da fauna brasileira?   \n",
       "...        ...                                                ...   \n",
       "4839       199  Quais foram os principais artistas do Impressi...   \n",
       "4840       199  Quais foram os principais artistas do Impressi...   \n",
       "4841       199  Quais foram os principais artistas do Impressi...   \n",
       "4842       199  Quais foram os principais artistas do Impressi...   \n",
       "4843       199  Quais foram os principais artistas do Impressi...   \n",
       "\n",
       "                        passage_id    mT5  splade  colbertx  bm25_e5   bm25  \\\n",
       "0      clueweb22-pt0000-82-13187_0  False   False      True    False  False   \n",
       "1      clueweb22-pt0000-59-04599_2  False   False      True    False  False   \n",
       "2     clueweb22-pt0000-64-06285_39   True    True     False    False  False   \n",
       "3      clueweb22-pt0000-77-06884_1  False    True      True    False  False   \n",
       "4      clueweb22-pt0000-78-09747_0   True   False     False    False   True   \n",
       "...                            ...    ...     ...       ...      ...    ...   \n",
       "4839   clueweb22-pt0001-29-09969_2  False   False     False    False  False   \n",
       "4840   clueweb22-pt0000-26-12708_2  False   False     False    False  False   \n",
       "4841   clueweb22-pt0000-17-07130_2  False   False     False    False  False   \n",
       "4842   clueweb22-pt0001-22-00434_5  False   False     False    False  False   \n",
       "4843  clueweb22-pt0000-99-07380_96  False   False     False    False  False   \n",
       "\n",
       "         e5  e5_base  ...  bm25_e5_1M_massiveweb  \\\n",
       "0     False    False  ...                  False   \n",
       "1     False    False  ...                  False   \n",
       "2     False     True  ...                  False   \n",
       "3     False    False  ...                  False   \n",
       "4     False    False  ...                  False   \n",
       "...     ...      ...  ...                    ...   \n",
       "4839  False    False  ...                   True   \n",
       "4840  False    False  ...                   True   \n",
       "4841  False    False  ...                   True   \n",
       "4842  False    False  ...                   True   \n",
       "4843  False    False  ...                   True   \n",
       "\n",
       "      text-embbeding-3-large_1M_massiveweb  \\\n",
       "0                                    False   \n",
       "1                                    False   \n",
       "2                                    False   \n",
       "3                                    False   \n",
       "4                                    False   \n",
       "...                                    ...   \n",
       "4839                                 False   \n",
       "4840                                 False   \n",
       "4841                                 False   \n",
       "4842                                 False   \n",
       "4843                                  True   \n",
       "\n",
       "      text-embbeding-3-small_1M_massiveweb  \\\n",
       "0                                    False   \n",
       "1                                    False   \n",
       "2                                    False   \n",
       "3                                    False   \n",
       "4                                    False   \n",
       "...                                    ...   \n",
       "4839                                 False   \n",
       "4840                                 False   \n",
       "4841                                 False   \n",
       "4842                                 False   \n",
       "4843                                  True   \n",
       "\n",
       "                                                passage  score  \\\n",
       "0     Mamíferos do Brasil - Zoologia | Museu Naciona...      1   \n",
       "1     Segundo uma lista levantada pelo Comitê Brasil...      1   \n",
       "2     A exuberante fauna e flora brasileiras, relata...      3   \n",
       "3     O tamanho do Brasil e a grande variedade de cl...      1   \n",
       "4     Onça-pintada - Escola Kids Qual matéria está p...      1   \n",
       "...                                                 ...    ...   \n",
       "4839  Considerado o maior pintor do romantismo franc...      2   \n",
       "4840  O pintor mais conhecido é Van Gogh, conhecido ...      2   \n",
       "4841  Dadaísmo: corrente mais radical, mostra-se tot...      0   \n",
       "4842  Em face de tal refutação, coloca-se não apenas...      1   \n",
       "4843  motivação para a Primeira Exposição Impression...      0   \n",
       "\n",
       "                                              reasoning  \\\n",
       "0     A passagem lista vários mamíferos da fauna bra...   \n",
       "1     A passagem descreve várias espécies de aves en...   \n",
       "2     A passagem menciona que o Brasil tem a maior b...   \n",
       "3     A passagem menciona a alta biodiversidade do B...   \n",
       "4     A passagem menciona que a onça-pintada é um do...   \n",
       "...                                                 ...   \n",
       "4839  A passagem menciona Edgar Degas como um dos fu...   \n",
       "4840  A passagem menciona Monet como o impressionist...   \n",
       "4841  A passagem não menciona o Impressionismo nem s...   \n",
       "4842  A passagem menciona a tradição do impressionis...   \n",
       "4843  A passagem não lista os principais artistas do...   \n",
       "\n",
       "                                                  usage     cost  duration  \\\n",
       "0     {'prompt_tokens': 765, 'completion_tokens': 75...  0.00000  6.693229   \n",
       "1     {'prompt_tokens': 860, 'completion_tokens': 82...  0.00000  5.163547   \n",
       "2     {'prompt_tokens': 840, 'completion_tokens': 46...  0.00000  5.185688   \n",
       "3     {'prompt_tokens': 812, 'completion_tokens': 81...  0.00000  5.882017   \n",
       "4     {'prompt_tokens': 805, 'completion_tokens': 96...  0.00000  5.774773   \n",
       "...                                                 ...      ...       ...   \n",
       "4839  {'prompt_tokens': 840, 'completion_tokens': 86...  0.03036  5.756289   \n",
       "4840  {'prompt_tokens': 750, 'completion_tokens': 73...  0.02688  4.359926   \n",
       "4841  {'prompt_tokens': 747, 'completion_tokens': 59...  0.02595  3.649166   \n",
       "4842  {'prompt_tokens': 817, 'completion_tokens': 12...  0.03201  3.651713   \n",
       "4843  {'prompt_tokens': 840, 'completion_tokens': 88...  0.03048  2.944433   \n",
       "\n",
       "      saved_cost  \n",
       "0        0.02745  \n",
       "1        0.03072  \n",
       "2        0.02796  \n",
       "3        0.02922  \n",
       "4        0.02991  \n",
       "...          ...  \n",
       "4839     0.00000  \n",
       "4840     0.00000  \n",
       "4841     0.00000  \n",
       "4842     0.00000  \n",
       "4843     0.00000  \n",
       "\n",
       "[4844 rows x 30 columns]"
      ]
     },
     "execution_count": 3,
     "metadata": {},
     "output_type": "execute_result"
    }
   ],
   "source": [
    "results_df"
   ]
  },
  {
   "cell_type": "code",
   "execution_count": 5,
   "id": "4146edda",
   "metadata": {},
   "outputs": [],
   "source": [
    "score_stats = np.unique(results_df['score'].to_numpy(), return_counts=True)"
   ]
  },
  {
   "cell_type": "code",
   "execution_count": 6,
   "id": "71987f56",
   "metadata": {},
   "outputs": [
    {
     "data": {
      "text/plain": [
       "(array([0, 1, 2, 3]), array([2462,  974,  752,  656]))"
      ]
     },
     "execution_count": 6,
     "metadata": {},
     "output_type": "execute_result"
    }
   ],
   "source": [
    "score_stats"
   ]
  },
  {
   "cell_type": "code",
   "execution_count": 7,
   "id": "09365393",
   "metadata": {},
   "outputs": [
    {
     "data": {
      "text/plain": [
       "array([0.50825764, 0.20107349, 0.1552436 , 0.13542527])"
      ]
     },
     "execution_count": 7,
     "metadata": {},
     "output_type": "execute_result"
    }
   ],
   "source": [
    "score_stats[1] / score_stats[1].sum()"
   ]
  },
  {
   "cell_type": "code",
   "execution_count": 26,
   "id": "547623e4",
   "metadata": {},
   "outputs": [
    {
     "data": {
      "text/plain": [
       "2382"
      ]
     },
     "execution_count": 26,
     "metadata": {},
     "output_type": "execute_result"
    }
   ],
   "source": [
    "score_stats[1][1:].sum()"
   ]
  },
  {
   "cell_type": "code",
   "execution_count": null,
   "id": "be69ce4d",
   "metadata": {},
   "outputs": [],
   "source": []
  },
  {
   "cell_type": "code",
   "execution_count": 12,
   "id": "8689c16c",
   "metadata": {},
   "outputs": [
    {
     "data": {
      "text/plain": [
       "Index(['query_id', 'query', 'passage_id', 'mT5', 'splade', 'colbertx',\n",
       "       'bm25_e5', 'bm25', 'e5', 'e5_base', 'splade_mT5', 'bm25_1M',\n",
       "       'bm25_1M_massiveweb', 'colbertx_1M_massiveweb', 'e5_colbertx_rrf',\n",
       "       'e5_splade_rrf', 'e5_splade_rrf_fix', 'adav2', 'bm25_mT5_1M_massiveweb',\n",
       "       'bm25_mT5_1M_massiveweb_fix', 'bm25_e5_1M_massiveweb',\n",
       "       'text-embbeding-3-large_1M_massiveweb',\n",
       "       'text-embbeding-3-small_1M_massiveweb', 'passage', 'score', 'reasoning',\n",
       "       'usage', 'cost', 'duration', 'saved_cost'],\n",
       "      dtype='object')"
      ]
     },
     "execution_count": 12,
     "metadata": {},
     "output_type": "execute_result"
    }
   ],
   "source": [
    "results_df.columns"
   ]
  },
  {
   "cell_type": "code",
   "execution_count": 13,
   "id": "254ee9de",
   "metadata": {},
   "outputs": [],
   "source": [
    "HOW_MANY_RESULTS=23"
   ]
  },
  {
   "cell_type": "code",
   "execution_count": 14,
   "id": "beacb5d1",
   "metadata": {},
   "outputs": [
    {
     "data": {
      "text/plain": [
       "(array([ 1,  2,  3,  4,  5,  6,  7,  8,  9, 10, 11, 12, 13, 14, 15, 16, 17,\n",
       "        18, 19]),\n",
       " array([3077,  710,  335,  225,  150,   99,   70,   52,   54,   24,   21,\n",
       "           5,    7,    1,    6,    4,    1,    2,    1]))"
      ]
     },
     "execution_count": 14,
     "metadata": {},
     "output_type": "execute_result"
    }
   ],
   "source": [
    "np.unique(results_df.iloc[:, 3:HOW_MANY_RESULTS].sum(axis=1), return_counts=True)"
   ]
  },
  {
   "cell_type": "code",
   "execution_count": 15,
   "id": "1800aab7",
   "metadata": {},
   "outputs": [],
   "source": [
    "single_system_df = results_df.loc[results_df.iloc[:, 3:HOW_MANY_RESULTS].sum(axis=1) == 1]"
   ]
  },
  {
   "cell_type": "code",
   "execution_count": 18,
   "id": "0d97774d",
   "metadata": {},
   "outputs": [],
   "source": [
    "single_score_stats = np.unique(single_system_df['score'].to_numpy(), return_counts=True)"
   ]
  },
  {
   "cell_type": "code",
   "execution_count": 19,
   "id": "f04e34af",
   "metadata": {},
   "outputs": [
    {
     "data": {
      "text/plain": [
       "(array([0, 1, 2, 3]), array([1870,  596,  382,  229]))"
      ]
     },
     "execution_count": 19,
     "metadata": {},
     "output_type": "execute_result"
    }
   ],
   "source": [
    "single_score_stats"
   ]
  },
  {
   "cell_type": "code",
   "execution_count": 20,
   "id": "ac710c67",
   "metadata": {},
   "outputs": [
    {
     "data": {
      "text/plain": [
       "array([0.60773481, 0.19369516, 0.1241469 , 0.07442314])"
      ]
     },
     "execution_count": 20,
     "metadata": {},
     "output_type": "execute_result"
    }
   ],
   "source": [
    "single_score_stats[1] / single_score_stats[1].sum()"
   ]
  },
  {
   "cell_type": "code",
   "execution_count": 33,
   "id": "8d149de3",
   "metadata": {},
   "outputs": [
    {
     "data": {
      "text/plain": [
       "array([596, 382, 229])"
      ]
     },
     "execution_count": 33,
     "metadata": {},
     "output_type": "execute_result"
    }
   ],
   "source": [
    "single_score_stats[1][1:]"
   ]
  },
  {
   "cell_type": "code",
   "execution_count": 27,
   "id": "9e10ad1e",
   "metadata": {},
   "outputs": [
    {
     "data": {
      "text/plain": [
       "1207"
      ]
     },
     "execution_count": 27,
     "metadata": {},
     "output_type": "execute_result"
    }
   ],
   "source": [
    "single_score_stats[1][1:].sum()"
   ]
  },
  {
   "cell_type": "code",
   "execution_count": 44,
   "id": "9b1c5636",
   "metadata": {},
   "outputs": [],
   "source": [
    "score_stats_table = []\n",
    "\n",
    "for which_score in score_stats[0]:\n",
    "    score_stats_table.append({\"score\": which_score, \n",
    "                              \"all query-passages\": score_stats[1][which_score],\n",
    "                              \"single-system query-passages\": single_score_stats[1][which_score],\n",
    "                              \"single-system / all\": single_score_stats[1][which_score] / score_stats[1][which_score]})"
   ]
  },
  {
   "cell_type": "code",
   "execution_count": 46,
   "id": "9e4b372e",
   "metadata": {},
   "outputs": [],
   "source": [
    "score_stats_table.append({\"score\": \"Minimally relevant\", \n",
    "                          \"all query-passages\": score_stats[1][1:].sum(), \n",
    "                          \"single-system query-passages\": single_score_stats[1][1:].sum(), \n",
    "                          \"single-system / all\": single_score_stats[1][1:].sum() / score_stats[1][1:].sum()})"
   ]
  },
  {
   "cell_type": "code",
   "execution_count": 50,
   "id": "f4b42b99",
   "metadata": {},
   "outputs": [],
   "source": [
    "score_stats_table.append({\"score\": \"Total\", \n",
    "                          \"all query-passages\": score_stats[1].sum(), \n",
    "                          \"single-system query-passages\": single_score_stats[1].sum(), \n",
    "                          \"single-system / all\": single_score_stats[1].sum() / score_stats[1].sum()})"
   ]
  },
  {
   "cell_type": "code",
   "execution_count": 51,
   "id": "d2eca4dc",
   "metadata": {},
   "outputs": [
    {
     "data": {
      "text/plain": [
       "0.5067170445004198"
      ]
     },
     "execution_count": 51,
     "metadata": {},
     "output_type": "execute_result"
    }
   ],
   "source": [
    "single_score_stats[1][1:].sum() / score_stats[1][1:].sum()"
   ]
  },
  {
   "cell_type": "code",
   "execution_count": 52,
   "id": "1e530cb9",
   "metadata": {},
   "outputs": [
    {
     "data": {
      "text/html": [
       "<div>\n",
       "<style scoped>\n",
       "    .dataframe tbody tr th:only-of-type {\n",
       "        vertical-align: middle;\n",
       "    }\n",
       "\n",
       "    .dataframe tbody tr th {\n",
       "        vertical-align: top;\n",
       "    }\n",
       "\n",
       "    .dataframe thead th {\n",
       "        text-align: right;\n",
       "    }\n",
       "</style>\n",
       "<table border=\"1\" class=\"dataframe\">\n",
       "  <thead>\n",
       "    <tr style=\"text-align: right;\">\n",
       "      <th></th>\n",
       "      <th>score</th>\n",
       "      <th>all query-passages</th>\n",
       "      <th>single-system query-passages</th>\n",
       "      <th>single-system / all</th>\n",
       "    </tr>\n",
       "  </thead>\n",
       "  <tbody>\n",
       "    <tr>\n",
       "      <th>0</th>\n",
       "      <td>0</td>\n",
       "      <td>2462</td>\n",
       "      <td>1870</td>\n",
       "      <td>0.759545</td>\n",
       "    </tr>\n",
       "    <tr>\n",
       "      <th>1</th>\n",
       "      <td>1</td>\n",
       "      <td>974</td>\n",
       "      <td>596</td>\n",
       "      <td>0.61191</td>\n",
       "    </tr>\n",
       "    <tr>\n",
       "      <th>2</th>\n",
       "      <td>2</td>\n",
       "      <td>752</td>\n",
       "      <td>382</td>\n",
       "      <td>0.507979</td>\n",
       "    </tr>\n",
       "    <tr>\n",
       "      <th>3</th>\n",
       "      <td>3</td>\n",
       "      <td>656</td>\n",
       "      <td>229</td>\n",
       "      <td>0.349085</td>\n",
       "    </tr>\n",
       "    <tr>\n",
       "      <th>4</th>\n",
       "      <td>Minimally relevant</td>\n",
       "      <td>2382</td>\n",
       "      <td>1207</td>\n",
       "      <td>0.506717</td>\n",
       "    </tr>\n",
       "    <tr>\n",
       "      <th>5</th>\n",
       "      <td>Total</td>\n",
       "      <td>4844</td>\n",
       "      <td>3077</td>\n",
       "      <td></td>\n",
       "    </tr>\n",
       "    <tr>\n",
       "      <th>6</th>\n",
       "      <td>Total</td>\n",
       "      <td>4844</td>\n",
       "      <td>3077</td>\n",
       "      <td>0.635219</td>\n",
       "    </tr>\n",
       "  </tbody>\n",
       "</table>\n",
       "</div>"
      ],
      "text/plain": [
       "                score  all query-passages  single-system query-passages  \\\n",
       "0                   0                2462                          1870   \n",
       "1                   1                 974                           596   \n",
       "2                   2                 752                           382   \n",
       "3                   3                 656                           229   \n",
       "4  Minimally relevant                2382                          1207   \n",
       "5               Total                4844                          3077   \n",
       "6               Total                4844                          3077   \n",
       "\n",
       "  single-system / all  \n",
       "0            0.759545  \n",
       "1             0.61191  \n",
       "2            0.507979  \n",
       "3            0.349085  \n",
       "4            0.506717  \n",
       "5                      \n",
       "6            0.635219  "
      ]
     },
     "execution_count": 52,
     "metadata": {},
     "output_type": "execute_result"
    }
   ],
   "source": [
    "pd.DataFrame(score_stats_table)"
   ]
  },
  {
   "cell_type": "code",
   "execution_count": null,
   "id": "c243ac99",
   "metadata": {},
   "outputs": [],
   "source": []
  },
  {
   "cell_type": "code",
   "execution_count": 21,
   "id": "7b301880",
   "metadata": {},
   "outputs": [
    {
     "data": {
      "text/plain": [
       "mT5                                      60\n",
       "splade                                  151\n",
       "colbertx                                115\n",
       "bm25_e5                                 115\n",
       "bm25                                    248\n",
       "e5                                      122\n",
       "e5_base                                 262\n",
       "splade_mT5                               86\n",
       "bm25_1M                                 362\n",
       "bm25_1M_massiveweb                      255\n",
       "colbertx_1M_massiveweb                  199\n",
       "e5_colbertx_rrf                          32\n",
       "e5_splade_rrf                           176\n",
       "e5_splade_rrf_fix                        29\n",
       "adav2                                   141\n",
       "bm25_mT5_1M_massiveweb                  278\n",
       "bm25_mT5_1M_massiveweb_fix               94\n",
       "bm25_e5_1M_massiveweb                   123\n",
       "text-embbeding-3-large_1M_massiveweb    124\n",
       "text-embbeding-3-small_1M_massiveweb    105\n",
       "dtype: int64"
      ]
     },
     "execution_count": 21,
     "metadata": {},
     "output_type": "execute_result"
    }
   ],
   "source": [
    "single_system_df.iloc[:, 3:HOW_MANY_RESULTS].sum()"
   ]
  },
  {
   "cell_type": "code",
   "execution_count": 23,
   "id": "0e5a3fc4",
   "metadata": {},
   "outputs": [
    {
     "data": {
      "text/plain": [
       "mT5                                     0.120\n",
       "splade                                  0.302\n",
       "colbertx                                0.230\n",
       "bm25_e5                                 0.230\n",
       "bm25                                    0.496\n",
       "e5                                      0.244\n",
       "e5_base                                 0.524\n",
       "splade_mT5                              0.172\n",
       "bm25_1M                                 0.724\n",
       "bm25_1M_massiveweb                      0.510\n",
       "colbertx_1M_massiveweb                  0.398\n",
       "e5_colbertx_rrf                         0.064\n",
       "e5_splade_rrf                           0.352\n",
       "e5_splade_rrf_fix                       0.058\n",
       "adav2                                   0.282\n",
       "bm25_mT5_1M_massiveweb                  0.556\n",
       "bm25_mT5_1M_massiveweb_fix              0.188\n",
       "bm25_e5_1M_massiveweb                   0.246\n",
       "text-embbeding-3-large_1M_massiveweb    0.248\n",
       "text-embbeding-3-small_1M_massiveweb    0.210\n",
       "dtype: float64"
      ]
     },
     "execution_count": 23,
     "metadata": {},
     "output_type": "execute_result"
    }
   ],
   "source": [
    "(single_system_df.iloc[:, 3:HOW_MANY_RESULTS].sum() / 500)"
   ]
  },
  {
   "cell_type": "code",
   "execution_count": 24,
   "id": "0c1ed83e",
   "metadata": {},
   "outputs": [
    {
     "data": {
      "text/plain": [
       "0.3077"
      ]
     },
     "execution_count": 24,
     "metadata": {},
     "output_type": "execute_result"
    }
   ],
   "source": [
    "(single_system_df.iloc[:, 3:HOW_MANY_RESULTS].sum() / 500).mean()"
   ]
  },
  {
   "cell_type": "code",
   "execution_count": null,
   "id": "3a90a689",
   "metadata": {},
   "outputs": [],
   "source": []
  }
 ],
 "metadata": {
  "kernelspec": {
   "display_name": "Python 3 (ipykernel)",
   "language": "python",
   "name": "python3"
  },
  "language_info": {
   "codemirror_mode": {
    "name": "ipython",
    "version": 3
   },
   "file_extension": ".py",
   "mimetype": "text/x-python",
   "name": "python",
   "nbconvert_exporter": "python",
   "pygments_lexer": "ipython3",
   "version": "3.10.12"
  }
 },
 "nbformat": 4,
 "nbformat_minor": 5
}
