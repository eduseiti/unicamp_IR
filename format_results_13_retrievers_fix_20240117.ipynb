{
 "cells": [
  {
   "cell_type": "code",
   "execution_count": 1,
   "id": "069d6976",
   "metadata": {},
   "outputs": [],
   "source": [
    "import pandas as pd\n",
    "import numpy as np\n",
    "import os"
   ]
  },
  {
   "cell_type": "code",
   "execution_count": 2,
   "id": "7639ebb8",
   "metadata": {},
   "outputs": [],
   "source": [
    "pd.set_option('display.max_colwidth', None)\n",
    "pd.set_option('display.max_rows', 500)"
   ]
  },
  {
   "cell_type": "code",
   "execution_count": 3,
   "id": "c34d51d7",
   "metadata": {},
   "outputs": [],
   "source": [
    "ALL_EVALUATIONS=\"tests/evaluation_13_retrievers_000_009_sampled_50_queries_gpt-4-1106-preview_20240117.tsv\"\n",
    "\n",
    "BM25_RUN=\"tests/200-queries-passagens-by-BM25-pt_v2_with_query_id_run.txt\"\n",
    "BM25_E5_RUN=\"tests/bm25_e5_docs_000_999_50_sampled_queries_run.txt\"\n",
    "BM25_MT5_RUN=\"tests/200-queries-passagens-by-BM25-mT5_v4_with_query_id_run.txt\"\n",
    "SPLADE_RUN=\"tests/splade_pt_result_with_clueweb_id_run.txt\"\n",
    "COLBERTX_RUN=\"tests/colbertx_all_znormalized_validation_scores_000_199_run.txt\"\n",
    "\n",
    "E5_RUN=\"tests/e5_docs_000_999_50_sampled_queries_run.txt\"\n",
    "E5_BASE_RUN=\"tests/e5_base_docs_000_999_50_sampled_queries_run.txt\"\n",
    "SPLADE_MT5_RUN=\"tests/splade_mt5_docs_000_099_50_sampled_queries_run.txt\"\n",
    "\n",
    "BM25_1M_RUN=\"tests/bm25_1M_docs_000_999_sampled_50_queries_run.txt\"\n",
    "BM25_1M_MASSIVEWEB_RUN=\"tests/bm25_massiveweb_1M_docs_000_999_sampled_50_queries_run.txt\"\n",
    "\n",
    "COLBERTX_1M_MASSIVEWEB_RUN=\"tests/colbertx_all_retrieval_1M_dataset_20240105_run.txt\"\n",
    "\n",
    "E5_COLBERTX_RRF_RUN=\"tests/colbertx_e5_RRF_000_999_sampled_50_queries_run.txt\"\n",
    "E5_SPLADE_RRF_RUN=\"tests/splade_e5_RRF_000_999_sampled_50_queries_run.txt\""
   ]
  },
  {
   "cell_type": "code",
   "execution_count": 4,
   "id": "56c4ef85",
   "metadata": {},
   "outputs": [],
   "source": [
    "DATASET_1M_FIELDS=['bm25_1M_massiveweb', 'colbertx_1M_massiveweb']"
   ]
  },
  {
   "cell_type": "code",
   "execution_count": 5,
   "id": "7ce55d09",
   "metadata": {},
   "outputs": [],
   "source": [
    "def prepare_run_format(results_filename, add_index=True, score_field='score', invert_score=False, retriever_name=\"retriever\"):\n",
    "    \n",
    "    results_df = pd.read_csv(results_filename, sep='\\t')\n",
    "    \n",
    "    display(results_df.head())\n",
    "    \n",
    "    results_grouped_df = results_df.groupby(\"query_id\")['passage_id'].count()\n",
    "    \n",
    "    how_many_passages_per_question = results_grouped_df.iloc[0]\n",
    "\n",
    "    if invert_score:\n",
    "        print(\"Inverting score values in '{}' field...\".format(score_field))\n",
    "        \n",
    "        results_df['score_inv'] = 1 - results_df[score_field]\n",
    "        score_field = 'score_inv' \n",
    "    \n",
    "    run_df = results_df.sort_values([\"query_id\", score_field], ascending=[True, False])\n",
    "    \n",
    "    run_df['Q0'] = \"Q0\"\n",
    "    run_df['comment'] = retriever_name\n",
    "    \n",
    "    if add_index:\n",
    "        run_df['index'] = np.tile(list(range(1, how_many_passages_per_question + 1)), results_grouped_df.shape[0])\n",
    "    \n",
    "    output_filename = \"{}_run.txt\".format(os.path.splitext(results_filename)[0])\n",
    "    \n",
    "    print(\"output_filename={}\".format(output_filename))\n",
    "    \n",
    "    run_df[['query_id', 'Q0', \"passage_id\", \"index\", score_field, \"comment\"]].to_csv(output_filename, header=None, index=False, sep=\" \")\n",
    "          \n",
    "    return output_filename, run_df"
   ]
  },
  {
   "cell_type": "code",
   "execution_count": 6,
   "id": "0a988b51",
   "metadata": {},
   "outputs": [],
   "source": [
    "retrievers_results = []\n",
    "retrievers_1M_results = []"
   ]
  },
  {
   "cell_type": "markdown",
   "id": "6f7bc6a6",
   "metadata": {},
   "source": [
    "### Format GPT-4 evaluations to qrels format"
   ]
  },
  {
   "cell_type": "code",
   "execution_count": 7,
   "id": "5129453f",
   "metadata": {},
   "outputs": [],
   "source": [
    "qrels_filename = os.path.join(os.path.dirname(ALL_EVALUATIONS), \"{}_qrel.txt\".format(os.path.splitext(os.path.basename(ALL_EVALUATIONS))[0]))\n",
    "qrels_1M_filename = os.path.join(os.path.dirname(ALL_EVALUATIONS), \"{}_1M_qrel.txt\".format(os.path.splitext(os.path.basename(ALL_EVALUATIONS))[0]))"
   ]
  },
  {
   "cell_type": "code",
   "execution_count": 8,
   "id": "b4b5e5ae",
   "metadata": {},
   "outputs": [
    {
     "name": "stdout",
     "output_type": "stream",
     "text": [
      "\n",
      "query_id=1\n",
      "(array([0, 1, 2, 3]), array([14, 37, 15, 10]))\n",
      "\n",
      "query_id=2\n",
      "(array([0, 1, 2, 3]), array([78,  2,  1,  2]))\n",
      "\n",
      "query_id=9\n",
      "(array([0, 1, 2, 3]), array([50,  9, 11,  5]))\n",
      "\n",
      "query_id=11\n",
      "(array([0, 1, 2, 3]), array([39, 15,  8,  2]))\n",
      "\n",
      "query_id=13\n",
      "(array([0, 1, 2, 3]), array([30, 13, 20,  4]))\n",
      "\n",
      "query_id=15\n",
      "(array([0, 1, 2, 3]), array([20, 17,  3, 17]))\n",
      "\n",
      "query_id=17\n",
      "(array([0, 1, 2, 3]), array([19,  7,  1, 36]))\n",
      "\n",
      "query_id=20\n",
      "(array([0, 1, 2, 3]), array([15, 46, 21,  6]))\n",
      "\n",
      "query_id=21\n",
      "(array([0, 1, 2, 3]), array([44, 18,  5, 17]))\n",
      "\n",
      "query_id=22\n",
      "(array([0, 1, 2, 3]), array([48, 11,  2,  6]))\n",
      "\n",
      "query_id=24\n",
      "(array([0, 1, 2, 3]), array([49, 25, 11,  2]))\n",
      "\n",
      "query_id=26\n",
      "(array([0, 1, 2, 3]), array([13,  9, 12, 32]))\n",
      "\n",
      "query_id=28\n",
      "(array([0, 1, 2, 3]), array([50, 11, 13,  4]))\n",
      "\n",
      "query_id=47\n",
      "(array([0, 1, 2]), array([46, 24, 22]))\n",
      "\n",
      "query_id=49\n",
      "(array([0, 1, 2, 3]), array([23, 25, 20,  1]))\n",
      "\n",
      "query_id=51\n",
      "(array([0, 1, 2, 3]), array([26, 20, 11,  1]))\n",
      "\n",
      "query_id=54\n",
      "(array([0, 1, 2, 3]), array([ 1, 12, 17, 40]))\n",
      "\n",
      "query_id=60\n",
      "(array([0, 1, 3]), array([ 9,  5, 43]))\n",
      "\n",
      "query_id=62\n",
      "(array([0, 1, 2, 3]), array([41, 27, 18,  1]))\n",
      "\n",
      "query_id=64\n",
      "(array([0, 1, 2, 3]), array([29, 10,  9, 15]))\n",
      "\n",
      "query_id=68\n",
      "(array([0, 1, 2, 3]), array([23, 30, 34,  4]))\n",
      "\n",
      "query_id=84\n",
      "(array([0, 1, 2, 3]), array([60,  6,  2,  2]))\n",
      "\n",
      "query_id=95\n",
      "(array([0, 1, 2]), array([73,  9,  2]))\n",
      "\n",
      "query_id=98\n",
      "(array([0, 1, 2, 3]), array([51,  9,  9, 10]))\n",
      "\n",
      "query_id=105\n",
      "(array([0, 1, 2, 3]), array([43, 16,  2, 15]))\n",
      "\n",
      "query_id=113\n",
      "(array([0, 1, 2, 3]), array([16,  7, 13, 28]))\n",
      "\n",
      "query_id=115\n",
      "(array([0, 1, 2, 3]), array([ 3, 15, 38, 18]))\n",
      "\n",
      "query_id=117\n",
      "(array([0, 1, 2, 3]), array([41, 24,  7, 13]))\n",
      "\n",
      "query_id=126\n",
      "(array([0, 1, 2, 3]), array([76,  2,  1, 20]))\n",
      "\n",
      "query_id=127\n",
      "(array([0, 1, 2, 3]), array([15, 15,  9,  7]))\n",
      "\n",
      "query_id=128\n",
      "(array([0, 1, 3]), array([41,  1, 19]))\n",
      "\n",
      "query_id=136\n",
      "(array([0, 1, 2, 3]), array([46, 12, 12,  5]))\n",
      "\n",
      "query_id=147\n",
      "(array([0, 1, 2, 3]), array([71,  4,  1,  4]))\n",
      "\n",
      "query_id=152\n",
      "(array([0, 1, 2, 3]), array([52, 21,  1,  5]))\n",
      "\n",
      "query_id=153\n",
      "(array([0, 1, 2, 3]), array([29, 21, 10, 13]))\n",
      "\n",
      "query_id=154\n",
      "(array([0, 1, 2, 3]), array([ 3,  8, 14, 31]))\n",
      "\n",
      "query_id=160\n",
      "(array([0, 1, 2, 3]), array([36,  7, 10, 11]))\n",
      "\n",
      "query_id=161\n",
      "(array([0, 1, 2, 3]), array([31,  7, 12,  7]))\n",
      "\n",
      "query_id=163\n",
      "(array([0, 1, 2, 3]), array([36, 15, 11,  1]))\n",
      "\n",
      "query_id=167\n",
      "(array([0, 1, 2, 3]), array([78, 10,  5,  1]))\n",
      "\n",
      "query_id=170\n",
      "(array([0, 1, 2, 3]), array([29, 19, 28,  2]))\n",
      "\n",
      "query_id=172\n",
      "(array([0, 1, 2, 3]), array([16,  9, 20, 18]))\n",
      "\n",
      "query_id=180\n",
      "(array([0, 1, 2, 3]), array([36,  6, 12,  7]))\n",
      "\n",
      "query_id=181\n",
      "(array([0, 1, 2, 3]), array([58,  8,  4, 12]))\n",
      "\n",
      "query_id=182\n",
      "(array([0, 1, 2, 3]), array([50,  8,  4,  5]))\n",
      "\n",
      "query_id=189\n",
      "(array([0, 1]), array([60, 19]))\n",
      "\n",
      "query_id=193\n",
      "(array([0, 1, 2, 3]), array([16, 15, 18, 20]))\n",
      "\n",
      "query_id=195\n",
      "(array([0, 1, 2, 3]), array([11,  7, 15, 29]))\n",
      "\n",
      "query_id=196\n",
      "(array([0, 1, 2, 3]), array([24, 16, 35,  4]))\n",
      "\n",
      "query_id=199\n",
      "(array([0, 1, 2, 3]), array([16, 14, 15, 28]))\n",
      "\n",
      "\n",
      "\n",
      "tests/evaluation_13_retrievers_000_009_sampled_50_queries_gpt-4-1106-preview_20240117_qrel.txt\n",
      "tests/evaluation_13_retrievers_000_009_sampled_50_queries_gpt-4-1106-preview_20240117_1M_qrel.txt\n"
     ]
    }
   ],
   "source": [
    "if os.path.exists(qrels_filename) == False:\n",
    "    eval_df = pd.read_csv(ALL_EVALUATIONS, sep='\\t')\n",
    "\n",
    "    eval_df\n",
    "\n",
    "    eval_df.drop_duplicates(\"query_id\")[['query_id', 'query']]\n",
    "\n",
    "    #### Check scores distribution on the current qrels\n",
    "\n",
    "    np.unique(eval_df['score'].to_numpy(), return_counts=True)\n",
    "\n",
    "    for group_name, group_df in eval_df.groupby('query_id'):\n",
    "        print(\"\\nquery_id={}\".format(group_name))\n",
    "\n",
    "        print(np.unique(group_df['score'].to_numpy(), return_counts=True))\n",
    "\n",
    "    eval_df.groupby('query_id').count()\n",
    "\n",
    "    eval_df.groupby('query_id').count()['query'].describe()\n",
    "\n",
    "    #### Prepare the qrels format for trec_eval tools\n",
    "\n",
    "    eval_df['0'] = '0'\n",
    "\n",
    "    print(\"\\n\\n\")\n",
    "    print(qrels_filename)\n",
    "    print(qrels_1M_filename)\n",
    "\n",
    "    eval_df.sort_values('query_id')[['query_id', '0', 'passage_id', 'score']].to_csv(qrels_filename, header=None, index=False, sep=\" \")\n",
    "    \n",
    "    \n",
    "    #### Select 1M dataset evaluations\n",
    "    \n",
    "    eval_df[eval_df[DATASET_1M_FIELDS].sum(axis=1) > 0].sort_values('query_id')[['query_id', '0', 'passage_id', 'score']].to_csv(qrels_1M_filename, header=None, index=False, sep=\" \")\n",
    "    \n",
    "else:\n",
    "    print(\"QRELS files ({}) already created...\".format(qrels_filename))"
   ]
  },
  {
   "cell_type": "markdown",
   "id": "21c43950",
   "metadata": {},
   "source": [
    "## 10M dataset"
   ]
  },
  {
   "cell_type": "markdown",
   "id": "46a5067d",
   "metadata": {},
   "source": [
    "### Compute BM25 nDCG@10"
   ]
  },
  {
   "cell_type": "code",
   "execution_count": 9,
   "id": "47f680eb",
   "metadata": {},
   "outputs": [],
   "source": [
    "result = !/media/eduseiti/bigdata01/unicamp/ia368v_dd/pyserini/tools/eval/trec_eval.9.0.4/trec_eval -c -mndcg_cut.10 \\\n",
    "    {qrels_filename} tests/200-queries-passagens-by-BM25-pt_v2_with_query_id_run.txt"
   ]
  },
  {
   "cell_type": "code",
   "execution_count": 10,
   "id": "074fd2a5",
   "metadata": {},
   "outputs": [],
   "source": [
    "retrievers_results.append({'retriever':'BM25', 'nDCG@10': result[0].split('\\t')[-1]})"
   ]
  },
  {
   "cell_type": "code",
   "execution_count": 11,
   "id": "4e4ea831",
   "metadata": {},
   "outputs": [
    {
     "data": {
      "text/plain": [
       "[{'retriever': 'BM25', 'nDCG@10': '0.4527'}]"
      ]
     },
     "execution_count": 11,
     "metadata": {},
     "output_type": "execute_result"
    }
   ],
   "source": [
    "retrievers_results"
   ]
  },
  {
   "cell_type": "markdown",
   "id": "8369421c",
   "metadata": {},
   "source": [
    "### Compute BM25 + E5 nDCG@10"
   ]
  },
  {
   "cell_type": "code",
   "execution_count": 12,
   "id": "af1fc331",
   "metadata": {},
   "outputs": [],
   "source": [
    "result = !/media/eduseiti/bigdata01/unicamp/ia368v_dd/pyserini/tools/eval/trec_eval.9.0.4/trec_eval -c -mndcg_cut.10 \\\n",
    "    {qrels_filename} {BM25_E5_RUN}"
   ]
  },
  {
   "cell_type": "code",
   "execution_count": 13,
   "id": "06d9ec4e",
   "metadata": {},
   "outputs": [],
   "source": [
    "retrievers_results.append({'retriever':'BM25+E5', 'nDCG@10': result[0].split('\\t')[-1]})"
   ]
  },
  {
   "cell_type": "markdown",
   "id": "3b14bc7e",
   "metadata": {},
   "source": [
    "### Compute BM25 + mT5 nDCG@10"
   ]
  },
  {
   "cell_type": "code",
   "execution_count": 14,
   "id": "0e805605",
   "metadata": {},
   "outputs": [],
   "source": [
    "result = !/media/eduseiti/bigdata01/unicamp/ia368v_dd/pyserini/tools/eval/trec_eval.9.0.4/trec_eval -c -mndcg_cut.10 \\\n",
    "    {qrels_filename} {BM25_MT5_RUN}"
   ]
  },
  {
   "cell_type": "code",
   "execution_count": 15,
   "id": "ee3b9137",
   "metadata": {},
   "outputs": [],
   "source": [
    "retrievers_results.append({'retriever':'BM25+mT5', 'nDCG@10': result[0].split('\\t')[-1]})"
   ]
  },
  {
   "cell_type": "markdown",
   "id": "ef82c6bc",
   "metadata": {},
   "source": [
    "### Compute SPLADE nDCG@10"
   ]
  },
  {
   "cell_type": "code",
   "execution_count": 16,
   "id": "5c0159a9",
   "metadata": {},
   "outputs": [],
   "source": [
    "result = !/media/eduseiti/bigdata01/unicamp/ia368v_dd/pyserini/tools/eval/trec_eval.9.0.4/trec_eval -c -mndcg_cut.10 \\\n",
    "    {qrels_filename} {SPLADE_RUN}"
   ]
  },
  {
   "cell_type": "code",
   "execution_count": 17,
   "id": "fe5ab9e6",
   "metadata": {},
   "outputs": [],
   "source": [
    "retrievers_results.append({'retriever':'SPLADEv2_pt-BR', 'nDCG@10': result[0].split('\\t')[-1]})"
   ]
  },
  {
   "cell_type": "markdown",
   "id": "bc9a4a56",
   "metadata": {},
   "source": [
    "### Compute ColBERTX nDCG@10"
   ]
  },
  {
   "cell_type": "code",
   "execution_count": 18,
   "id": "2ca2413d",
   "metadata": {},
   "outputs": [],
   "source": [
    "result = !/media/eduseiti/bigdata01/unicamp/ia368v_dd/pyserini/tools/eval/trec_eval.9.0.4/trec_eval -c -mndcg_cut.10 \\\n",
    "    {qrels_filename} {COLBERTX_RUN}"
   ]
  },
  {
   "cell_type": "code",
   "execution_count": 19,
   "id": "ac146b19",
   "metadata": {},
   "outputs": [],
   "source": [
    "retrievers_results.append({'retriever':'ColBERT-X_mMARCO_pt-BR', 'nDCG@10': result[0].split('\\t')[-1]})"
   ]
  },
  {
   "cell_type": "markdown",
   "id": "8eebc635",
   "metadata": {},
   "source": [
    "### Compute E5 nDCG@10"
   ]
  },
  {
   "cell_type": "code",
   "execution_count": 20,
   "id": "e582ba5c",
   "metadata": {},
   "outputs": [],
   "source": [
    "result = !/media/eduseiti/bigdata01/unicamp/ia368v_dd/pyserini/tools/eval/trec_eval.9.0.4/trec_eval -c -mndcg_cut.10 \\\n",
    "    {qrels_filename} {E5_RUN}"
   ]
  },
  {
   "cell_type": "code",
   "execution_count": 21,
   "id": "7bb472b0",
   "metadata": {},
   "outputs": [],
   "source": [
    "retrievers_results.append({'retriever':'E5', 'nDCG@10': result[0].split('\\t')[-1]})"
   ]
  },
  {
   "cell_type": "markdown",
   "id": "fdb8eed8",
   "metadata": {},
   "source": [
    "### Compute E5 base nDCG@10"
   ]
  },
  {
   "cell_type": "code",
   "execution_count": 22,
   "id": "c6e41c4f",
   "metadata": {},
   "outputs": [],
   "source": [
    "result = !/media/eduseiti/bigdata01/unicamp/ia368v_dd/pyserini/tools/eval/trec_eval.9.0.4/trec_eval -c -mndcg_cut.10 \\\n",
    "    {qrels_filename} {E5_BASE_RUN}"
   ]
  },
  {
   "cell_type": "code",
   "execution_count": 23,
   "id": "6ac443e0",
   "metadata": {},
   "outputs": [],
   "source": [
    "retrievers_results.append({'retriever':'E5 base', 'nDCG@10': result[0].split('\\t')[-1]})"
   ]
  },
  {
   "cell_type": "markdown",
   "id": "f908456a",
   "metadata": {},
   "source": [
    "### Compute SPLADE + mT5 nDCG@10"
   ]
  },
  {
   "cell_type": "code",
   "execution_count": 24,
   "id": "0d13f8e3",
   "metadata": {},
   "outputs": [],
   "source": [
    "result = !/media/eduseiti/bigdata01/unicamp/ia368v_dd/pyserini/tools/eval/trec_eval.9.0.4/trec_eval -c -mndcg_cut.10 \\\n",
    "    {qrels_filename} {SPLADE_MT5_RUN}"
   ]
  },
  {
   "cell_type": "code",
   "execution_count": 25,
   "id": "c04b4385",
   "metadata": {},
   "outputs": [],
   "source": [
    "retrievers_results.append({'retriever':'SPLADEv2_pt-BR + mT5', 'nDCG@10': result[0].split('\\t')[-1]})"
   ]
  },
  {
   "cell_type": "markdown",
   "id": "5fb7edda",
   "metadata": {},
   "source": [
    "### Compute E5 + ColBERT-X RRF nDCG@10"
   ]
  },
  {
   "cell_type": "code",
   "execution_count": 26,
   "id": "162e0739",
   "metadata": {},
   "outputs": [],
   "source": [
    "result = !/media/eduseiti/bigdata01/unicamp/ia368v_dd/pyserini/tools/eval/trec_eval.9.0.4/trec_eval -c -mndcg_cut.10 \\\n",
    "    {qrels_filename} {E5_COLBERTX_RRF_RUN}"
   ]
  },
  {
   "cell_type": "code",
   "execution_count": 27,
   "id": "f3cb3689",
   "metadata": {},
   "outputs": [],
   "source": [
    "retrievers_results.append({'retriever':'E5 + ColBERT-X mMARCO_pt-BR RRF', 'nDCG@10': result[0].split('\\t')[-1]})"
   ]
  },
  {
   "cell_type": "markdown",
   "id": "75a15037",
   "metadata": {},
   "source": [
    "### Compute E5 + SPLADE RRF nDCG@10"
   ]
  },
  {
   "cell_type": "code",
   "execution_count": 28,
   "id": "d35edbc9",
   "metadata": {},
   "outputs": [],
   "source": [
    "result = !/media/eduseiti/bigdata01/unicamp/ia368v_dd/pyserini/tools/eval/trec_eval.9.0.4/trec_eval -c -mndcg_cut.10 \\\n",
    "    {qrels_filename} {E5_SPLADE_RRF_RUN}"
   ]
  },
  {
   "cell_type": "code",
   "execution_count": 29,
   "id": "2a645d56",
   "metadata": {},
   "outputs": [],
   "source": [
    "retrievers_results.append({'retriever':'E5 + SPLADEv2_pt-BR RRF', 'nDCG@10': result[0].split('\\t')[-1]})"
   ]
  },
  {
   "cell_type": "markdown",
   "id": "ff405951",
   "metadata": {},
   "source": [
    "### Compute BM25 1M nDCG@10"
   ]
  },
  {
   "cell_type": "code",
   "execution_count": 30,
   "id": "84127c9c",
   "metadata": {},
   "outputs": [],
   "source": [
    "result = !/media/eduseiti/bigdata01/unicamp/ia368v_dd/pyserini/tools/eval/trec_eval.9.0.4/trec_eval -c -mndcg_cut.10 \\\n",
    "    {qrels_filename} {BM25_1M_RUN}\n",
    "\n",
    "retrievers_results.append({'retriever':'BM25 1M', 'nDCG@10': result[0].split('\\t')[-1]})"
   ]
  },
  {
   "cell_type": "markdown",
   "id": "d788f7ee",
   "metadata": {},
   "source": [
    "### Compute BM25 1M massiveweb filtered nDCG@10"
   ]
  },
  {
   "cell_type": "code",
   "execution_count": 31,
   "id": "0d5cf3ee",
   "metadata": {},
   "outputs": [],
   "source": [
    "result = !/media/eduseiti/bigdata01/unicamp/ia368v_dd/pyserini/tools/eval/trec_eval.9.0.4/trec_eval -c -mndcg_cut.10 \\\n",
    "    {qrels_filename} {BM25_1M_MASSIVEWEB_RUN}\n",
    "\n",
    "retrievers_results.append({'retriever':'BM25 1M massiveweb', 'nDCG@10': result[0].split('\\t')[-1]})"
   ]
  },
  {
   "cell_type": "markdown",
   "id": "f7bd0978",
   "metadata": {},
   "source": [
    "### Compute ColBERT-X massiveweb filtered nDCG@10"
   ]
  },
  {
   "cell_type": "code",
   "execution_count": 32,
   "id": "abb56cf8",
   "metadata": {},
   "outputs": [],
   "source": [
    "result = !/media/eduseiti/bigdata01/unicamp/ia368v_dd/pyserini/tools/eval/trec_eval.9.0.4/trec_eval -c -mndcg_cut.10 \\\n",
    "    {qrels_filename} {COLBERTX_1M_MASSIVEWEB_RUN}\n",
    "\n",
    "retrievers_results.append({'retriever':'ColBERT-X_mMARCO_pt-BR 1M massiveweb', 'nDCG@10': result[0].split('\\t')[-1]})"
   ]
  },
  {
   "cell_type": "markdown",
   "id": "db253ca4",
   "metadata": {},
   "source": [
    "### Check the overall results"
   ]
  },
  {
   "cell_type": "code",
   "execution_count": 33,
   "id": "6d6b169c",
   "metadata": {},
   "outputs": [
    {
     "data": {
      "text/html": [
       "<div>\n",
       "<style scoped>\n",
       "    .dataframe tbody tr th:only-of-type {\n",
       "        vertical-align: middle;\n",
       "    }\n",
       "\n",
       "    .dataframe tbody tr th {\n",
       "        vertical-align: top;\n",
       "    }\n",
       "\n",
       "    .dataframe thead th {\n",
       "        text-align: right;\n",
       "    }\n",
       "</style>\n",
       "<table border=\"1\" class=\"dataframe\">\n",
       "  <thead>\n",
       "    <tr style=\"text-align: right;\">\n",
       "      <th></th>\n",
       "      <th>retriever</th>\n",
       "      <th>nDCG@10</th>\n",
       "    </tr>\n",
       "  </thead>\n",
       "  <tbody>\n",
       "    <tr>\n",
       "      <th>0</th>\n",
       "      <td>BM25</td>\n",
       "      <td>0.4527</td>\n",
       "    </tr>\n",
       "    <tr>\n",
       "      <th>1</th>\n",
       "      <td>BM25+E5</td>\n",
       "      <td>0.6450</td>\n",
       "    </tr>\n",
       "    <tr>\n",
       "      <th>2</th>\n",
       "      <td>BM25+mT5</td>\n",
       "      <td>0.7209</td>\n",
       "    </tr>\n",
       "    <tr>\n",
       "      <th>3</th>\n",
       "      <td>SPLADEv2_pt-BR</td>\n",
       "      <td>0.5868</td>\n",
       "    </tr>\n",
       "    <tr>\n",
       "      <th>4</th>\n",
       "      <td>ColBERT-X_mMARCO_pt-BR</td>\n",
       "      <td>0.6357</td>\n",
       "    </tr>\n",
       "    <tr>\n",
       "      <th>5</th>\n",
       "      <td>E5</td>\n",
       "      <td>0.5638</td>\n",
       "    </tr>\n",
       "    <tr>\n",
       "      <th>6</th>\n",
       "      <td>E5 base</td>\n",
       "      <td>0.4030</td>\n",
       "    </tr>\n",
       "    <tr>\n",
       "      <th>7</th>\n",
       "      <td>SPLADEv2_pt-BR + mT5</td>\n",
       "      <td>0.7067</td>\n",
       "    </tr>\n",
       "    <tr>\n",
       "      <th>8</th>\n",
       "      <td>E5 + ColBERT-X mMARCO_pt-BR RRF</td>\n",
       "      <td>0.6471</td>\n",
       "    </tr>\n",
       "    <tr>\n",
       "      <th>9</th>\n",
       "      <td>E5 + SPLADEv2_pt-BR RRF</td>\n",
       "      <td>0.5081</td>\n",
       "    </tr>\n",
       "    <tr>\n",
       "      <th>10</th>\n",
       "      <td>BM25 1M</td>\n",
       "      <td>0.3220</td>\n",
       "    </tr>\n",
       "    <tr>\n",
       "      <th>11</th>\n",
       "      <td>BM25 1M massiveweb</td>\n",
       "      <td>0.3189</td>\n",
       "    </tr>\n",
       "    <tr>\n",
       "      <th>12</th>\n",
       "      <td>ColBERT-X_mMARCO_pt-BR 1M massiveweb</td>\n",
       "      <td>0.4076</td>\n",
       "    </tr>\n",
       "  </tbody>\n",
       "</table>\n",
       "</div>"
      ],
      "text/plain": [
       "                               retriever nDCG@10\n",
       "0                                   BM25  0.4527\n",
       "1                                BM25+E5  0.6450\n",
       "2                               BM25+mT5  0.7209\n",
       "3                         SPLADEv2_pt-BR  0.5868\n",
       "4                 ColBERT-X_mMARCO_pt-BR  0.6357\n",
       "5                                     E5  0.5638\n",
       "6                                E5 base  0.4030\n",
       "7                   SPLADEv2_pt-BR + mT5  0.7067\n",
       "8        E5 + ColBERT-X mMARCO_pt-BR RRF  0.6471\n",
       "9                E5 + SPLADEv2_pt-BR RRF  0.5081\n",
       "10                               BM25 1M  0.3220\n",
       "11                    BM25 1M massiveweb  0.3189\n",
       "12  ColBERT-X_mMARCO_pt-BR 1M massiveweb  0.4076"
      ]
     },
     "execution_count": 33,
     "metadata": {},
     "output_type": "execute_result"
    }
   ],
   "source": [
    "pd.DataFrame(retrievers_results)"
   ]
  },
  {
   "cell_type": "markdown",
   "id": "2304d606",
   "metadata": {},
   "source": [
    "## 1M dataset"
   ]
  },
  {
   "cell_type": "markdown",
   "id": "65570622",
   "metadata": {},
   "source": [
    "### Compute BM25 1M massiveweb filtered nDCG@10"
   ]
  },
  {
   "cell_type": "code",
   "execution_count": null,
   "id": "a6f6b6f9",
   "metadata": {},
   "outputs": [],
   "source": [
    "result = !/media/eduseiti/bigdata01/unicamp/ia368v_dd/pyserini/tools/eval/trec_eval.9.0.4/trec_eval -c -mndcg_cut.10 \\\n",
    "    {qrels_1M_filename} {BM25_1M_MASSIVEWEB_RUN}\n",
    "\n",
    "retrievers_1M_results.append({'retriever':'BM25 1M massiveweb', 'nDCG@10': result[0].split('\\t')[-1]})"
   ]
  },
  {
   "cell_type": "markdown",
   "id": "cb5d2fdf",
   "metadata": {},
   "source": [
    "### Compute ColBERT-X massiveweb filtered nDCG@10"
   ]
  },
  {
   "cell_type": "code",
   "execution_count": null,
   "id": "42645e21",
   "metadata": {},
   "outputs": [],
   "source": [
    "result = !/media/eduseiti/bigdata01/unicamp/ia368v_dd/pyserini/tools/eval/trec_eval.9.0.4/trec_eval -c -mndcg_cut.10 \\\n",
    "    {qrels_1M_filename} {COLBERTX_1M_MASSIVEWEB_RUN}\n",
    "\n",
    "retrievers_1M_results.append({'retriever':'ColBERT-X_mMARCO_pt-BR 1M massiveweb', 'nDCG@10': result[0].split('\\t')[-1]})"
   ]
  },
  {
   "cell_type": "markdown",
   "id": "87dc05e9",
   "metadata": {},
   "source": [
    "### Check the overall results"
   ]
  },
  {
   "cell_type": "code",
   "execution_count": null,
   "id": "f8a4d81b",
   "metadata": {},
   "outputs": [],
   "source": [
    "pd.DataFrame(retrievers_1M_results)"
   ]
  },
  {
   "cell_type": "code",
   "execution_count": null,
   "id": "eeb2e7fe",
   "metadata": {},
   "outputs": [],
   "source": []
  }
 ],
 "metadata": {
  "kernelspec": {
   "display_name": "Python 3 (ipykernel)",
   "language": "python",
   "name": "python3"
  },
  "language_info": {
   "codemirror_mode": {
    "name": "ipython",
    "version": 3
   },
   "file_extension": ".py",
   "mimetype": "text/x-python",
   "name": "python",
   "nbconvert_exporter": "python",
   "pygments_lexer": "ipython3",
   "version": "3.10.12"
  }
 },
 "nbformat": 4,
 "nbformat_minor": 5
}
