{
 "cells": [
  {
   "cell_type": "code",
   "execution_count": 1,
   "id": "642a987d",
   "metadata": {
    "executionInfo": {
     "elapsed": 272,
     "status": "ok",
     "timestamp": 1706188944885,
     "user": {
      "displayName": "Eduardo Seiti de Oliveira",
      "userId": "03989307632206042931"
     },
     "user_tz": 180
    },
    "id": "642a987d"
   },
   "outputs": [],
   "source": [
    "import os\n",
    "import sys"
   ]
  },
  {
   "cell_type": "code",
   "execution_count": 2,
   "id": "e886f0fb",
   "metadata": {
    "executionInfo": {
     "elapsed": 4,
     "status": "ok",
     "timestamp": 1706188945248,
     "user": {
      "displayName": "Eduardo Seiti de Oliveira",
      "userId": "03989307632206042931"
     },
     "user_tz": 180
    },
    "id": "e886f0fb"
   },
   "outputs": [],
   "source": [
    "IN_COLAB='google.colab' in sys.modules"
   ]
  },
  {
   "cell_type": "code",
   "execution_count": 3,
   "id": "91c83783",
   "metadata": {
    "colab": {
     "base_uri": "https://localhost:8080/"
    },
    "executionInfo": {
     "elapsed": 6046,
     "status": "ok",
     "timestamp": 1706189390986,
     "user": {
      "displayName": "Eduardo Seiti de Oliveira",
      "userId": "03989307632206042931"
     },
     "user_tz": 180
    },
    "id": "91c83783",
    "outputId": "158fb160-7fb5-48ac-df6e-400435e2517d"
   },
   "outputs": [],
   "source": [
    "if IN_COLAB:\n",
    "    from google.colab import drive\n",
    "\n",
    "    WORKING_FOLDER=\"/content/drive/MyDrive/unicamp/ia368v_dd/trabalho_final_UNICAMP-IR/artigo/unicamp_IR\"\n",
    "\n",
    "    drive.mount('/content/drive', force_remount=True)\n",
    "\n",
    "    os.chdir(WORKING_FOLDER)\n",
    "\n",
    "    TREC_EVAL=\"/content/drive/MyDrive/unicamp/ia368v_dd/pyserini/tools/eval/trec_eval.9.0.4/trec_eval\"\n",
    "else:\n",
    "    WORKING_FOLDER=\"/media/eduseiti/bigdata01/unicamp/ia368v_dd/unicamp_IR/\"\n",
    "    TREC_EVAL=\"/media/eduseiti/bigdata01/unicamp/ia368v_dd/pyserini/tools/eval/trec_eval.9.0.4/trec_eval\""
   ]
  },
  {
   "cell_type": "code",
   "execution_count": 4,
   "id": "069d6976",
   "metadata": {
    "executionInfo": {
     "elapsed": 671,
     "status": "ok",
     "timestamp": 1706188867271,
     "user": {
      "displayName": "Eduardo Seiti de Oliveira",
      "userId": "03989307632206042931"
     },
     "user_tz": 180
    },
    "id": "069d6976"
   },
   "outputs": [],
   "source": [
    "import pandas as pd\n",
    "import numpy as np"
   ]
  },
  {
   "cell_type": "code",
   "execution_count": 5,
   "id": "7639ebb8",
   "metadata": {
    "executionInfo": {
     "elapsed": 298,
     "status": "ok",
     "timestamp": 1706188886428,
     "user": {
      "displayName": "Eduardo Seiti de Oliveira",
      "userId": "03989307632206042931"
     },
     "user_tz": 180
    },
    "id": "7639ebb8"
   },
   "outputs": [],
   "source": [
    "pd.set_option('display.max_colwidth', None)\n",
    "pd.set_option('display.max_rows', 500)"
   ]
  },
  {
   "cell_type": "code",
   "execution_count": 14,
   "id": "c34d51d7",
   "metadata": {
    "executionInfo": {
     "elapsed": 338,
     "status": "ok",
     "timestamp": 1706188888102,
     "user": {
      "displayName": "Eduardo Seiti de Oliveira",
      "userId": "03989307632206042931"
     },
     "user_tz": 180
    },
    "id": "c34d51d7"
   },
   "outputs": [],
   "source": [
    "ALL_EVALUATIONS=\"tests/evaluation_16_retrievers_000_009_sampled_50_queries_gpt-4-1106-preview_20240125.tsv\"\n",
    "\n",
    "BM25_RUN=\"tests/200-queries-passagens-by-BM25-pt_v2_with_query_id_run.txt\"\n",
    "BM25_E5_RUN=\"tests/bm25_e5_docs_000_999_50_sampled_queries_run.txt\"\n",
    "BM25_MT5_RUN=\"tests/200-queries-passagens-by-BM25-mT5_v4_with_query_id_run.txt\"\n",
    "SPLADE_RUN=\"tests/splade_pt_result_with_clueweb_id_run.txt\"\n",
    "COLBERTX_RUN=\"tests/colbertx_all_znormalized_validation_scores_000_199_run.txt\"\n",
    "\n",
    "E5_RUN=\"tests/e5_docs_000_999_50_sampled_queries_run.txt\"\n",
    "E5_BASE_RUN=\"tests/e5_base_docs_000_999_50_sampled_queries_run.txt\"\n",
    "SPLADE_MT5_RUN=\"tests/splade_mt5_docs_000_099_50_sampled_queries_run.txt\"\n",
    "\n",
    "BM25_1M_RUN=\"tests/bm25_1M_docs_000_999_sampled_50_queries_run.txt\"\n",
    "BM25_1M_MASSIVEWEB_RUN=\"tests/bm25_massiveweb_1M_docs_000_999_sampled_50_queries_run.txt\"\n",
    "\n",
    "COLBERTX_1M_MASSIVEWEB_RUN=\"tests/colbertx_all_retrieval_1M_dataset_20240105_run.txt\"\n",
    "\n",
    "E5_COLBERTX_RRF_RUN=\"tests/colbertx_e5_RRF_000_999_sampled_50_queries_run.txt\"\n",
    "E5_SPLADE_RRF_RUN=\"tests/splade_e5_fixed_RRF_000_999_sampled_50_queries_run.txt\"\n",
    "\n",
    "ADAV2_RUN=\"tests/adav2_1M_docs_000_999_sampled_50_queries_run.txt\""
   ]
  },
  {
   "cell_type": "code",
   "execution_count": 7,
   "id": "0rTinwoFmiFb",
   "metadata": {
    "executionInfo": {
     "elapsed": 3,
     "status": "ok",
     "timestamp": 1706188889306,
     "user": {
      "displayName": "Eduardo Seiti de Oliveira",
      "userId": "03989307632206042931"
     },
     "user_tz": 180
    },
    "id": "0rTinwoFmiFb"
   },
   "outputs": [],
   "source": [
    "BM25_MT5_1M_MASSIVEWEB=\"tests/bm25_mt5_1M_docs_000_099_sampled_50_queries.tsv\""
   ]
  },
  {
   "cell_type": "code",
   "execution_count": 8,
   "id": "56c4ef85",
   "metadata": {
    "executionInfo": {
     "elapsed": 569,
     "status": "ok",
     "timestamp": 1706190431409,
     "user": {
      "displayName": "Eduardo Seiti de Oliveira",
      "userId": "03989307632206042931"
     },
     "user_tz": 180
    },
    "id": "56c4ef85"
   },
   "outputs": [],
   "source": [
    "DATASET_1M_FIELDS=['bm25_1M_massiveweb', 'colbertx_1M_massiveweb', 'adav2', 'bm25_mT5_1M_massiveweb']"
   ]
  },
  {
   "cell_type": "code",
   "execution_count": 9,
   "id": "7ce55d09",
   "metadata": {
    "executionInfo": {
     "elapsed": 3,
     "status": "ok",
     "timestamp": 1706188890714,
     "user": {
      "displayName": "Eduardo Seiti de Oliveira",
      "userId": "03989307632206042931"
     },
     "user_tz": 180
    },
    "id": "7ce55d09"
   },
   "outputs": [],
   "source": [
    "def prepare_run_format(results_filename, add_index=True, score_field='score', invert_score=False, retriever_name=\"retriever\"):\n",
    "\n",
    "    results_df = pd.read_csv(results_filename, sep='\\t')\n",
    "\n",
    "    display(results_df.head())\n",
    "\n",
    "    results_grouped_df = results_df.groupby(\"query_id\")['passage_id'].count()\n",
    "\n",
    "    how_many_passages_per_question = results_grouped_df.iloc[0]\n",
    "\n",
    "    if invert_score:\n",
    "        print(\"Inverting score values in '{}' field...\".format(score_field))\n",
    "\n",
    "        results_df['score_inv'] = 1 - results_df[score_field]\n",
    "        score_field = 'score_inv'\n",
    "\n",
    "    run_df = results_df.sort_values([\"query_id\", score_field], ascending=[True, False])\n",
    "\n",
    "    run_df['Q0'] = \"Q0\"\n",
    "    run_df['comment'] = retriever_name\n",
    "\n",
    "    if add_index:\n",
    "        run_df['index'] = np.tile(list(range(1, how_many_passages_per_question + 1)), results_grouped_df.shape[0])\n",
    "\n",
    "    output_filename = \"{}_run.txt\".format(os.path.splitext(results_filename)[0])\n",
    "\n",
    "    print(\"output_filename={}\".format(output_filename))\n",
    "\n",
    "    run_df[['query_id', 'Q0', \"passage_id\", \"index\", score_field, \"comment\"]].to_csv(output_filename, header=None, index=False, sep=\" \")\n",
    "\n",
    "    return output_filename, run_df"
   ]
  },
  {
   "cell_type": "code",
   "execution_count": 10,
   "id": "0a988b51",
   "metadata": {
    "executionInfo": {
     "elapsed": 349,
     "status": "ok",
     "timestamp": 1706190125824,
     "user": {
      "displayName": "Eduardo Seiti de Oliveira",
      "userId": "03989307632206042931"
     },
     "user_tz": 180
    },
    "id": "0a988b51"
   },
   "outputs": [],
   "source": [
    "retrievers_results = []"
   ]
  },
  {
   "cell_type": "code",
   "execution_count": 52,
   "id": "elrLIjcU4qgc",
   "metadata": {
    "executionInfo": {
     "elapsed": 300,
     "status": "ok",
     "timestamp": 1706190620647,
     "user": {
      "displayName": "Eduardo Seiti de Oliveira",
      "userId": "03989307632206042931"
     },
     "user_tz": 180
    },
    "id": "elrLIjcU4qgc"
   },
   "outputs": [],
   "source": [
    "retrievers_1M_results = []"
   ]
  },
  {
   "cell_type": "markdown",
   "id": "6f7bc6a6",
   "metadata": {
    "id": "6f7bc6a6"
   },
   "source": [
    "### Format GPT-4 evaluations to qrels format"
   ]
  },
  {
   "cell_type": "code",
   "execution_count": 15,
   "id": "5129453f",
   "metadata": {
    "executionInfo": {
     "elapsed": 265,
     "status": "ok",
     "timestamp": 1706188898120,
     "user": {
      "displayName": "Eduardo Seiti de Oliveira",
      "userId": "03989307632206042931"
     },
     "user_tz": 180
    },
    "id": "5129453f"
   },
   "outputs": [],
   "source": [
    "qrels_filename = os.path.join(os.path.dirname(ALL_EVALUATIONS), \"{}_qrel.txt\".format(os.path.splitext(os.path.basename(ALL_EVALUATIONS))[0]))\n",
    "qrels_1M_filename = os.path.join(os.path.dirname(ALL_EVALUATIONS), \"{}_1M_qrel.txt\".format(os.path.splitext(os.path.basename(ALL_EVALUATIONS))[0]))"
   ]
  },
  {
   "cell_type": "code",
   "execution_count": 16,
   "id": "b4b5e5ae",
   "metadata": {
    "colab": {
     "base_uri": "https://localhost:8080/"
    },
    "executionInfo": {
     "elapsed": 891,
     "status": "ok",
     "timestamp": 1706190591650,
     "user": {
      "displayName": "Eduardo Seiti de Oliveira",
      "userId": "03989307632206042931"
     },
     "user_tz": 180
    },
    "id": "b4b5e5ae",
    "outputId": "e8e8b960-77a0-4be5-dbfb-b9029b2a048c"
   },
   "outputs": [
    {
     "name": "stdout",
     "output_type": "stream",
     "text": [
      "\n",
      "query_id=1\n",
      "(array([0, 1, 2, 3]), array([21, 42, 16, 10]))\n",
      "\n",
      "query_id=2\n",
      "(array([0, 1, 2, 3]), array([96,  2,  1,  2]))\n",
      "\n",
      "query_id=9\n",
      "(array([0, 1, 2, 3]), array([61, 10, 12,  5]))\n",
      "\n",
      "query_id=11\n",
      "(array([0, 1, 2, 3]), array([51, 17,  8,  2]))\n",
      "\n",
      "query_id=13\n",
      "(array([0, 1, 2, 3]), array([40, 14, 22,  4]))\n",
      "\n",
      "query_id=15\n",
      "(array([0, 1, 2, 3]), array([31, 20,  4, 17]))\n",
      "\n",
      "query_id=17\n",
      "(array([0, 1, 2, 3]), array([29, 10,  2, 36]))\n",
      "\n",
      "query_id=20\n",
      "(array([0, 1, 2, 3]), array([18, 57, 26,  7]))\n",
      "\n",
      "query_id=21\n",
      "(array([0, 1, 2, 3]), array([53, 21,  8, 19]))\n",
      "\n",
      "query_id=22\n",
      "(array([0, 1, 2, 3]), array([58, 15,  2,  7]))\n",
      "\n",
      "query_id=24\n",
      "(array([0, 1, 2, 3]), array([61, 31, 11,  2]))\n",
      "\n",
      "query_id=26\n",
      "(array([0, 1, 2, 3]), array([14, 17, 14, 33]))\n",
      "\n",
      "query_id=28\n",
      "(array([0, 1, 2, 3]), array([60, 16, 13,  4]))\n",
      "\n",
      "query_id=47\n",
      "(array([0, 1, 2, 3]), array([51, 31, 29,  1]))\n",
      "\n",
      "query_id=49\n",
      "(array([0, 1, 2, 3]), array([28, 29, 24,  1]))\n",
      "\n",
      "query_id=51\n",
      "(array([0, 1, 2, 3]), array([39, 21, 12,  1]))\n",
      "\n",
      "query_id=54\n",
      "(array([0, 1, 2, 3]), array([ 1, 15, 23, 42]))\n",
      "\n",
      "query_id=60\n",
      "(array([0, 1, 3]), array([16,  6, 48]))\n",
      "\n",
      "query_id=62\n",
      "(array([0, 1, 2, 3]), array([49, 37, 20,  1]))\n",
      "\n",
      "query_id=64\n",
      "(array([0, 1, 2, 3]), array([40, 12, 12, 15]))\n",
      "\n",
      "query_id=68\n",
      "(array([0, 1, 2, 3]), array([26, 37, 42,  4]))\n",
      "\n",
      "query_id=84\n",
      "(array([0, 1, 2, 3]), array([79,  6,  2,  2]))\n",
      "\n",
      "query_id=95\n",
      "(array([0, 1, 2]), array([86,  9,  2]))\n",
      "\n",
      "query_id=98\n",
      "(array([0, 1, 2, 3]), array([57, 10, 10, 12]))\n",
      "\n",
      "query_id=105\n",
      "(array([0, 1, 2, 3]), array([51, 17,  2, 17]))\n",
      "\n",
      "query_id=113\n",
      "(array([0, 1, 2, 3]), array([16,  7, 19, 30]))\n",
      "\n",
      "query_id=115\n",
      "(array([0, 1, 2, 3]), array([ 6, 18, 42, 20]))\n",
      "\n",
      "query_id=117\n",
      "(array([0, 1, 2, 3]), array([43, 30,  8, 13]))\n",
      "\n",
      "query_id=126\n",
      "(array([0, 1, 2, 3]), array([90,  2,  1, 21]))\n",
      "\n",
      "query_id=127\n",
      "(array([0, 1, 2, 3]), array([22, 17, 10,  7]))\n",
      "\n",
      "query_id=128\n",
      "(array([0, 1, 3]), array([49,  3, 21]))\n",
      "\n",
      "query_id=136\n",
      "(array([0, 1, 2, 3]), array([54, 14, 17,  6]))\n",
      "\n",
      "query_id=147\n",
      "(array([0, 1, 2, 3]), array([81,  5,  1,  4]))\n",
      "\n",
      "query_id=152\n",
      "(array([0, 1, 2, 3]), array([65, 23,  2,  5]))\n",
      "\n",
      "query_id=153\n",
      "(array([0, 1, 2, 3]), array([32, 21, 10, 13]))\n",
      "\n",
      "query_id=154\n",
      "(array([0, 1, 2, 3]), array([ 6, 10, 14, 32]))\n",
      "\n",
      "query_id=160\n",
      "(array([0, 1, 2, 3]), array([49,  7, 11, 11]))\n",
      "\n",
      "query_id=161\n",
      "(array([0, 1, 2, 3]), array([35,  7, 13,  7]))\n",
      "\n",
      "query_id=163\n",
      "(array([0, 1, 2, 3]), array([40, 17, 13,  1]))\n",
      "\n",
      "query_id=167\n",
      "(array([0, 1, 2, 3]), array([86, 17,  6,  1]))\n",
      "\n",
      "query_id=170\n",
      "(array([0, 1, 2, 3]), array([31, 23, 36,  2]))\n",
      "\n",
      "query_id=172\n",
      "(array([0, 1, 2, 3]), array([19, 11, 20, 22]))\n",
      "\n",
      "query_id=180\n",
      "(array([0, 1, 2, 3]), array([42,  7, 12,  7]))\n",
      "\n",
      "query_id=181\n",
      "(array([0, 1, 2, 3]), array([71,  8,  5, 13]))\n",
      "\n",
      "query_id=182\n",
      "(array([0, 1, 2, 3]), array([63, 10,  4,  5]))\n",
      "\n",
      "query_id=189\n",
      "(array([0, 1]), array([74, 20]))\n",
      "\n",
      "query_id=193\n",
      "(array([0, 1, 2, 3]), array([19, 18, 22, 23]))\n",
      "\n",
      "query_id=195\n",
      "(array([0, 1, 2, 3]), array([12, 10, 19, 29]))\n",
      "\n",
      "query_id=196\n",
      "(array([0, 1, 2, 3]), array([24, 20, 42,  5]))\n",
      "\n",
      "query_id=199\n",
      "(array([0, 1, 2, 3]), array([20, 14, 17, 30]))\n",
      "\n",
      "\n",
      "\n",
      "tests/evaluation_16_retrievers_000_009_sampled_50_queries_gpt-4-1106-preview_20240125_qrel.txt\n",
      "tests/evaluation_16_retrievers_000_009_sampled_50_queries_gpt-4-1106-preview_20240125_1M_qrel.txt\n"
     ]
    }
   ],
   "source": [
    "if os.path.exists(qrels_filename) == False:\n",
    "    eval_df = pd.read_csv(ALL_EVALUATIONS, sep='\\t')\n",
    "\n",
    "    eval_df\n",
    "\n",
    "    eval_df.drop_duplicates(\"query_id\")[['query_id', 'query']]\n",
    "\n",
    "    #### Check scores distribution on the current qrels\n",
    "\n",
    "    np.unique(eval_df['score'].to_numpy(), return_counts=True)\n",
    "\n",
    "    for group_name, group_df in eval_df.groupby('query_id'):\n",
    "        print(\"\\nquery_id={}\".format(group_name))\n",
    "\n",
    "        print(np.unique(group_df['score'].to_numpy(), return_counts=True))\n",
    "\n",
    "    eval_df.groupby('query_id').count()\n",
    "\n",
    "    eval_df.groupby('query_id').count()['query'].describe()\n",
    "\n",
    "    #### Prepare the qrels format for trec_eval tools\n",
    "\n",
    "    eval_df['0'] = '0'\n",
    "\n",
    "    print(\"\\n\\n\")\n",
    "    print(qrels_filename)\n",
    "    print(qrels_1M_filename)\n",
    "\n",
    "    eval_df.sort_values('query_id')[['query_id', '0', 'passage_id', 'score']].to_csv(qrels_filename, header=None, index=False, sep=\" \")\n",
    "\n",
    "\n",
    "    #### Select 1M dataset evaluations\n",
    "\n",
    "    eval_df[eval_df[DATASET_1M_FIELDS].sum(axis=1) > 0].sort_values('query_id')[['query_id', '0', 'passage_id', 'score']].to_csv(qrels_1M_filename, header=None, index=False, sep=\" \")\n",
    "\n",
    "else:\n",
    "    print(\"QRELS files ({}) already created...\".format(qrels_filename))"
   ]
  },
  {
   "cell_type": "markdown",
   "id": "21c43950",
   "metadata": {
    "id": "21c43950"
   },
   "source": [
    "## 10M dataset"
   ]
  },
  {
   "cell_type": "markdown",
   "id": "46a5067d",
   "metadata": {
    "id": "46a5067d"
   },
   "source": [
    "### Compute BM25 nDCG@10"
   ]
  },
  {
   "cell_type": "code",
   "execution_count": 17,
   "id": "47f680eb",
   "metadata": {
    "executionInfo": {
     "elapsed": 502,
     "status": "ok",
     "timestamp": 1706190235611,
     "user": {
      "displayName": "Eduardo Seiti de Oliveira",
      "userId": "03989307632206042931"
     },
     "user_tz": 180
    },
    "id": "47f680eb"
   },
   "outputs": [],
   "source": [
    "result = !{TREC_EVAL} -c -mndcg_cut.10 \\\n",
    "    {qrels_filename} tests/200-queries-passagens-by-BM25-pt_v2_with_query_id_run.txt"
   ]
  },
  {
   "cell_type": "code",
   "execution_count": 18,
   "id": "074fd2a5",
   "metadata": {
    "executionInfo": {
     "elapsed": 3,
     "status": "ok",
     "timestamp": 1706190235612,
     "user": {
      "displayName": "Eduardo Seiti de Oliveira",
      "userId": "03989307632206042931"
     },
     "user_tz": 180
    },
    "id": "074fd2a5"
   },
   "outputs": [],
   "source": [
    "retrievers_results.append({'retriever':'BM25', 'nDCG@10': result[0].split('\\t')[-1]})"
   ]
  },
  {
   "cell_type": "code",
   "execution_count": 19,
   "id": "4e4ea831",
   "metadata": {
    "colab": {
     "base_uri": "https://localhost:8080/"
    },
    "executionInfo": {
     "elapsed": 2,
     "status": "ok",
     "timestamp": 1706190236055,
     "user": {
      "displayName": "Eduardo Seiti de Oliveira",
      "userId": "03989307632206042931"
     },
     "user_tz": 180
    },
    "id": "4e4ea831",
    "outputId": "e9c21f80-5c88-41e3-ede4-2de72b03fb09"
   },
   "outputs": [
    {
     "data": {
      "text/plain": [
       "[{'retriever': 'BM25', 'nDCG@10': '0.4504'}]"
      ]
     },
     "execution_count": 19,
     "metadata": {},
     "output_type": "execute_result"
    }
   ],
   "source": [
    "retrievers_results"
   ]
  },
  {
   "cell_type": "markdown",
   "id": "8369421c",
   "metadata": {
    "id": "8369421c"
   },
   "source": [
    "### Compute BM25 + E5 nDCG@10"
   ]
  },
  {
   "cell_type": "code",
   "execution_count": 20,
   "id": "af1fc331",
   "metadata": {
    "executionInfo": {
     "elapsed": 614,
     "status": "ok",
     "timestamp": 1706190238479,
     "user": {
      "displayName": "Eduardo Seiti de Oliveira",
      "userId": "03989307632206042931"
     },
     "user_tz": 180
    },
    "id": "af1fc331"
   },
   "outputs": [],
   "source": [
    "result = !{TREC_EVAL} -c -mndcg_cut.10 \\\n",
    "    {qrels_filename} {BM25_E5_RUN}"
   ]
  },
  {
   "cell_type": "code",
   "execution_count": 21,
   "id": "06d9ec4e",
   "metadata": {
    "executionInfo": {
     "elapsed": 6,
     "status": "ok",
     "timestamp": 1706190238481,
     "user": {
      "displayName": "Eduardo Seiti de Oliveira",
      "userId": "03989307632206042931"
     },
     "user_tz": 180
    },
    "id": "06d9ec4e"
   },
   "outputs": [],
   "source": [
    "retrievers_results.append({'retriever':'BM25+E5', 'nDCG@10': result[0].split('\\t')[-1]})"
   ]
  },
  {
   "cell_type": "markdown",
   "id": "3b14bc7e",
   "metadata": {
    "id": "3b14bc7e"
   },
   "source": [
    "### Compute BM25 + mT5 nDCG@10"
   ]
  },
  {
   "cell_type": "code",
   "execution_count": 22,
   "id": "0e805605",
   "metadata": {
    "executionInfo": {
     "elapsed": 471,
     "status": "ok",
     "timestamp": 1706190238946,
     "user": {
      "displayName": "Eduardo Seiti de Oliveira",
      "userId": "03989307632206042931"
     },
     "user_tz": 180
    },
    "id": "0e805605"
   },
   "outputs": [],
   "source": [
    "result = !{TREC_EVAL} -c -mndcg_cut.10 \\\n",
    "    {qrels_filename} {BM25_MT5_RUN}"
   ]
  },
  {
   "cell_type": "code",
   "execution_count": 23,
   "id": "ee3b9137",
   "metadata": {
    "executionInfo": {
     "elapsed": 555,
     "status": "ok",
     "timestamp": 1706190239498,
     "user": {
      "displayName": "Eduardo Seiti de Oliveira",
      "userId": "03989307632206042931"
     },
     "user_tz": 180
    },
    "id": "ee3b9137"
   },
   "outputs": [],
   "source": [
    "retrievers_results.append({'retriever':'BM25+mT5', 'nDCG@10': result[0].split('\\t')[-1]})"
   ]
  },
  {
   "cell_type": "markdown",
   "id": "ef82c6bc",
   "metadata": {
    "id": "ef82c6bc"
   },
   "source": [
    "### Compute SPLADE nDCG@10"
   ]
  },
  {
   "cell_type": "code",
   "execution_count": 24,
   "id": "5c0159a9",
   "metadata": {
    "executionInfo": {
     "elapsed": 603,
     "status": "ok",
     "timestamp": 1706190240095,
     "user": {
      "displayName": "Eduardo Seiti de Oliveira",
      "userId": "03989307632206042931"
     },
     "user_tz": 180
    },
    "id": "5c0159a9"
   },
   "outputs": [],
   "source": [
    "result = !{TREC_EVAL} -c -mndcg_cut.10 \\\n",
    "    {qrels_filename} {SPLADE_RUN}"
   ]
  },
  {
   "cell_type": "code",
   "execution_count": 25,
   "id": "fe5ab9e6",
   "metadata": {
    "executionInfo": {
     "elapsed": 7,
     "status": "ok",
     "timestamp": 1706190240096,
     "user": {
      "displayName": "Eduardo Seiti de Oliveira",
      "userId": "03989307632206042931"
     },
     "user_tz": 180
    },
    "id": "fe5ab9e6"
   },
   "outputs": [],
   "source": [
    "retrievers_results.append({'retriever':'SPLADEv2_pt-BR', 'nDCG@10': result[0].split('\\t')[-1]})"
   ]
  },
  {
   "cell_type": "markdown",
   "id": "bc9a4a56",
   "metadata": {
    "id": "bc9a4a56"
   },
   "source": [
    "### Compute ColBERTX nDCG@10"
   ]
  },
  {
   "cell_type": "code",
   "execution_count": 26,
   "id": "2ca2413d",
   "metadata": {
    "executionInfo": {
     "elapsed": 445,
     "status": "ok",
     "timestamp": 1706190240535,
     "user": {
      "displayName": "Eduardo Seiti de Oliveira",
      "userId": "03989307632206042931"
     },
     "user_tz": 180
    },
    "id": "2ca2413d"
   },
   "outputs": [],
   "source": [
    "result = !{TREC_EVAL} -c -mndcg_cut.10 \\\n",
    "    {qrels_filename} {COLBERTX_RUN}"
   ]
  },
  {
   "cell_type": "code",
   "execution_count": 27,
   "id": "ac146b19",
   "metadata": {
    "executionInfo": {
     "elapsed": 3,
     "status": "ok",
     "timestamp": 1706190240535,
     "user": {
      "displayName": "Eduardo Seiti de Oliveira",
      "userId": "03989307632206042931"
     },
     "user_tz": 180
    },
    "id": "ac146b19"
   },
   "outputs": [],
   "source": [
    "retrievers_results.append({'retriever':'ColBERT-X_mMARCO_pt-BR', 'nDCG@10': result[0].split('\\t')[-1]})"
   ]
  },
  {
   "cell_type": "markdown",
   "id": "8eebc635",
   "metadata": {
    "id": "8eebc635"
   },
   "source": [
    "### Compute E5 nDCG@10"
   ]
  },
  {
   "cell_type": "code",
   "execution_count": 28,
   "id": "e582ba5c",
   "metadata": {
    "executionInfo": {
     "elapsed": 1215,
     "status": "ok",
     "timestamp": 1706190242202,
     "user": {
      "displayName": "Eduardo Seiti de Oliveira",
      "userId": "03989307632206042931"
     },
     "user_tz": 180
    },
    "id": "e582ba5c"
   },
   "outputs": [],
   "source": [
    "result = !{TREC_EVAL} -c -mndcg_cut.10 \\\n",
    "    {qrels_filename} {E5_RUN}"
   ]
  },
  {
   "cell_type": "code",
   "execution_count": 29,
   "id": "7bb472b0",
   "metadata": {
    "executionInfo": {
     "elapsed": 3,
     "status": "ok",
     "timestamp": 1706190242202,
     "user": {
      "displayName": "Eduardo Seiti de Oliveira",
      "userId": "03989307632206042931"
     },
     "user_tz": 180
    },
    "id": "7bb472b0"
   },
   "outputs": [],
   "source": [
    "retrievers_results.append({'retriever':'E5', 'nDCG@10': result[0].split('\\t')[-1]})"
   ]
  },
  {
   "cell_type": "markdown",
   "id": "fdb8eed8",
   "metadata": {
    "id": "fdb8eed8"
   },
   "source": [
    "### Compute E5 base nDCG@10"
   ]
  },
  {
   "cell_type": "code",
   "execution_count": 30,
   "id": "c6e41c4f",
   "metadata": {
    "executionInfo": {
     "elapsed": 437,
     "status": "ok",
     "timestamp": 1706190242637,
     "user": {
      "displayName": "Eduardo Seiti de Oliveira",
      "userId": "03989307632206042931"
     },
     "user_tz": 180
    },
    "id": "c6e41c4f"
   },
   "outputs": [],
   "source": [
    "result = !{TREC_EVAL} -c -mndcg_cut.10 \\\n",
    "    {qrels_filename} {E5_BASE_RUN}"
   ]
  },
  {
   "cell_type": "code",
   "execution_count": 31,
   "id": "6ac443e0",
   "metadata": {
    "executionInfo": {
     "elapsed": 2,
     "status": "ok",
     "timestamp": 1706190242637,
     "user": {
      "displayName": "Eduardo Seiti de Oliveira",
      "userId": "03989307632206042931"
     },
     "user_tz": 180
    },
    "id": "6ac443e0"
   },
   "outputs": [],
   "source": [
    "retrievers_results.append({'retriever':'E5 base', 'nDCG@10': result[0].split('\\t')[-1]})"
   ]
  },
  {
   "cell_type": "markdown",
   "id": "f908456a",
   "metadata": {
    "id": "f908456a"
   },
   "source": [
    "### Compute SPLADE + mT5 nDCG@10"
   ]
  },
  {
   "cell_type": "code",
   "execution_count": 32,
   "id": "0d13f8e3",
   "metadata": {
    "executionInfo": {
     "elapsed": 793,
     "status": "ok",
     "timestamp": 1706190243428,
     "user": {
      "displayName": "Eduardo Seiti de Oliveira",
      "userId": "03989307632206042931"
     },
     "user_tz": 180
    },
    "id": "0d13f8e3"
   },
   "outputs": [],
   "source": [
    "result = !{TREC_EVAL} -c -mndcg_cut.10 \\\n",
    "    {qrels_filename} {SPLADE_MT5_RUN}"
   ]
  },
  {
   "cell_type": "code",
   "execution_count": 33,
   "id": "c04b4385",
   "metadata": {
    "executionInfo": {
     "elapsed": 6,
     "status": "ok",
     "timestamp": 1706190243429,
     "user": {
      "displayName": "Eduardo Seiti de Oliveira",
      "userId": "03989307632206042931"
     },
     "user_tz": 180
    },
    "id": "c04b4385"
   },
   "outputs": [],
   "source": [
    "retrievers_results.append({'retriever':'SPLADEv2_pt-BR + mT5', 'nDCG@10': result[0].split('\\t')[-1]})"
   ]
  },
  {
   "cell_type": "markdown",
   "id": "5fb7edda",
   "metadata": {
    "id": "5fb7edda"
   },
   "source": [
    "### Compute E5 + ColBERT-X RRF nDCG@10"
   ]
  },
  {
   "cell_type": "code",
   "execution_count": 34,
   "id": "162e0739",
   "metadata": {
    "executionInfo": {
     "elapsed": 905,
     "status": "ok",
     "timestamp": 1706190244329,
     "user": {
      "displayName": "Eduardo Seiti de Oliveira",
      "userId": "03989307632206042931"
     },
     "user_tz": 180
    },
    "id": "162e0739"
   },
   "outputs": [],
   "source": [
    "result = !{TREC_EVAL} -c -mndcg_cut.10 \\\n",
    "    {qrels_filename} {E5_COLBERTX_RRF_RUN}"
   ]
  },
  {
   "cell_type": "code",
   "execution_count": 35,
   "id": "f3cb3689",
   "metadata": {
    "executionInfo": {
     "elapsed": 4,
     "status": "ok",
     "timestamp": 1706190244329,
     "user": {
      "displayName": "Eduardo Seiti de Oliveira",
      "userId": "03989307632206042931"
     },
     "user_tz": 180
    },
    "id": "f3cb3689"
   },
   "outputs": [],
   "source": [
    "retrievers_results.append({'retriever':'E5 + ColBERT-X mMARCO_pt-BR RRF', 'nDCG@10': result[0].split('\\t')[-1]})"
   ]
  },
  {
   "cell_type": "markdown",
   "id": "75a15037",
   "metadata": {
    "id": "75a15037"
   },
   "source": [
    "### Compute E5 + SPLADE RRF nDCG@10"
   ]
  },
  {
   "cell_type": "code",
   "execution_count": 36,
   "id": "d35edbc9",
   "metadata": {
    "executionInfo": {
     "elapsed": 1056,
     "status": "ok",
     "timestamp": 1706190245382,
     "user": {
      "displayName": "Eduardo Seiti de Oliveira",
      "userId": "03989307632206042931"
     },
     "user_tz": 180
    },
    "id": "d35edbc9"
   },
   "outputs": [],
   "source": [
    "result = !{TREC_EVAL} -c -mndcg_cut.10 \\\n",
    "    {qrels_filename} {E5_SPLADE_RRF_RUN}"
   ]
  },
  {
   "cell_type": "code",
   "execution_count": 37,
   "id": "2a645d56",
   "metadata": {
    "executionInfo": {
     "elapsed": 6,
     "status": "ok",
     "timestamp": 1706190245382,
     "user": {
      "displayName": "Eduardo Seiti de Oliveira",
      "userId": "03989307632206042931"
     },
     "user_tz": 180
    },
    "id": "2a645d56"
   },
   "outputs": [],
   "source": [
    "retrievers_results.append({'retriever':'E5 + SPLADEv2_pt-BR RRF', 'nDCG@10': result[0].split('\\t')[-1]})"
   ]
  },
  {
   "cell_type": "markdown",
   "id": "ff405951",
   "metadata": {
    "id": "ff405951"
   },
   "source": [
    "### Compute BM25 1M nDCG@10"
   ]
  },
  {
   "cell_type": "code",
   "execution_count": 38,
   "id": "84127c9c",
   "metadata": {
    "executionInfo": {
     "elapsed": 811,
     "status": "ok",
     "timestamp": 1706190246188,
     "user": {
      "displayName": "Eduardo Seiti de Oliveira",
      "userId": "03989307632206042931"
     },
     "user_tz": 180
    },
    "id": "84127c9c"
   },
   "outputs": [],
   "source": [
    "result = !{TREC_EVAL} -c -mndcg_cut.10 \\\n",
    "    {qrels_filename} {BM25_1M_RUN}\n",
    "\n",
    "retrievers_results.append({'retriever':'BM25 1M', 'nDCG@10': result[0].split('\\t')[-1]})"
   ]
  },
  {
   "cell_type": "markdown",
   "id": "d788f7ee",
   "metadata": {
    "id": "d788f7ee"
   },
   "source": [
    "### Compute BM25 1M massiveweb filtered nDCG@10"
   ]
  },
  {
   "cell_type": "code",
   "execution_count": 39,
   "id": "0d5cf3ee",
   "metadata": {
    "executionInfo": {
     "elapsed": 278,
     "status": "ok",
     "timestamp": 1706190246463,
     "user": {
      "displayName": "Eduardo Seiti de Oliveira",
      "userId": "03989307632206042931"
     },
     "user_tz": 180
    },
    "id": "0d5cf3ee"
   },
   "outputs": [],
   "source": [
    "result = !{TREC_EVAL} -c -mndcg_cut.10 \\\n",
    "    {qrels_filename} {BM25_1M_MASSIVEWEB_RUN}\n",
    "\n",
    "retrievers_results.append({'retriever':'BM25 1M massiveweb', 'nDCG@10': result[0].split('\\t')[-1]})"
   ]
  },
  {
   "cell_type": "markdown",
   "id": "f7bd0978",
   "metadata": {
    "id": "f7bd0978"
   },
   "source": [
    "### Compute ColBERT-X 1M massiveweb filtered nDCG@10"
   ]
  },
  {
   "cell_type": "code",
   "execution_count": 40,
   "id": "abb56cf8",
   "metadata": {
    "executionInfo": {
     "elapsed": 1506,
     "status": "ok",
     "timestamp": 1706190255088,
     "user": {
      "displayName": "Eduardo Seiti de Oliveira",
      "userId": "03989307632206042931"
     },
     "user_tz": 180
    },
    "id": "abb56cf8"
   },
   "outputs": [],
   "source": [
    "result = !{TREC_EVAL} -c -mndcg_cut.10 \\\n",
    "    {qrels_filename} {COLBERTX_1M_MASSIVEWEB_RUN}\n",
    "\n",
    "retrievers_results.append({'retriever':'ColBERT-X_mMARCO_pt-BR 1M massiveweb', 'nDCG@10': result[0].split('\\t')[-1]})"
   ]
  },
  {
   "cell_type": "markdown",
   "id": "f31705ab",
   "metadata": {},
   "source": [
    "### Compute ADAv2 1M massiveweb filtered nDCG@10"
   ]
  },
  {
   "cell_type": "code",
   "execution_count": 41,
   "id": "ba6da90a",
   "metadata": {},
   "outputs": [],
   "source": [
    "result = !{TREC_EVAL} -c -mndcg_cut.10 \\\n",
    "    {qrels_filename} {ADAV2_RUN}\n",
    "\n",
    "retrievers_results.append({'retriever':'ADA v2 1M massiveweb', 'nDCG@10': result[0].split('\\t')[-1]})"
   ]
  },
  {
   "cell_type": "markdown",
   "id": "R7SdiUqvxLEQ",
   "metadata": {
    "id": "R7SdiUqvxLEQ"
   },
   "source": [
    "### Prepare BM25 + mT5 1M massiveweb filtered run and compute nDCG@10"
   ]
  },
  {
   "cell_type": "code",
   "execution_count": 42,
   "id": "AabnEIYsxK4b",
   "metadata": {
    "colab": {
     "base_uri": "https://localhost:8080/",
     "height": 1000
    },
    "executionInfo": {
     "elapsed": 3807,
     "status": "ok",
     "timestamp": 1706189880286,
     "user": {
      "displayName": "Eduardo Seiti de Oliveira",
      "userId": "03989307632206042931"
     },
     "user_tz": 180
    },
    "id": "AabnEIYsxK4b",
    "outputId": "237b84f0-ce37-43e7-dfc7-a7a8ad40ca25"
   },
   "outputs": [
    {
     "data": {
      "text/html": [
       "<div>\n",
       "<style scoped>\n",
       "    .dataframe tbody tr th:only-of-type {\n",
       "        vertical-align: middle;\n",
       "    }\n",
       "\n",
       "    .dataframe tbody tr th {\n",
       "        vertical-align: top;\n",
       "    }\n",
       "\n",
       "    .dataframe thead th {\n",
       "        text-align: right;\n",
       "    }\n",
       "</style>\n",
       "<table border=\"1\" class=\"dataframe\">\n",
       "  <thead>\n",
       "    <tr style=\"text-align: right;\">\n",
       "      <th></th>\n",
       "      <th>query</th>\n",
       "      <th>colbertx_id</th>\n",
       "      <th>passage</th>\n",
       "      <th>query_id</th>\n",
       "      <th>passage_id</th>\n",
       "      <th>score</th>\n",
       "    </tr>\n",
       "  </thead>\n",
       "  <tbody>\n",
       "    <tr>\n",
       "      <th>0</th>\n",
       "      <td>Onde está localizada a Praça XV de Novembro?</td>\n",
       "      <td>3189242</td>\n",
       "      <td>Endereço completo: Rua XV de Novembro, 759 2º Piso salas 40 A 46-Centro, Blumenau-SC, CEP :89010902. Importante: As informações dessa página tem como fonte o Portal Brasileiro de Dados Abertos, com isso não é possível garantir que todos os dados estejam 100% atualizados e corretos, desde a data da última atualização da base de dados do Portal Brasileiro de Dados Abertos</td>\n",
       "      <td>105</td>\n",
       "      <td>clueweb22-pt0000-67-03241_1</td>\n",
       "      <td>1000</td>\n",
       "    </tr>\n",
       "    <tr>\n",
       "      <th>1</th>\n",
       "      <td>Onde está localizada a Praça XV de Novembro?</td>\n",
       "      <td>7749553</td>\n",
       "      <td>Uma boa maneira de entrar em contato com os moradores e também com a cidade é percorrer a Rua XV de Novembro. Ela é a principal avenida de Blumenau e está repleta de comércios e lojas com produtos típicos da região (especialmente produtos com a temática da Oktoberfest). Ao caminhar, não deixe de reparar nas casas em estilo enxaimel. Apesar de quase nenhuma delas ser original (infelizmente é verdade), elas formam belos cenários para fotos. As mais chamativas da rua são o Castelinho — uma grande casa onde funciona a loja Havan — e o prédio da Prefeitura de Blumenau, onde uma locomotiva de época e um relógio de flores ajudam a compor a cena. Se quiser mesmo ver uma construção original, procure a pequena casa com anões na sacada. Ainda na Rua XV de Novembro, não deixe de visitar a Catedral São Paulo, a Fundação Cultural São Paulo e o Biergarten, um charmoso jardim de frente para o rio Itajaí-Açu.</td>\n",
       "      <td>105</td>\n",
       "      <td>clueweb22-pt0001-61-06106_2</td>\n",
       "      <td>990</td>\n",
       "    </tr>\n",
       "    <tr>\n",
       "      <th>2</th>\n",
       "      <td>Onde está localizada a Praça XV de Novembro?</td>\n",
       "      <td>8799939</td>\n",
       "      <td>Com a inauguração da “PARADA XV”, começaram a chegar outras famílias fixando-se na parte nova, ou seja, Vila 15 de Novembro, Artur e Da, Elisa Zenker, Carlos Stafen, Carlos Czizek, Skrupsen, Júlio Navega e outros. Da. Elisa Zenker era originária de recursos abastados, muito caridosa e social, procurava auxiliar a todos que batiam e sua porta, promovia grandes festas sociais, sua visita faziam a alegria da criançada com suas possantes motocicletas. Foi, com outras pessoas, a fundadora de um clube com o nome de “Eldorado” sendo este o clube social da época, hoje na saudade e lembrança daqueles que tiveram a oportunidade de conhecer e participar de suas reuniões. Foi Da. Elisa que, com seus recursos, montou um pequeno Parque Infantil onde hoje está localizada a Praça XV de Novembro e que servia para divertimento das crianças. Parada XV de Novembro teve uma pequena indústria de fogos, fundada por seu Dante e, mais tarde, a família Setti, fechando-se por volta de 1931.</td>\n",
       "      <td>105</td>\n",
       "      <td>clueweb22-pt0001-84-16421_6</td>\n",
       "      <td>980</td>\n",
       "    </tr>\n",
       "    <tr>\n",
       "      <th>3</th>\n",
       "      <td>Onde está localizada a Praça XV de Novembro?</td>\n",
       "      <td>1066879</td>\n",
       "      <td>Importância porque ali está o Monumento do Cooperativismo, simbolizando sua importância para a cidade, histórica e culturalmente. Esta praça fica na Avenida 15 de novembro, no centro da cidade, e conta ainda com um labirinto de arbustos, o labirinto verde. Localizado no coração da praça é uma das atrações que diverte e entretém as diferentes gerações que passam por lá. Para almoçar, experimente logo adiante o fogão a lenha do restaurante Unser Haus. E já pode dar uma visitada na cervejaria Edelbrau, visitando alguns dos melhores locais da cidade num só passeio. Mais adiante, pela 116, há também a comida caseira do restaurante Colina Verde, um verdadeiro banquete. E se der vontade de uma sobremesa, passe na Mukli Alfajores. Um uruguaio que se apaixonou pela cidade trouxe para Nova Petrópolis essas delícias de seu país. Além de poder levar para casa variados tipos de alfajor, aproveite e experimente o milk shake da casa. Se você está procurando o que fazer dentro da parte urbana de Nova Petrópolis, precisa passar pela praça. 10. Casa Amarela Que tal uma galeria de arte para você apreciar a importância histórica de Nova Petrópolis de acordo com o ponto de vista de quem ali viveu e ainda vive?</td>\n",
       "      <td>105</td>\n",
       "      <td>clueweb22-pt0000-22-03330_10</td>\n",
       "      <td>970</td>\n",
       "    </tr>\n",
       "    <tr>\n",
       "      <th>4</th>\n",
       "      <td>Onde está localizada a Praça XV de Novembro?</td>\n",
       "      <td>3795224</td>\n",
       "      <td>Plaza Corporate - Hon Hon / Plaza Corporate Encontre a unidade mais próxima de você Plaza Corporate Esta nova unidade, inaugurada em 2015, está localizada no sexto andar do Plaza Corporate. Sua localização central foi escolhida a fim de facilitar o acesso de pacientes oriundos do Rio de Janeiro, Niterói e adjacências. A mesma qualidade e excelência em oftalmologia, aliada aos serviços do Plaza Shopping, com estacionamento no local. Endereço: PLAZA CORPORATE - 6º andar Rua XV de Novembro, 4. Centro – Niterói – RJ. Tel/Fax: 21 2715-6000 Horário de Atendimento: Segunda a Sexta de 08h às 18h Sábado de 08h às 12h Pré-agende sua consulta</td>\n",
       "      <td>105</td>\n",
       "      <td>clueweb22-pt0000-80-01554_0</td>\n",
       "      <td>960</td>\n",
       "    </tr>\n",
       "  </tbody>\n",
       "</table>\n",
       "</div>"
      ],
      "text/plain": [
       "                                          query  colbertx_id  \\\n",
       "0  Onde está localizada a Praça XV de Novembro?      3189242   \n",
       "1  Onde está localizada a Praça XV de Novembro?      7749553   \n",
       "2  Onde está localizada a Praça XV de Novembro?      8799939   \n",
       "3  Onde está localizada a Praça XV de Novembro?      1066879   \n",
       "4  Onde está localizada a Praça XV de Novembro?      3795224   \n",
       "\n",
       "                                                                                                                                                                                                                                                                                                                                                                                                                                                                                                                                                                                                                                                                                                                                                                                                                                                                                                                                                                                                                                                                                                                                                                                                                                                    passage  \\\n",
       "0                                                                                                                                                                                                                                                                                                                                                                                                                                                                                                                                                                                                                                                                                                                                                                                                                                                                      Endereço completo: Rua XV de Novembro, 759 2º Piso salas 40 A 46-Centro, Blumenau-SC, CEP :89010902. Importante: As informações dessa página tem como fonte o Portal Brasileiro de Dados Abertos, com isso não é possível garantir que todos os dados estejam 100% atualizados e corretos, desde a data da última atualização da base de dados do Portal Brasileiro de Dados Abertos   \n",
       "1                                                                                                                                                                                                                                                                                                                 Uma boa maneira de entrar em contato com os moradores e também com a cidade é percorrer a Rua XV de Novembro. Ela é a principal avenida de Blumenau e está repleta de comércios e lojas com produtos típicos da região (especialmente produtos com a temática da Oktoberfest). Ao caminhar, não deixe de reparar nas casas em estilo enxaimel. Apesar de quase nenhuma delas ser original (infelizmente é verdade), elas formam belos cenários para fotos. As mais chamativas da rua são o Castelinho — uma grande casa onde funciona a loja Havan — e o prédio da Prefeitura de Blumenau, onde uma locomotiva de época e um relógio de flores ajudam a compor a cena. Se quiser mesmo ver uma construção original, procure a pequena casa com anões na sacada. Ainda na Rua XV de Novembro, não deixe de visitar a Catedral São Paulo, a Fundação Cultural São Paulo e o Biergarten, um charmoso jardim de frente para o rio Itajaí-Açu.   \n",
       "2                                                                                                                                                                                                                                        Com a inauguração da “PARADA XV”, começaram a chegar outras famílias fixando-se na parte nova, ou seja, Vila 15 de Novembro, Artur e Da, Elisa Zenker, Carlos Stafen, Carlos Czizek, Skrupsen, Júlio Navega e outros. Da. Elisa Zenker era originária de recursos abastados, muito caridosa e social, procurava auxiliar a todos que batiam e sua porta, promovia grandes festas sociais, sua visita faziam a alegria da criançada com suas possantes motocicletas. Foi, com outras pessoas, a fundadora de um clube com o nome de “Eldorado” sendo este o clube social da época, hoje na saudade e lembrança daqueles que tiveram a oportunidade de conhecer e participar de suas reuniões. Foi Da. Elisa que, com seus recursos, montou um pequeno Parque Infantil onde hoje está localizada a Praça XV de Novembro e que servia para divertimento das crianças. Parada XV de Novembro teve uma pequena indústria de fogos, fundada por seu Dante e, mais tarde, a família Setti, fechando-se por volta de 1931.   \n",
       "3  Importância porque ali está o Monumento do Cooperativismo, simbolizando sua importância para a cidade, histórica e culturalmente. Esta praça fica na Avenida 15 de novembro, no centro da cidade, e conta ainda com um labirinto de arbustos, o labirinto verde. Localizado no coração da praça é uma das atrações que diverte e entretém as diferentes gerações que passam por lá. Para almoçar, experimente logo adiante o fogão a lenha do restaurante Unser Haus. E já pode dar uma visitada na cervejaria Edelbrau, visitando alguns dos melhores locais da cidade num só passeio. Mais adiante, pela 116, há também a comida caseira do restaurante Colina Verde, um verdadeiro banquete. E se der vontade de uma sobremesa, passe na Mukli Alfajores. Um uruguaio que se apaixonou pela cidade trouxe para Nova Petrópolis essas delícias de seu país. Além de poder levar para casa variados tipos de alfajor, aproveite e experimente o milk shake da casa. Se você está procurando o que fazer dentro da parte urbana de Nova Petrópolis, precisa passar pela praça. 10. Casa Amarela Que tal uma galeria de arte para você apreciar a importância histórica de Nova Petrópolis de acordo com o ponto de vista de quem ali viveu e ainda vive?   \n",
       "4                                                                                                                                                                                                                                                                                                                                                                                                                                                                                                                                                                                           Plaza Corporate - Hon Hon / Plaza Corporate Encontre a unidade mais próxima de você Plaza Corporate Esta nova unidade, inaugurada em 2015, está localizada no sexto andar do Plaza Corporate. Sua localização central foi escolhida a fim de facilitar o acesso de pacientes oriundos do Rio de Janeiro, Niterói e adjacências. A mesma qualidade e excelência em oftalmologia, aliada aos serviços do Plaza Shopping, com estacionamento no local. Endereço: PLAZA CORPORATE - 6º andar Rua XV de Novembro, 4. Centro – Niterói – RJ. Tel/Fax: 21 2715-6000 Horário de Atendimento: Segunda a Sexta de 08h às 18h Sábado de 08h às 12h Pré-agende sua consulta   \n",
       "\n",
       "   query_id                    passage_id  score  \n",
       "0       105   clueweb22-pt0000-67-03241_1   1000  \n",
       "1       105   clueweb22-pt0001-61-06106_2    990  \n",
       "2       105   clueweb22-pt0001-84-16421_6    980  \n",
       "3       105  clueweb22-pt0000-22-03330_10    970  \n",
       "4       105   clueweb22-pt0000-80-01554_0    960  "
      ]
     },
     "metadata": {},
     "output_type": "display_data"
    },
    {
     "name": "stdout",
     "output_type": "stream",
     "text": [
      "output_filename=tests/bm25_mt5_1M_docs_000_099_sampled_50_queries_run.txt\n"
     ]
    }
   ],
   "source": [
    "bm25_mt5_filename, _ = prepare_run_format(BM25_MT5_1M_MASSIVEWEB, retriever_name=\"BM25+mT5\")"
   ]
  },
  {
   "cell_type": "code",
   "execution_count": 43,
   "id": "XYiSveSgxKtd",
   "metadata": {
    "executionInfo": {
     "elapsed": 312,
     "status": "ok",
     "timestamp": 1706190260288,
     "user": {
      "displayName": "Eduardo Seiti de Oliveira",
      "userId": "03989307632206042931"
     },
     "user_tz": 180
    },
    "id": "XYiSveSgxKtd"
   },
   "outputs": [],
   "source": [
    "result = !{TREC_EVAL} -c -mndcg_cut.10 \\\n",
    "    {qrels_filename} {bm25_mt5_filename}\n",
    "\n",
    "retrievers_results.append({'retriever':'BM25+mT5 1M massiveweb', 'nDCG@10': result[0].split('\\t')[-1]})"
   ]
  },
  {
   "cell_type": "markdown",
   "id": "db253ca4",
   "metadata": {
    "id": "db253ca4"
   },
   "source": [
    "### Check the overall results"
   ]
  },
  {
   "cell_type": "code",
   "execution_count": 44,
   "id": "6d6b169c",
   "metadata": {
    "colab": {
     "base_uri": "https://localhost:8080/",
     "height": 489
    },
    "executionInfo": {
     "elapsed": 9,
     "status": "ok",
     "timestamp": 1706190261825,
     "user": {
      "displayName": "Eduardo Seiti de Oliveira",
      "userId": "03989307632206042931"
     },
     "user_tz": 180
    },
    "id": "6d6b169c",
    "outputId": "f3ff647c-3777-4738-c412-9163dac06fbc"
   },
   "outputs": [
    {
     "data": {
      "text/html": [
       "<div>\n",
       "<style scoped>\n",
       "    .dataframe tbody tr th:only-of-type {\n",
       "        vertical-align: middle;\n",
       "    }\n",
       "\n",
       "    .dataframe tbody tr th {\n",
       "        vertical-align: top;\n",
       "    }\n",
       "\n",
       "    .dataframe thead th {\n",
       "        text-align: right;\n",
       "    }\n",
       "</style>\n",
       "<table border=\"1\" class=\"dataframe\">\n",
       "  <thead>\n",
       "    <tr style=\"text-align: right;\">\n",
       "      <th></th>\n",
       "      <th>retriever</th>\n",
       "      <th>nDCG@10</th>\n",
       "    </tr>\n",
       "  </thead>\n",
       "  <tbody>\n",
       "    <tr>\n",
       "      <th>0</th>\n",
       "      <td>BM25</td>\n",
       "      <td>0.4504</td>\n",
       "    </tr>\n",
       "    <tr>\n",
       "      <th>1</th>\n",
       "      <td>BM25+E5</td>\n",
       "      <td>0.6414</td>\n",
       "    </tr>\n",
       "    <tr>\n",
       "      <th>2</th>\n",
       "      <td>BM25+mT5</td>\n",
       "      <td>0.7164</td>\n",
       "    </tr>\n",
       "    <tr>\n",
       "      <th>3</th>\n",
       "      <td>SPLADEv2_pt-BR</td>\n",
       "      <td>0.5840</td>\n",
       "    </tr>\n",
       "    <tr>\n",
       "      <th>4</th>\n",
       "      <td>ColBERT-X_mMARCO_pt-BR</td>\n",
       "      <td>0.6322</td>\n",
       "    </tr>\n",
       "    <tr>\n",
       "      <th>5</th>\n",
       "      <td>E5</td>\n",
       "      <td>0.5608</td>\n",
       "    </tr>\n",
       "    <tr>\n",
       "      <th>6</th>\n",
       "      <td>E5 base</td>\n",
       "      <td>0.4001</td>\n",
       "    </tr>\n",
       "    <tr>\n",
       "      <th>7</th>\n",
       "      <td>SPLADEv2_pt-BR + mT5</td>\n",
       "      <td>0.7021</td>\n",
       "    </tr>\n",
       "    <tr>\n",
       "      <th>8</th>\n",
       "      <td>E5 + ColBERT-X mMARCO_pt-BR RRF</td>\n",
       "      <td>0.6430</td>\n",
       "    </tr>\n",
       "    <tr>\n",
       "      <th>9</th>\n",
       "      <td>E5 + SPLADEv2_pt-BR RRF</td>\n",
       "      <td>0.6331</td>\n",
       "    </tr>\n",
       "    <tr>\n",
       "      <th>10</th>\n",
       "      <td>BM25 1M</td>\n",
       "      <td>0.3204</td>\n",
       "    </tr>\n",
       "    <tr>\n",
       "      <th>11</th>\n",
       "      <td>BM25 1M massiveweb</td>\n",
       "      <td>0.3178</td>\n",
       "    </tr>\n",
       "    <tr>\n",
       "      <th>12</th>\n",
       "      <td>ColBERT-X_mMARCO_pt-BR 1M massiveweb</td>\n",
       "      <td>0.4061</td>\n",
       "    </tr>\n",
       "    <tr>\n",
       "      <th>13</th>\n",
       "      <td>ADA v2 1M massiveweb</td>\n",
       "      <td>0.4645</td>\n",
       "    </tr>\n",
       "    <tr>\n",
       "      <th>14</th>\n",
       "      <td>BM25+mT5 1M massiveweb</td>\n",
       "      <td>0.2716</td>\n",
       "    </tr>\n",
       "  </tbody>\n",
       "</table>\n",
       "</div>"
      ],
      "text/plain": [
       "                               retriever nDCG@10\n",
       "0                                   BM25  0.4504\n",
       "1                                BM25+E5  0.6414\n",
       "2                               BM25+mT5  0.7164\n",
       "3                         SPLADEv2_pt-BR  0.5840\n",
       "4                 ColBERT-X_mMARCO_pt-BR  0.6322\n",
       "5                                     E5  0.5608\n",
       "6                                E5 base  0.4001\n",
       "7                   SPLADEv2_pt-BR + mT5  0.7021\n",
       "8        E5 + ColBERT-X mMARCO_pt-BR RRF  0.6430\n",
       "9                E5 + SPLADEv2_pt-BR RRF  0.6331\n",
       "10                               BM25 1M  0.3204\n",
       "11                    BM25 1M massiveweb  0.3178\n",
       "12  ColBERT-X_mMARCO_pt-BR 1M massiveweb  0.4061\n",
       "13                  ADA v2 1M massiveweb  0.4645\n",
       "14                BM25+mT5 1M massiveweb  0.2716"
      ]
     },
     "execution_count": 44,
     "metadata": {},
     "output_type": "execute_result"
    }
   ],
   "source": [
    "pd.DataFrame(retrievers_results)"
   ]
  },
  {
   "cell_type": "markdown",
   "id": "2304d606",
   "metadata": {
    "id": "2304d606"
   },
   "source": [
    "## 1M dataset"
   ]
  },
  {
   "cell_type": "markdown",
   "id": "65570622",
   "metadata": {
    "id": "65570622"
   },
   "source": [
    "### Compute BM25 1M massiveweb filtered nDCG@10"
   ]
  },
  {
   "cell_type": "code",
   "execution_count": 53,
   "id": "a6f6b6f9",
   "metadata": {
    "executionInfo": {
     "elapsed": 290,
     "status": "ok",
     "timestamp": 1706190635457,
     "user": {
      "displayName": "Eduardo Seiti de Oliveira",
      "userId": "03989307632206042931"
     },
     "user_tz": 180
    },
    "id": "a6f6b6f9"
   },
   "outputs": [],
   "source": [
    "result = !{TREC_EVAL} -c -mndcg_cut.10 \\\n",
    "    {qrels_1M_filename} {BM25_1M_MASSIVEWEB_RUN}\n",
    "\n",
    "retrievers_1M_results.append({'retriever':'BM25 1M massiveweb', 'nDCG@10': result[0].split('\\t')[-1]})"
   ]
  },
  {
   "cell_type": "markdown",
   "id": "cb5d2fdf",
   "metadata": {
    "id": "cb5d2fdf"
   },
   "source": [
    "### Compute ColBERT-X massiveweb filtered nDCG@10"
   ]
  },
  {
   "cell_type": "code",
   "execution_count": 54,
   "id": "42645e21",
   "metadata": {
    "executionInfo": {
     "elapsed": 16,
     "status": "ok",
     "timestamp": 1706190638482,
     "user": {
      "displayName": "Eduardo Seiti de Oliveira",
      "userId": "03989307632206042931"
     },
     "user_tz": 180
    },
    "id": "42645e21"
   },
   "outputs": [],
   "source": [
    "result = !{TREC_EVAL} -c -mndcg_cut.10 \\\n",
    "    {qrels_1M_filename} {COLBERTX_1M_MASSIVEWEB_RUN}\n",
    "\n",
    "retrievers_1M_results.append({'retriever':'ColBERT-X_mMARCO_pt-BR 1M massiveweb', 'nDCG@10': result[0].split('\\t')[-1]})"
   ]
  },
  {
   "cell_type": "markdown",
   "id": "yVADeRFlxtgI",
   "metadata": {
    "id": "yVADeRFlxtgI"
   },
   "source": [
    "### Compute ADA v2 massiveweb filtered nDCG@10"
   ]
  },
  {
   "cell_type": "code",
   "execution_count": 55,
   "id": "yV__mqsQxtge",
   "metadata": {
    "executionInfo": {
     "elapsed": 459,
     "status": "ok",
     "timestamp": 1706190640250,
     "user": {
      "displayName": "Eduardo Seiti de Oliveira",
      "userId": "03989307632206042931"
     },
     "user_tz": 180
    },
    "id": "yV__mqsQxtge"
   },
   "outputs": [],
   "source": [
    "result = !{TREC_EVAL} -c -mndcg_cut.10 \\\n",
    "    {qrels_1M_filename} {ADAV2_RUN}\n",
    "\n",
    "retrievers_1M_results.append({'retriever':'ADA v2 1M massiveweb', 'nDCG@10': result[0].split('\\t')[-1]})"
   ]
  },
  {
   "cell_type": "markdown",
   "id": "194db522",
   "metadata": {},
   "source": [
    "### Compute BM25 + mT5 1M massiveweb filtered nDCG@10"
   ]
  },
  {
   "cell_type": "code",
   "execution_count": 56,
   "id": "06f28231",
   "metadata": {},
   "outputs": [],
   "source": [
    "result = !{TREC_EVAL} -c -mndcg_cut.10 \\\n",
    "    {qrels_1M_filename} {bm25_mt5_filename}\n",
    "\n",
    "retrievers_1M_results.append({'retriever':'BM25+mT5 1M massiveweb', 'nDCG@10': result[0].split('\\t')[-1]})"
   ]
  },
  {
   "cell_type": "markdown",
   "id": "87dc05e9",
   "metadata": {
    "id": "87dc05e9"
   },
   "source": [
    "### Check the overall results"
   ]
  },
  {
   "cell_type": "code",
   "execution_count": 57,
   "id": "f8a4d81b",
   "metadata": {
    "colab": {
     "base_uri": "https://localhost:8080/",
     "height": 144
    },
    "executionInfo": {
     "elapsed": 274,
     "status": "ok",
     "timestamp": 1706190642171,
     "user": {
      "displayName": "Eduardo Seiti de Oliveira",
      "userId": "03989307632206042931"
     },
     "user_tz": 180
    },
    "id": "f8a4d81b",
    "outputId": "d4475292-83d3-48f2-fa5c-1924911e638d"
   },
   "outputs": [
    {
     "data": {
      "text/html": [
       "<div>\n",
       "<style scoped>\n",
       "    .dataframe tbody tr th:only-of-type {\n",
       "        vertical-align: middle;\n",
       "    }\n",
       "\n",
       "    .dataframe tbody tr th {\n",
       "        vertical-align: top;\n",
       "    }\n",
       "\n",
       "    .dataframe thead th {\n",
       "        text-align: right;\n",
       "    }\n",
       "</style>\n",
       "<table border=\"1\" class=\"dataframe\">\n",
       "  <thead>\n",
       "    <tr style=\"text-align: right;\">\n",
       "      <th></th>\n",
       "      <th>retriever</th>\n",
       "      <th>nDCG@10</th>\n",
       "    </tr>\n",
       "  </thead>\n",
       "  <tbody>\n",
       "    <tr>\n",
       "      <th>0</th>\n",
       "      <td>BM25 1M massiveweb</td>\n",
       "      <td>0.4248</td>\n",
       "    </tr>\n",
       "    <tr>\n",
       "      <th>1</th>\n",
       "      <td>ColBERT-X_mMARCO_pt-BR 1M massiveweb</td>\n",
       "      <td>0.5169</td>\n",
       "    </tr>\n",
       "    <tr>\n",
       "      <th>2</th>\n",
       "      <td>ADA v2 1M massiveweb</td>\n",
       "      <td>0.5983</td>\n",
       "    </tr>\n",
       "    <tr>\n",
       "      <th>3</th>\n",
       "      <td>BM25+mT5 1M massiveweb</td>\n",
       "      <td>0.3424</td>\n",
       "    </tr>\n",
       "  </tbody>\n",
       "</table>\n",
       "</div>"
      ],
      "text/plain": [
       "                              retriever nDCG@10\n",
       "0                    BM25 1M massiveweb  0.4248\n",
       "1  ColBERT-X_mMARCO_pt-BR 1M massiveweb  0.5169\n",
       "2                  ADA v2 1M massiveweb  0.5983\n",
       "3                BM25+mT5 1M massiveweb  0.3424"
      ]
     },
     "execution_count": 57,
     "metadata": {},
     "output_type": "execute_result"
    }
   ],
   "source": [
    "pd.DataFrame(retrievers_1M_results)"
   ]
  },
  {
   "cell_type": "code",
   "execution_count": null,
   "id": "eeb2e7fe",
   "metadata": {
    "id": "eeb2e7fe"
   },
   "outputs": [],
   "source": []
  }
 ],
 "metadata": {
  "colab": {
   "provenance": []
  },
  "kernelspec": {
   "display_name": "Python 3 (ipykernel)",
   "language": "python",
   "name": "python3"
  },
  "language_info": {
   "codemirror_mode": {
    "name": "ipython",
    "version": 3
   },
   "file_extension": ".py",
   "mimetype": "text/x-python",
   "name": "python",
   "nbconvert_exporter": "python",
   "pygments_lexer": "ipython3",
   "version": "3.10.12"
  }
 },
 "nbformat": 4,
 "nbformat_minor": 5
}
