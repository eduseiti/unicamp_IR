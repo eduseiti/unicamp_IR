{
 "cells": [
  {
   "cell_type": "code",
   "execution_count": 1,
   "id": "642a987d",
   "metadata": {
    "executionInfo": {
     "elapsed": 272,
     "status": "ok",
     "timestamp": 1706188944885,
     "user": {
      "displayName": "Eduardo Seiti de Oliveira",
      "userId": "03989307632206042931"
     },
     "user_tz": 180
    },
    "id": "642a987d"
   },
   "outputs": [],
   "source": [
    "import os\n",
    "import sys"
   ]
  },
  {
   "cell_type": "code",
   "execution_count": 2,
   "id": "e886f0fb",
   "metadata": {
    "executionInfo": {
     "elapsed": 4,
     "status": "ok",
     "timestamp": 1706188945248,
     "user": {
      "displayName": "Eduardo Seiti de Oliveira",
      "userId": "03989307632206042931"
     },
     "user_tz": 180
    },
    "id": "e886f0fb"
   },
   "outputs": [],
   "source": [
    "IN_COLAB='google.colab' in sys.modules"
   ]
  },
  {
   "cell_type": "code",
   "execution_count": 3,
   "id": "91c83783",
   "metadata": {
    "colab": {
     "base_uri": "https://localhost:8080/"
    },
    "executionInfo": {
     "elapsed": 6046,
     "status": "ok",
     "timestamp": 1706189390986,
     "user": {
      "displayName": "Eduardo Seiti de Oliveira",
      "userId": "03989307632206042931"
     },
     "user_tz": 180
    },
    "id": "91c83783",
    "outputId": "158fb160-7fb5-48ac-df6e-400435e2517d"
   },
   "outputs": [],
   "source": [
    "if IN_COLAB:\n",
    "    from google.colab import drive\n",
    "\n",
    "    WORKING_FOLDER=\"/content/drive/MyDrive/unicamp/ia368v_dd/trabalho_final_UNICAMP-IR/artigo/unicamp_IR\"\n",
    "\n",
    "    drive.mount('/content/drive', force_remount=True)\n",
    "\n",
    "    os.chdir(WORKING_FOLDER)\n",
    "\n",
    "    TREC_EVAL=\"/content/drive/MyDrive/unicamp/ia368v_dd/pyserini/tools/eval/trec_eval.9.0.4/trec_eval\"\n",
    "else:\n",
    "    WORKING_FOLDER=\"/media/eduseiti/bigdata01/unicamp/ia368v_dd/unicamp_IR/\"\n",
    "    TREC_EVAL=\"/media/eduseiti/bigdata01/unicamp/ia368v_dd/pyserini/tools/eval/trec_eval.9.0.4/trec_eval\""
   ]
  },
  {
   "cell_type": "code",
   "execution_count": 4,
   "id": "069d6976",
   "metadata": {
    "executionInfo": {
     "elapsed": 671,
     "status": "ok",
     "timestamp": 1706188867271,
     "user": {
      "displayName": "Eduardo Seiti de Oliveira",
      "userId": "03989307632206042931"
     },
     "user_tz": 180
    },
    "id": "069d6976"
   },
   "outputs": [],
   "source": [
    "import pandas as pd\n",
    "import numpy as np"
   ]
  },
  {
   "cell_type": "code",
   "execution_count": 5,
   "id": "7639ebb8",
   "metadata": {
    "executionInfo": {
     "elapsed": 298,
     "status": "ok",
     "timestamp": 1706188886428,
     "user": {
      "displayName": "Eduardo Seiti de Oliveira",
      "userId": "03989307632206042931"
     },
     "user_tz": 180
    },
    "id": "7639ebb8"
   },
   "outputs": [],
   "source": [
    "pd.set_option('display.max_colwidth', None)\n",
    "pd.set_option('display.max_rows', 500)"
   ]
  },
  {
   "cell_type": "code",
   "execution_count": 60,
   "id": "c34d51d7",
   "metadata": {
    "executionInfo": {
     "elapsed": 338,
     "status": "ok",
     "timestamp": 1706188888102,
     "user": {
      "displayName": "Eduardo Seiti de Oliveira",
      "userId": "03989307632206042931"
     },
     "user_tz": 180
    },
    "id": "c34d51d7"
   },
   "outputs": [],
   "source": [
    "ALL_EVALUATIONS=\"tests/evaluation_17_retrievers_000_009_sampled_50_queries_gpt-4-1106-preview_20240128.tsv\"\n",
    "\n",
    "BM25_RUN=\"tests/200-queries-passagens-by-BM25-pt_v2_with_query_id_run.txt\"\n",
    "BM25_E5_RUN=\"tests/bm25_e5_docs_000_999_50_sampled_queries_run.txt\"\n",
    "BM25_MT5_RUN=\"tests/200-queries-passagens-by-BM25-mT5_v4_with_query_id_run.txt\"\n",
    "SPLADE_RUN=\"tests/splade_pt_result_with_clueweb_id_run.txt\"\n",
    "COLBERTX_RUN=\"tests/colbertx_all_znormalized_validation_scores_000_199_run.txt\"\n",
    "\n",
    "E5_RUN=\"tests/e5_docs_000_999_50_sampled_queries_run.txt\"\n",
    "E5_BASE_RUN=\"tests/e5_base_docs_000_999_50_sampled_queries_run.txt\"\n",
    "SPLADE_MT5_RUN=\"tests/splade_mt5_docs_000_099_50_sampled_queries_run.txt\"\n",
    "\n",
    "BM25_1M_RUN=\"tests/bm25_1M_docs_000_999_sampled_50_queries_run.txt\"\n",
    "BM25_1M_MASSIVEWEB_RUN=\"tests/bm25_massiveweb_1M_docs_000_999_sampled_50_queries_run.txt\"\n",
    "\n",
    "COLBERTX_1M_MASSIVEWEB_RUN=\"tests/colbertx_massiveweb_1M_docs_000_999_sampled_50_queries_run.txt\"\n",
    "\n",
    "E5_COLBERTX_RRF_RUN=\"tests/colbertx_e5_RRF_000_999_sampled_50_queries_run.txt\"\n",
    "E5_SPLADE_RRF_RUN=\"tests/splade_e5_fixed_RRF_000_999_sampled_50_queries_run.txt\"\n",
    "\n",
    "ADAV2_RUN=\"tests/adav2_1M_docs_000_999_sampled_50_queries_run.txt\"\n",
    "\n",
    "BM25_MT5_1M_MASSIVEWEB_RUN=\"tests/bm25_mt5_1M_docs_fixed_000_099_sampled_50_queries_run.txt\""
   ]
  },
  {
   "cell_type": "code",
   "execution_count": 56,
   "id": "2110df2c",
   "metadata": {},
   "outputs": [],
   "source": [
    "COLBERTX_1M_MASSIVEWEB=\"tests/colbertx_massiveweb_1M_docs_000_999_sampled_50_queries.tsv\"\n",
    "\n",
    "BM25_E5_1M_MASSIVEWEB=\"tests/bm25_e5_1M_docs_fixed_000_999_sampled_50_queries.tsv\""
   ]
  },
  {
   "cell_type": "code",
   "execution_count": 8,
   "id": "56c4ef85",
   "metadata": {
    "executionInfo": {
     "elapsed": 569,
     "status": "ok",
     "timestamp": 1706190431409,
     "user": {
      "displayName": "Eduardo Seiti de Oliveira",
      "userId": "03989307632206042931"
     },
     "user_tz": 180
    },
    "id": "56c4ef85"
   },
   "outputs": [],
   "source": [
    "DATASET_1M_FIELDS=['bm25_1M_massiveweb', 'colbertx_1M_massiveweb', 'adav2', 'bm25_mT5_1M_massiveweb_fix', 'bm25_e5_1M_massiveweb']"
   ]
  },
  {
   "cell_type": "code",
   "execution_count": 9,
   "id": "7ce55d09",
   "metadata": {
    "executionInfo": {
     "elapsed": 3,
     "status": "ok",
     "timestamp": 1706188890714,
     "user": {
      "displayName": "Eduardo Seiti de Oliveira",
      "userId": "03989307632206042931"
     },
     "user_tz": 180
    },
    "id": "7ce55d09"
   },
   "outputs": [],
   "source": [
    "def prepare_run_format(results_filename, add_index=True, score_field='score', invert_score=False, retriever_name=\"retriever\"):\n",
    "\n",
    "    results_df = pd.read_csv(results_filename, sep='\\t')\n",
    "\n",
    "    display(results_df.head())\n",
    "\n",
    "    results_grouped_df = results_df.groupby(\"query_id\")['passage_id'].count()\n",
    "\n",
    "    how_many_passages_per_question = results_grouped_df.iloc[0]\n",
    "\n",
    "    if invert_score:\n",
    "        print(\"Inverting score values in '{}' field...\".format(score_field))\n",
    "\n",
    "        results_df['score_inv'] = 1 - results_df[score_field]\n",
    "        score_field = 'score_inv'\n",
    "\n",
    "    run_df = results_df.sort_values([\"query_id\", score_field], ascending=[True, False])\n",
    "\n",
    "    run_df['Q0'] = \"Q0\"\n",
    "    run_df['comment'] = retriever_name\n",
    "\n",
    "    if add_index:\n",
    "        run_df['index'] = np.tile(list(range(1, how_many_passages_per_question + 1)), results_grouped_df.shape[0])\n",
    "\n",
    "    output_filename = \"{}_run.txt\".format(os.path.splitext(results_filename)[0])\n",
    "\n",
    "    print(\"output_filename={}\".format(output_filename))\n",
    "\n",
    "    run_df[['query_id', 'Q0', \"passage_id\", \"index\", score_field, \"comment\"]].to_csv(output_filename, header=None, index=False, sep=\" \")\n",
    "\n",
    "    return output_filename, run_df"
   ]
  },
  {
   "cell_type": "code",
   "execution_count": 61,
   "id": "0a988b51",
   "metadata": {
    "executionInfo": {
     "elapsed": 349,
     "status": "ok",
     "timestamp": 1706190125824,
     "user": {
      "displayName": "Eduardo Seiti de Oliveira",
      "userId": "03989307632206042931"
     },
     "user_tz": 180
    },
    "id": "0a988b51"
   },
   "outputs": [],
   "source": [
    "retrievers_results = []"
   ]
  },
  {
   "cell_type": "code",
   "execution_count": 11,
   "id": "elrLIjcU4qgc",
   "metadata": {
    "executionInfo": {
     "elapsed": 300,
     "status": "ok",
     "timestamp": 1706190620647,
     "user": {
      "displayName": "Eduardo Seiti de Oliveira",
      "userId": "03989307632206042931"
     },
     "user_tz": 180
    },
    "id": "elrLIjcU4qgc"
   },
   "outputs": [],
   "source": [
    "retrievers_1M_results = []"
   ]
  },
  {
   "cell_type": "markdown",
   "id": "6f7bc6a6",
   "metadata": {
    "id": "6f7bc6a6"
   },
   "source": [
    "### Format GPT-4 evaluations to qrels format"
   ]
  },
  {
   "cell_type": "code",
   "execution_count": 12,
   "id": "5129453f",
   "metadata": {
    "executionInfo": {
     "elapsed": 265,
     "status": "ok",
     "timestamp": 1706188898120,
     "user": {
      "displayName": "Eduardo Seiti de Oliveira",
      "userId": "03989307632206042931"
     },
     "user_tz": 180
    },
    "id": "5129453f"
   },
   "outputs": [],
   "source": [
    "qrels_filename = os.path.join(os.path.dirname(ALL_EVALUATIONS), \"{}_qrel.txt\".format(os.path.splitext(os.path.basename(ALL_EVALUATIONS))[0]))\n",
    "qrels_1M_filename = os.path.join(os.path.dirname(ALL_EVALUATIONS), \"{}_1M_qrel.txt\".format(os.path.splitext(os.path.basename(ALL_EVALUATIONS))[0]))"
   ]
  },
  {
   "cell_type": "code",
   "execution_count": 13,
   "id": "b4b5e5ae",
   "metadata": {
    "colab": {
     "base_uri": "https://localhost:8080/"
    },
    "executionInfo": {
     "elapsed": 891,
     "status": "ok",
     "timestamp": 1706190591650,
     "user": {
      "displayName": "Eduardo Seiti de Oliveira",
      "userId": "03989307632206042931"
     },
     "user_tz": 180
    },
    "id": "b4b5e5ae",
    "outputId": "e8e8b960-77a0-4be5-dbfb-b9029b2a048c"
   },
   "outputs": [
    {
     "name": "stdout",
     "output_type": "stream",
     "text": [
      "\n",
      "query_id=1\n",
      "(array([0, 1, 2, 3]), array([21, 47, 18, 10]))\n",
      "\n",
      "query_id=2\n",
      "(array([0, 1, 2, 3]), array([111,   2,   1,   2]))\n",
      "\n",
      "query_id=9\n",
      "(array([0, 1, 2, 3]), array([72, 10, 13,  5]))\n",
      "\n",
      "query_id=11\n",
      "(array([0, 1, 2, 3]), array([56, 18,  8,  2]))\n",
      "\n",
      "query_id=13\n",
      "(array([0, 1, 2, 3]), array([42, 16, 23,  4]))\n",
      "\n",
      "query_id=15\n",
      "(array([0, 1, 2, 3]), array([35, 22,  4, 17]))\n",
      "\n",
      "query_id=17\n",
      "(array([0, 1, 2, 3]), array([30, 10,  2, 39]))\n",
      "\n",
      "query_id=20\n",
      "(array([0, 1, 2, 3]), array([18, 67, 27,  7]))\n",
      "\n",
      "query_id=21\n",
      "(array([0, 1, 2, 3]), array([56, 24, 10, 21]))\n",
      "\n",
      "query_id=22\n",
      "(array([0, 1, 2, 3]), array([60, 16,  2,  7]))\n",
      "\n",
      "query_id=24\n",
      "(array([0, 1, 2, 3]), array([67, 33, 11,  2]))\n",
      "\n",
      "query_id=26\n",
      "(array([0, 1, 2, 3]), array([14, 19, 16, 33]))\n",
      "\n",
      "query_id=28\n",
      "(array([0, 1, 2, 3]), array([61, 22, 13,  4]))\n",
      "\n",
      "query_id=47\n",
      "(array([0, 1, 2, 3]), array([57, 33, 33,  1]))\n",
      "\n",
      "query_id=49\n",
      "(array([0, 1, 2, 3]), array([32, 30, 24,  2]))\n",
      "\n",
      "query_id=51\n",
      "(array([0, 1, 2, 3]), array([41, 23, 13,  1]))\n",
      "\n",
      "query_id=54\n",
      "(array([0, 1, 2, 3]), array([ 1, 18, 26, 44]))\n",
      "\n",
      "query_id=60\n",
      "(array([0, 1, 3]), array([17,  7, 51]))\n",
      "\n",
      "query_id=62\n",
      "(array([0, 1, 2, 3]), array([52, 43, 22,  1]))\n",
      "\n",
      "query_id=64\n",
      "(array([0, 1, 2, 3]), array([42, 13, 12, 16]))\n",
      "\n",
      "query_id=68\n",
      "(array([0, 1, 2, 3]), array([26, 40, 50,  4]))\n",
      "\n",
      "query_id=84\n",
      "(array([0, 1, 2, 3]), array([86,  6,  2,  2]))\n",
      "\n",
      "query_id=95\n",
      "(array([0, 1, 2]), array([90,  9,  2]))\n",
      "\n",
      "query_id=98\n",
      "(array([0, 1, 2, 3]), array([59, 10, 11, 12]))\n",
      "\n",
      "query_id=105\n",
      "(array([0, 1, 2, 3]), array([51, 17,  2, 18]))\n",
      "\n",
      "query_id=113\n",
      "(array([0, 1, 2, 3]), array([16,  7, 22, 31]))\n",
      "\n",
      "query_id=115\n",
      "(array([0, 1, 2, 3]), array([ 6, 18, 42, 21]))\n",
      "\n",
      "query_id=117\n",
      "(array([0, 1, 2, 3]), array([44, 35,  8, 13]))\n",
      "\n",
      "query_id=126\n",
      "(array([0, 1, 2, 3]), array([97,  3,  1, 22]))\n",
      "\n",
      "query_id=127\n",
      "(array([0, 1, 2, 3]), array([23, 17, 10,  7]))\n",
      "\n",
      "query_id=128\n",
      "(array([0, 1, 3]), array([54,  3, 21]))\n",
      "\n",
      "query_id=136\n",
      "(array([0, 1, 2, 3]), array([57, 15, 17,  6]))\n",
      "\n",
      "query_id=147\n",
      "(array([0, 1, 2, 3]), array([88,  5,  1,  5]))\n",
      "\n",
      "query_id=152\n",
      "(array([0, 1, 2, 3]), array([70, 25,  2,  5]))\n",
      "\n",
      "query_id=153\n",
      "(array([0, 1, 2, 3]), array([32, 23, 11, 13]))\n",
      "\n",
      "query_id=154\n",
      "(array([0, 1, 2, 3]), array([ 7, 10, 14, 32]))\n",
      "\n",
      "query_id=160\n",
      "(array([0, 1, 2, 3]), array([52,  7, 11, 11]))\n",
      "\n",
      "query_id=161\n",
      "(array([0, 1, 2, 3]), array([35,  8, 13,  7]))\n",
      "\n",
      "query_id=163\n",
      "(array([0, 1, 2, 3]), array([41, 17, 13,  1]))\n",
      "\n",
      "query_id=167\n",
      "(array([0, 1, 2, 3]), array([95, 17,  6,  1]))\n",
      "\n",
      "query_id=170\n",
      "(array([0, 1, 2, 3]), array([31, 26, 39,  2]))\n",
      "\n",
      "query_id=172\n",
      "(array([0, 1, 2, 3]), array([20, 11, 21, 22]))\n",
      "\n",
      "query_id=180\n",
      "(array([0, 1, 2, 3]), array([43,  8, 13,  7]))\n",
      "\n",
      "query_id=181\n",
      "(array([0, 1, 2, 3]), array([76,  8,  5, 13]))\n",
      "\n",
      "query_id=182\n",
      "(array([0, 1, 2, 3]), array([65, 10,  4,  5]))\n",
      "\n",
      "query_id=189\n",
      "(array([0, 1]), array([79, 21]))\n",
      "\n",
      "query_id=193\n",
      "(array([0, 1, 2, 3]), array([25, 18, 25, 24]))\n",
      "\n",
      "query_id=195\n",
      "(array([0, 1, 2, 3]), array([12, 11, 23, 31]))\n",
      "\n",
      "query_id=196\n",
      "(array([0, 1, 2, 3]), array([24, 23, 44,  6]))\n",
      "\n",
      "query_id=199\n",
      "(array([0, 1, 2, 3]), array([22, 16, 19, 30]))\n",
      "\n",
      "\n",
      "\n",
      "tests/evaluation_17_retrievers_000_009_sampled_50_queries_gpt-4-1106-preview_20240128_qrel.txt\n",
      "tests/evaluation_17_retrievers_000_009_sampled_50_queries_gpt-4-1106-preview_20240128_1M_qrel.txt\n"
     ]
    }
   ],
   "source": [
    "if os.path.exists(qrels_filename) == False:\n",
    "    eval_df = pd.read_csv(ALL_EVALUATIONS, sep='\\t')\n",
    "\n",
    "    eval_df\n",
    "\n",
    "    eval_df.drop_duplicates(\"query_id\")[['query_id', 'query']]\n",
    "\n",
    "    #### Check scores distribution on the current qrels\n",
    "\n",
    "    np.unique(eval_df['score'].to_numpy(), return_counts=True)\n",
    "\n",
    "    for group_name, group_df in eval_df.groupby('query_id'):\n",
    "        print(\"\\nquery_id={}\".format(group_name))\n",
    "\n",
    "        print(np.unique(group_df['score'].to_numpy(), return_counts=True))\n",
    "\n",
    "    eval_df.groupby('query_id').count()\n",
    "\n",
    "    eval_df.groupby('query_id').count()['query'].describe()\n",
    "\n",
    "    #### Prepare the qrels format for trec_eval tools\n",
    "\n",
    "    eval_df['0'] = '0'\n",
    "\n",
    "    print(\"\\n\\n\")\n",
    "    print(qrels_filename)\n",
    "    print(qrels_1M_filename)\n",
    "\n",
    "    eval_df.sort_values('query_id')[['query_id', '0', 'passage_id', 'score']].to_csv(qrels_filename, header=None, index=False, sep=\" \")\n",
    "\n",
    "\n",
    "    #### Select 1M dataset evaluations\n",
    "\n",
    "    eval_df[eval_df[DATASET_1M_FIELDS].sum(axis=1) > 0].sort_values('query_id')[['query_id', '0', 'passage_id', 'score']].to_csv(qrels_1M_filename, header=None, index=False, sep=\" \")\n",
    "\n",
    "else:\n",
    "    print(\"QRELS files ({}) already created...\".format(qrels_filename))"
   ]
  },
  {
   "cell_type": "markdown",
   "id": "21c43950",
   "metadata": {
    "id": "21c43950"
   },
   "source": [
    "## 10M dataset"
   ]
  },
  {
   "cell_type": "markdown",
   "id": "46a5067d",
   "metadata": {
    "id": "46a5067d"
   },
   "source": [
    "### Compute BM25 nDCG@10"
   ]
  },
  {
   "cell_type": "code",
   "execution_count": 62,
   "id": "47f680eb",
   "metadata": {
    "executionInfo": {
     "elapsed": 502,
     "status": "ok",
     "timestamp": 1706190235611,
     "user": {
      "displayName": "Eduardo Seiti de Oliveira",
      "userId": "03989307632206042931"
     },
     "user_tz": 180
    },
    "id": "47f680eb"
   },
   "outputs": [],
   "source": [
    "result = !{TREC_EVAL} -c -mndcg_cut.10 \\\n",
    "    {qrels_filename} tests/200-queries-passagens-by-BM25-pt_v2_with_query_id_run.txt"
   ]
  },
  {
   "cell_type": "code",
   "execution_count": 63,
   "id": "074fd2a5",
   "metadata": {
    "executionInfo": {
     "elapsed": 3,
     "status": "ok",
     "timestamp": 1706190235612,
     "user": {
      "displayName": "Eduardo Seiti de Oliveira",
      "userId": "03989307632206042931"
     },
     "user_tz": 180
    },
    "id": "074fd2a5"
   },
   "outputs": [],
   "source": [
    "retrievers_results.append({'retriever':'BM25', 'nDCG@10': result[0].split('\\t')[-1]})"
   ]
  },
  {
   "cell_type": "code",
   "execution_count": 64,
   "id": "4e4ea831",
   "metadata": {
    "colab": {
     "base_uri": "https://localhost:8080/"
    },
    "executionInfo": {
     "elapsed": 2,
     "status": "ok",
     "timestamp": 1706190236055,
     "user": {
      "displayName": "Eduardo Seiti de Oliveira",
      "userId": "03989307632206042931"
     },
     "user_tz": 180
    },
    "id": "4e4ea831",
    "outputId": "e9c21f80-5c88-41e3-ede4-2de72b03fb09"
   },
   "outputs": [
    {
     "data": {
      "text/plain": [
       "[{'retriever': 'BM25', 'nDCG@10': '0.4487'}]"
      ]
     },
     "execution_count": 64,
     "metadata": {},
     "output_type": "execute_result"
    }
   ],
   "source": [
    "retrievers_results"
   ]
  },
  {
   "cell_type": "markdown",
   "id": "8369421c",
   "metadata": {
    "id": "8369421c"
   },
   "source": [
    "### Compute BM25 + E5 nDCG@10"
   ]
  },
  {
   "cell_type": "code",
   "execution_count": 65,
   "id": "af1fc331",
   "metadata": {
    "executionInfo": {
     "elapsed": 614,
     "status": "ok",
     "timestamp": 1706190238479,
     "user": {
      "displayName": "Eduardo Seiti de Oliveira",
      "userId": "03989307632206042931"
     },
     "user_tz": 180
    },
    "id": "af1fc331"
   },
   "outputs": [],
   "source": [
    "result = !{TREC_EVAL} -c -mndcg_cut.10 \\\n",
    "    {qrels_filename} {BM25_E5_RUN}"
   ]
  },
  {
   "cell_type": "code",
   "execution_count": 66,
   "id": "06d9ec4e",
   "metadata": {
    "executionInfo": {
     "elapsed": 6,
     "status": "ok",
     "timestamp": 1706190238481,
     "user": {
      "displayName": "Eduardo Seiti de Oliveira",
      "userId": "03989307632206042931"
     },
     "user_tz": 180
    },
    "id": "06d9ec4e"
   },
   "outputs": [],
   "source": [
    "retrievers_results.append({'retriever':'BM25+E5', 'nDCG@10': result[0].split('\\t')[-1]})"
   ]
  },
  {
   "cell_type": "markdown",
   "id": "3b14bc7e",
   "metadata": {
    "id": "3b14bc7e"
   },
   "source": [
    "### Compute BM25 + mT5 nDCG@10"
   ]
  },
  {
   "cell_type": "code",
   "execution_count": 67,
   "id": "0e805605",
   "metadata": {
    "executionInfo": {
     "elapsed": 471,
     "status": "ok",
     "timestamp": 1706190238946,
     "user": {
      "displayName": "Eduardo Seiti de Oliveira",
      "userId": "03989307632206042931"
     },
     "user_tz": 180
    },
    "id": "0e805605"
   },
   "outputs": [],
   "source": [
    "result = !{TREC_EVAL} -c -mndcg_cut.10 \\\n",
    "    {qrels_filename} {BM25_MT5_RUN}"
   ]
  },
  {
   "cell_type": "code",
   "execution_count": 68,
   "id": "ee3b9137",
   "metadata": {
    "executionInfo": {
     "elapsed": 555,
     "status": "ok",
     "timestamp": 1706190239498,
     "user": {
      "displayName": "Eduardo Seiti de Oliveira",
      "userId": "03989307632206042931"
     },
     "user_tz": 180
    },
    "id": "ee3b9137"
   },
   "outputs": [],
   "source": [
    "retrievers_results.append({'retriever':'BM25+mT5', 'nDCG@10': result[0].split('\\t')[-1]})"
   ]
  },
  {
   "cell_type": "markdown",
   "id": "ef82c6bc",
   "metadata": {
    "id": "ef82c6bc"
   },
   "source": [
    "### Compute SPLADE nDCG@10"
   ]
  },
  {
   "cell_type": "code",
   "execution_count": 69,
   "id": "5c0159a9",
   "metadata": {
    "executionInfo": {
     "elapsed": 603,
     "status": "ok",
     "timestamp": 1706190240095,
     "user": {
      "displayName": "Eduardo Seiti de Oliveira",
      "userId": "03989307632206042931"
     },
     "user_tz": 180
    },
    "id": "5c0159a9"
   },
   "outputs": [],
   "source": [
    "result = !{TREC_EVAL} -c -mndcg_cut.10 \\\n",
    "    {qrels_filename} {SPLADE_RUN}"
   ]
  },
  {
   "cell_type": "code",
   "execution_count": 70,
   "id": "fe5ab9e6",
   "metadata": {
    "executionInfo": {
     "elapsed": 7,
     "status": "ok",
     "timestamp": 1706190240096,
     "user": {
      "displayName": "Eduardo Seiti de Oliveira",
      "userId": "03989307632206042931"
     },
     "user_tz": 180
    },
    "id": "fe5ab9e6"
   },
   "outputs": [],
   "source": [
    "retrievers_results.append({'retriever':'SPLADEv2_pt-BR', 'nDCG@10': result[0].split('\\t')[-1]})"
   ]
  },
  {
   "cell_type": "markdown",
   "id": "bc9a4a56",
   "metadata": {
    "id": "bc9a4a56"
   },
   "source": [
    "### Compute ColBERTX nDCG@10"
   ]
  },
  {
   "cell_type": "code",
   "execution_count": 71,
   "id": "2ca2413d",
   "metadata": {
    "executionInfo": {
     "elapsed": 445,
     "status": "ok",
     "timestamp": 1706190240535,
     "user": {
      "displayName": "Eduardo Seiti de Oliveira",
      "userId": "03989307632206042931"
     },
     "user_tz": 180
    },
    "id": "2ca2413d"
   },
   "outputs": [],
   "source": [
    "result = !{TREC_EVAL} -c -mndcg_cut.10 \\\n",
    "    {qrels_filename} {COLBERTX_RUN}"
   ]
  },
  {
   "cell_type": "code",
   "execution_count": 72,
   "id": "ac146b19",
   "metadata": {
    "executionInfo": {
     "elapsed": 3,
     "status": "ok",
     "timestamp": 1706190240535,
     "user": {
      "displayName": "Eduardo Seiti de Oliveira",
      "userId": "03989307632206042931"
     },
     "user_tz": 180
    },
    "id": "ac146b19"
   },
   "outputs": [],
   "source": [
    "retrievers_results.append({'retriever':'ColBERT-X_mMARCO_pt-BR', 'nDCG@10': result[0].split('\\t')[-1]})"
   ]
  },
  {
   "cell_type": "markdown",
   "id": "8eebc635",
   "metadata": {
    "id": "8eebc635"
   },
   "source": [
    "### Compute E5 nDCG@10"
   ]
  },
  {
   "cell_type": "code",
   "execution_count": 73,
   "id": "e582ba5c",
   "metadata": {
    "executionInfo": {
     "elapsed": 1215,
     "status": "ok",
     "timestamp": 1706190242202,
     "user": {
      "displayName": "Eduardo Seiti de Oliveira",
      "userId": "03989307632206042931"
     },
     "user_tz": 180
    },
    "id": "e582ba5c"
   },
   "outputs": [],
   "source": [
    "result = !{TREC_EVAL} -c -mndcg_cut.10 \\\n",
    "    {qrels_filename} {E5_RUN}"
   ]
  },
  {
   "cell_type": "code",
   "execution_count": 74,
   "id": "7bb472b0",
   "metadata": {
    "executionInfo": {
     "elapsed": 3,
     "status": "ok",
     "timestamp": 1706190242202,
     "user": {
      "displayName": "Eduardo Seiti de Oliveira",
      "userId": "03989307632206042931"
     },
     "user_tz": 180
    },
    "id": "7bb472b0"
   },
   "outputs": [],
   "source": [
    "retrievers_results.append({'retriever':'E5', 'nDCG@10': result[0].split('\\t')[-1]})"
   ]
  },
  {
   "cell_type": "markdown",
   "id": "fdb8eed8",
   "metadata": {
    "id": "fdb8eed8"
   },
   "source": [
    "### Compute E5 base nDCG@10"
   ]
  },
  {
   "cell_type": "code",
   "execution_count": 75,
   "id": "c6e41c4f",
   "metadata": {
    "executionInfo": {
     "elapsed": 437,
     "status": "ok",
     "timestamp": 1706190242637,
     "user": {
      "displayName": "Eduardo Seiti de Oliveira",
      "userId": "03989307632206042931"
     },
     "user_tz": 180
    },
    "id": "c6e41c4f"
   },
   "outputs": [],
   "source": [
    "result = !{TREC_EVAL} -c -mndcg_cut.10 \\\n",
    "    {qrels_filename} {E5_BASE_RUN}"
   ]
  },
  {
   "cell_type": "code",
   "execution_count": 76,
   "id": "6ac443e0",
   "metadata": {
    "executionInfo": {
     "elapsed": 2,
     "status": "ok",
     "timestamp": 1706190242637,
     "user": {
      "displayName": "Eduardo Seiti de Oliveira",
      "userId": "03989307632206042931"
     },
     "user_tz": 180
    },
    "id": "6ac443e0"
   },
   "outputs": [],
   "source": [
    "retrievers_results.append({'retriever':'E5 base', 'nDCG@10': result[0].split('\\t')[-1]})"
   ]
  },
  {
   "cell_type": "markdown",
   "id": "f908456a",
   "metadata": {
    "id": "f908456a"
   },
   "source": [
    "### Compute SPLADE + mT5 nDCG@10"
   ]
  },
  {
   "cell_type": "code",
   "execution_count": 77,
   "id": "0d13f8e3",
   "metadata": {
    "executionInfo": {
     "elapsed": 793,
     "status": "ok",
     "timestamp": 1706190243428,
     "user": {
      "displayName": "Eduardo Seiti de Oliveira",
      "userId": "03989307632206042931"
     },
     "user_tz": 180
    },
    "id": "0d13f8e3"
   },
   "outputs": [],
   "source": [
    "result = !{TREC_EVAL} -c -mndcg_cut.10 \\\n",
    "    {qrels_filename} {SPLADE_MT5_RUN}"
   ]
  },
  {
   "cell_type": "code",
   "execution_count": 78,
   "id": "c04b4385",
   "metadata": {
    "executionInfo": {
     "elapsed": 6,
     "status": "ok",
     "timestamp": 1706190243429,
     "user": {
      "displayName": "Eduardo Seiti de Oliveira",
      "userId": "03989307632206042931"
     },
     "user_tz": 180
    },
    "id": "c04b4385"
   },
   "outputs": [],
   "source": [
    "retrievers_results.append({'retriever':'SPLADEv2_pt-BR + mT5', 'nDCG@10': result[0].split('\\t')[-1]})"
   ]
  },
  {
   "cell_type": "markdown",
   "id": "5fb7edda",
   "metadata": {
    "id": "5fb7edda"
   },
   "source": [
    "### Compute E5 + ColBERT-X RRF nDCG@10"
   ]
  },
  {
   "cell_type": "code",
   "execution_count": 79,
   "id": "162e0739",
   "metadata": {
    "executionInfo": {
     "elapsed": 905,
     "status": "ok",
     "timestamp": 1706190244329,
     "user": {
      "displayName": "Eduardo Seiti de Oliveira",
      "userId": "03989307632206042931"
     },
     "user_tz": 180
    },
    "id": "162e0739"
   },
   "outputs": [],
   "source": [
    "result = !{TREC_EVAL} -c -mndcg_cut.10 \\\n",
    "    {qrels_filename} {E5_COLBERTX_RRF_RUN}"
   ]
  },
  {
   "cell_type": "code",
   "execution_count": 80,
   "id": "f3cb3689",
   "metadata": {
    "executionInfo": {
     "elapsed": 4,
     "status": "ok",
     "timestamp": 1706190244329,
     "user": {
      "displayName": "Eduardo Seiti de Oliveira",
      "userId": "03989307632206042931"
     },
     "user_tz": 180
    },
    "id": "f3cb3689"
   },
   "outputs": [],
   "source": [
    "retrievers_results.append({'retriever':'E5 + ColBERT-X mMARCO_pt-BR RRF', 'nDCG@10': result[0].split('\\t')[-1]})"
   ]
  },
  {
   "cell_type": "markdown",
   "id": "75a15037",
   "metadata": {
    "id": "75a15037"
   },
   "source": [
    "### Compute E5 + SPLADE RRF nDCG@10"
   ]
  },
  {
   "cell_type": "code",
   "execution_count": 81,
   "id": "d35edbc9",
   "metadata": {
    "executionInfo": {
     "elapsed": 1056,
     "status": "ok",
     "timestamp": 1706190245382,
     "user": {
      "displayName": "Eduardo Seiti de Oliveira",
      "userId": "03989307632206042931"
     },
     "user_tz": 180
    },
    "id": "d35edbc9"
   },
   "outputs": [],
   "source": [
    "result = !{TREC_EVAL} -c -mndcg_cut.10 \\\n",
    "    {qrels_filename} {E5_SPLADE_RRF_RUN}"
   ]
  },
  {
   "cell_type": "code",
   "execution_count": 82,
   "id": "2a645d56",
   "metadata": {
    "executionInfo": {
     "elapsed": 6,
     "status": "ok",
     "timestamp": 1706190245382,
     "user": {
      "displayName": "Eduardo Seiti de Oliveira",
      "userId": "03989307632206042931"
     },
     "user_tz": 180
    },
    "id": "2a645d56"
   },
   "outputs": [],
   "source": [
    "retrievers_results.append({'retriever':'E5 + SPLADEv2_pt-BR RRF', 'nDCG@10': result[0].split('\\t')[-1]})"
   ]
  },
  {
   "cell_type": "markdown",
   "id": "ff405951",
   "metadata": {
    "id": "ff405951"
   },
   "source": [
    "### Compute BM25 1M nDCG@10"
   ]
  },
  {
   "cell_type": "code",
   "execution_count": 83,
   "id": "84127c9c",
   "metadata": {
    "executionInfo": {
     "elapsed": 811,
     "status": "ok",
     "timestamp": 1706190246188,
     "user": {
      "displayName": "Eduardo Seiti de Oliveira",
      "userId": "03989307632206042931"
     },
     "user_tz": 180
    },
    "id": "84127c9c"
   },
   "outputs": [],
   "source": [
    "result = !{TREC_EVAL} -c -mndcg_cut.10 \\\n",
    "    {qrels_filename} {BM25_1M_RUN}\n",
    "\n",
    "retrievers_results.append({'retriever':'BM25 1M', 'nDCG@10': result[0].split('\\t')[-1]})"
   ]
  },
  {
   "cell_type": "markdown",
   "id": "d788f7ee",
   "metadata": {
    "id": "d788f7ee"
   },
   "source": [
    "### Compute BM25 1M massiveweb filtered nDCG@10"
   ]
  },
  {
   "cell_type": "code",
   "execution_count": 84,
   "id": "0d5cf3ee",
   "metadata": {
    "executionInfo": {
     "elapsed": 278,
     "status": "ok",
     "timestamp": 1706190246463,
     "user": {
      "displayName": "Eduardo Seiti de Oliveira",
      "userId": "03989307632206042931"
     },
     "user_tz": 180
    },
    "id": "0d5cf3ee"
   },
   "outputs": [],
   "source": [
    "result = !{TREC_EVAL} -c -mndcg_cut.10 \\\n",
    "    {qrels_filename} {BM25_1M_MASSIVEWEB_RUN}\n",
    "\n",
    "retrievers_results.append({'retriever':'BM25 1M massiveweb', 'nDCG@10': result[0].split('\\t')[-1]})"
   ]
  },
  {
   "cell_type": "markdown",
   "id": "f7bd0978",
   "metadata": {
    "id": "f7bd0978"
   },
   "source": [
    "### Compute ColBERT-X 1M massiveweb filtered nDCG@10"
   ]
  },
  {
   "cell_type": "code",
   "execution_count": 57,
   "id": "2edb7102",
   "metadata": {},
   "outputs": [
    {
     "data": {
      "text/html": [
       "<div>\n",
       "<style scoped>\n",
       "    .dataframe tbody tr th:only-of-type {\n",
       "        vertical-align: middle;\n",
       "    }\n",
       "\n",
       "    .dataframe tbody tr th {\n",
       "        vertical-align: top;\n",
       "    }\n",
       "\n",
       "    .dataframe thead th {\n",
       "        text-align: right;\n",
       "    }\n",
       "</style>\n",
       "<table border=\"1\" class=\"dataframe\">\n",
       "  <thead>\n",
       "    <tr style=\"text-align: right;\">\n",
       "      <th></th>\n",
       "      <th>query_id</th>\n",
       "      <th>1M_dataset_doc_index</th>\n",
       "      <th>index</th>\n",
       "      <th>score</th>\n",
       "      <th>passage_id</th>\n",
       "      <th>passage</th>\n",
       "      <th>Q0</th>\n",
       "      <th>comment</th>\n",
       "      <th>query</th>\n",
       "    </tr>\n",
       "  </thead>\n",
       "  <tbody>\n",
       "    <tr>\n",
       "      <th>0</th>\n",
       "      <td>1</td>\n",
       "      <td>83086</td>\n",
       "      <td>1</td>\n",
       "      <td>27.924545</td>\n",
       "      <td>clueweb22-pt0000-17-01771_1</td>\n",
       "      <td>O Brasil é um país conhecido mundialmente por suas belezas naturais, incluindo a sua fauna que contém diversas espécies de animais exóticos como a arara-azul, o mico-leão-dourado e a onça-pintada. Há ... Redação completa Enviada em: 25/04/2017 A vasta natureza brasileira, exaltada desde o século dezesseis na carta de Pero Vaz de Caminha, continua sendo um dos maiores patrimônios nacionais, mas é também o maior alvo do contrabando e das dest... Redação completa Enviada em: 26/04/2017 Em vários locais do mundo, principalmente no Brasil, agrega inúmeras espécies de animais em ecossistemas e climas distintos. A essência atualizante da sociedade traz como característica admirável, a c... Redação completa Enviada em: 26/04/2017 Nos primórdios do século XVI,os lusitanos desembarcaram nas terras brasileiras já com o ideal de exploração.Nesse contexto,até mesmo os animais silvestres eram incorporados nas práticas mercantilistas... Redação completa Enviada em: 26/04/2017 Para Paul Atson, co-fundador do Greenspace, \\\"a inteligência é a habilidade de se viver em harmonia com o meio ambiente\\\". Desse modo, percebe-se que essa harmonia é rompida no Brasil com o tráfico de a... Redação completa Enviada em: 27/04/2017 Tráfico de animais silvestres: um problema secular</td>\n",
       "      <td>Q0</td>\n",
       "      <td>ColBERT-X_pt-BR</td>\n",
       "      <td>Qual a maior característica da fauna brasileira?</td>\n",
       "    </tr>\n",
       "    <tr>\n",
       "      <th>1</th>\n",
       "      <td>1</td>\n",
       "      <td>102524</td>\n",
       "      <td>2</td>\n",
       "      <td>27.615765</td>\n",
       "      <td>clueweb22-pt0000-21-03309_40</td>\n",
       "      <td>São surpreendentemente uniformes, pois suas características mais óbvias são as penas e o bico córneo. São chamadas de endotérmicas , porque produzem seu próprio calor e de homoeotérmicas , porque podem manter a temperatura de seus corpos razoavelmente alta e constante. Isto não significa que a temperatura do corpo de uma ave não varie, pode haver oscilação diária de vários graus. São tetrápodas, com o par anterior transformado em asas e o posterior adaptado para empoleirar, andar ou nadar. A capacidade de voar permite às aves ocupar alguns hábitats impossíveis para outros animais. Além da quantidade, a avifauna do Brasil reúne inúmeros superlativos quanto à qualidade. Vive aqui, uma das maiores aves do mundo, a ema, ao lado das aves de menor porte, os beija-flores. Encontram-se os voadores de maior porte da Terra: o albatroz e o condor, ambos de ocorrência apenas ocasional. O gavião-real, residente no Brasil, é a ave de rapina mais possante do mundo. Ocorrem aqui as aves de vôo mais veloz: falcões e andorinhões.</td>\n",
       "      <td>Q0</td>\n",
       "      <td>ColBERT-X_pt-BR</td>\n",
       "      <td>Qual a maior característica da fauna brasileira?</td>\n",
       "    </tr>\n",
       "    <tr>\n",
       "      <th>2</th>\n",
       "      <td>1</td>\n",
       "      <td>782171</td>\n",
       "      <td>3</td>\n",
       "      <td>27.508310</td>\n",
       "      <td>clueweb22-pt0001-63-03254_3</td>\n",
       "      <td>No Brasil, tratando-se de árvores nativas, é muito comum encontrar a mesma espécie, em várias regiões do país, como por exemplo o ipê, a canafístula, o manacá, que se desenvolvem bem em climas e temperaturas diversas. Há ainda, aquelas que são símbolos de representação, como por exemplo a Araucária no estado do Paraná ou o próprio Pau Brasil, árvore nativa das florestas tropicais da costa brasileira que deu origem ao nome do nosso país. Para conhecer a lista de espécies nativas por estado, acesse este link. Quanto às árvores exóticas, listamos as principais características das espécies mais populares e presentes no Brasil: Khaya grandifoliola (ivorensis/grandifoliola) – Mogno Africano O mogno africano é originário das regiões tropicais de baixa altitude da África Ocidental, abrange países como Costa do Marfim, Gana, Togo, Benin, Nigéria e Angola. Sua árvore pode atingir de 40 a 60 metros de altura e diâmetro de 2,10 m. Se desenvolve melhor em áreas mais quentes e não resiste à regiões com presença de geadas. Por ser considerada nobre, é uma das espécies madeireiras mais importantes para plantios comerciais, combinando crescimento rápido, boa qualidade da madeira e excelente cotação no mercado internacional.</td>\n",
       "      <td>Q0</td>\n",
       "      <td>ColBERT-X_pt-BR</td>\n",
       "      <td>Qual a maior característica da fauna brasileira?</td>\n",
       "    </tr>\n",
       "    <tr>\n",
       "      <th>3</th>\n",
       "      <td>1</td>\n",
       "      <td>961539</td>\n",
       "      <td>4</td>\n",
       "      <td>27.382154</td>\n",
       "      <td>clueweb22-pt0002-01-18728_116</td>\n",
       "      <td>que podem alcançar elevado porte, a exemplo das araucárias. As angiospermas representam a maior parte das plantas de valor econômico que conhecemos: gramíneas, cereais, árvores frutíferas e plantas lenhosas incluem-se nesse grupo. 6. Monocotiledôneas incluem espécies vegetais de destacado valor econômico, a título de exemplo: cana-de-açúcar, trigo, arroz, milho e palmeiras – tais como açaí e babaçu. fO Estado da Biodiversidade – Parte 1: genes e espécies 63 No que se refere à fauna, a descrição sobre o atual conhecimento da bio- diversidade pode ser dividida em dois grandes grupos: invertebrados (marinhos e terrestres) e vertebrados (peixes, anfíbios, répteis, aves e mamíferos). A maior parte dos filos de invertebrados vive exclusiva ou parcialmente em mares e oce- anos. O crescente registro de novas espécies de invertebrados marinhos indica o pouco conhecimento existente sobre sua diversidade e, nesse sentido, a fauna da costa sul-americana banhada pelo Atlântico é uma das menos conhecidas mundialmente. Isso se dá em razão da extensão e da complexidade dos ambien- tes encontrados na costa brasileira, assim como devido às restrições enfrentadas</td>\n",
       "      <td>Q0</td>\n",
       "      <td>ColBERT-X_pt-BR</td>\n",
       "      <td>Qual a maior característica da fauna brasileira?</td>\n",
       "    </tr>\n",
       "    <tr>\n",
       "      <th>4</th>\n",
       "      <td>1</td>\n",
       "      <td>909560</td>\n",
       "      <td>5</td>\n",
       "      <td>27.253796</td>\n",
       "      <td>clueweb22-pt0001-90-12541_152</td>\n",
       "      <td>19. (FATEC) “Apresenta vegetação arbórea esparsa, com arbustos e pequenas árvores, que têm, em geral, casca grossa e troncos retorcidos. O solo, na estação chuvosa, é relativamente quente, com média anual por volta de 26º C e índices pluviométrico entre 1.100 e 2.000 mmpor ano. Entre as espécies mais comuns, estão o ipê, a peroba-de-campo e a caviúna”. O texto descreve a seguinte formação fitogeográfica brasileira: a) Mata de Araucárias. b) Mata Atlântica. c) Cerrado. d) Caatinga. e) Pantanal. 20. (COVEST) O Brasil é um país que apresenta elevada biodiversidade. Considerando apenas os biomas terrestres, destacamos: a floresta amazônica, a mata atlântica, o cerrado e a caatinga. Sobre este tema, analise as proposições abaixo, relacionado-as com a distribuição apresentada no mapa. 1. Entre as árvores de grande porte da floresta amazônica (A), cita-se a castanheira-do-pará e a seringueira. Do tronco desta última extrai-se o látex, utilizado na fabricação de borracha natural. 2. Extensas áreas de mata atlânticas (B) foram totalmente destruída e substituídas por plantações de cana-de-açúcar, cacau e banana, e exploradas para extração de palmito. 3. O cerrado (C) tem uma fisionomia de deserto, com árvores baixas e arbustos que, em geral, perdem precocemente as folhas.</td>\n",
       "      <td>Q0</td>\n",
       "      <td>ColBERT-X_pt-BR</td>\n",
       "      <td>Qual a maior característica da fauna brasileira?</td>\n",
       "    </tr>\n",
       "  </tbody>\n",
       "</table>\n",
       "</div>"
      ],
      "text/plain": [
       "   query_id  1M_dataset_doc_index  index      score  \\\n",
       "0         1                 83086      1  27.924545   \n",
       "1         1                102524      2  27.615765   \n",
       "2         1                782171      3  27.508310   \n",
       "3         1                961539      4  27.382154   \n",
       "4         1                909560      5  27.253796   \n",
       "\n",
       "                      passage_id  \\\n",
       "0    clueweb22-pt0000-17-01771_1   \n",
       "1   clueweb22-pt0000-21-03309_40   \n",
       "2    clueweb22-pt0001-63-03254_3   \n",
       "3  clueweb22-pt0002-01-18728_116   \n",
       "4  clueweb22-pt0001-90-12541_152   \n",
       "\n",
       "                                                                                                                                                                                                                                                                                                                                                                                                                                                                                                                                                                                                                                                                                                                                                                                                                                                                                                                                                                                                                                                                                                                                                                                                                                                                                                                              passage  \\\n",
       "0            O Brasil é um país conhecido mundialmente por suas belezas naturais, incluindo a sua fauna que contém diversas espécies de animais exóticos como a arara-azul, o mico-leão-dourado e a onça-pintada. Há ... Redação completa Enviada em: 25/04/2017 A vasta natureza brasileira, exaltada desde o século dezesseis na carta de Pero Vaz de Caminha, continua sendo um dos maiores patrimônios nacionais, mas é também o maior alvo do contrabando e das dest... Redação completa Enviada em: 26/04/2017 Em vários locais do mundo, principalmente no Brasil, agrega inúmeras espécies de animais em ecossistemas e climas distintos. A essência atualizante da sociedade traz como característica admirável, a c... Redação completa Enviada em: 26/04/2017 Nos primórdios do século XVI,os lusitanos desembarcaram nas terras brasileiras já com o ideal de exploração.Nesse contexto,até mesmo os animais silvestres eram incorporados nas práticas mercantilistas... Redação completa Enviada em: 26/04/2017 Para Paul Atson, co-fundador do Greenspace, \\\"a inteligência é a habilidade de se viver em harmonia com o meio ambiente\\\". Desse modo, percebe-se que essa harmonia é rompida no Brasil com o tráfico de a... Redação completa Enviada em: 27/04/2017 Tráfico de animais silvestres: um problema secular   \n",
       "1                                                                                                                                                                                                                                                                 São surpreendentemente uniformes, pois suas características mais óbvias são as penas e o bico córneo. São chamadas de endotérmicas , porque produzem seu próprio calor e de homoeotérmicas , porque podem manter a temperatura de seus corpos razoavelmente alta e constante. Isto não significa que a temperatura do corpo de uma ave não varie, pode haver oscilação diária de vários graus. São tetrápodas, com o par anterior transformado em asas e o posterior adaptado para empoleirar, andar ou nadar. A capacidade de voar permite às aves ocupar alguns hábitats impossíveis para outros animais. Além da quantidade, a avifauna do Brasil reúne inúmeros superlativos quanto à qualidade. Vive aqui, uma das maiores aves do mundo, a ema, ao lado das aves de menor porte, os beija-flores. Encontram-se os voadores de maior porte da Terra: o albatroz e o condor, ambos de ocorrência apenas ocasional. O gavião-real, residente no Brasil, é a ave de rapina mais possante do mundo. Ocorrem aqui as aves de vôo mais veloz: falcões e andorinhões.   \n",
       "2                                                          No Brasil, tratando-se de árvores nativas, é muito comum encontrar a mesma espécie, em várias regiões do país, como por exemplo o ipê, a canafístula, o manacá, que se desenvolvem bem em climas e temperaturas diversas. Há ainda, aquelas que são símbolos de representação, como por exemplo a Araucária no estado do Paraná ou o próprio Pau Brasil, árvore nativa das florestas tropicais da costa brasileira que deu origem ao nome do nosso país. Para conhecer a lista de espécies nativas por estado, acesse este link. Quanto às árvores exóticas, listamos as principais características das espécies mais populares e presentes no Brasil: Khaya grandifoliola (ivorensis/grandifoliola) – Mogno Africano O mogno africano é originário das regiões tropicais de baixa altitude da África Ocidental, abrange países como Costa do Marfim, Gana, Togo, Benin, Nigéria e Angola. Sua árvore pode atingir de 40 a 60 metros de altura e diâmetro de 2,10 m. Se desenvolve melhor em áreas mais quentes e não resiste à regiões com presença de geadas. Por ser considerada nobre, é uma das espécies madeireiras mais importantes para plantios comerciais, combinando crescimento rápido, boa qualidade da madeira e excelente cotação no mercado internacional.   \n",
       "3                                                                                                                          que podem alcançar elevado porte, a exemplo das araucárias. As angiospermas representam a maior parte das plantas de valor econômico que conhecemos: gramíneas, cereais, árvores frutíferas e plantas lenhosas incluem-se nesse grupo. 6. Monocotiledôneas incluem espécies vegetais de destacado valor econômico, a título de exemplo: cana-de-açúcar, trigo, arroz, milho e palmeiras – tais como açaí e babaçu. fO Estado da Biodiversidade – Parte 1: genes e espécies 63 No que se refere à fauna, a descrição sobre o atual conhecimento da bio- diversidade pode ser dividida em dois grandes grupos: invertebrados (marinhos e terrestres) e vertebrados (peixes, anfíbios, répteis, aves e mamíferos). A maior parte dos filos de invertebrados vive exclusiva ou parcialmente em mares e oce- anos. O crescente registro de novas espécies de invertebrados marinhos indica o pouco conhecimento existente sobre sua diversidade e, nesse sentido, a fauna da costa sul-americana banhada pelo Atlântico é uma das menos conhecidas mundialmente. Isso se dá em razão da extensão e da complexidade dos ambien- tes encontrados na costa brasileira, assim como devido às restrições enfrentadas   \n",
       "4  19. (FATEC) “Apresenta vegetação arbórea esparsa, com arbustos e pequenas árvores, que têm, em geral, casca grossa e troncos retorcidos. O solo, na estação chuvosa, é relativamente quente, com média anual por volta de 26º C e índices pluviométrico entre 1.100 e 2.000 mmpor ano. Entre as espécies mais comuns, estão o ipê, a peroba-de-campo e a caviúna”. O texto descreve a seguinte formação fitogeográfica brasileira: a) Mata de Araucárias. b) Mata Atlântica. c) Cerrado. d) Caatinga. e) Pantanal. 20. (COVEST) O Brasil é um país que apresenta elevada biodiversidade. Considerando apenas os biomas terrestres, destacamos: a floresta amazônica, a mata atlântica, o cerrado e a caatinga. Sobre este tema, analise as proposições abaixo, relacionado-as com a distribuição apresentada no mapa. 1. Entre as árvores de grande porte da floresta amazônica (A), cita-se a castanheira-do-pará e a seringueira. Do tronco desta última extrai-se o látex, utilizado na fabricação de borracha natural. 2. Extensas áreas de mata atlânticas (B) foram totalmente destruída e substituídas por plantações de cana-de-açúcar, cacau e banana, e exploradas para extração de palmito. 3. O cerrado (C) tem uma fisionomia de deserto, com árvores baixas e arbustos que, em geral, perdem precocemente as folhas.   \n",
       "\n",
       "   Q0          comment                                             query  \n",
       "0  Q0  ColBERT-X_pt-BR  Qual a maior característica da fauna brasileira?  \n",
       "1  Q0  ColBERT-X_pt-BR  Qual a maior característica da fauna brasileira?  \n",
       "2  Q0  ColBERT-X_pt-BR  Qual a maior característica da fauna brasileira?  \n",
       "3  Q0  ColBERT-X_pt-BR  Qual a maior característica da fauna brasileira?  \n",
       "4  Q0  ColBERT-X_pt-BR  Qual a maior característica da fauna brasileira?  "
      ]
     },
     "metadata": {},
     "output_type": "display_data"
    },
    {
     "name": "stdout",
     "output_type": "stream",
     "text": [
      "output_filename=tests/colbertx_massiveweb_1M_docs_000_999_sampled_50_queries_run.txt\n"
     ]
    }
   ],
   "source": [
    "colbertx_filename, _ = prepare_run_format(COLBERTX_1M_MASSIVEWEB_RUN, retriever_name=\"ColBERT-x_pt-BR\")"
   ]
  },
  {
   "cell_type": "code",
   "execution_count": 85,
   "id": "abb56cf8",
   "metadata": {
    "executionInfo": {
     "elapsed": 1506,
     "status": "ok",
     "timestamp": 1706190255088,
     "user": {
      "displayName": "Eduardo Seiti de Oliveira",
      "userId": "03989307632206042931"
     },
     "user_tz": 180
    },
    "id": "abb56cf8"
   },
   "outputs": [],
   "source": [
    "result = !{TREC_EVAL} -c -mndcg_cut.10 \\\n",
    "    {qrels_filename} {COLBERTX_1M_MASSIVEWEB_RUN}\n",
    "\n",
    "retrievers_results.append({'retriever':'ColBERT-X_mMARCO_pt-BR 1M massiveweb', 'nDCG@10': result[0].split('\\t')[-1]})"
   ]
  },
  {
   "cell_type": "markdown",
   "id": "f31705ab",
   "metadata": {},
   "source": [
    "### Compute ADAv2 1M massiveweb filtered nDCG@10"
   ]
  },
  {
   "cell_type": "code",
   "execution_count": 86,
   "id": "ba6da90a",
   "metadata": {},
   "outputs": [],
   "source": [
    "result = !{TREC_EVAL} -c -mndcg_cut.10 \\\n",
    "    {qrels_filename} {ADAV2_RUN}\n",
    "\n",
    "retrievers_results.append({'retriever':'ADA v2 1M massiveweb', 'nDCG@10': result[0].split('\\t')[-1]})"
   ]
  },
  {
   "cell_type": "markdown",
   "id": "5ecc9c4d",
   "metadata": {},
   "source": [
    "### Compute BM25 + mT5 1M massiveweb filtered nDCG@10"
   ]
  },
  {
   "cell_type": "code",
   "execution_count": 87,
   "id": "0cf83ecd",
   "metadata": {},
   "outputs": [],
   "source": [
    "result = !{TREC_EVAL} -c -mndcg_cut.10 \\\n",
    "    {qrels_filename} {BM25_MT5_1M_MASSIVEWEB_RUN}\n",
    "\n",
    "retrievers_results.append({'retriever':'BM25+mT5 1M massiveweb', 'nDCG@10': result[0].split('\\t')[-1]})"
   ]
  },
  {
   "cell_type": "markdown",
   "id": "R7SdiUqvxLEQ",
   "metadata": {
    "id": "R7SdiUqvxLEQ"
   },
   "source": [
    "### Prepare BM25 + E5 1M massiveweb filtered run and compute nDCG@10"
   ]
  },
  {
   "cell_type": "code",
   "execution_count": 88,
   "id": "AabnEIYsxK4b",
   "metadata": {
    "colab": {
     "base_uri": "https://localhost:8080/",
     "height": 1000
    },
    "executionInfo": {
     "elapsed": 3807,
     "status": "ok",
     "timestamp": 1706189880286,
     "user": {
      "displayName": "Eduardo Seiti de Oliveira",
      "userId": "03989307632206042931"
     },
     "user_tz": 180
    },
    "id": "AabnEIYsxK4b",
    "outputId": "237b84f0-ce37-43e7-dfc7-a7a8ad40ca25"
   },
   "outputs": [
    {
     "data": {
      "text/html": [
       "<div>\n",
       "<style scoped>\n",
       "    .dataframe tbody tr th:only-of-type {\n",
       "        vertical-align: middle;\n",
       "    }\n",
       "\n",
       "    .dataframe tbody tr th {\n",
       "        vertical-align: top;\n",
       "    }\n",
       "\n",
       "    .dataframe thead th {\n",
       "        text-align: right;\n",
       "    }\n",
       "</style>\n",
       "<table border=\"1\" class=\"dataframe\">\n",
       "  <thead>\n",
       "    <tr style=\"text-align: right;\">\n",
       "      <th></th>\n",
       "      <th>query</th>\n",
       "      <th>colbertx_id</th>\n",
       "      <th>score</th>\n",
       "      <th>query_id</th>\n",
       "      <th>passage_id</th>\n",
       "      <th>passage</th>\n",
       "      <th>n_tokens</th>\n",
       "    </tr>\n",
       "  </thead>\n",
       "  <tbody>\n",
       "    <tr>\n",
       "      <th>0</th>\n",
       "      <td>Qual a maior característica da fauna brasileira?</td>\n",
       "      <td>4875435</td>\n",
       "      <td>84.761627</td>\n",
       "      <td>1</td>\n",
       "      <td>clueweb22-pt0001-01-18874_0</td>\n",
       "      <td>Conheça 11 lindos animais típicos da fauna brasileira / Incrível Conheça 11 lindos animais típicos da fauna brasileira 4--4 Compartilhe no Facebook Compartilhe no Facebook Compartilhe no Pinterest Que o Brasil é gigante, todos nós sabemos e até já demos aqui exemplos chocantes sobre isso. Mas um outro exemplo dessa grandiosidade é quando sabemos que o país abriga 17% das espécies de aves e 10% das de anfíbios e mamíferos de todo o mundo. Neste post, o Incrível.club vai te mostrar uma lista de animais típicos do país. Mico-leão dourado © Nadine Doerle / Pixabay Este macaco “ruivo” ficou famoso ao tornar-se um símbolo de espécies brasileiras em extinção. O cuidado para a preservação da espécie, que é nativa da Mata Atlântica e aparece na nota de 20 reais, começou nos anos 1970 e se intensificou duas décadas depois. Embora a situação tenha melhorado, o risco de extinção ainda existe. Tamanduá-bandeira © joelfotos / Pixabay Este gigante que ama comer formigas — pode devorar até 30 mil por dia, inclusive cupins — é também um forte: com seus 2,20 metros, consegue até brigar com uma onça pintada. E vencer. Embora ele exista originalmente nas três Américas, já foi extinto em países como Estados Unidos e em Estados brasileiros como Espírito Santo e Rio e Janeiro. Onça pintada</td>\n",
       "      <td>381</td>\n",
       "    </tr>\n",
       "    <tr>\n",
       "      <th>1</th>\n",
       "      <td>Qual a maior característica da fauna brasileira?</td>\n",
       "      <td>2605802</td>\n",
       "      <td>84.615746</td>\n",
       "      <td>1</td>\n",
       "      <td>clueweb22-pt0000-55-02859_0</td>\n",
       "      <td>Fauna e Flora: : entenda o que são e quais as diferenças (com exemplos) - Toda Matéria Biologia Fauna e Flora A fauna é o grupo de animais de determinada região. Já a flora é a representação das espécies vegetais. Quando se fala em fauna e flora brasileira, estão sendo referidos a totalidade de animais e plantas que tem seu habitat em um dos biomas existentes no Brasil. No Brasil, existem seis grandes biomas: cerrado, caatinga, mata atlântica, pampas, pantanal e a amazônia. Ou seja, cada comunidade apresenta características específicas e sua própria biodiversidade. Os animais (fauna) e as plantas (flora) variam de acordo com o meio em que se encontram. O que é fauna? A fauna representa a comunidade de espécies animais que habitam um ambiente específico ou alargado. Desse modo, o termo pode ser empregado em relação a um bioma específico, por exemplo, fauna do cerrado ou, em geral, como fauna brasileira ou mundial. Também pode possuir um sentido ainda mais amplo, relativo a um período: por exemplo, \\\"fauna do período jurássico\\\". Em outras palavras, a representação do coletivo de animais de determinado local ou período é chamada fauna.</td>\n",
       "      <td>314</td>\n",
       "    </tr>\n",
       "    <tr>\n",
       "      <th>2</th>\n",
       "      <td>Qual a maior característica da fauna brasileira?</td>\n",
       "      <td>7028401</td>\n",
       "      <td>84.480431</td>\n",
       "      <td>1</td>\n",
       "      <td>clueweb22-pt0001-46-05303_17</td>\n",
       "      <td>http://www.klimanaturali.org/2014/03/biomas-e-fitofisionomias-brasileiros.html 8/17 f15/03/2018 BIOMAS E FITOFISIONOMIAS BRASILEIROS: CARACTERÍSTICAS E EVOLUÇÃO DA FAUNA E FLORA - Klima Naturali™ colonização no Brasil e os ciclos de desenvolvimento do país SITE  BRASIL  MUNDO  CIÊNCIAS  GERAL  levaram o homem a ocupar e destruir parte desse espaço. Fauna e Flora Rica em diversidade de espécies, a Mata Atlântica está entre Pesquisa no Site...  as cinco regiões do mundo com maior número de espécies endêmicas. Os animais podem ser considerados generalistas ou especialistas. Os generalistas apresentam hábitos alimentares variados, alta taxa de crescimento e dispersão; vivem em áreas de vegetação aberta e secundária, tolerantes e capazes de aproveitar diferentes recursos oferecidos pelo meio ambiente. Os animais especialistas são mais exigentes em relação aos habitats nos quais vivem, com dieta especí ca, uma alteração no meio ambiente exige dos animais especialistas a procura de novos habitats. Grupos da Mata Atlântica Mamíferos – A Mata Atlântica possui cerca de 250 espécies de mamíferos, das quais 55 são endêmicas. Os mamíferos são os</td>\n",
       "      <td>347</td>\n",
       "    </tr>\n",
       "    <tr>\n",
       "      <th>3</th>\n",
       "      <td>Qual a maior característica da fauna brasileira?</td>\n",
       "      <td>264425</td>\n",
       "      <td>84.322128</td>\n",
       "      <td>1</td>\n",
       "      <td>clueweb22-pt0000-05-02747_0</td>\n",
       "      <td>BIOMAS E FITOFISIONOMIAS BRASILEIROS: CARACTERÍSTICAS E EVOLUÇÃO DA FAUNA E FLORA - Klima Naturali™ Klima Home Biomas BIOMAS E FITOFISIONOMIAS BRASILEIROS: CARACTERÍSTICAS E EVOLUÇÃO DA FAUNA E FLORA BIOMAS E FITOFISIONOMIAS BRASILEIROS: CARACTERÍSTICAS E EVOLUÇÃO DA FAUNA E FLORA Tags Biomas Um bioma é um conjunto de tipos de vegetação que abrange grandes áreas contínuas, em escala regional, com flora e fauna similares, definida pelas condições físicas predominantes nas regiões. Esses aspectos climáticos, geográficos e litológicos (das rochas), por exemplo, fazem com que um bioma seja dotado de uma diversidade biológica singular, própria. No Brasil, os biomas existentes são (da maior extensão para a menor): a Amazônia, o cerrado, a Mata Atlântica, a Caatinga, o Pampa e o Pantanal. A seguir, conheça cada bioma do Brasil. Amazônia Extensão aproximada: 4.196.943 quilômetros quadrados</td>\n",
       "      <td>289</td>\n",
       "    </tr>\n",
       "    <tr>\n",
       "      <th>4</th>\n",
       "      <td>Qual a maior característica da fauna brasileira?</td>\n",
       "      <td>2605803</td>\n",
       "      <td>84.161362</td>\n",
       "      <td>1</td>\n",
       "      <td>clueweb22-pt0000-55-02859_3</td>\n",
       "      <td>Fauna do Pantanal - Répteis, aves, mamíferos e peixes. Isso faz do pantanal uma das faunas mais ricas do planeta. Flora do Pantanal - Vegetação, em geral, vinda de outros biomas adaptadas às poucas áreas secas ou áreas alagáveis e uma grande diversidade de espécies de plantas aquáticas. Veja também: Pantanal. Fauna e flora dos Pampas Fauna dos Pampas - Animais de planícies como algumas aves, veados, tatus, etc. Flora dos Pampas - Poucas árvores esparsas e diversas espécies de gramíneas. Os pampas correm risco de desaparecimento por conta do avanço da produção agropecuária, sobretudo, da criação de gado. Veja também: Pampa. Fauna e flora da Mata Atlântica Fauna da Mata Atlântica - Diversas espécies de pequenos primatas, felinos Flora da Mata Atlântica - Floresta tropical que abriga a maior diversidade de espécies por unidade de área. A Mata Atlântica preserva uma série de animais e plantas em risco de extinção, que sofre com queimadas, tráfico de animais e processos de urbanização. Veja também: Mata Atlântica. Fauna e flora da Amazônia A Amazônia é o maior bioma brasileiro, também é o que possui a maior biodiversidade. Fauna da Amazônia - Maior coleção de animais do planeta, muitas ainda não catalogadas por pesquisadores.</td>\n",
       "      <td>381</td>\n",
       "    </tr>\n",
       "  </tbody>\n",
       "</table>\n",
       "</div>"
      ],
      "text/plain": [
       "                                              query  colbertx_id      score  \\\n",
       "0  Qual a maior característica da fauna brasileira?      4875435  84.761627   \n",
       "1  Qual a maior característica da fauna brasileira?      2605802  84.615746   \n",
       "2  Qual a maior característica da fauna brasileira?      7028401  84.480431   \n",
       "3  Qual a maior característica da fauna brasileira?       264425  84.322128   \n",
       "4  Qual a maior característica da fauna brasileira?      2605803  84.161362   \n",
       "\n",
       "   query_id                    passage_id  \\\n",
       "0         1   clueweb22-pt0001-01-18874_0   \n",
       "1         1   clueweb22-pt0000-55-02859_0   \n",
       "2         1  clueweb22-pt0001-46-05303_17   \n",
       "3         1   clueweb22-pt0000-05-02747_0   \n",
       "4         1   clueweb22-pt0000-55-02859_3   \n",
       "\n",
       "                                                                                                                                                                                                                                                                                                                                                                                                                                                                                                                                                                                                                                                                                                                                                                                                                                                                                                                                                                                                                                                                                                                                                                                                                                                                                                                                   passage  \\\n",
       "0  Conheça 11 lindos animais típicos da fauna brasileira / Incrível Conheça 11 lindos animais típicos da fauna brasileira 4--4 Compartilhe no Facebook Compartilhe no Facebook Compartilhe no Pinterest Que o Brasil é gigante, todos nós sabemos e até já demos aqui exemplos chocantes sobre isso. Mas um outro exemplo dessa grandiosidade é quando sabemos que o país abriga 17% das espécies de aves e 10% das de anfíbios e mamíferos de todo o mundo. Neste post, o Incrível.club vai te mostrar uma lista de animais típicos do país. Mico-leão dourado © Nadine Doerle / Pixabay Este macaco “ruivo” ficou famoso ao tornar-se um símbolo de espécies brasileiras em extinção. O cuidado para a preservação da espécie, que é nativa da Mata Atlântica e aparece na nota de 20 reais, começou nos anos 1970 e se intensificou duas décadas depois. Embora a situação tenha melhorado, o risco de extinção ainda existe. Tamanduá-bandeira © joelfotos / Pixabay Este gigante que ama comer formigas — pode devorar até 30 mil por dia, inclusive cupins — é também um forte: com seus 2,20 metros, consegue até brigar com uma onça pintada. E vencer. Embora ele exista originalmente nas três Américas, já foi extinto em países como Estados Unidos e em Estados brasileiros como Espírito Santo e Rio e Janeiro. Onça pintada   \n",
       "1                                                                                                                                          Fauna e Flora: : entenda o que são e quais as diferenças (com exemplos) - Toda Matéria Biologia Fauna e Flora A fauna é o grupo de animais de determinada região. Já a flora é a representação das espécies vegetais. Quando se fala em fauna e flora brasileira, estão sendo referidos a totalidade de animais e plantas que tem seu habitat em um dos biomas existentes no Brasil. No Brasil, existem seis grandes biomas: cerrado, caatinga, mata atlântica, pampas, pantanal e a amazônia. Ou seja, cada comunidade apresenta características específicas e sua própria biodiversidade. Os animais (fauna) e as plantas (flora) variam de acordo com o meio em que se encontram. O que é fauna? A fauna representa a comunidade de espécies animais que habitam um ambiente específico ou alargado. Desse modo, o termo pode ser empregado em relação a um bioma específico, por exemplo, fauna do cerrado ou, em geral, como fauna brasileira ou mundial. Também pode possuir um sentido ainda mais amplo, relativo a um período: por exemplo, \\\"fauna do período jurássico\\\". Em outras palavras, a representação do coletivo de animais de determinado local ou período é chamada fauna.   \n",
       "2                                                                                                                                     http://www.klimanaturali.org/2014/03/biomas-e-fitofisionomias-brasileiros.html 8/17 f15/03/2018 BIOMAS E FITOFISIONOMIAS BRASILEIROS: CARACTERÍSTICAS E EVOLUÇÃO DA FAUNA E FLORA - Klima Naturali™ colonização no Brasil e os ciclos de desenvolvimento do país SITE  BRASIL  MUNDO  CIÊNCIAS  GERAL  levaram o homem a ocupar e destruir parte desse espaço. Fauna e Flora Rica em diversidade de espécies, a Mata Atlântica está entre Pesquisa no Site...  as cinco regiões do mundo com maior número de espécies endêmicas. Os animais podem ser considerados generalistas ou especialistas. Os generalistas apresentam hábitos alimentares variados, alta taxa de crescimento e dispersão; vivem em áreas de vegetação aberta e secundária, tolerantes e capazes de aproveitar diferentes recursos oferecidos pelo meio ambiente. Os animais especialistas são mais exigentes em relação aos habitats nos quais vivem, com dieta especí ca, uma alteração no meio ambiente exige dos animais especialistas a procura de novos habitats. Grupos da Mata Atlântica Mamíferos – A Mata Atlântica possui cerca de 250 espécies de mamíferos, das quais 55 são endêmicas. Os mamíferos são os   \n",
       "3                                                                                                                                                                                                                                                                                                                                                                                                           BIOMAS E FITOFISIONOMIAS BRASILEIROS: CARACTERÍSTICAS E EVOLUÇÃO DA FAUNA E FLORA - Klima Naturali™ Klima Home Biomas BIOMAS E FITOFISIONOMIAS BRASILEIROS: CARACTERÍSTICAS E EVOLUÇÃO DA FAUNA E FLORA BIOMAS E FITOFISIONOMIAS BRASILEIROS: CARACTERÍSTICAS E EVOLUÇÃO DA FAUNA E FLORA Tags Biomas Um bioma é um conjunto de tipos de vegetação que abrange grandes áreas contínuas, em escala regional, com flora e fauna similares, definida pelas condições físicas predominantes nas regiões. Esses aspectos climáticos, geográficos e litológicos (das rochas), por exemplo, fazem com que um bioma seja dotado de uma diversidade biológica singular, própria. No Brasil, os biomas existentes são (da maior extensão para a menor): a Amazônia, o cerrado, a Mata Atlântica, a Caatinga, o Pampa e o Pantanal. A seguir, conheça cada bioma do Brasil. Amazônia Extensão aproximada: 4.196.943 quilômetros quadrados   \n",
       "4                                                 Fauna do Pantanal - Répteis, aves, mamíferos e peixes. Isso faz do pantanal uma das faunas mais ricas do planeta. Flora do Pantanal - Vegetação, em geral, vinda de outros biomas adaptadas às poucas áreas secas ou áreas alagáveis e uma grande diversidade de espécies de plantas aquáticas. Veja também: Pantanal. Fauna e flora dos Pampas Fauna dos Pampas - Animais de planícies como algumas aves, veados, tatus, etc. Flora dos Pampas - Poucas árvores esparsas e diversas espécies de gramíneas. Os pampas correm risco de desaparecimento por conta do avanço da produção agropecuária, sobretudo, da criação de gado. Veja também: Pampa. Fauna e flora da Mata Atlântica Fauna da Mata Atlântica - Diversas espécies de pequenos primatas, felinos Flora da Mata Atlântica - Floresta tropical que abriga a maior diversidade de espécies por unidade de área. A Mata Atlântica preserva uma série de animais e plantas em risco de extinção, que sofre com queimadas, tráfico de animais e processos de urbanização. Veja também: Mata Atlântica. Fauna e flora da Amazônia A Amazônia é o maior bioma brasileiro, também é o que possui a maior biodiversidade. Fauna da Amazônia - Maior coleção de animais do planeta, muitas ainda não catalogadas por pesquisadores.   \n",
       "\n",
       "   n_tokens  \n",
       "0       381  \n",
       "1       314  \n",
       "2       347  \n",
       "3       289  \n",
       "4       381  "
      ]
     },
     "metadata": {},
     "output_type": "display_data"
    },
    {
     "name": "stdout",
     "output_type": "stream",
     "text": [
      "output_filename=tests/bm25_e5_1M_docs_fixed_000_999_sampled_50_queries_run.txt\n"
     ]
    }
   ],
   "source": [
    "bm25_e5_filename, _ = prepare_run_format(BM25_E5_1M_MASSIVEWEB, retriever_name=\"BM25+E5\")"
   ]
  },
  {
   "cell_type": "code",
   "execution_count": 89,
   "id": "XYiSveSgxKtd",
   "metadata": {
    "executionInfo": {
     "elapsed": 312,
     "status": "ok",
     "timestamp": 1706190260288,
     "user": {
      "displayName": "Eduardo Seiti de Oliveira",
      "userId": "03989307632206042931"
     },
     "user_tz": 180
    },
    "id": "XYiSveSgxKtd"
   },
   "outputs": [],
   "source": [
    "result = !{TREC_EVAL} -c -mndcg_cut.10 \\\n",
    "    {qrels_filename} {bm25_e5_filename}\n",
    "\n",
    "retrievers_results.append({'retriever':'BM25+E5 1M massiveweb', 'nDCG@10': result[0].split('\\t')[-1]})"
   ]
  },
  {
   "cell_type": "markdown",
   "id": "db253ca4",
   "metadata": {
    "id": "db253ca4"
   },
   "source": [
    "### Check the overall results"
   ]
  },
  {
   "cell_type": "code",
   "execution_count": 90,
   "id": "6d6b169c",
   "metadata": {
    "colab": {
     "base_uri": "https://localhost:8080/",
     "height": 489
    },
    "executionInfo": {
     "elapsed": 9,
     "status": "ok",
     "timestamp": 1706190261825,
     "user": {
      "displayName": "Eduardo Seiti de Oliveira",
      "userId": "03989307632206042931"
     },
     "user_tz": 180
    },
    "id": "6d6b169c",
    "outputId": "f3ff647c-3777-4738-c412-9163dac06fbc"
   },
   "outputs": [
    {
     "data": {
      "text/html": [
       "<div>\n",
       "<style scoped>\n",
       "    .dataframe tbody tr th:only-of-type {\n",
       "        vertical-align: middle;\n",
       "    }\n",
       "\n",
       "    .dataframe tbody tr th {\n",
       "        vertical-align: top;\n",
       "    }\n",
       "\n",
       "    .dataframe thead th {\n",
       "        text-align: right;\n",
       "    }\n",
       "</style>\n",
       "<table border=\"1\" class=\"dataframe\">\n",
       "  <thead>\n",
       "    <tr style=\"text-align: right;\">\n",
       "      <th></th>\n",
       "      <th>retriever</th>\n",
       "      <th>nDCG@10</th>\n",
       "    </tr>\n",
       "  </thead>\n",
       "  <tbody>\n",
       "    <tr>\n",
       "      <th>0</th>\n",
       "      <td>BM25</td>\n",
       "      <td>0.4487</td>\n",
       "    </tr>\n",
       "    <tr>\n",
       "      <th>1</th>\n",
       "      <td>BM25+E5</td>\n",
       "      <td>0.6393</td>\n",
       "    </tr>\n",
       "    <tr>\n",
       "      <th>2</th>\n",
       "      <td>BM25+mT5</td>\n",
       "      <td>0.7140</td>\n",
       "    </tr>\n",
       "    <tr>\n",
       "      <th>3</th>\n",
       "      <td>SPLADEv2_pt-BR</td>\n",
       "      <td>0.5828</td>\n",
       "    </tr>\n",
       "    <tr>\n",
       "      <th>4</th>\n",
       "      <td>ColBERT-X_mMARCO_pt-BR</td>\n",
       "      <td>0.6301</td>\n",
       "    </tr>\n",
       "    <tr>\n",
       "      <th>5</th>\n",
       "      <td>E5</td>\n",
       "      <td>0.5589</td>\n",
       "    </tr>\n",
       "    <tr>\n",
       "      <th>6</th>\n",
       "      <td>E5 base</td>\n",
       "      <td>0.3983</td>\n",
       "    </tr>\n",
       "    <tr>\n",
       "      <th>7</th>\n",
       "      <td>SPLADEv2_pt-BR + mT5</td>\n",
       "      <td>0.6999</td>\n",
       "    </tr>\n",
       "    <tr>\n",
       "      <th>8</th>\n",
       "      <td>E5 + ColBERT-X mMARCO_pt-BR RRF</td>\n",
       "      <td>0.6408</td>\n",
       "    </tr>\n",
       "    <tr>\n",
       "      <th>9</th>\n",
       "      <td>E5 + SPLADEv2_pt-BR RRF</td>\n",
       "      <td>0.6309</td>\n",
       "    </tr>\n",
       "    <tr>\n",
       "      <th>10</th>\n",
       "      <td>BM25 1M</td>\n",
       "      <td>0.3197</td>\n",
       "    </tr>\n",
       "    <tr>\n",
       "      <th>11</th>\n",
       "      <td>BM25 1M massiveweb</td>\n",
       "      <td>0.3166</td>\n",
       "    </tr>\n",
       "    <tr>\n",
       "      <th>12</th>\n",
       "      <td>ColBERT-X_mMARCO_pt-BR 1M massiveweb</td>\n",
       "      <td>0.4050</td>\n",
       "    </tr>\n",
       "    <tr>\n",
       "      <th>13</th>\n",
       "      <td>ADA v2 1M massiveweb</td>\n",
       "      <td>0.4630</td>\n",
       "    </tr>\n",
       "    <tr>\n",
       "      <th>14</th>\n",
       "      <td>BM25+mT5 1M massiveweb</td>\n",
       "      <td>0.5334</td>\n",
       "    </tr>\n",
       "    <tr>\n",
       "      <th>15</th>\n",
       "      <td>BM25+E5 1M massiveweb</td>\n",
       "      <td>0.4441</td>\n",
       "    </tr>\n",
       "  </tbody>\n",
       "</table>\n",
       "</div>"
      ],
      "text/plain": [
       "                               retriever nDCG@10\n",
       "0                                   BM25  0.4487\n",
       "1                                BM25+E5  0.6393\n",
       "2                               BM25+mT5  0.7140\n",
       "3                         SPLADEv2_pt-BR  0.5828\n",
       "4                 ColBERT-X_mMARCO_pt-BR  0.6301\n",
       "5                                     E5  0.5589\n",
       "6                                E5 base  0.3983\n",
       "7                   SPLADEv2_pt-BR + mT5  0.6999\n",
       "8        E5 + ColBERT-X mMARCO_pt-BR RRF  0.6408\n",
       "9                E5 + SPLADEv2_pt-BR RRF  0.6309\n",
       "10                               BM25 1M  0.3197\n",
       "11                    BM25 1M massiveweb  0.3166\n",
       "12  ColBERT-X_mMARCO_pt-BR 1M massiveweb  0.4050\n",
       "13                  ADA v2 1M massiveweb  0.4630\n",
       "14                BM25+mT5 1M massiveweb  0.5334\n",
       "15                 BM25+E5 1M massiveweb  0.4441"
      ]
     },
     "execution_count": 90,
     "metadata": {},
     "output_type": "execute_result"
    }
   ],
   "source": [
    "pd.DataFrame(retrievers_results)"
   ]
  },
  {
   "cell_type": "markdown",
   "id": "2304d606",
   "metadata": {
    "id": "2304d606"
   },
   "source": [
    "## 1M dataset"
   ]
  },
  {
   "cell_type": "markdown",
   "id": "65570622",
   "metadata": {
    "id": "65570622"
   },
   "source": [
    "### Compute BM25 1M massiveweb filtered nDCG@10"
   ]
  },
  {
   "cell_type": "code",
   "execution_count": 43,
   "id": "a6f6b6f9",
   "metadata": {
    "executionInfo": {
     "elapsed": 290,
     "status": "ok",
     "timestamp": 1706190635457,
     "user": {
      "displayName": "Eduardo Seiti de Oliveira",
      "userId": "03989307632206042931"
     },
     "user_tz": 180
    },
    "id": "a6f6b6f9"
   },
   "outputs": [],
   "source": [
    "result = !{TREC_EVAL} -c -mndcg_cut.10 \\\n",
    "    {qrels_1M_filename} {BM25_1M_MASSIVEWEB_RUN}\n",
    "\n",
    "retrievers_1M_results.append({'retriever':'BM25 1M massiveweb', 'nDCG@10': result[0].split('\\t')[-1]})"
   ]
  },
  {
   "cell_type": "markdown",
   "id": "cb5d2fdf",
   "metadata": {
    "id": "cb5d2fdf"
   },
   "source": [
    "### Compute ColBERT-X massiveweb filtered nDCG@10"
   ]
  },
  {
   "cell_type": "code",
   "execution_count": 44,
   "id": "42645e21",
   "metadata": {
    "executionInfo": {
     "elapsed": 16,
     "status": "ok",
     "timestamp": 1706190638482,
     "user": {
      "displayName": "Eduardo Seiti de Oliveira",
      "userId": "03989307632206042931"
     },
     "user_tz": 180
    },
    "id": "42645e21"
   },
   "outputs": [],
   "source": [
    "result = !{TREC_EVAL} -c -mndcg_cut.10 \\\n",
    "    {qrels_1M_filename} {COLBERTX_1M_MASSIVEWEB_RUN}\n",
    "\n",
    "retrievers_1M_results.append({'retriever':'ColBERT-X_mMARCO_pt-BR 1M massiveweb', 'nDCG@10': result[0].split('\\t')[-1]})"
   ]
  },
  {
   "cell_type": "markdown",
   "id": "yVADeRFlxtgI",
   "metadata": {
    "id": "yVADeRFlxtgI"
   },
   "source": [
    "### Compute ADA v2 massiveweb filtered nDCG@10"
   ]
  },
  {
   "cell_type": "code",
   "execution_count": 45,
   "id": "yV__mqsQxtge",
   "metadata": {
    "executionInfo": {
     "elapsed": 459,
     "status": "ok",
     "timestamp": 1706190640250,
     "user": {
      "displayName": "Eduardo Seiti de Oliveira",
      "userId": "03989307632206042931"
     },
     "user_tz": 180
    },
    "id": "yV__mqsQxtge"
   },
   "outputs": [],
   "source": [
    "result = !{TREC_EVAL} -c -mndcg_cut.10 \\\n",
    "    {qrels_1M_filename} {ADAV2_RUN}\n",
    "\n",
    "retrievers_1M_results.append({'retriever':'ADA v2 1M massiveweb', 'nDCG@10': result[0].split('\\t')[-1]})"
   ]
  },
  {
   "cell_type": "markdown",
   "id": "194db522",
   "metadata": {},
   "source": [
    "### Compute BM25 + mT5 1M massiveweb filtered nDCG@10"
   ]
  },
  {
   "cell_type": "code",
   "execution_count": 46,
   "id": "06f28231",
   "metadata": {},
   "outputs": [],
   "source": [
    "result = !{TREC_EVAL} -c -mndcg_cut.10 \\\n",
    "    {qrels_1M_filename} {BM25_MT5_1M_MASSIVEWEB_RUN}\n",
    "\n",
    "retrievers_1M_results.append({'retriever':'BM25+mT5 1M massiveweb', 'nDCG@10': result[0].split('\\t')[-1]})"
   ]
  },
  {
   "cell_type": "markdown",
   "id": "51008fba",
   "metadata": {},
   "source": [
    "### Compute BM25 + E5 1M massiveweb filtered nDCG@10"
   ]
  },
  {
   "cell_type": "code",
   "execution_count": 47,
   "id": "5570366f",
   "metadata": {},
   "outputs": [],
   "source": [
    "result = !{TREC_EVAL} -c -mndcg_cut.10 \\\n",
    "    {qrels_1M_filename} {bm25_e5_filename}\n",
    "\n",
    "retrievers_1M_results.append({'retriever':'BM25+E5 1M massiveweb', 'nDCG@10': result[0].split('\\t')[-1]})"
   ]
  },
  {
   "cell_type": "markdown",
   "id": "87dc05e9",
   "metadata": {
    "id": "87dc05e9"
   },
   "source": [
    "### Check the overall results"
   ]
  },
  {
   "cell_type": "code",
   "execution_count": 49,
   "id": "f8a4d81b",
   "metadata": {
    "colab": {
     "base_uri": "https://localhost:8080/",
     "height": 144
    },
    "executionInfo": {
     "elapsed": 274,
     "status": "ok",
     "timestamp": 1706190642171,
     "user": {
      "displayName": "Eduardo Seiti de Oliveira",
      "userId": "03989307632206042931"
     },
     "user_tz": 180
    },
    "id": "f8a4d81b",
    "outputId": "d4475292-83d3-48f2-fa5c-1924911e638d"
   },
   "outputs": [
    {
     "data": {
      "text/html": [
       "<div>\n",
       "<style scoped>\n",
       "    .dataframe tbody tr th:only-of-type {\n",
       "        vertical-align: middle;\n",
       "    }\n",
       "\n",
       "    .dataframe tbody tr th {\n",
       "        vertical-align: top;\n",
       "    }\n",
       "\n",
       "    .dataframe thead th {\n",
       "        text-align: right;\n",
       "    }\n",
       "</style>\n",
       "<table border=\"1\" class=\"dataframe\">\n",
       "  <thead>\n",
       "    <tr style=\"text-align: right;\">\n",
       "      <th></th>\n",
       "      <th>retriever</th>\n",
       "      <th>nDCG@10</th>\n",
       "    </tr>\n",
       "  </thead>\n",
       "  <tbody>\n",
       "    <tr>\n",
       "      <th>0</th>\n",
       "      <td>BM25 1M massiveweb</td>\n",
       "      <td>0.4168</td>\n",
       "    </tr>\n",
       "    <tr>\n",
       "      <th>1</th>\n",
       "      <td>ColBERT-X_mMARCO_pt-BR 1M massiveweb</td>\n",
       "      <td>0.5046</td>\n",
       "    </tr>\n",
       "    <tr>\n",
       "      <th>4</th>\n",
       "      <td>BM25+E5 1M massiveweb</td>\n",
       "      <td>0.5634</td>\n",
       "    </tr>\n",
       "    <tr>\n",
       "      <th>2</th>\n",
       "      <td>ADA v2 1M massiveweb</td>\n",
       "      <td>0.5825</td>\n",
       "    </tr>\n",
       "    <tr>\n",
       "      <th>3</th>\n",
       "      <td>BM25+mT5 1M massiveweb</td>\n",
       "      <td>0.6777</td>\n",
       "    </tr>\n",
       "  </tbody>\n",
       "</table>\n",
       "</div>"
      ],
      "text/plain": [
       "                              retriever nDCG@10\n",
       "0                    BM25 1M massiveweb  0.4168\n",
       "1  ColBERT-X_mMARCO_pt-BR 1M massiveweb  0.5046\n",
       "4                 BM25+E5 1M massiveweb  0.5634\n",
       "2                  ADA v2 1M massiveweb  0.5825\n",
       "3                BM25+mT5 1M massiveweb  0.6777"
      ]
     },
     "execution_count": 49,
     "metadata": {},
     "output_type": "execute_result"
    }
   ],
   "source": [
    "pd.DataFrame(retrievers_1M_results).sort_values('nDCG@10')"
   ]
  },
  {
   "cell_type": "code",
   "execution_count": 92,
   "id": "eeb2e7fe",
   "metadata": {
    "id": "eeb2e7fe"
   },
   "outputs": [
    {
     "data": {
      "text/plain": [
       "41.07829322999999"
      ]
     },
     "execution_count": 92,
     "metadata": {},
     "output_type": "execute_result"
    }
   ],
   "source": [
    "31.5986871 * 1e+7 * 1e-3 * 0.00013"
   ]
  },
  {
   "cell_type": "code",
   "execution_count": null,
   "id": "3f3b10aa",
   "metadata": {},
   "outputs": [],
   "source": []
  }
 ],
 "metadata": {
  "colab": {
   "provenance": []
  },
  "kernelspec": {
   "display_name": "Python 3 (ipykernel)",
   "language": "python",
   "name": "python3"
  },
  "language_info": {
   "codemirror_mode": {
    "name": "ipython",
    "version": 3
   },
   "file_extension": ".py",
   "mimetype": "text/x-python",
   "name": "python",
   "nbconvert_exporter": "python",
   "pygments_lexer": "ipython3",
   "version": "3.10.12"
  }
 },
 "nbformat": 4,
 "nbformat_minor": 5
}
