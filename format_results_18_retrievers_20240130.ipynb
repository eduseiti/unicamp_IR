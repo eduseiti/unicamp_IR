{
 "cells": [
  {
   "cell_type": "code",
   "execution_count": 1,
   "id": "642a987d",
   "metadata": {
    "executionInfo": {
     "elapsed": 272,
     "status": "ok",
     "timestamp": 1706188944885,
     "user": {
      "displayName": "Eduardo Seiti de Oliveira",
      "userId": "03989307632206042931"
     },
     "user_tz": 180
    },
    "id": "642a987d"
   },
   "outputs": [],
   "source": [
    "import os\n",
    "import sys"
   ]
  },
  {
   "cell_type": "code",
   "execution_count": 2,
   "id": "e886f0fb",
   "metadata": {
    "executionInfo": {
     "elapsed": 4,
     "status": "ok",
     "timestamp": 1706188945248,
     "user": {
      "displayName": "Eduardo Seiti de Oliveira",
      "userId": "03989307632206042931"
     },
     "user_tz": 180
    },
    "id": "e886f0fb"
   },
   "outputs": [],
   "source": [
    "IN_COLAB='google.colab' in sys.modules"
   ]
  },
  {
   "cell_type": "code",
   "execution_count": 3,
   "id": "91c83783",
   "metadata": {
    "colab": {
     "base_uri": "https://localhost:8080/"
    },
    "executionInfo": {
     "elapsed": 6046,
     "status": "ok",
     "timestamp": 1706189390986,
     "user": {
      "displayName": "Eduardo Seiti de Oliveira",
      "userId": "03989307632206042931"
     },
     "user_tz": 180
    },
    "id": "91c83783",
    "outputId": "158fb160-7fb5-48ac-df6e-400435e2517d"
   },
   "outputs": [],
   "source": [
    "if IN_COLAB:\n",
    "    from google.colab import drive\n",
    "\n",
    "    WORKING_FOLDER=\"/content/drive/MyDrive/unicamp/ia368v_dd/trabalho_final_UNICAMP-IR/artigo/unicamp_IR\"\n",
    "\n",
    "    drive.mount('/content/drive', force_remount=True)\n",
    "\n",
    "    os.chdir(WORKING_FOLDER)\n",
    "\n",
    "    TREC_EVAL=\"/content/drive/MyDrive/unicamp/ia368v_dd/pyserini/tools/eval/trec_eval.9.0.4/trec_eval\"\n",
    "else:\n",
    "    WORKING_FOLDER=\"/media/eduseiti/bigdata01/unicamp/ia368v_dd/unicamp_IR/\"\n",
    "    TREC_EVAL=\"/media/eduseiti/bigdata01/unicamp/ia368v_dd/pyserini/tools/eval/trec_eval.9.0.4/trec_eval\""
   ]
  },
  {
   "cell_type": "code",
   "execution_count": 4,
   "id": "069d6976",
   "metadata": {
    "executionInfo": {
     "elapsed": 671,
     "status": "ok",
     "timestamp": 1706188867271,
     "user": {
      "displayName": "Eduardo Seiti de Oliveira",
      "userId": "03989307632206042931"
     },
     "user_tz": 180
    },
    "id": "069d6976"
   },
   "outputs": [],
   "source": [
    "import pandas as pd\n",
    "import numpy as np"
   ]
  },
  {
   "cell_type": "code",
   "execution_count": 5,
   "id": "7639ebb8",
   "metadata": {
    "executionInfo": {
     "elapsed": 298,
     "status": "ok",
     "timestamp": 1706188886428,
     "user": {
      "displayName": "Eduardo Seiti de Oliveira",
      "userId": "03989307632206042931"
     },
     "user_tz": 180
    },
    "id": "7639ebb8"
   },
   "outputs": [],
   "source": [
    "pd.set_option('display.max_colwidth', None)\n",
    "pd.set_option('display.max_rows', 500)"
   ]
  },
  {
   "cell_type": "code",
   "execution_count": 46,
   "id": "c34d51d7",
   "metadata": {
    "executionInfo": {
     "elapsed": 338,
     "status": "ok",
     "timestamp": 1706188888102,
     "user": {
      "displayName": "Eduardo Seiti de Oliveira",
      "userId": "03989307632206042931"
     },
     "user_tz": 180
    },
    "id": "c34d51d7"
   },
   "outputs": [],
   "source": [
    "ALL_EVALUATIONS=\"tests/evaluation_18_retrievers_000_009_sampled_50_queries_gpt-4-1106-preview_20240130.tsv\"\n",
    "\n",
    "BM25_RUN=\"tests/200-queries-passagens-by-BM25-pt_v2_with_query_id_run.txt\"\n",
    "BM25_E5_RUN=\"tests/bm25_e5_docs_000_999_50_sampled_queries_run.txt\"\n",
    "BM25_MT5_RUN=\"tests/200-queries-passagens-by-BM25-mT5_v4_with_query_id_run.txt\"\n",
    "SPLADE_RUN=\"tests/splade_pt_result_with_clueweb_id_run.txt\"\n",
    "COLBERTX_RUN=\"tests/colbertx_all_znormalized_validation_scores_000_199_run.txt\"\n",
    "\n",
    "E5_RUN=\"tests/e5_docs_000_999_50_sampled_queries_run.txt\"\n",
    "E5_BASE_RUN=\"tests/e5_base_docs_000_999_50_sampled_queries_run.txt\"\n",
    "SPLADE_MT5_RUN=\"tests/splade_mt5_docs_000_099_50_sampled_queries_run.txt\"\n",
    "\n",
    "BM25_1M_RUN=\"tests/bm25_1M_docs_000_999_sampled_50_queries_run.txt\"\n",
    "BM25_1M_MASSIVEWEB_RUN=\"tests/bm25_massiveweb_1M_docs_000_999_sampled_50_queries_run.txt\"\n",
    "\n",
    "COLBERTX_1M_MASSIVEWEB_RUN=\"tests/colbertx_massiveweb_1M_docs_000_999_sampled_50_queries_run.txt\"\n",
    "\n",
    "E5_COLBERTX_RRF_RUN=\"tests/colbertx_e5_RRF_000_999_sampled_50_queries_run.txt\"\n",
    "E5_SPLADE_RRF_RUN=\"tests/splade_e5_fixed_RRF_000_999_sampled_50_queries_run.txt\"\n",
    "\n",
    "ADAV2_RUN=\"tests/adav2_1M_docs_000_999_sampled_50_queries_run.txt\"\n",
    "\n",
    "BM25_MT5_1M_MASSIVEWEB_RUN=\"tests/bm25_mt5_1M_docs_fixed_000_099_sampled_50_queries_run.txt\"\n",
    "\n",
    "COLBERTX_1M_MASSIVEWEB_RUN=\"tests/colbertx_massiveweb_1M_docs_000_999_sampled_50_queries_run.txt\"\n",
    "\n",
    "BM25_E5_1M_MASSIVEWEB_RUN=\"tests/bm25_e5_1M_docs_fixed_000_999_sampled_50_queries_run.txt\""
   ]
  },
  {
   "cell_type": "code",
   "execution_count": 7,
   "id": "52f83d12",
   "metadata": {},
   "outputs": [],
   "source": [
    "TEXT_EMBEDDING_3_LARGE_1M_MASSIVEWEB=\"tests/text-embedding-3-large_1M_docs_000_999_sampled_50_queries.tsv\""
   ]
  },
  {
   "cell_type": "code",
   "execution_count": 8,
   "id": "56c4ef85",
   "metadata": {
    "executionInfo": {
     "elapsed": 569,
     "status": "ok",
     "timestamp": 1706190431409,
     "user": {
      "displayName": "Eduardo Seiti de Oliveira",
      "userId": "03989307632206042931"
     },
     "user_tz": 180
    },
    "id": "56c4ef85"
   },
   "outputs": [],
   "source": [
    "DATASET_1M_FIELDS=['bm25_1M_massiveweb', \n",
    "                   'colbertx_1M_massiveweb', \n",
    "                   'adav2', \n",
    "                   'bm25_mT5_1M_massiveweb_fix', \n",
    "                   'bm25_e5_1M_massiveweb', \n",
    "                   'text-embbeding-3-large_1M_massiveweb']"
   ]
  },
  {
   "cell_type": "code",
   "execution_count": 9,
   "id": "7ce55d09",
   "metadata": {
    "executionInfo": {
     "elapsed": 3,
     "status": "ok",
     "timestamp": 1706188890714,
     "user": {
      "displayName": "Eduardo Seiti de Oliveira",
      "userId": "03989307632206042931"
     },
     "user_tz": 180
    },
    "id": "7ce55d09"
   },
   "outputs": [],
   "source": [
    "def prepare_run_format(results_filename, add_index=True, score_field='score', invert_score=False, retriever_name=\"retriever\"):\n",
    "\n",
    "    results_df = pd.read_csv(results_filename, sep='\\t')\n",
    "\n",
    "    display(results_df.head())\n",
    "\n",
    "    results_grouped_df = results_df.groupby(\"query_id\")['passage_id'].count()\n",
    "\n",
    "    how_many_passages_per_question = results_grouped_df.iloc[0]\n",
    "\n",
    "    if invert_score:\n",
    "        print(\"Inverting score values in '{}' field...\".format(score_field))\n",
    "\n",
    "        results_df['score_inv'] = 1 - results_df[score_field]\n",
    "        score_field = 'score_inv'\n",
    "\n",
    "    run_df = results_df.sort_values([\"query_id\", score_field], ascending=[True, False])\n",
    "\n",
    "    run_df['Q0'] = \"Q0\"\n",
    "    run_df['comment'] = retriever_name\n",
    "\n",
    "    if add_index:\n",
    "        run_df['index'] = np.tile(list(range(1, how_many_passages_per_question + 1)), results_grouped_df.shape[0])\n",
    "\n",
    "    output_filename = \"{}_run.txt\".format(os.path.splitext(results_filename)[0])\n",
    "\n",
    "    print(\"output_filename={}\".format(output_filename))\n",
    "\n",
    "    run_df[['query_id', 'Q0', \"passage_id\", \"index\", score_field, \"comment\"]].to_csv(output_filename, header=None, index=False, sep=\" \")\n",
    "\n",
    "    return output_filename, run_df"
   ]
  },
  {
   "cell_type": "code",
   "execution_count": 47,
   "id": "0a988b51",
   "metadata": {
    "executionInfo": {
     "elapsed": 349,
     "status": "ok",
     "timestamp": 1706190125824,
     "user": {
      "displayName": "Eduardo Seiti de Oliveira",
      "userId": "03989307632206042931"
     },
     "user_tz": 180
    },
    "id": "0a988b51"
   },
   "outputs": [],
   "source": [
    "retrievers_results = []"
   ]
  },
  {
   "cell_type": "code",
   "execution_count": 84,
   "id": "elrLIjcU4qgc",
   "metadata": {
    "executionInfo": {
     "elapsed": 300,
     "status": "ok",
     "timestamp": 1706190620647,
     "user": {
      "displayName": "Eduardo Seiti de Oliveira",
      "userId": "03989307632206042931"
     },
     "user_tz": 180
    },
    "id": "elrLIjcU4qgc"
   },
   "outputs": [],
   "source": [
    "retrievers_1M_results = []"
   ]
  },
  {
   "cell_type": "markdown",
   "id": "6f7bc6a6",
   "metadata": {
    "id": "6f7bc6a6"
   },
   "source": [
    "### Format GPT-4 evaluations to qrels format"
   ]
  },
  {
   "cell_type": "code",
   "execution_count": 12,
   "id": "5129453f",
   "metadata": {
    "executionInfo": {
     "elapsed": 265,
     "status": "ok",
     "timestamp": 1706188898120,
     "user": {
      "displayName": "Eduardo Seiti de Oliveira",
      "userId": "03989307632206042931"
     },
     "user_tz": 180
    },
    "id": "5129453f"
   },
   "outputs": [],
   "source": [
    "qrels_filename = os.path.join(os.path.dirname(ALL_EVALUATIONS), \"{}_qrel.txt\".format(os.path.splitext(os.path.basename(ALL_EVALUATIONS))[0]))\n",
    "qrels_1M_filename = os.path.join(os.path.dirname(ALL_EVALUATIONS), \"{}_1M_qrel.txt\".format(os.path.splitext(os.path.basename(ALL_EVALUATIONS))[0]))"
   ]
  },
  {
   "cell_type": "code",
   "execution_count": 13,
   "id": "b4b5e5ae",
   "metadata": {
    "colab": {
     "base_uri": "https://localhost:8080/"
    },
    "executionInfo": {
     "elapsed": 891,
     "status": "ok",
     "timestamp": 1706190591650,
     "user": {
      "displayName": "Eduardo Seiti de Oliveira",
      "userId": "03989307632206042931"
     },
     "user_tz": 180
    },
    "id": "b4b5e5ae",
    "outputId": "e8e8b960-77a0-4be5-dbfb-b9029b2a048c"
   },
   "outputs": [
    {
     "name": "stdout",
     "output_type": "stream",
     "text": [
      "\n",
      "query_id=1\n",
      "(array([0, 1, 2, 3]), array([21, 50, 19, 10]))\n",
      "\n",
      "query_id=2\n",
      "(array([0, 1, 2, 3]), array([117,   2,   1,   2]))\n",
      "\n",
      "query_id=9\n",
      "(array([0, 1, 2, 3]), array([72, 10, 15,  6]))\n",
      "\n",
      "query_id=11\n",
      "(array([0, 1, 2, 3]), array([58, 20,  8,  2]))\n",
      "\n",
      "query_id=13\n",
      "(array([0, 1, 2, 3]), array([44, 17, 24,  5]))\n",
      "\n",
      "query_id=15\n",
      "(array([0, 1, 2, 3]), array([38, 23,  4, 17]))\n",
      "\n",
      "query_id=17\n",
      "(array([0, 1, 2, 3]), array([33, 10,  2, 39]))\n",
      "\n",
      "query_id=20\n",
      "(array([0, 1, 2, 3]), array([18, 68, 30,  8]))\n",
      "\n",
      "query_id=21\n",
      "(array([0, 1, 2, 3]), array([56, 25, 11, 22]))\n",
      "\n",
      "query_id=22\n",
      "(array([0, 1, 2, 3]), array([62, 17,  2,  7]))\n",
      "\n",
      "query_id=24\n",
      "(array([0, 1, 2, 3]), array([68, 35, 13,  2]))\n",
      "\n",
      "query_id=26\n",
      "(array([0, 1, 2, 3]), array([14, 19, 16, 33]))\n",
      "\n",
      "query_id=28\n",
      "(array([0, 1, 2, 3]), array([62, 24, 13,  4]))\n",
      "\n",
      "query_id=47\n",
      "(array([0, 1, 2, 3]), array([58, 33, 34,  2]))\n",
      "\n",
      "query_id=49\n",
      "(array([0, 1, 2, 3]), array([33, 32, 24,  2]))\n",
      "\n",
      "query_id=51\n",
      "(array([0, 1, 2, 3]), array([41, 24, 14,  1]))\n",
      "\n",
      "query_id=54\n",
      "(array([0, 1, 2, 3]), array([ 1, 18, 27, 47]))\n",
      "\n",
      "query_id=60\n",
      "(array([0, 1, 3]), array([17,  7, 53]))\n",
      "\n",
      "query_id=62\n",
      "(array([0, 1, 2, 3]), array([54, 44, 23,  1]))\n",
      "\n",
      "query_id=64\n",
      "(array([0, 1, 2, 3]), array([43, 14, 14, 16]))\n",
      "\n",
      "query_id=68\n",
      "(array([0, 1, 2, 3]), array([26, 41, 52,  4]))\n",
      "\n",
      "query_id=84\n",
      "(array([0, 1, 2, 3]), array([89,  6,  2,  2]))\n",
      "\n",
      "query_id=95\n",
      "(array([0, 1, 2]), array([96, 10,  3]))\n",
      "\n",
      "query_id=98\n",
      "(array([0, 1, 2, 3]), array([61, 10, 12, 12]))\n",
      "\n",
      "query_id=105\n",
      "(array([0, 1, 2, 3]), array([55, 17,  2, 18]))\n",
      "\n",
      "query_id=113\n",
      "(array([0, 1, 2, 3]), array([16,  7, 23, 31]))\n",
      "\n",
      "query_id=115\n",
      "(array([0, 1, 2, 3]), array([ 6, 20, 43, 22]))\n",
      "\n",
      "query_id=117\n",
      "(array([0, 1, 2, 3]), array([44, 39,  8, 13]))\n",
      "\n",
      "query_id=126\n",
      "(array([0, 1, 2, 3]), array([103,   3,   1,  22]))\n",
      "\n",
      "query_id=127\n",
      "(array([0, 1, 2, 3]), array([25, 18, 10,  7]))\n",
      "\n",
      "query_id=128\n",
      "(array([0, 1, 3]), array([57,  3, 21]))\n",
      "\n",
      "query_id=136\n",
      "(array([0, 1, 2, 3]), array([61, 16, 17,  6]))\n",
      "\n",
      "query_id=147\n",
      "(array([0, 1, 2, 3]), array([91,  5,  1,  5]))\n",
      "\n",
      "query_id=152\n",
      "(array([0, 1, 2, 3]), array([73, 26,  3,  5]))\n",
      "\n",
      "query_id=153\n",
      "(array([0, 1, 2, 3]), array([34, 24, 11, 13]))\n",
      "\n",
      "query_id=154\n",
      "(array([0, 1, 2, 3]), array([ 7, 10, 14, 33]))\n",
      "\n",
      "query_id=160\n",
      "(array([0, 1, 2, 3]), array([60,  7, 11, 11]))\n",
      "\n",
      "query_id=161\n",
      "(array([0, 1, 2, 3]), array([36,  8, 13,  7]))\n",
      "\n",
      "query_id=163\n",
      "(array([0, 1, 2, 3]), array([41, 17, 13,  1]))\n",
      "\n",
      "query_id=167\n",
      "(array([0, 1, 2, 3]), array([95, 22,  6,  1]))\n",
      "\n",
      "query_id=170\n",
      "(array([0, 1, 2, 3]), array([31, 27, 40,  2]))\n",
      "\n",
      "query_id=172\n",
      "(array([0, 1, 2, 3]), array([20, 11, 21, 22]))\n",
      "\n",
      "query_id=180\n",
      "(array([0, 1, 2, 3]), array([45,  8, 13,  7]))\n",
      "\n",
      "query_id=181\n",
      "(array([0, 1, 2, 3]), array([77,  9,  5, 13]))\n",
      "\n",
      "query_id=182\n",
      "(array([0, 1, 2, 3]), array([67, 10,  4,  5]))\n",
      "\n",
      "query_id=189\n",
      "(array([0, 1]), array([82, 21]))\n",
      "\n",
      "query_id=193\n",
      "(array([0, 1, 2, 3]), array([25, 18, 26, 25]))\n",
      "\n",
      "query_id=195\n",
      "(array([0, 1, 2, 3]), array([12, 11, 25, 31]))\n",
      "\n",
      "query_id=196\n",
      "(array([0, 1, 2, 3]), array([24, 24, 46,  6]))\n",
      "\n",
      "query_id=199\n",
      "(array([0, 1, 2, 3]), array([22, 16, 19, 30]))\n",
      "\n",
      "\n",
      "\n",
      "tests/evaluation_18_retrievers_000_009_sampled_50_queries_gpt-4-1106-preview_20240130_qrel.txt\n",
      "tests/evaluation_18_retrievers_000_009_sampled_50_queries_gpt-4-1106-preview_20240130_1M_qrel.txt\n"
     ]
    }
   ],
   "source": [
    "if os.path.exists(qrels_filename) == False:\n",
    "    eval_df = pd.read_csv(ALL_EVALUATIONS, sep='\\t')\n",
    "\n",
    "    eval_df\n",
    "\n",
    "    eval_df.drop_duplicates(\"query_id\")[['query_id', 'query']]\n",
    "\n",
    "    #### Check scores distribution on the current qrels\n",
    "\n",
    "    np.unique(eval_df['score'].to_numpy(), return_counts=True)\n",
    "\n",
    "    for group_name, group_df in eval_df.groupby('query_id'):\n",
    "        print(\"\\nquery_id={}\".format(group_name))\n",
    "\n",
    "        print(np.unique(group_df['score'].to_numpy(), return_counts=True))\n",
    "\n",
    "    eval_df.groupby('query_id').count()\n",
    "\n",
    "    eval_df.groupby('query_id').count()['query'].describe()\n",
    "\n",
    "    #### Prepare the qrels format for trec_eval tools\n",
    "\n",
    "    eval_df['0'] = '0'\n",
    "\n",
    "    print(\"\\n\\n\")\n",
    "    print(qrels_filename)\n",
    "    print(qrels_1M_filename)\n",
    "\n",
    "    eval_df.sort_values('query_id')[['query_id', '0', 'passage_id', 'score']].to_csv(qrels_filename, header=None, index=False, sep=\" \")\n",
    "\n",
    "\n",
    "    #### Select 1M dataset evaluations\n",
    "\n",
    "    eval_df[eval_df[DATASET_1M_FIELDS].sum(axis=1) > 0].sort_values('query_id')[['query_id', '0', 'passage_id', 'score']].to_csv(qrels_1M_filename, header=None, index=False, sep=\" \")\n",
    "\n",
    "else:\n",
    "    print(\"QRELS files ({}) already created...\".format(qrels_filename))"
   ]
  },
  {
   "cell_type": "markdown",
   "id": "21c43950",
   "metadata": {
    "id": "21c43950"
   },
   "source": [
    "## 10M dataset"
   ]
  },
  {
   "cell_type": "markdown",
   "id": "46a5067d",
   "metadata": {
    "id": "46a5067d"
   },
   "source": [
    "### Compute BM25 nDCG@10"
   ]
  },
  {
   "cell_type": "code",
   "execution_count": 48,
   "id": "47f680eb",
   "metadata": {
    "executionInfo": {
     "elapsed": 502,
     "status": "ok",
     "timestamp": 1706190235611,
     "user": {
      "displayName": "Eduardo Seiti de Oliveira",
      "userId": "03989307632206042931"
     },
     "user_tz": 180
    },
    "id": "47f680eb"
   },
   "outputs": [],
   "source": [
    "result = !{TREC_EVAL} -c -mndcg_cut.10 \\\n",
    "    {qrels_filename} tests/200-queries-passagens-by-BM25-pt_v2_with_query_id_run.txt"
   ]
  },
  {
   "cell_type": "code",
   "execution_count": 49,
   "id": "074fd2a5",
   "metadata": {
    "executionInfo": {
     "elapsed": 3,
     "status": "ok",
     "timestamp": 1706190235612,
     "user": {
      "displayName": "Eduardo Seiti de Oliveira",
      "userId": "03989307632206042931"
     },
     "user_tz": 180
    },
    "id": "074fd2a5"
   },
   "outputs": [],
   "source": [
    "retrievers_results.append({'retriever':'BM25', 'nDCG@10': result[0].split('\\t')[-1]})"
   ]
  },
  {
   "cell_type": "code",
   "execution_count": 50,
   "id": "4e4ea831",
   "metadata": {
    "colab": {
     "base_uri": "https://localhost:8080/"
    },
    "executionInfo": {
     "elapsed": 2,
     "status": "ok",
     "timestamp": 1706190236055,
     "user": {
      "displayName": "Eduardo Seiti de Oliveira",
      "userId": "03989307632206042931"
     },
     "user_tz": 180
    },
    "id": "4e4ea831",
    "outputId": "e9c21f80-5c88-41e3-ede4-2de72b03fb09"
   },
   "outputs": [
    {
     "data": {
      "text/plain": [
       "[{'retriever': 'BM25', 'nDCG@10': '0.4471'}]"
      ]
     },
     "execution_count": 50,
     "metadata": {},
     "output_type": "execute_result"
    }
   ],
   "source": [
    "retrievers_results"
   ]
  },
  {
   "cell_type": "markdown",
   "id": "8369421c",
   "metadata": {
    "id": "8369421c"
   },
   "source": [
    "### Compute BM25 + E5 nDCG@10"
   ]
  },
  {
   "cell_type": "code",
   "execution_count": 51,
   "id": "af1fc331",
   "metadata": {
    "executionInfo": {
     "elapsed": 614,
     "status": "ok",
     "timestamp": 1706190238479,
     "user": {
      "displayName": "Eduardo Seiti de Oliveira",
      "userId": "03989307632206042931"
     },
     "user_tz": 180
    },
    "id": "af1fc331"
   },
   "outputs": [],
   "source": [
    "result = !{TREC_EVAL} -c -mndcg_cut.10 \\\n",
    "    {qrels_filename} {BM25_E5_RUN}"
   ]
  },
  {
   "cell_type": "code",
   "execution_count": 52,
   "id": "06d9ec4e",
   "metadata": {
    "executionInfo": {
     "elapsed": 6,
     "status": "ok",
     "timestamp": 1706190238481,
     "user": {
      "displayName": "Eduardo Seiti de Oliveira",
      "userId": "03989307632206042931"
     },
     "user_tz": 180
    },
    "id": "06d9ec4e"
   },
   "outputs": [],
   "source": [
    "retrievers_results.append({'retriever':'BM25+E5', 'nDCG@10': result[0].split('\\t')[-1]})"
   ]
  },
  {
   "cell_type": "markdown",
   "id": "3b14bc7e",
   "metadata": {
    "id": "3b14bc7e"
   },
   "source": [
    "### Compute BM25 + mT5 nDCG@10"
   ]
  },
  {
   "cell_type": "code",
   "execution_count": 53,
   "id": "0e805605",
   "metadata": {
    "executionInfo": {
     "elapsed": 471,
     "status": "ok",
     "timestamp": 1706190238946,
     "user": {
      "displayName": "Eduardo Seiti de Oliveira",
      "userId": "03989307632206042931"
     },
     "user_tz": 180
    },
    "id": "0e805605"
   },
   "outputs": [],
   "source": [
    "result = !{TREC_EVAL} -c -mndcg_cut.10 \\\n",
    "    {qrels_filename} {BM25_MT5_RUN}"
   ]
  },
  {
   "cell_type": "code",
   "execution_count": 54,
   "id": "ee3b9137",
   "metadata": {
    "executionInfo": {
     "elapsed": 555,
     "status": "ok",
     "timestamp": 1706190239498,
     "user": {
      "displayName": "Eduardo Seiti de Oliveira",
      "userId": "03989307632206042931"
     },
     "user_tz": 180
    },
    "id": "ee3b9137"
   },
   "outputs": [],
   "source": [
    "retrievers_results.append({'retriever':'BM25+mT5', 'nDCG@10': result[0].split('\\t')[-1]})"
   ]
  },
  {
   "cell_type": "markdown",
   "id": "ef82c6bc",
   "metadata": {
    "id": "ef82c6bc"
   },
   "source": [
    "### Compute SPLADE nDCG@10"
   ]
  },
  {
   "cell_type": "code",
   "execution_count": 55,
   "id": "5c0159a9",
   "metadata": {
    "executionInfo": {
     "elapsed": 603,
     "status": "ok",
     "timestamp": 1706190240095,
     "user": {
      "displayName": "Eduardo Seiti de Oliveira",
      "userId": "03989307632206042931"
     },
     "user_tz": 180
    },
    "id": "5c0159a9"
   },
   "outputs": [],
   "source": [
    "result = !{TREC_EVAL} -c -mndcg_cut.10 \\\n",
    "    {qrels_filename} {SPLADE_RUN}"
   ]
  },
  {
   "cell_type": "code",
   "execution_count": 56,
   "id": "fe5ab9e6",
   "metadata": {
    "executionInfo": {
     "elapsed": 7,
     "status": "ok",
     "timestamp": 1706190240096,
     "user": {
      "displayName": "Eduardo Seiti de Oliveira",
      "userId": "03989307632206042931"
     },
     "user_tz": 180
    },
    "id": "fe5ab9e6"
   },
   "outputs": [],
   "source": [
    "retrievers_results.append({'retriever':'SPLADEv2_pt-BR', 'nDCG@10': result[0].split('\\t')[-1]})"
   ]
  },
  {
   "cell_type": "markdown",
   "id": "bc9a4a56",
   "metadata": {
    "id": "bc9a4a56"
   },
   "source": [
    "### Compute ColBERTX nDCG@10"
   ]
  },
  {
   "cell_type": "code",
   "execution_count": 57,
   "id": "2ca2413d",
   "metadata": {
    "executionInfo": {
     "elapsed": 445,
     "status": "ok",
     "timestamp": 1706190240535,
     "user": {
      "displayName": "Eduardo Seiti de Oliveira",
      "userId": "03989307632206042931"
     },
     "user_tz": 180
    },
    "id": "2ca2413d"
   },
   "outputs": [],
   "source": [
    "result = !{TREC_EVAL} -c -mndcg_cut.10 \\\n",
    "    {qrels_filename} {COLBERTX_RUN}"
   ]
  },
  {
   "cell_type": "code",
   "execution_count": 58,
   "id": "ac146b19",
   "metadata": {
    "executionInfo": {
     "elapsed": 3,
     "status": "ok",
     "timestamp": 1706190240535,
     "user": {
      "displayName": "Eduardo Seiti de Oliveira",
      "userId": "03989307632206042931"
     },
     "user_tz": 180
    },
    "id": "ac146b19"
   },
   "outputs": [],
   "source": [
    "retrievers_results.append({'retriever':'ColBERT-X_mMARCO_pt-BR', 'nDCG@10': result[0].split('\\t')[-1]})"
   ]
  },
  {
   "cell_type": "markdown",
   "id": "8eebc635",
   "metadata": {
    "id": "8eebc635"
   },
   "source": [
    "### Compute E5 nDCG@10"
   ]
  },
  {
   "cell_type": "code",
   "execution_count": 59,
   "id": "e582ba5c",
   "metadata": {
    "executionInfo": {
     "elapsed": 1215,
     "status": "ok",
     "timestamp": 1706190242202,
     "user": {
      "displayName": "Eduardo Seiti de Oliveira",
      "userId": "03989307632206042931"
     },
     "user_tz": 180
    },
    "id": "e582ba5c"
   },
   "outputs": [],
   "source": [
    "result = !{TREC_EVAL} -c -mndcg_cut.10 \\\n",
    "    {qrels_filename} {E5_RUN}"
   ]
  },
  {
   "cell_type": "code",
   "execution_count": 60,
   "id": "7bb472b0",
   "metadata": {
    "executionInfo": {
     "elapsed": 3,
     "status": "ok",
     "timestamp": 1706190242202,
     "user": {
      "displayName": "Eduardo Seiti de Oliveira",
      "userId": "03989307632206042931"
     },
     "user_tz": 180
    },
    "id": "7bb472b0"
   },
   "outputs": [],
   "source": [
    "retrievers_results.append({'retriever':'E5', 'nDCG@10': result[0].split('\\t')[-1]})"
   ]
  },
  {
   "cell_type": "markdown",
   "id": "fdb8eed8",
   "metadata": {
    "id": "fdb8eed8"
   },
   "source": [
    "### Compute E5 base nDCG@10"
   ]
  },
  {
   "cell_type": "code",
   "execution_count": 61,
   "id": "c6e41c4f",
   "metadata": {
    "executionInfo": {
     "elapsed": 437,
     "status": "ok",
     "timestamp": 1706190242637,
     "user": {
      "displayName": "Eduardo Seiti de Oliveira",
      "userId": "03989307632206042931"
     },
     "user_tz": 180
    },
    "id": "c6e41c4f"
   },
   "outputs": [],
   "source": [
    "result = !{TREC_EVAL} -c -mndcg_cut.10 \\\n",
    "    {qrels_filename} {E5_BASE_RUN}"
   ]
  },
  {
   "cell_type": "code",
   "execution_count": 62,
   "id": "6ac443e0",
   "metadata": {
    "executionInfo": {
     "elapsed": 2,
     "status": "ok",
     "timestamp": 1706190242637,
     "user": {
      "displayName": "Eduardo Seiti de Oliveira",
      "userId": "03989307632206042931"
     },
     "user_tz": 180
    },
    "id": "6ac443e0"
   },
   "outputs": [],
   "source": [
    "retrievers_results.append({'retriever':'E5 base', 'nDCG@10': result[0].split('\\t')[-1]})"
   ]
  },
  {
   "cell_type": "markdown",
   "id": "f908456a",
   "metadata": {
    "id": "f908456a"
   },
   "source": [
    "### Compute SPLADE + mT5 nDCG@10"
   ]
  },
  {
   "cell_type": "code",
   "execution_count": 63,
   "id": "0d13f8e3",
   "metadata": {
    "executionInfo": {
     "elapsed": 793,
     "status": "ok",
     "timestamp": 1706190243428,
     "user": {
      "displayName": "Eduardo Seiti de Oliveira",
      "userId": "03989307632206042931"
     },
     "user_tz": 180
    },
    "id": "0d13f8e3"
   },
   "outputs": [],
   "source": [
    "result = !{TREC_EVAL} -c -mndcg_cut.10 \\\n",
    "    {qrels_filename} {SPLADE_MT5_RUN}"
   ]
  },
  {
   "cell_type": "code",
   "execution_count": 64,
   "id": "c04b4385",
   "metadata": {
    "executionInfo": {
     "elapsed": 6,
     "status": "ok",
     "timestamp": 1706190243429,
     "user": {
      "displayName": "Eduardo Seiti de Oliveira",
      "userId": "03989307632206042931"
     },
     "user_tz": 180
    },
    "id": "c04b4385"
   },
   "outputs": [],
   "source": [
    "retrievers_results.append({'retriever':'SPLADEv2_pt-BR + mT5', 'nDCG@10': result[0].split('\\t')[-1]})"
   ]
  },
  {
   "cell_type": "markdown",
   "id": "5fb7edda",
   "metadata": {
    "id": "5fb7edda"
   },
   "source": [
    "### Compute E5 + ColBERT-X RRF nDCG@10"
   ]
  },
  {
   "cell_type": "code",
   "execution_count": 65,
   "id": "162e0739",
   "metadata": {
    "executionInfo": {
     "elapsed": 905,
     "status": "ok",
     "timestamp": 1706190244329,
     "user": {
      "displayName": "Eduardo Seiti de Oliveira",
      "userId": "03989307632206042931"
     },
     "user_tz": 180
    },
    "id": "162e0739"
   },
   "outputs": [],
   "source": [
    "result = !{TREC_EVAL} -c -mndcg_cut.10 \\\n",
    "    {qrels_filename} {E5_COLBERTX_RRF_RUN}"
   ]
  },
  {
   "cell_type": "code",
   "execution_count": 66,
   "id": "f3cb3689",
   "metadata": {
    "executionInfo": {
     "elapsed": 4,
     "status": "ok",
     "timestamp": 1706190244329,
     "user": {
      "displayName": "Eduardo Seiti de Oliveira",
      "userId": "03989307632206042931"
     },
     "user_tz": 180
    },
    "id": "f3cb3689"
   },
   "outputs": [],
   "source": [
    "retrievers_results.append({'retriever':'E5 + ColBERT-X mMARCO_pt-BR RRF', 'nDCG@10': result[0].split('\\t')[-1]})"
   ]
  },
  {
   "cell_type": "markdown",
   "id": "75a15037",
   "metadata": {
    "id": "75a15037"
   },
   "source": [
    "### Compute E5 + SPLADE RRF nDCG@10"
   ]
  },
  {
   "cell_type": "code",
   "execution_count": 67,
   "id": "d35edbc9",
   "metadata": {
    "executionInfo": {
     "elapsed": 1056,
     "status": "ok",
     "timestamp": 1706190245382,
     "user": {
      "displayName": "Eduardo Seiti de Oliveira",
      "userId": "03989307632206042931"
     },
     "user_tz": 180
    },
    "id": "d35edbc9"
   },
   "outputs": [],
   "source": [
    "result = !{TREC_EVAL} -c -mndcg_cut.10 \\\n",
    "    {qrels_filename} {E5_SPLADE_RRF_RUN}"
   ]
  },
  {
   "cell_type": "code",
   "execution_count": 68,
   "id": "2a645d56",
   "metadata": {
    "executionInfo": {
     "elapsed": 6,
     "status": "ok",
     "timestamp": 1706190245382,
     "user": {
      "displayName": "Eduardo Seiti de Oliveira",
      "userId": "03989307632206042931"
     },
     "user_tz": 180
    },
    "id": "2a645d56"
   },
   "outputs": [],
   "source": [
    "retrievers_results.append({'retriever':'E5 + SPLADEv2_pt-BR RRF', 'nDCG@10': result[0].split('\\t')[-1]})"
   ]
  },
  {
   "cell_type": "markdown",
   "id": "ff405951",
   "metadata": {
    "id": "ff405951"
   },
   "source": [
    "### Compute BM25 1M nDCG@10"
   ]
  },
  {
   "cell_type": "code",
   "execution_count": 69,
   "id": "84127c9c",
   "metadata": {
    "executionInfo": {
     "elapsed": 811,
     "status": "ok",
     "timestamp": 1706190246188,
     "user": {
      "displayName": "Eduardo Seiti de Oliveira",
      "userId": "03989307632206042931"
     },
     "user_tz": 180
    },
    "id": "84127c9c"
   },
   "outputs": [],
   "source": [
    "result = !{TREC_EVAL} -c -mndcg_cut.10 \\\n",
    "    {qrels_filename} {BM25_1M_RUN}\n",
    "\n",
    "retrievers_results.append({'retriever':'BM25 1M', 'nDCG@10': result[0].split('\\t')[-1]})"
   ]
  },
  {
   "cell_type": "markdown",
   "id": "d788f7ee",
   "metadata": {
    "id": "d788f7ee"
   },
   "source": [
    "### Compute BM25 1M massiveweb filtered nDCG@10"
   ]
  },
  {
   "cell_type": "code",
   "execution_count": 70,
   "id": "0d5cf3ee",
   "metadata": {
    "executionInfo": {
     "elapsed": 278,
     "status": "ok",
     "timestamp": 1706190246463,
     "user": {
      "displayName": "Eduardo Seiti de Oliveira",
      "userId": "03989307632206042931"
     },
     "user_tz": 180
    },
    "id": "0d5cf3ee"
   },
   "outputs": [],
   "source": [
    "result = !{TREC_EVAL} -c -mndcg_cut.10 \\\n",
    "    {qrels_filename} {BM25_1M_MASSIVEWEB_RUN}\n",
    "\n",
    "retrievers_results.append({'retriever':'BM25 1M massiveweb', 'nDCG@10': result[0].split('\\t')[-1]})"
   ]
  },
  {
   "cell_type": "markdown",
   "id": "f7bd0978",
   "metadata": {
    "id": "f7bd0978"
   },
   "source": [
    "### Compute ColBERT-X 1M massiveweb filtered nDCG@10"
   ]
  },
  {
   "cell_type": "code",
   "execution_count": 71,
   "id": "abb56cf8",
   "metadata": {
    "executionInfo": {
     "elapsed": 1506,
     "status": "ok",
     "timestamp": 1706190255088,
     "user": {
      "displayName": "Eduardo Seiti de Oliveira",
      "userId": "03989307632206042931"
     },
     "user_tz": 180
    },
    "id": "abb56cf8"
   },
   "outputs": [],
   "source": [
    "result = !{TREC_EVAL} -c -mndcg_cut.10 \\\n",
    "    {qrels_filename} {COLBERTX_1M_MASSIVEWEB_RUN}\n",
    "\n",
    "retrievers_results.append({'retriever':'ColBERT-X_mMARCO_pt-BR 1M massiveweb', 'nDCG@10': result[0].split('\\t')[-1]})"
   ]
  },
  {
   "cell_type": "markdown",
   "id": "f31705ab",
   "metadata": {},
   "source": [
    "### Compute ADAv2 1M massiveweb filtered nDCG@10"
   ]
  },
  {
   "cell_type": "code",
   "execution_count": 72,
   "id": "ba6da90a",
   "metadata": {},
   "outputs": [],
   "source": [
    "result = !{TREC_EVAL} -c -mndcg_cut.10 \\\n",
    "    {qrels_filename} {ADAV2_RUN}\n",
    "\n",
    "retrievers_results.append({'retriever':'ADA v2 1M massiveweb', 'nDCG@10': result[0].split('\\t')[-1]})"
   ]
  },
  {
   "cell_type": "markdown",
   "id": "5ecc9c4d",
   "metadata": {},
   "source": [
    "### Compute BM25 + mT5 1M massiveweb filtered nDCG@10"
   ]
  },
  {
   "cell_type": "code",
   "execution_count": 73,
   "id": "0cf83ecd",
   "metadata": {},
   "outputs": [],
   "source": [
    "result = !{TREC_EVAL} -c -mndcg_cut.10 \\\n",
    "    {qrels_filename} {BM25_MT5_1M_MASSIVEWEB_RUN}\n",
    "\n",
    "retrievers_results.append({'retriever':'BM25+mT5 1M massiveweb', 'nDCG@10': result[0].split('\\t')[-1]})"
   ]
  },
  {
   "cell_type": "markdown",
   "id": "d9be7cce",
   "metadata": {},
   "source": [
    "### Compute BM25 + E5 1M massiveweb filtered nDCG@10"
   ]
  },
  {
   "cell_type": "code",
   "execution_count": 74,
   "id": "28b4c9f8",
   "metadata": {},
   "outputs": [],
   "source": [
    "result = !{TREC_EVAL} -c -mndcg_cut.10 \\\n",
    "    {qrels_filename} {BM25_E5_1M_MASSIVEWEB_RUN}\n",
    "\n",
    "retrievers_results.append({'retriever':'BM25+E5 1M massiveweb', 'nDCG@10': result[0].split('\\t')[-1]})"
   ]
  },
  {
   "cell_type": "markdown",
   "id": "R7SdiUqvxLEQ",
   "metadata": {
    "id": "R7SdiUqvxLEQ"
   },
   "source": [
    "### Prepare text-embedding-3-large 1M massiveweb filtered run and compute nDCG@10"
   ]
  },
  {
   "cell_type": "code",
   "execution_count": 43,
   "id": "AabnEIYsxK4b",
   "metadata": {
    "colab": {
     "base_uri": "https://localhost:8080/",
     "height": 1000
    },
    "executionInfo": {
     "elapsed": 3807,
     "status": "ok",
     "timestamp": 1706189880286,
     "user": {
      "displayName": "Eduardo Seiti de Oliveira",
      "userId": "03989307632206042931"
     },
     "user_tz": 180
    },
    "id": "AabnEIYsxK4b",
    "outputId": "237b84f0-ce37-43e7-dfc7-a7a8ad40ca25"
   },
   "outputs": [
    {
     "data": {
      "text/html": [
       "<div>\n",
       "<style scoped>\n",
       "    .dataframe tbody tr th:only-of-type {\n",
       "        vertical-align: middle;\n",
       "    }\n",
       "\n",
       "    .dataframe tbody tr th {\n",
       "        vertical-align: top;\n",
       "    }\n",
       "\n",
       "    .dataframe thead th {\n",
       "        text-align: right;\n",
       "    }\n",
       "</style>\n",
       "<table border=\"1\" class=\"dataframe\">\n",
       "  <thead>\n",
       "    <tr style=\"text-align: right;\">\n",
       "      <th></th>\n",
       "      <th>query_id</th>\n",
       "      <th>query</th>\n",
       "      <th>passage_id</th>\n",
       "      <th>colbertx_id</th>\n",
       "      <th>position</th>\n",
       "      <th>score</th>\n",
       "      <th>passage</th>\n",
       "    </tr>\n",
       "  </thead>\n",
       "  <tbody>\n",
       "    <tr>\n",
       "      <th>0</th>\n",
       "      <td>1</td>\n",
       "      <td>Qual a maior característica da fauna brasileira?</td>\n",
       "      <td>clueweb22-pt0001-01-18874_0</td>\n",
       "      <td>4875435</td>\n",
       "      <td>1</td>\n",
       "      <td>0.660179</td>\n",
       "      <td>Conheça 11 lindos animais típicos da fauna brasileira / Incrível Conheça 11 lindos animais típicos da fauna brasileira 4--4 Compartilhe no Facebook Compartilhe no Facebook Compartilhe no Pinterest Que o Brasil é gigante, todos nós sabemos e até já demos aqui exemplos chocantes sobre isso. Mas um outro exemplo dessa grandiosidade é quando sabemos que o país abriga 17% das espécies de aves e 10% das de anfíbios e mamíferos de todo o mundo. Neste post, o Incrível.club vai te mostrar uma lista de animais típicos do país. Mico-leão dourado © Nadine Doerle / Pixabay Este macaco “ruivo” ficou famoso ao tornar-se um símbolo de espécies brasileiras em extinção. O cuidado para a preservação da espécie, que é nativa da Mata Atlântica e aparece na nota de 20 reais, começou nos anos 1970 e se intensificou duas décadas depois. Embora a situação tenha melhorado, o risco de extinção ainda existe. Tamanduá-bandeira © joelfotos / Pixabay Este gigante que ama comer formigas — pode devorar até 30 mil por dia, inclusive cupins — é também um forte: com seus 2,20 metros, consegue até brigar com uma onça pintada. E vencer. Embora ele exista originalmente nas três Américas, já foi extinto em países como Estados Unidos e em Estados brasileiros como Espírito Santo e Rio e Janeiro. Onça pintada</td>\n",
       "    </tr>\n",
       "    <tr>\n",
       "      <th>1</th>\n",
       "      <td>1</td>\n",
       "      <td>Qual a maior característica da fauna brasileira?</td>\n",
       "      <td>clueweb22-pt0000-45-00944_12</td>\n",
       "      <td>2137843</td>\n",
       "      <td>2</td>\n",
       "      <td>0.638983</td>\n",
       "      <td>A Amazônia apresenta a maior diversidade de espécies de mamíferos entre os biomas brasileiros. Das 397 espécies de mamíferos amazônicos, a maioria (58%) não ocorre em nenhum outro bioma brasileiro. É a mais alta proporção de endemismo entre os biomas terrestres do Brasil (Paglia et al, no prelo). A Amazônia também é o bioma brasileiro com mais alta diversidade de espécies de lagartos (109) e de serpentes (138) (Rodrigues, 2005). Soma-se ao alto índice de endemismos e alto número de espécies a alta diversidade de ecossistemas no vasto território amazônico. É preciso considerar a fragilidade dessa intrincada rede de relações das espécies entre si e com o ambiente, configurada em múltiplos arranjos de vegetação e de hábitats, de cujo equilíbrio depende o clima, a qualidade da água, o solo, a reciclagem de nutrientes e demais serviços ambientais.</td>\n",
       "    </tr>\n",
       "    <tr>\n",
       "      <th>2</th>\n",
       "      <td>1</td>\n",
       "      <td>Qual a maior característica da fauna brasileira?</td>\n",
       "      <td>clueweb22-pt0001-46-05303_17</td>\n",
       "      <td>7028401</td>\n",
       "      <td>3</td>\n",
       "      <td>0.636957</td>\n",
       "      <td>http://www.klimanaturali.org/2014/03/biomas-e-fitofisionomias-brasileiros.html 8/17 f15/03/2018 BIOMAS E FITOFISIONOMIAS BRASILEIROS: CARACTERÍSTICAS E EVOLUÇÃO DA FAUNA E FLORA - Klima Naturali™ colonização no Brasil e os ciclos de desenvolvimento do país SITE  BRASIL  MUNDO  CIÊNCIAS  GERAL  levaram o homem a ocupar e destruir parte desse espaço. Fauna e Flora Rica em diversidade de espécies, a Mata Atlântica está entre Pesquisa no Site...  as cinco regiões do mundo com maior número de espécies endêmicas. Os animais podem ser considerados generalistas ou especialistas. Os generalistas apresentam hábitos alimentares variados, alta taxa de crescimento e dispersão; vivem em áreas de vegetação aberta e secundária, tolerantes e capazes de aproveitar diferentes recursos oferecidos pelo meio ambiente. Os animais especialistas são mais exigentes em relação aos habitats nos quais vivem, com dieta especí ca, uma alteração no meio ambiente exige dos animais especialistas a procura de novos habitats. Grupos da Mata Atlântica Mamíferos – A Mata Atlântica possui cerca de 250 espécies de mamíferos, das quais 55 são endêmicas. Os mamíferos são os</td>\n",
       "    </tr>\n",
       "    <tr>\n",
       "      <th>3</th>\n",
       "      <td>1</td>\n",
       "      <td>Qual a maior característica da fauna brasileira?</td>\n",
       "      <td>clueweb22-pt0000-17-01771_19</td>\n",
       "      <td>827062</td>\n",
       "      <td>4</td>\n",
       "      <td>0.628107</td>\n",
       "      <td>A fauna brasileira está entre as mais diversas do mundo. Entretanto, toda essa riqueza vem sendo constantemente ameaçada devido a execrável prática de comércio ilícito de diversas espécies. Desse modo... Redação completa Enviada em: 02/09/2017 Vida Os animais da fauna brasileira são variados, diversificados em cores, formas e espécies, possuem uma pluralidade única, em todo o mundo, e por conseguinte, atraem a atenção daqueles,... Redação completa Enviada em: 07/09/2017 Desde o início do século XVI, com a chegada oficial da colonização portuguesa ao Brasil, cultiva-se a ideia de que a fauna e flora da pátria são infinitas. Nesse sentido o homem começou a apropriar-se... Redação completa Enviada em: 08/09/2017 Tráfico. Roubo. Desenvolvimento. Progresso, são pilares da biopirrataria. Hodiernamente, o número de espécies silvestres contrabandeadas tem uma tendência ao aumento, pois os países desenvolvidos gara... Redação completa Enviada em: 14/09/2017 Relativo o combate ao comércio ilegal de animais silvestres, é possível afirmar que muitos países como o Brasil, apresentam uma rica biodiversidade, porém com o tráfico de animais silvestres ocorrendo... Redação completa Enviada em: 12/09/2017</td>\n",
       "    </tr>\n",
       "    <tr>\n",
       "      <th>4</th>\n",
       "      <td>1</td>\n",
       "      <td>Qual a maior característica da fauna brasileira?</td>\n",
       "      <td>clueweb22-pt0000-55-02859_3</td>\n",
       "      <td>2605803</td>\n",
       "      <td>5</td>\n",
       "      <td>0.619571</td>\n",
       "      <td>Fauna do Pantanal - Répteis, aves, mamíferos e peixes. Isso faz do pantanal uma das faunas mais ricas do planeta. Flora do Pantanal - Vegetação, em geral, vinda de outros biomas adaptadas às poucas áreas secas ou áreas alagáveis e uma grande diversidade de espécies de plantas aquáticas. Veja também: Pantanal. Fauna e flora dos Pampas Fauna dos Pampas - Animais de planícies como algumas aves, veados, tatus, etc. Flora dos Pampas - Poucas árvores esparsas e diversas espécies de gramíneas. Os pampas correm risco de desaparecimento por conta do avanço da produção agropecuária, sobretudo, da criação de gado. Veja também: Pampa. Fauna e flora da Mata Atlântica Fauna da Mata Atlântica - Diversas espécies de pequenos primatas, felinos Flora da Mata Atlântica - Floresta tropical que abriga a maior diversidade de espécies por unidade de área. A Mata Atlântica preserva uma série de animais e plantas em risco de extinção, que sofre com queimadas, tráfico de animais e processos de urbanização. Veja também: Mata Atlântica. Fauna e flora da Amazônia A Amazônia é o maior bioma brasileiro, também é o que possui a maior biodiversidade. Fauna da Amazônia - Maior coleção de animais do planeta, muitas ainda não catalogadas por pesquisadores.</td>\n",
       "    </tr>\n",
       "  </tbody>\n",
       "</table>\n",
       "</div>"
      ],
      "text/plain": [
       "   query_id                                             query  \\\n",
       "0         1  Qual a maior característica da fauna brasileira?   \n",
       "1         1  Qual a maior característica da fauna brasileira?   \n",
       "2         1  Qual a maior característica da fauna brasileira?   \n",
       "3         1  Qual a maior característica da fauna brasileira?   \n",
       "4         1  Qual a maior característica da fauna brasileira?   \n",
       "\n",
       "                     passage_id  colbertx_id  position     score  \\\n",
       "0   clueweb22-pt0001-01-18874_0      4875435         1  0.660179   \n",
       "1  clueweb22-pt0000-45-00944_12      2137843         2  0.638983   \n",
       "2  clueweb22-pt0001-46-05303_17      7028401         3  0.636957   \n",
       "3  clueweb22-pt0000-17-01771_19       827062         4  0.628107   \n",
       "4   clueweb22-pt0000-55-02859_3      2605803         5  0.619571   \n",
       "\n",
       "                                                                                                                                                                                                                                                                                                                                                                                                                                                                                                                                                                                                                                                                                                                                                                                                                                                                                                                                                                                                                                                                                                                                                                                                                                                                                                                                   passage  \n",
       "0  Conheça 11 lindos animais típicos da fauna brasileira / Incrível Conheça 11 lindos animais típicos da fauna brasileira 4--4 Compartilhe no Facebook Compartilhe no Facebook Compartilhe no Pinterest Que o Brasil é gigante, todos nós sabemos e até já demos aqui exemplos chocantes sobre isso. Mas um outro exemplo dessa grandiosidade é quando sabemos que o país abriga 17% das espécies de aves e 10% das de anfíbios e mamíferos de todo o mundo. Neste post, o Incrível.club vai te mostrar uma lista de animais típicos do país. Mico-leão dourado © Nadine Doerle / Pixabay Este macaco “ruivo” ficou famoso ao tornar-se um símbolo de espécies brasileiras em extinção. O cuidado para a preservação da espécie, que é nativa da Mata Atlântica e aparece na nota de 20 reais, começou nos anos 1970 e se intensificou duas décadas depois. Embora a situação tenha melhorado, o risco de extinção ainda existe. Tamanduá-bandeira © joelfotos / Pixabay Este gigante que ama comer formigas — pode devorar até 30 mil por dia, inclusive cupins — é também um forte: com seus 2,20 metros, consegue até brigar com uma onça pintada. E vencer. Embora ele exista originalmente nas três Américas, já foi extinto em países como Estados Unidos e em Estados brasileiros como Espírito Santo e Rio e Janeiro. Onça pintada  \n",
       "1                                                                                                                                                                                                                                                                                                                                                                                                                                                   A Amazônia apresenta a maior diversidade de espécies de mamíferos entre os biomas brasileiros. Das 397 espécies de mamíferos amazônicos, a maioria (58%) não ocorre em nenhum outro bioma brasileiro. É a mais alta proporção de endemismo entre os biomas terrestres do Brasil (Paglia et al, no prelo). A Amazônia também é o bioma brasileiro com mais alta diversidade de espécies de lagartos (109) e de serpentes (138) (Rodrigues, 2005). Soma-se ao alto índice de endemismos e alto número de espécies a alta diversidade de ecossistemas no vasto território amazônico. É preciso considerar a fragilidade dessa intrincada rede de relações das espécies entre si e com o ambiente, configurada em múltiplos arranjos de vegetação e de hábitats, de cujo equilíbrio depende o clima, a qualidade da água, o solo, a reciclagem de nutrientes e demais serviços ambientais.  \n",
       "2                                                                                                                                     http://www.klimanaturali.org/2014/03/biomas-e-fitofisionomias-brasileiros.html 8/17 f15/03/2018 BIOMAS E FITOFISIONOMIAS BRASILEIROS: CARACTERÍSTICAS E EVOLUÇÃO DA FAUNA E FLORA - Klima Naturali™ colonização no Brasil e os ciclos de desenvolvimento do país SITE  BRASIL  MUNDO  CIÊNCIAS  GERAL  levaram o homem a ocupar e destruir parte desse espaço. Fauna e Flora Rica em diversidade de espécies, a Mata Atlântica está entre Pesquisa no Site...  as cinco regiões do mundo com maior número de espécies endêmicas. Os animais podem ser considerados generalistas ou especialistas. Os generalistas apresentam hábitos alimentares variados, alta taxa de crescimento e dispersão; vivem em áreas de vegetação aberta e secundária, tolerantes e capazes de aproveitar diferentes recursos oferecidos pelo meio ambiente. Os animais especialistas são mais exigentes em relação aos habitats nos quais vivem, com dieta especí ca, uma alteração no meio ambiente exige dos animais especialistas a procura de novos habitats. Grupos da Mata Atlântica Mamíferos – A Mata Atlântica possui cerca de 250 espécies de mamíferos, das quais 55 são endêmicas. Os mamíferos são os  \n",
       "3                                                                                   A fauna brasileira está entre as mais diversas do mundo. Entretanto, toda essa riqueza vem sendo constantemente ameaçada devido a execrável prática de comércio ilícito de diversas espécies. Desse modo... Redação completa Enviada em: 02/09/2017 Vida Os animais da fauna brasileira são variados, diversificados em cores, formas e espécies, possuem uma pluralidade única, em todo o mundo, e por conseguinte, atraem a atenção daqueles,... Redação completa Enviada em: 07/09/2017 Desde o início do século XVI, com a chegada oficial da colonização portuguesa ao Brasil, cultiva-se a ideia de que a fauna e flora da pátria são infinitas. Nesse sentido o homem começou a apropriar-se... Redação completa Enviada em: 08/09/2017 Tráfico. Roubo. Desenvolvimento. Progresso, são pilares da biopirrataria. Hodiernamente, o número de espécies silvestres contrabandeadas tem uma tendência ao aumento, pois os países desenvolvidos gara... Redação completa Enviada em: 14/09/2017 Relativo o combate ao comércio ilegal de animais silvestres, é possível afirmar que muitos países como o Brasil, apresentam uma rica biodiversidade, porém com o tráfico de animais silvestres ocorrendo... Redação completa Enviada em: 12/09/2017  \n",
       "4                                                 Fauna do Pantanal - Répteis, aves, mamíferos e peixes. Isso faz do pantanal uma das faunas mais ricas do planeta. Flora do Pantanal - Vegetação, em geral, vinda de outros biomas adaptadas às poucas áreas secas ou áreas alagáveis e uma grande diversidade de espécies de plantas aquáticas. Veja também: Pantanal. Fauna e flora dos Pampas Fauna dos Pampas - Animais de planícies como algumas aves, veados, tatus, etc. Flora dos Pampas - Poucas árvores esparsas e diversas espécies de gramíneas. Os pampas correm risco de desaparecimento por conta do avanço da produção agropecuária, sobretudo, da criação de gado. Veja também: Pampa. Fauna e flora da Mata Atlântica Fauna da Mata Atlântica - Diversas espécies de pequenos primatas, felinos Flora da Mata Atlântica - Floresta tropical que abriga a maior diversidade de espécies por unidade de área. A Mata Atlântica preserva uma série de animais e plantas em risco de extinção, que sofre com queimadas, tráfico de animais e processos de urbanização. Veja também: Mata Atlântica. Fauna e flora da Amazônia A Amazônia é o maior bioma brasileiro, também é o que possui a maior biodiversidade. Fauna da Amazônia - Maior coleção de animais do planeta, muitas ainda não catalogadas por pesquisadores.  "
      ]
     },
     "metadata": {},
     "output_type": "display_data"
    },
    {
     "name": "stdout",
     "output_type": "stream",
     "text": [
      "output_filename=tests/text-embedding-3-large_1M_docs_000_999_sampled_50_queries_run.txt\n"
     ]
    }
   ],
   "source": [
    "text_embedding_3_large_filename, _ = prepare_run_format(TEXT_EMBEDDING_3_LARGE_1M_MASSIVEWEB, retriever_name=\"BM25+E5\")"
   ]
  },
  {
   "cell_type": "code",
   "execution_count": 75,
   "id": "XYiSveSgxKtd",
   "metadata": {
    "executionInfo": {
     "elapsed": 312,
     "status": "ok",
     "timestamp": 1706190260288,
     "user": {
      "displayName": "Eduardo Seiti de Oliveira",
      "userId": "03989307632206042931"
     },
     "user_tz": 180
    },
    "id": "XYiSveSgxKtd"
   },
   "outputs": [],
   "source": [
    "result = !{TREC_EVAL} -c -mndcg_cut.10 \\\n",
    "    {qrels_filename} {text_embedding_3_large_filename}\n",
    "\n",
    "retrievers_results.append({'retriever':'text-embedding-3-large 1M massiveweb', 'nDCG@10': result[0].split('\\t')[-1]})"
   ]
  },
  {
   "cell_type": "markdown",
   "id": "db253ca4",
   "metadata": {
    "id": "db253ca4"
   },
   "source": [
    "### Check the overall results"
   ]
  },
  {
   "cell_type": "code",
   "execution_count": 76,
   "id": "6d6b169c",
   "metadata": {
    "colab": {
     "base_uri": "https://localhost:8080/",
     "height": 489
    },
    "executionInfo": {
     "elapsed": 9,
     "status": "ok",
     "timestamp": 1706190261825,
     "user": {
      "displayName": "Eduardo Seiti de Oliveira",
      "userId": "03989307632206042931"
     },
     "user_tz": 180
    },
    "id": "6d6b169c",
    "outputId": "f3ff647c-3777-4738-c412-9163dac06fbc"
   },
   "outputs": [
    {
     "data": {
      "text/html": [
       "<div>\n",
       "<style scoped>\n",
       "    .dataframe tbody tr th:only-of-type {\n",
       "        vertical-align: middle;\n",
       "    }\n",
       "\n",
       "    .dataframe tbody tr th {\n",
       "        vertical-align: top;\n",
       "    }\n",
       "\n",
       "    .dataframe thead th {\n",
       "        text-align: right;\n",
       "    }\n",
       "</style>\n",
       "<table border=\"1\" class=\"dataframe\">\n",
       "  <thead>\n",
       "    <tr style=\"text-align: right;\">\n",
       "      <th></th>\n",
       "      <th>retriever</th>\n",
       "      <th>nDCG@10</th>\n",
       "    </tr>\n",
       "  </thead>\n",
       "  <tbody>\n",
       "    <tr>\n",
       "      <th>0</th>\n",
       "      <td>BM25</td>\n",
       "      <td>0.4471</td>\n",
       "    </tr>\n",
       "    <tr>\n",
       "      <th>1</th>\n",
       "      <td>BM25+E5</td>\n",
       "      <td>0.6370</td>\n",
       "    </tr>\n",
       "    <tr>\n",
       "      <th>2</th>\n",
       "      <td>BM25+mT5</td>\n",
       "      <td>0.7118</td>\n",
       "    </tr>\n",
       "    <tr>\n",
       "      <th>3</th>\n",
       "      <td>SPLADEv2_pt-BR</td>\n",
       "      <td>0.5810</td>\n",
       "    </tr>\n",
       "    <tr>\n",
       "      <th>4</th>\n",
       "      <td>ColBERT-X_mMARCO_pt-BR</td>\n",
       "      <td>0.6282</td>\n",
       "    </tr>\n",
       "    <tr>\n",
       "      <th>5</th>\n",
       "      <td>E5</td>\n",
       "      <td>0.5568</td>\n",
       "    </tr>\n",
       "    <tr>\n",
       "      <th>6</th>\n",
       "      <td>E5 base</td>\n",
       "      <td>0.3963</td>\n",
       "    </tr>\n",
       "    <tr>\n",
       "      <th>7</th>\n",
       "      <td>SPLADEv2_pt-BR + mT5</td>\n",
       "      <td>0.6974</td>\n",
       "    </tr>\n",
       "    <tr>\n",
       "      <th>8</th>\n",
       "      <td>E5 + ColBERT-X mMARCO_pt-BR RRF</td>\n",
       "      <td>0.6385</td>\n",
       "    </tr>\n",
       "    <tr>\n",
       "      <th>9</th>\n",
       "      <td>E5 + SPLADEv2_pt-BR RRF</td>\n",
       "      <td>0.6281</td>\n",
       "    </tr>\n",
       "    <tr>\n",
       "      <th>10</th>\n",
       "      <td>BM25 1M</td>\n",
       "      <td>0.3187</td>\n",
       "    </tr>\n",
       "    <tr>\n",
       "      <th>11</th>\n",
       "      <td>BM25 1M massiveweb</td>\n",
       "      <td>0.3156</td>\n",
       "    </tr>\n",
       "    <tr>\n",
       "      <th>12</th>\n",
       "      <td>ColBERT-X_mMARCO_pt-BR 1M massiveweb</td>\n",
       "      <td>0.4040</td>\n",
       "    </tr>\n",
       "    <tr>\n",
       "      <th>13</th>\n",
       "      <td>ADA v2 1M massiveweb</td>\n",
       "      <td>0.4609</td>\n",
       "    </tr>\n",
       "    <tr>\n",
       "      <th>14</th>\n",
       "      <td>BM25+mT5 1M massiveweb</td>\n",
       "      <td>0.5317</td>\n",
       "    </tr>\n",
       "    <tr>\n",
       "      <th>15</th>\n",
       "      <td>BM25+E5 1M massiveweb</td>\n",
       "      <td>0.4423</td>\n",
       "    </tr>\n",
       "    <tr>\n",
       "      <th>16</th>\n",
       "      <td>text-embedding-3-large 1M massiveweb</td>\n",
       "      <td>0.5190</td>\n",
       "    </tr>\n",
       "  </tbody>\n",
       "</table>\n",
       "</div>"
      ],
      "text/plain": [
       "                               retriever nDCG@10\n",
       "0                                   BM25  0.4471\n",
       "1                                BM25+E5  0.6370\n",
       "2                               BM25+mT5  0.7118\n",
       "3                         SPLADEv2_pt-BR  0.5810\n",
       "4                 ColBERT-X_mMARCO_pt-BR  0.6282\n",
       "5                                     E5  0.5568\n",
       "6                                E5 base  0.3963\n",
       "7                   SPLADEv2_pt-BR + mT5  0.6974\n",
       "8        E5 + ColBERT-X mMARCO_pt-BR RRF  0.6385\n",
       "9                E5 + SPLADEv2_pt-BR RRF  0.6281\n",
       "10                               BM25 1M  0.3187\n",
       "11                    BM25 1M massiveweb  0.3156\n",
       "12  ColBERT-X_mMARCO_pt-BR 1M massiveweb  0.4040\n",
       "13                  ADA v2 1M massiveweb  0.4609\n",
       "14                BM25+mT5 1M massiveweb  0.5317\n",
       "15                 BM25+E5 1M massiveweb  0.4423\n",
       "16  text-embedding-3-large 1M massiveweb  0.5190"
      ]
     },
     "execution_count": 76,
     "metadata": {},
     "output_type": "execute_result"
    }
   ],
   "source": [
    "pd.DataFrame(retrievers_results)"
   ]
  },
  {
   "cell_type": "markdown",
   "id": "2304d606",
   "metadata": {
    "id": "2304d606"
   },
   "source": [
    "## 1M dataset"
   ]
  },
  {
   "cell_type": "markdown",
   "id": "65570622",
   "metadata": {
    "id": "65570622"
   },
   "source": [
    "### Compute BM25 1M massiveweb filtered nDCG@10"
   ]
  },
  {
   "cell_type": "code",
   "execution_count": 85,
   "id": "a6f6b6f9",
   "metadata": {
    "executionInfo": {
     "elapsed": 290,
     "status": "ok",
     "timestamp": 1706190635457,
     "user": {
      "displayName": "Eduardo Seiti de Oliveira",
      "userId": "03989307632206042931"
     },
     "user_tz": 180
    },
    "id": "a6f6b6f9"
   },
   "outputs": [],
   "source": [
    "result = !{TREC_EVAL} -c -mndcg_cut.10 \\\n",
    "    {qrels_1M_filename} {BM25_1M_MASSIVEWEB_RUN}\n",
    "\n",
    "retrievers_1M_results.append({'retriever':'BM25 1M massiveweb', 'nDCG@10': result[0].split('\\t')[-1]})"
   ]
  },
  {
   "cell_type": "markdown",
   "id": "cb5d2fdf",
   "metadata": {
    "id": "cb5d2fdf"
   },
   "source": [
    "### Compute ColBERT-X massiveweb filtered nDCG@10"
   ]
  },
  {
   "cell_type": "code",
   "execution_count": 86,
   "id": "42645e21",
   "metadata": {
    "executionInfo": {
     "elapsed": 16,
     "status": "ok",
     "timestamp": 1706190638482,
     "user": {
      "displayName": "Eduardo Seiti de Oliveira",
      "userId": "03989307632206042931"
     },
     "user_tz": 180
    },
    "id": "42645e21"
   },
   "outputs": [],
   "source": [
    "result = !{TREC_EVAL} -c -mndcg_cut.10 \\\n",
    "    {qrels_1M_filename} {COLBERTX_1M_MASSIVEWEB_RUN}\n",
    "\n",
    "retrievers_1M_results.append({'retriever':'ColBERT-X_mMARCO_pt-BR 1M massiveweb', 'nDCG@10': result[0].split('\\t')[-1]})"
   ]
  },
  {
   "cell_type": "markdown",
   "id": "yVADeRFlxtgI",
   "metadata": {
    "id": "yVADeRFlxtgI"
   },
   "source": [
    "### Compute ADA v2 massiveweb filtered nDCG@10"
   ]
  },
  {
   "cell_type": "code",
   "execution_count": 87,
   "id": "yV__mqsQxtge",
   "metadata": {
    "executionInfo": {
     "elapsed": 459,
     "status": "ok",
     "timestamp": 1706190640250,
     "user": {
      "displayName": "Eduardo Seiti de Oliveira",
      "userId": "03989307632206042931"
     },
     "user_tz": 180
    },
    "id": "yV__mqsQxtge"
   },
   "outputs": [],
   "source": [
    "result = !{TREC_EVAL} -c -mndcg_cut.10 \\\n",
    "    {qrels_1M_filename} {ADAV2_RUN}\n",
    "\n",
    "retrievers_1M_results.append({'retriever':'ADA v2 1M massiveweb', 'nDCG@10': result[0].split('\\t')[-1]})"
   ]
  },
  {
   "cell_type": "markdown",
   "id": "194db522",
   "metadata": {},
   "source": [
    "### Compute BM25 + mT5 1M massiveweb filtered nDCG@10"
   ]
  },
  {
   "cell_type": "code",
   "execution_count": 88,
   "id": "06f28231",
   "metadata": {},
   "outputs": [],
   "source": [
    "result = !{TREC_EVAL} -c -mndcg_cut.10 \\\n",
    "    {qrels_1M_filename} {BM25_MT5_1M_MASSIVEWEB_RUN}\n",
    "\n",
    "retrievers_1M_results.append({'retriever':'BM25+mT5 1M massiveweb', 'nDCG@10': result[0].split('\\t')[-1]})"
   ]
  },
  {
   "cell_type": "markdown",
   "id": "51008fba",
   "metadata": {},
   "source": [
    "### Compute BM25 + E5 1M massiveweb filtered nDCG@10"
   ]
  },
  {
   "cell_type": "code",
   "execution_count": 89,
   "id": "5570366f",
   "metadata": {},
   "outputs": [],
   "source": [
    "result = !{TREC_EVAL} -c -mndcg_cut.10 \\\n",
    "    {qrels_1M_filename} {BM25_E5_1M_MASSIVEWEB_RUN}\n",
    "\n",
    "retrievers_1M_results.append({'retriever':'BM25+E5 1M massiveweb', 'nDCG@10': result[0].split('\\t')[-1]})"
   ]
  },
  {
   "cell_type": "markdown",
   "id": "d5a74107",
   "metadata": {},
   "source": [
    "### Compute text-embedding-3-large 1M massiveweb filtered nDCG@10"
   ]
  },
  {
   "cell_type": "code",
   "execution_count": 90,
   "id": "94511d68",
   "metadata": {},
   "outputs": [],
   "source": [
    "result = !{TREC_EVAL} -c -mndcg_cut.10 \\\n",
    "    {qrels_1M_filename} {text_embedding_3_large_filename}\n",
    "\n",
    "retrievers_1M_results.append({'retriever':'text-embedding-3-large 1M massiveweb', 'nDCG@10': result[0].split('\\t')[-1]})"
   ]
  },
  {
   "cell_type": "markdown",
   "id": "87dc05e9",
   "metadata": {
    "id": "87dc05e9"
   },
   "source": [
    "### Check the overall results"
   ]
  },
  {
   "cell_type": "code",
   "execution_count": 91,
   "id": "f8a4d81b",
   "metadata": {
    "colab": {
     "base_uri": "https://localhost:8080/",
     "height": 144
    },
    "executionInfo": {
     "elapsed": 274,
     "status": "ok",
     "timestamp": 1706190642171,
     "user": {
      "displayName": "Eduardo Seiti de Oliveira",
      "userId": "03989307632206042931"
     },
     "user_tz": 180
    },
    "id": "f8a4d81b",
    "outputId": "d4475292-83d3-48f2-fa5c-1924911e638d"
   },
   "outputs": [
    {
     "data": {
      "text/html": [
       "<div>\n",
       "<style scoped>\n",
       "    .dataframe tbody tr th:only-of-type {\n",
       "        vertical-align: middle;\n",
       "    }\n",
       "\n",
       "    .dataframe tbody tr th {\n",
       "        vertical-align: top;\n",
       "    }\n",
       "\n",
       "    .dataframe thead th {\n",
       "        text-align: right;\n",
       "    }\n",
       "</style>\n",
       "<table border=\"1\" class=\"dataframe\">\n",
       "  <thead>\n",
       "    <tr style=\"text-align: right;\">\n",
       "      <th></th>\n",
       "      <th>retriever</th>\n",
       "      <th>nDCG@10</th>\n",
       "    </tr>\n",
       "  </thead>\n",
       "  <tbody>\n",
       "    <tr>\n",
       "      <th>0</th>\n",
       "      <td>BM25 1M massiveweb</td>\n",
       "      <td>0.4014</td>\n",
       "    </tr>\n",
       "    <tr>\n",
       "      <th>1</th>\n",
       "      <td>ColBERT-X_mMARCO_pt-BR 1M massiveweb</td>\n",
       "      <td>0.4944</td>\n",
       "    </tr>\n",
       "    <tr>\n",
       "      <th>4</th>\n",
       "      <td>BM25+E5 1M massiveweb</td>\n",
       "      <td>0.5449</td>\n",
       "    </tr>\n",
       "    <tr>\n",
       "      <th>2</th>\n",
       "      <td>ADA v2 1M massiveweb</td>\n",
       "      <td>0.5668</td>\n",
       "    </tr>\n",
       "    <tr>\n",
       "      <th>5</th>\n",
       "      <td>text-embedding-3-large 1M massiveweb</td>\n",
       "      <td>0.6370</td>\n",
       "    </tr>\n",
       "    <tr>\n",
       "      <th>3</th>\n",
       "      <td>BM25+mT5 1M massiveweb</td>\n",
       "      <td>0.6625</td>\n",
       "    </tr>\n",
       "  </tbody>\n",
       "</table>\n",
       "</div>"
      ],
      "text/plain": [
       "                              retriever nDCG@10\n",
       "0                    BM25 1M massiveweb  0.4014\n",
       "1  ColBERT-X_mMARCO_pt-BR 1M massiveweb  0.4944\n",
       "4                 BM25+E5 1M massiveweb  0.5449\n",
       "2                  ADA v2 1M massiveweb  0.5668\n",
       "5  text-embedding-3-large 1M massiveweb  0.6370\n",
       "3                BM25+mT5 1M massiveweb  0.6625"
      ]
     },
     "execution_count": 91,
     "metadata": {},
     "output_type": "execute_result"
    }
   ],
   "source": [
    "pd.DataFrame(retrievers_1M_results).sort_values('nDCG@10')"
   ]
  },
  {
   "cell_type": "code",
   "execution_count": null,
   "id": "3f3b10aa",
   "metadata": {},
   "outputs": [],
   "source": []
  }
 ],
 "metadata": {
  "colab": {
   "provenance": []
  },
  "kernelspec": {
   "display_name": "Python 3 (ipykernel)",
   "language": "python",
   "name": "python3"
  },
  "language_info": {
   "codemirror_mode": {
    "name": "ipython",
    "version": 3
   },
   "file_extension": ".py",
   "mimetype": "text/x-python",
   "name": "python",
   "nbconvert_exporter": "python",
   "pygments_lexer": "ipython3",
   "version": "3.10.12"
  }
 },
 "nbformat": 4,
 "nbformat_minor": 5
}
