{
 "cells": [
  {
   "cell_type": "code",
   "execution_count": 2,
   "id": "642a987d",
   "metadata": {
    "executionInfo": {
     "elapsed": 272,
     "status": "ok",
     "timestamp": 1706188944885,
     "user": {
      "displayName": "Eduardo Seiti de Oliveira",
      "userId": "03989307632206042931"
     },
     "user_tz": 180
    },
    "id": "642a987d"
   },
   "outputs": [],
   "source": [
    "import os\n",
    "import sys"
   ]
  },
  {
   "cell_type": "code",
   "execution_count": 3,
   "id": "e886f0fb",
   "metadata": {
    "executionInfo": {
     "elapsed": 4,
     "status": "ok",
     "timestamp": 1706188945248,
     "user": {
      "displayName": "Eduardo Seiti de Oliveira",
      "userId": "03989307632206042931"
     },
     "user_tz": 180
    },
    "id": "e886f0fb"
   },
   "outputs": [],
   "source": [
    "IN_COLAB='google.colab' in sys.modules"
   ]
  },
  {
   "cell_type": "code",
   "execution_count": 28,
   "id": "91c83783",
   "metadata": {
    "colab": {
     "base_uri": "https://localhost:8080/"
    },
    "executionInfo": {
     "elapsed": 6046,
     "status": "ok",
     "timestamp": 1706189390986,
     "user": {
      "displayName": "Eduardo Seiti de Oliveira",
      "userId": "03989307632206042931"
     },
     "user_tz": 180
    },
    "id": "91c83783",
    "outputId": "158fb160-7fb5-48ac-df6e-400435e2517d"
   },
   "outputs": [],
   "source": [
    "if IN_COLAB:\n",
    "    from google.colab import drive\n",
    "\n",
    "    WORKING_FOLDER=\"/content/drive/MyDrive/unicamp/ia368v_dd/trabalho_final_UNICAMP-IR/artigo/unicamp_IR\"\n",
    "\n",
    "    drive.mount('/content/drive', force_remount=True)\n",
    "\n",
    "    os.chdir(WORKING_FOLDER)\n",
    "\n",
    "    TREC_EVAL=\"/content/drive/MyDrive/unicamp/ia368v_dd/pyserini/tools/eval/trec_eval.9.0.4/trec_eval\"\n",
    "else:\n",
    "    WORKING_FOLDER=\"/work/ia368v_dd/unicamp_IR/\"\n",
    "    TREC_EVAL=\"/work/ia368v_dd/pyserini/tools/eval/trec_eval.9.0.4/trec_eval\""
   ]
  },
  {
   "cell_type": "code",
   "execution_count": 5,
   "id": "069d6976",
   "metadata": {
    "executionInfo": {
     "elapsed": 671,
     "status": "ok",
     "timestamp": 1706188867271,
     "user": {
      "displayName": "Eduardo Seiti de Oliveira",
      "userId": "03989307632206042931"
     },
     "user_tz": 180
    },
    "id": "069d6976"
   },
   "outputs": [],
   "source": [
    "import pandas as pd\n",
    "import numpy as np"
   ]
  },
  {
   "cell_type": "code",
   "execution_count": 6,
   "id": "7639ebb8",
   "metadata": {
    "executionInfo": {
     "elapsed": 298,
     "status": "ok",
     "timestamp": 1706188886428,
     "user": {
      "displayName": "Eduardo Seiti de Oliveira",
      "userId": "03989307632206042931"
     },
     "user_tz": 180
    },
    "id": "7639ebb8"
   },
   "outputs": [],
   "source": [
    "pd.set_option('display.max_colwidth', None)\n",
    "pd.set_option('display.max_rows', 500)"
   ]
  },
  {
   "cell_type": "code",
   "execution_count": 7,
   "id": "c34d51d7",
   "metadata": {
    "executionInfo": {
     "elapsed": 338,
     "status": "ok",
     "timestamp": 1706188888102,
     "user": {
      "displayName": "Eduardo Seiti de Oliveira",
      "userId": "03989307632206042931"
     },
     "user_tz": 180
    },
    "id": "c34d51d7"
   },
   "outputs": [],
   "source": [
    "ALL_EVALUATIONS=\"tests/evaluation_20_retrievers_000_009_sampled_50_queries_gpt-4-1106-preview_20240615.tsv\"\n",
    "\n",
    "BM25_RUN=\"tests/200-queries-passagens-by-BM25-pt_v2_with_query_id_run.txt\"\n",
    "BM25_E5_RUN=\"tests/bm25_e5_docs_000_999_50_sampled_queries_run.txt\"\n",
    "BM25_MT5_RUN=\"tests/200-queries-passagens-by-BM25-mT5_v4_with_query_id_run.txt\"\n",
    "SPLADE_RUN=\"tests/splade_pt_result_with_clueweb_id_run.txt\"\n",
    "COLBERTX_RUN=\"tests/colbertx_all_znormalized_validation_scores_000_199_run.txt\"\n",
    "\n",
    "E5_RUN=\"tests/e5_docs_000_999_50_sampled_queries_run.txt\"\n",
    "E5_BASE_RUN=\"tests/e5_base_docs_000_999_50_sampled_queries_run.txt\"\n",
    "SPLADE_MT5_RUN=\"tests/splade_mt5_docs_000_099_50_sampled_queries_run.txt\"\n",
    "\n",
    "BM25_1M_RUN=\"tests/bm25_1M_docs_000_999_sampled_50_queries_run.txt\"\n",
    "BM25_1M_MASSIVEWEB_RUN=\"tests/bm25_massiveweb_1M_docs_000_999_sampled_50_queries_run.txt\"\n",
    "\n",
    "COLBERTX_1M_MASSIVEWEB_RUN=\"tests/colbertx_massiveweb_1M_docs_000_999_sampled_50_queries_run.txt\"\n",
    "\n",
    "E5_COLBERTX_RRF_RUN=\"tests/colbertx_e5_RRF_000_999_sampled_50_queries_run.txt\"\n",
    "E5_SPLADE_RRF_RUN=\"tests/splade_e5_fixed_RRF_000_999_sampled_50_queries_run.txt\"\n",
    "\n",
    "ADAV2_RUN=\"tests/adav2_1M_docs_000_999_sampled_50_queries_run.txt\"\n",
    "\n",
    "BM25_MT5_1M_MASSIVEWEB_RUN=\"tests/bm25_mt5_1M_docs_fixed_000_099_sampled_50_queries_run.txt\"\n",
    "\n",
    "COLBERTX_1M_MASSIVEWEB_RUN=\"tests/colbertx_massiveweb_1M_docs_000_999_sampled_50_queries_run.txt\"\n",
    "\n",
    "BM25_E5_1M_MASSIVEWEB_RUN=\"tests/bm25_e5_1M_docs_fixed_000_999_sampled_50_queries_run.txt\"\n",
    "\n",
    "TEXT_EMBEDDING_3_LARGE_1M_MASSIVEWEB_RUN=\"tests/text-embedding-3-large_1M_docs_000_999_sampled_50_queries_run.txt\"\n",
    "\n",
    "TEXT_EMBEDDING_3_SMALL_1M_MASSIVEWEB_RUN=\"tests/text-embedding-3-small_1M_docs_000_999_sampled_50_queries_run.txt\""
   ]
  },
  {
   "cell_type": "code",
   "execution_count": 8,
   "id": "2798c76f",
   "metadata": {},
   "outputs": [],
   "source": [
    "TEXT_EMBEDDING_3_SMALL_1M_MASSIVEWEB=\"tests/text-embedding-3-small_1M_docs_000_999_sampled_50_queries.tsv\"\n",
    "TEXT_EMBEDDING_3_SMALL_HALF_1M_MASSIVEWEB=\"tests/text-embedding-3-small_half_normalized_1M_docs_000_999_sampled_50_queries.tsv\""
   ]
  },
  {
   "cell_type": "code",
   "execution_count": 73,
   "id": "56c4ef85",
   "metadata": {
    "executionInfo": {
     "elapsed": 569,
     "status": "ok",
     "timestamp": 1706190431409,
     "user": {
      "displayName": "Eduardo Seiti de Oliveira",
      "userId": "03989307632206042931"
     },
     "user_tz": 180
    },
    "id": "56c4ef85"
   },
   "outputs": [],
   "source": [
    "DATASET_1M_FIELDS=['bm25_1M_massiveweb', \n",
    "                   'colbertx_1M_massiveweb', \n",
    "                   'adav2', \n",
    "                   'bm25_mT5_1M_massiveweb_fix', \n",
    "                   'bm25_e5_1M_massiveweb', \n",
    "                   'text-embbeding-3-large_1M_massiveweb',\n",
    "                   'text-embbeding-3-small_1M_massiveweb',\n",
    "                   'text-embbeding-3-small_half_1M_massiveweb']"
   ]
  },
  {
   "cell_type": "code",
   "execution_count": 74,
   "id": "7ce55d09",
   "metadata": {
    "executionInfo": {
     "elapsed": 3,
     "status": "ok",
     "timestamp": 1706188890714,
     "user": {
      "displayName": "Eduardo Seiti de Oliveira",
      "userId": "03989307632206042931"
     },
     "user_tz": 180
    },
    "id": "7ce55d09"
   },
   "outputs": [],
   "source": [
    "def prepare_run_format(results_filename, add_index=True, score_field='score', invert_score=False, retriever_name=\"retriever\"):\n",
    "\n",
    "    results_df = pd.read_csv(results_filename, sep='\\t')\n",
    "\n",
    "    display(results_df.head())\n",
    "\n",
    "    results_grouped_df = results_df.groupby(\"query_id\")['passage_id'].count()\n",
    "\n",
    "    how_many_passages_per_question = results_grouped_df.iloc[0]\n",
    "\n",
    "    if invert_score:\n",
    "        print(\"Inverting score values in '{}' field...\".format(score_field))\n",
    "\n",
    "        results_df['score_inv'] = 1 - results_df[score_field]\n",
    "        score_field = 'score_inv'\n",
    "\n",
    "    run_df = results_df.sort_values([\"query_id\", score_field], ascending=[True, False])\n",
    "\n",
    "    run_df['Q0'] = \"Q0\"\n",
    "    run_df['comment'] = retriever_name\n",
    "\n",
    "    if add_index:\n",
    "        run_df['index'] = np.tile(list(range(1, how_many_passages_per_question + 1)), results_grouped_df.shape[0])\n",
    "\n",
    "    output_filename = \"{}_run.txt\".format(os.path.splitext(results_filename)[0])\n",
    "\n",
    "    print(\"output_filename={}\".format(output_filename))\n",
    "\n",
    "    run_df[['query_id', 'Q0', \"passage_id\", \"index\", score_field, \"comment\"]].to_csv(output_filename, header=None, index=False, sep=\" \")\n",
    "\n",
    "    return output_filename, run_df"
   ]
  },
  {
   "cell_type": "code",
   "execution_count": 75,
   "id": "0a988b51",
   "metadata": {
    "executionInfo": {
     "elapsed": 349,
     "status": "ok",
     "timestamp": 1706190125824,
     "user": {
      "displayName": "Eduardo Seiti de Oliveira",
      "userId": "03989307632206042931"
     },
     "user_tz": 180
    },
    "id": "0a988b51"
   },
   "outputs": [],
   "source": [
    "retrievers_results = []"
   ]
  },
  {
   "cell_type": "code",
   "execution_count": 76,
   "id": "elrLIjcU4qgc",
   "metadata": {
    "executionInfo": {
     "elapsed": 300,
     "status": "ok",
     "timestamp": 1706190620647,
     "user": {
      "displayName": "Eduardo Seiti de Oliveira",
      "userId": "03989307632206042931"
     },
     "user_tz": 180
    },
    "id": "elrLIjcU4qgc"
   },
   "outputs": [],
   "source": [
    "retrievers_1M_results = []"
   ]
  },
  {
   "cell_type": "markdown",
   "id": "6f7bc6a6",
   "metadata": {
    "id": "6f7bc6a6"
   },
   "source": [
    "### Format GPT-4 evaluations to qrels format"
   ]
  },
  {
   "cell_type": "code",
   "execution_count": 77,
   "id": "5129453f",
   "metadata": {
    "executionInfo": {
     "elapsed": 265,
     "status": "ok",
     "timestamp": 1706188898120,
     "user": {
      "displayName": "Eduardo Seiti de Oliveira",
      "userId": "03989307632206042931"
     },
     "user_tz": 180
    },
    "id": "5129453f"
   },
   "outputs": [],
   "source": [
    "qrels_filename = os.path.join(os.path.dirname(ALL_EVALUATIONS), \"{}_qrel.txt\".format(os.path.splitext(os.path.basename(ALL_EVALUATIONS))[0]))\n",
    "qrels_1M_filename = os.path.join(os.path.dirname(ALL_EVALUATIONS), \"{}_1M_qrel.txt\".format(os.path.splitext(os.path.basename(ALL_EVALUATIONS))[0]))"
   ]
  },
  {
   "cell_type": "code",
   "execution_count": 79,
   "id": "b4b5e5ae",
   "metadata": {
    "colab": {
     "base_uri": "https://localhost:8080/"
    },
    "executionInfo": {
     "elapsed": 891,
     "status": "ok",
     "timestamp": 1706190591650,
     "user": {
      "displayName": "Eduardo Seiti de Oliveira",
      "userId": "03989307632206042931"
     },
     "user_tz": 180
    },
    "id": "b4b5e5ae",
    "outputId": "e8e8b960-77a0-4be5-dbfb-b9029b2a048c"
   },
   "outputs": [
    {
     "name": "stdout",
     "output_type": "stream",
     "text": [
      "\n",
      "query_id=1\n",
      "(array([0, 1, 2, 3]), array([22, 50, 19, 10]))\n",
      "\n",
      "query_id=2\n",
      "(array([0, 1, 2, 3]), array([120,   2,   1,   2]))\n",
      "\n",
      "query_id=9\n",
      "(array([0, 1, 2, 3]), array([74, 10, 16,  6]))\n",
      "\n",
      "query_id=11\n",
      "(array([0, 1, 2, 3]), array([59, 21,  8,  2]))\n",
      "\n",
      "query_id=13\n",
      "(array([0, 1, 2, 3]), array([45, 17, 25,  5]))\n",
      "\n",
      "query_id=15\n",
      "(array([0, 1, 2, 3]), array([40, 23,  4, 17]))\n",
      "\n",
      "query_id=17\n",
      "(array([0, 1, 2, 3]), array([37, 11,  2, 39]))\n",
      "\n",
      "query_id=20\n",
      "(array([0, 1, 2, 3]), array([18, 70, 32,  8]))\n",
      "\n",
      "query_id=21\n",
      "(array([0, 1, 2, 3]), array([56, 25, 13, 22]))\n",
      "\n",
      "query_id=22\n",
      "(array([0, 1, 2, 3]), array([62, 17,  2,  7]))\n",
      "\n",
      "query_id=24\n",
      "(array([0, 1, 2, 3]), array([69, 38, 14,  2]))\n",
      "\n",
      "query_id=26\n",
      "(array([0, 1, 2, 3]), array([14, 21, 16, 34]))\n",
      "\n",
      "query_id=28\n",
      "(array([0, 1, 2, 3]), array([64, 25, 14,  4]))\n",
      "\n",
      "query_id=47\n",
      "(array([0, 1, 2, 3]), array([61, 35, 35,  3]))\n",
      "\n",
      "query_id=49\n",
      "(array([0, 1, 2, 3]), array([33, 34, 24,  2]))\n",
      "\n",
      "query_id=51\n",
      "(array([0, 1, 2, 3]), array([43, 24, 14,  1]))\n",
      "\n",
      "query_id=54\n",
      "(array([0, 1, 2, 3]), array([ 1, 18, 28, 47]))\n",
      "\n",
      "query_id=60\n",
      "(array([0, 1, 3]), array([19,  7, 54]))\n",
      "\n",
      "query_id=62\n",
      "(array([0, 1, 2, 3]), array([58, 44, 23,  1]))\n",
      "\n",
      "query_id=64\n",
      "(array([0, 1, 2, 3]), array([45, 14, 14, 16]))\n",
      "\n",
      "query_id=68\n",
      "(array([0, 1, 2, 3]), array([28, 43, 53,  4]))\n",
      "\n",
      "query_id=84\n",
      "(array([0, 1, 2, 3]), array([93,  6,  2,  2]))\n",
      "\n",
      "query_id=95\n",
      "(array([0, 1, 2]), array([101,  11,   3]))\n",
      "\n",
      "query_id=98\n",
      "(array([0, 1, 2, 3]), array([62, 10, 12, 12]))\n",
      "\n",
      "query_id=105\n",
      "(array([0, 1, 2, 3]), array([60, 17,  2, 18]))\n",
      "\n",
      "query_id=113\n",
      "(array([0, 1, 2, 3]), array([16,  7, 24, 31]))\n",
      "\n",
      "query_id=115\n",
      "(array([0, 1, 2, 3]), array([ 8, 21, 43, 22]))\n",
      "\n",
      "query_id=117\n",
      "(array([0, 1, 2, 3]), array([44, 40,  8, 13]))\n",
      "\n",
      "query_id=126\n",
      "(array([0, 1, 2, 3]), array([108,   3,   1,  22]))\n",
      "\n",
      "query_id=127\n",
      "(array([0, 1, 2, 3]), array([25, 18, 10,  7]))\n",
      "\n",
      "query_id=128\n",
      "(array([0, 1, 3]), array([59,  3, 21]))\n",
      "\n",
      "query_id=136\n",
      "(array([0, 1, 2, 3]), array([68, 17, 17,  6]))\n",
      "\n",
      "query_id=147\n",
      "(array([0, 1, 2, 3]), array([96,  5,  1,  5]))\n",
      "\n",
      "query_id=152\n",
      "(array([0, 1, 2, 3]), array([78, 26,  3,  5]))\n",
      "\n",
      "query_id=153\n",
      "(array([0, 1, 2, 3]), array([35, 25, 11, 13]))\n",
      "\n",
      "query_id=154\n",
      "(array([0, 1, 2, 3]), array([ 7, 11, 14, 33]))\n",
      "\n",
      "query_id=160\n",
      "(array([0, 1, 2, 3]), array([66,  7, 11, 11]))\n",
      "\n",
      "query_id=161\n",
      "(array([0, 1, 2, 3]), array([36,  8, 13,  7]))\n",
      "\n",
      "query_id=163\n",
      "(array([0, 1, 2, 3]), array([42, 18, 13,  1]))\n",
      "\n",
      "query_id=167\n",
      "(array([0, 1, 2, 3]), array([97, 23,  7,  1]))\n",
      "\n",
      "query_id=170\n",
      "(array([0, 1, 2, 3]), array([32, 28, 40,  2]))\n",
      "\n",
      "query_id=172\n",
      "(array([0, 1, 2, 3]), array([20, 11, 21, 22]))\n",
      "\n",
      "query_id=180\n",
      "(array([0, 1, 2, 3]), array([45,  8, 13,  7]))\n",
      "\n",
      "query_id=181\n",
      "(array([0, 1, 2, 3]), array([78,  9,  5, 13]))\n",
      "\n",
      "query_id=182\n",
      "(array([0, 1, 2, 3]), array([69, 10,  4,  5]))\n",
      "\n",
      "query_id=189\n",
      "(array([0, 1]), array([84, 22]))\n",
      "\n",
      "query_id=193\n",
      "(array([0, 1, 2, 3]), array([25, 18, 27, 25]))\n",
      "\n",
      "query_id=195\n",
      "(array([0, 1, 2, 3]), array([13, 11, 28, 31]))\n",
      "\n",
      "query_id=196\n",
      "(array([0, 1, 2, 3]), array([24, 24, 51,  6]))\n",
      "\n",
      "query_id=199\n",
      "(array([0, 1, 2, 3]), array([22, 16, 19, 30]))\n",
      "\n",
      "\n",
      "\n",
      "tests/evaluation_20_retrievers_000_009_sampled_50_queries_gpt-4-1106-preview_20240615_qrel.txt\n",
      "tests/evaluation_20_retrievers_000_009_sampled_50_queries_gpt-4-1106-preview_20240615_1M_qrel.txt\n"
     ]
    }
   ],
   "source": [
    "if os.path.exists(qrels_filename) == False:\n",
    "    eval_df = pd.read_csv(ALL_EVALUATIONS, sep='\\t')\n",
    "\n",
    "    eval_df\n",
    "\n",
    "    eval_df.drop_duplicates(\"query_id\")[['query_id', 'query']]\n",
    "\n",
    "    #### Check scores distribution on the current qrels\n",
    "\n",
    "    np.unique(eval_df['score'].to_numpy(), return_counts=True)\n",
    "\n",
    "    for group_name, group_df in eval_df.groupby('query_id'):\n",
    "        print(\"\\nquery_id={}\".format(group_name))\n",
    "\n",
    "        print(np.unique(group_df['score'].to_numpy(), return_counts=True))\n",
    "\n",
    "    eval_df.groupby('query_id').count()\n",
    "\n",
    "    eval_df.groupby('query_id').count()['query'].describe()\n",
    "\n",
    "    #### Prepare the qrels format for trec_eval tools\n",
    "\n",
    "    eval_df['0'] = '0'\n",
    "\n",
    "    print(\"\\n\\n\")\n",
    "    print(qrels_filename)\n",
    "    print(qrels_1M_filename)\n",
    "\n",
    "    eval_df.sort_values('query_id')[['query_id', '0', 'passage_id', 'score']].to_csv(qrels_filename, header=None, index=False, sep=\" \")\n",
    "\n",
    "\n",
    "    #### Select 1M dataset evaluations\n",
    "\n",
    "    eval_df[eval_df[DATASET_1M_FIELDS].sum(axis=1) > 0].sort_values('query_id')[['query_id', '0', 'passage_id', 'score']].to_csv(qrels_1M_filename, header=None, index=False, sep=\" \")\n",
    "\n",
    "else:\n",
    "    print(\"QRELS files ({}) already created...\".format(qrels_filename))"
   ]
  },
  {
   "cell_type": "markdown",
   "id": "21c43950",
   "metadata": {
    "id": "21c43950"
   },
   "source": [
    "## 10M dataset"
   ]
  },
  {
   "cell_type": "markdown",
   "id": "46a5067d",
   "metadata": {
    "id": "46a5067d"
   },
   "source": [
    "### Compute BM25 nDCG@10"
   ]
  },
  {
   "cell_type": "code",
   "execution_count": 31,
   "id": "47f680eb",
   "metadata": {
    "executionInfo": {
     "elapsed": 502,
     "status": "ok",
     "timestamp": 1706190235611,
     "user": {
      "displayName": "Eduardo Seiti de Oliveira",
      "userId": "03989307632206042931"
     },
     "user_tz": 180
    },
    "id": "47f680eb"
   },
   "outputs": [],
   "source": [
    "result = !{TREC_EVAL} -c -mndcg_cut.10 \\\n",
    "    {qrels_filename} tests/200-queries-passagens-by-BM25-pt_v2_with_query_id_run.txt"
   ]
  },
  {
   "cell_type": "code",
   "execution_count": 32,
   "id": "074fd2a5",
   "metadata": {
    "executionInfo": {
     "elapsed": 3,
     "status": "ok",
     "timestamp": 1706190235612,
     "user": {
      "displayName": "Eduardo Seiti de Oliveira",
      "userId": "03989307632206042931"
     },
     "user_tz": 180
    },
    "id": "074fd2a5"
   },
   "outputs": [],
   "source": [
    "retrievers_results.append({'retriever':'BM25', 'nDCG@10': result[0].split('\\t')[-1]})"
   ]
  },
  {
   "cell_type": "code",
   "execution_count": 33,
   "id": "4e4ea831",
   "metadata": {
    "colab": {
     "base_uri": "https://localhost:8080/"
    },
    "executionInfo": {
     "elapsed": 2,
     "status": "ok",
     "timestamp": 1706190236055,
     "user": {
      "displayName": "Eduardo Seiti de Oliveira",
      "userId": "03989307632206042931"
     },
     "user_tz": 180
    },
    "id": "4e4ea831",
    "outputId": "e9c21f80-5c88-41e3-ede4-2de72b03fb09"
   },
   "outputs": [
    {
     "data": {
      "text/plain": [
       "[{'retriever': 'BM25', 'nDCG@10': '0.4467'}]"
      ]
     },
     "execution_count": 33,
     "metadata": {},
     "output_type": "execute_result"
    }
   ],
   "source": [
    "retrievers_results"
   ]
  },
  {
   "cell_type": "markdown",
   "id": "8369421c",
   "metadata": {
    "id": "8369421c"
   },
   "source": [
    "### Compute BM25 + E5 nDCG@10"
   ]
  },
  {
   "cell_type": "code",
   "execution_count": 34,
   "id": "af1fc331",
   "metadata": {
    "executionInfo": {
     "elapsed": 614,
     "status": "ok",
     "timestamp": 1706190238479,
     "user": {
      "displayName": "Eduardo Seiti de Oliveira",
      "userId": "03989307632206042931"
     },
     "user_tz": 180
    },
    "id": "af1fc331"
   },
   "outputs": [],
   "source": [
    "result = !{TREC_EVAL} -c -mndcg_cut.10 \\\n",
    "    {qrels_filename} {BM25_E5_RUN}"
   ]
  },
  {
   "cell_type": "code",
   "execution_count": 35,
   "id": "06d9ec4e",
   "metadata": {
    "executionInfo": {
     "elapsed": 6,
     "status": "ok",
     "timestamp": 1706190238481,
     "user": {
      "displayName": "Eduardo Seiti de Oliveira",
      "userId": "03989307632206042931"
     },
     "user_tz": 180
    },
    "id": "06d9ec4e"
   },
   "outputs": [],
   "source": [
    "retrievers_results.append({'retriever':'BM25+E5', 'nDCG@10': result[0].split('\\t')[-1]})"
   ]
  },
  {
   "cell_type": "markdown",
   "id": "3b14bc7e",
   "metadata": {
    "id": "3b14bc7e"
   },
   "source": [
    "### Compute BM25 + mT5 nDCG@10"
   ]
  },
  {
   "cell_type": "code",
   "execution_count": 36,
   "id": "0e805605",
   "metadata": {
    "executionInfo": {
     "elapsed": 471,
     "status": "ok",
     "timestamp": 1706190238946,
     "user": {
      "displayName": "Eduardo Seiti de Oliveira",
      "userId": "03989307632206042931"
     },
     "user_tz": 180
    },
    "id": "0e805605"
   },
   "outputs": [],
   "source": [
    "result = !{TREC_EVAL} -c -mndcg_cut.10 \\\n",
    "    {qrels_filename} {BM25_MT5_RUN}"
   ]
  },
  {
   "cell_type": "code",
   "execution_count": 37,
   "id": "ee3b9137",
   "metadata": {
    "executionInfo": {
     "elapsed": 555,
     "status": "ok",
     "timestamp": 1706190239498,
     "user": {
      "displayName": "Eduardo Seiti de Oliveira",
      "userId": "03989307632206042931"
     },
     "user_tz": 180
    },
    "id": "ee3b9137"
   },
   "outputs": [],
   "source": [
    "retrievers_results.append({'retriever':'BM25+mT5', 'nDCG@10': result[0].split('\\t')[-1]})"
   ]
  },
  {
   "cell_type": "markdown",
   "id": "ef82c6bc",
   "metadata": {
    "id": "ef82c6bc"
   },
   "source": [
    "### Compute SPLADE nDCG@10"
   ]
  },
  {
   "cell_type": "code",
   "execution_count": 38,
   "id": "5c0159a9",
   "metadata": {
    "executionInfo": {
     "elapsed": 603,
     "status": "ok",
     "timestamp": 1706190240095,
     "user": {
      "displayName": "Eduardo Seiti de Oliveira",
      "userId": "03989307632206042931"
     },
     "user_tz": 180
    },
    "id": "5c0159a9"
   },
   "outputs": [],
   "source": [
    "result = !{TREC_EVAL} -c -mndcg_cut.10 \\\n",
    "    {qrels_filename} {SPLADE_RUN}"
   ]
  },
  {
   "cell_type": "code",
   "execution_count": 39,
   "id": "fe5ab9e6",
   "metadata": {
    "executionInfo": {
     "elapsed": 7,
     "status": "ok",
     "timestamp": 1706190240096,
     "user": {
      "displayName": "Eduardo Seiti de Oliveira",
      "userId": "03989307632206042931"
     },
     "user_tz": 180
    },
    "id": "fe5ab9e6"
   },
   "outputs": [],
   "source": [
    "retrievers_results.append({'retriever':'SPLADEv2_pt-BR', 'nDCG@10': result[0].split('\\t')[-1]})"
   ]
  },
  {
   "cell_type": "markdown",
   "id": "bc9a4a56",
   "metadata": {
    "id": "bc9a4a56"
   },
   "source": [
    "### Compute ColBERTX nDCG@10"
   ]
  },
  {
   "cell_type": "code",
   "execution_count": 40,
   "id": "2ca2413d",
   "metadata": {
    "executionInfo": {
     "elapsed": 445,
     "status": "ok",
     "timestamp": 1706190240535,
     "user": {
      "displayName": "Eduardo Seiti de Oliveira",
      "userId": "03989307632206042931"
     },
     "user_tz": 180
    },
    "id": "2ca2413d"
   },
   "outputs": [],
   "source": [
    "result = !{TREC_EVAL} -c -mndcg_cut.10 \\\n",
    "    {qrels_filename} {COLBERTX_RUN}"
   ]
  },
  {
   "cell_type": "code",
   "execution_count": 41,
   "id": "ac146b19",
   "metadata": {
    "executionInfo": {
     "elapsed": 3,
     "status": "ok",
     "timestamp": 1706190240535,
     "user": {
      "displayName": "Eduardo Seiti de Oliveira",
      "userId": "03989307632206042931"
     },
     "user_tz": 180
    },
    "id": "ac146b19"
   },
   "outputs": [],
   "source": [
    "retrievers_results.append({'retriever':'ColBERT-X_mMARCO_pt-BR', 'nDCG@10': result[0].split('\\t')[-1]})"
   ]
  },
  {
   "cell_type": "markdown",
   "id": "8eebc635",
   "metadata": {
    "id": "8eebc635"
   },
   "source": [
    "### Compute E5 nDCG@10"
   ]
  },
  {
   "cell_type": "code",
   "execution_count": 42,
   "id": "e582ba5c",
   "metadata": {
    "executionInfo": {
     "elapsed": 1215,
     "status": "ok",
     "timestamp": 1706190242202,
     "user": {
      "displayName": "Eduardo Seiti de Oliveira",
      "userId": "03989307632206042931"
     },
     "user_tz": 180
    },
    "id": "e582ba5c"
   },
   "outputs": [],
   "source": [
    "result = !{TREC_EVAL} -c -mndcg_cut.10 \\\n",
    "    {qrels_filename} {E5_RUN}"
   ]
  },
  {
   "cell_type": "code",
   "execution_count": 43,
   "id": "7bb472b0",
   "metadata": {
    "executionInfo": {
     "elapsed": 3,
     "status": "ok",
     "timestamp": 1706190242202,
     "user": {
      "displayName": "Eduardo Seiti de Oliveira",
      "userId": "03989307632206042931"
     },
     "user_tz": 180
    },
    "id": "7bb472b0"
   },
   "outputs": [],
   "source": [
    "retrievers_results.append({'retriever':'E5', 'nDCG@10': result[0].split('\\t')[-1]})"
   ]
  },
  {
   "cell_type": "markdown",
   "id": "fdb8eed8",
   "metadata": {
    "id": "fdb8eed8"
   },
   "source": [
    "### Compute E5 base nDCG@10"
   ]
  },
  {
   "cell_type": "code",
   "execution_count": 44,
   "id": "c6e41c4f",
   "metadata": {
    "executionInfo": {
     "elapsed": 437,
     "status": "ok",
     "timestamp": 1706190242637,
     "user": {
      "displayName": "Eduardo Seiti de Oliveira",
      "userId": "03989307632206042931"
     },
     "user_tz": 180
    },
    "id": "c6e41c4f"
   },
   "outputs": [],
   "source": [
    "result = !{TREC_EVAL} -c -mndcg_cut.10 \\\n",
    "    {qrels_filename} {E5_BASE_RUN}"
   ]
  },
  {
   "cell_type": "code",
   "execution_count": 45,
   "id": "6ac443e0",
   "metadata": {
    "executionInfo": {
     "elapsed": 2,
     "status": "ok",
     "timestamp": 1706190242637,
     "user": {
      "displayName": "Eduardo Seiti de Oliveira",
      "userId": "03989307632206042931"
     },
     "user_tz": 180
    },
    "id": "6ac443e0"
   },
   "outputs": [],
   "source": [
    "retrievers_results.append({'retriever':'E5 base', 'nDCG@10': result[0].split('\\t')[-1]})"
   ]
  },
  {
   "cell_type": "markdown",
   "id": "f908456a",
   "metadata": {
    "id": "f908456a"
   },
   "source": [
    "### Compute SPLADE + mT5 nDCG@10"
   ]
  },
  {
   "cell_type": "code",
   "execution_count": 46,
   "id": "0d13f8e3",
   "metadata": {
    "executionInfo": {
     "elapsed": 793,
     "status": "ok",
     "timestamp": 1706190243428,
     "user": {
      "displayName": "Eduardo Seiti de Oliveira",
      "userId": "03989307632206042931"
     },
     "user_tz": 180
    },
    "id": "0d13f8e3"
   },
   "outputs": [],
   "source": [
    "result = !{TREC_EVAL} -c -mndcg_cut.10 \\\n",
    "    {qrels_filename} {SPLADE_MT5_RUN}"
   ]
  },
  {
   "cell_type": "code",
   "execution_count": 47,
   "id": "c04b4385",
   "metadata": {
    "executionInfo": {
     "elapsed": 6,
     "status": "ok",
     "timestamp": 1706190243429,
     "user": {
      "displayName": "Eduardo Seiti de Oliveira",
      "userId": "03989307632206042931"
     },
     "user_tz": 180
    },
    "id": "c04b4385"
   },
   "outputs": [],
   "source": [
    "retrievers_results.append({'retriever':'SPLADEv2_pt-BR + mT5', 'nDCG@10': result[0].split('\\t')[-1]})"
   ]
  },
  {
   "cell_type": "markdown",
   "id": "5fb7edda",
   "metadata": {
    "id": "5fb7edda"
   },
   "source": [
    "### Compute E5 + ColBERT-X RRF nDCG@10"
   ]
  },
  {
   "cell_type": "code",
   "execution_count": 48,
   "id": "162e0739",
   "metadata": {
    "executionInfo": {
     "elapsed": 905,
     "status": "ok",
     "timestamp": 1706190244329,
     "user": {
      "displayName": "Eduardo Seiti de Oliveira",
      "userId": "03989307632206042931"
     },
     "user_tz": 180
    },
    "id": "162e0739"
   },
   "outputs": [],
   "source": [
    "result = !{TREC_EVAL} -c -mndcg_cut.10 \\\n",
    "    {qrels_filename} {E5_COLBERTX_RRF_RUN}"
   ]
  },
  {
   "cell_type": "code",
   "execution_count": 49,
   "id": "f3cb3689",
   "metadata": {
    "executionInfo": {
     "elapsed": 4,
     "status": "ok",
     "timestamp": 1706190244329,
     "user": {
      "displayName": "Eduardo Seiti de Oliveira",
      "userId": "03989307632206042931"
     },
     "user_tz": 180
    },
    "id": "f3cb3689"
   },
   "outputs": [],
   "source": [
    "retrievers_results.append({'retriever':'E5 + ColBERT-X mMARCO_pt-BR RRF', 'nDCG@10': result[0].split('\\t')[-1]})"
   ]
  },
  {
   "cell_type": "markdown",
   "id": "75a15037",
   "metadata": {
    "id": "75a15037"
   },
   "source": [
    "### Compute E5 + SPLADE RRF nDCG@10"
   ]
  },
  {
   "cell_type": "code",
   "execution_count": 50,
   "id": "d35edbc9",
   "metadata": {
    "executionInfo": {
     "elapsed": 1056,
     "status": "ok",
     "timestamp": 1706190245382,
     "user": {
      "displayName": "Eduardo Seiti de Oliveira",
      "userId": "03989307632206042931"
     },
     "user_tz": 180
    },
    "id": "d35edbc9"
   },
   "outputs": [],
   "source": [
    "result = !{TREC_EVAL} -c -mndcg_cut.10 \\\n",
    "    {qrels_filename} {E5_SPLADE_RRF_RUN}"
   ]
  },
  {
   "cell_type": "code",
   "execution_count": 51,
   "id": "2a645d56",
   "metadata": {
    "executionInfo": {
     "elapsed": 6,
     "status": "ok",
     "timestamp": 1706190245382,
     "user": {
      "displayName": "Eduardo Seiti de Oliveira",
      "userId": "03989307632206042931"
     },
     "user_tz": 180
    },
    "id": "2a645d56"
   },
   "outputs": [],
   "source": [
    "retrievers_results.append({'retriever':'E5 + SPLADEv2_pt-BR RRF', 'nDCG@10': result[0].split('\\t')[-1]})"
   ]
  },
  {
   "cell_type": "markdown",
   "id": "ff405951",
   "metadata": {
    "id": "ff405951"
   },
   "source": [
    "### Compute BM25 1M nDCG@10"
   ]
  },
  {
   "cell_type": "code",
   "execution_count": 52,
   "id": "84127c9c",
   "metadata": {
    "executionInfo": {
     "elapsed": 811,
     "status": "ok",
     "timestamp": 1706190246188,
     "user": {
      "displayName": "Eduardo Seiti de Oliveira",
      "userId": "03989307632206042931"
     },
     "user_tz": 180
    },
    "id": "84127c9c"
   },
   "outputs": [],
   "source": [
    "result = !{TREC_EVAL} -c -mndcg_cut.10 \\\n",
    "    {qrels_filename} {BM25_1M_RUN}\n",
    "\n",
    "retrievers_results.append({'retriever':'BM25 1M', 'nDCG@10': result[0].split('\\t')[-1]})"
   ]
  },
  {
   "cell_type": "markdown",
   "id": "d788f7ee",
   "metadata": {
    "id": "d788f7ee"
   },
   "source": [
    "### Compute BM25 1M massiveweb filtered nDCG@10"
   ]
  },
  {
   "cell_type": "code",
   "execution_count": 53,
   "id": "0d5cf3ee",
   "metadata": {
    "executionInfo": {
     "elapsed": 278,
     "status": "ok",
     "timestamp": 1706190246463,
     "user": {
      "displayName": "Eduardo Seiti de Oliveira",
      "userId": "03989307632206042931"
     },
     "user_tz": 180
    },
    "id": "0d5cf3ee"
   },
   "outputs": [],
   "source": [
    "result = !{TREC_EVAL} -c -mndcg_cut.10 \\\n",
    "    {qrels_filename} {BM25_1M_MASSIVEWEB_RUN}\n",
    "\n",
    "retrievers_results.append({'retriever':'BM25 1M massiveweb', 'nDCG@10': result[0].split('\\t')[-1]})"
   ]
  },
  {
   "cell_type": "markdown",
   "id": "f7bd0978",
   "metadata": {
    "id": "f7bd0978"
   },
   "source": [
    "### Compute ColBERT-X 1M massiveweb filtered nDCG@10"
   ]
  },
  {
   "cell_type": "code",
   "execution_count": 54,
   "id": "abb56cf8",
   "metadata": {
    "executionInfo": {
     "elapsed": 1506,
     "status": "ok",
     "timestamp": 1706190255088,
     "user": {
      "displayName": "Eduardo Seiti de Oliveira",
      "userId": "03989307632206042931"
     },
     "user_tz": 180
    },
    "id": "abb56cf8"
   },
   "outputs": [],
   "source": [
    "result = !{TREC_EVAL} -c -mndcg_cut.10 \\\n",
    "    {qrels_filename} {COLBERTX_1M_MASSIVEWEB_RUN}\n",
    "\n",
    "retrievers_results.append({'retriever':'ColBERT-X_mMARCO_pt-BR 1M massiveweb', 'nDCG@10': result[0].split('\\t')[-1]})"
   ]
  },
  {
   "cell_type": "markdown",
   "id": "f31705ab",
   "metadata": {},
   "source": [
    "### Compute ADAv2 1M massiveweb filtered nDCG@10"
   ]
  },
  {
   "cell_type": "code",
   "execution_count": 55,
   "id": "ba6da90a",
   "metadata": {},
   "outputs": [],
   "source": [
    "result = !{TREC_EVAL} -c -mndcg_cut.10 \\\n",
    "    {qrels_filename} {ADAV2_RUN}\n",
    "\n",
    "retrievers_results.append({'retriever':'ADA v2 1M massiveweb', 'nDCG@10': result[0].split('\\t')[-1]})"
   ]
  },
  {
   "cell_type": "markdown",
   "id": "5ecc9c4d",
   "metadata": {},
   "source": [
    "### Compute BM25 + mT5 1M massiveweb filtered nDCG@10"
   ]
  },
  {
   "cell_type": "code",
   "execution_count": 56,
   "id": "0cf83ecd",
   "metadata": {},
   "outputs": [],
   "source": [
    "result = !{TREC_EVAL} -c -mndcg_cut.10 \\\n",
    "    {qrels_filename} {BM25_MT5_1M_MASSIVEWEB_RUN}\n",
    "\n",
    "retrievers_results.append({'retriever':'BM25+mT5 1M massiveweb', 'nDCG@10': result[0].split('\\t')[-1]})"
   ]
  },
  {
   "cell_type": "markdown",
   "id": "d9be7cce",
   "metadata": {},
   "source": [
    "### Compute BM25 + E5 1M massiveweb filtered nDCG@10"
   ]
  },
  {
   "cell_type": "code",
   "execution_count": 57,
   "id": "28b4c9f8",
   "metadata": {},
   "outputs": [],
   "source": [
    "result = !{TREC_EVAL} -c -mndcg_cut.10 \\\n",
    "    {qrels_filename} {BM25_E5_1M_MASSIVEWEB_RUN}\n",
    "\n",
    "retrievers_results.append({'retriever':'BM25+E5 1M massiveweb', 'nDCG@10': result[0].split('\\t')[-1]})"
   ]
  },
  {
   "cell_type": "markdown",
   "id": "7796edbb",
   "metadata": {},
   "source": [
    "### Compute text-embedding-3-large 1M massiveweb filtered nDCG@10"
   ]
  },
  {
   "cell_type": "code",
   "execution_count": 58,
   "id": "421073a2",
   "metadata": {},
   "outputs": [],
   "source": [
    "result = !{TREC_EVAL} -c -mndcg_cut.10 \\\n",
    "    {qrels_filename} {TEXT_EMBEDDING_3_LARGE_1M_MASSIVEWEB_RUN}\n",
    "\n",
    "retrievers_results.append({'retriever':'text-embedding-3-large 1M massiveweb', 'nDCG@10': result[0].split('\\t')[-1]})"
   ]
  },
  {
   "cell_type": "markdown",
   "id": "6a1e8f88",
   "metadata": {},
   "source": [
    "### Prepare text-embedding-3-small 1M massiveweb filtered run and compute nDCG@10"
   ]
  },
  {
   "cell_type": "code",
   "execution_count": 59,
   "id": "52a28b6f",
   "metadata": {},
   "outputs": [
    {
     "data": {
      "text/html": [
       "<div>\n",
       "<style scoped>\n",
       "    .dataframe tbody tr th:only-of-type {\n",
       "        vertical-align: middle;\n",
       "    }\n",
       "\n",
       "    .dataframe tbody tr th {\n",
       "        vertical-align: top;\n",
       "    }\n",
       "\n",
       "    .dataframe thead th {\n",
       "        text-align: right;\n",
       "    }\n",
       "</style>\n",
       "<table border=\"1\" class=\"dataframe\">\n",
       "  <thead>\n",
       "    <tr style=\"text-align: right;\">\n",
       "      <th></th>\n",
       "      <th>query_id</th>\n",
       "      <th>query</th>\n",
       "      <th>passage_id</th>\n",
       "      <th>colbertx_id</th>\n",
       "      <th>position</th>\n",
       "      <th>score</th>\n",
       "      <th>passage</th>\n",
       "    </tr>\n",
       "  </thead>\n",
       "  <tbody>\n",
       "    <tr>\n",
       "      <th>0</th>\n",
       "      <td>1</td>\n",
       "      <td>Qual a maior característica da fauna brasileira?</td>\n",
       "      <td>clueweb22-pt0001-46-05303_17</td>\n",
       "      <td>7028401</td>\n",
       "      <td>1</td>\n",
       "      <td>0.676163</td>\n",
       "      <td>http://www.klimanaturali.org/2014/03/biomas-e-fitofisionomias-brasileiros.html 8/17 f15/03/2018 BIOMAS E FITOFISIONOMIAS BRASILEIROS: CARACTERÍSTICAS E EVOLUÇÃO DA FAUNA E FLORA - Klima Naturali™ colonização no Brasil e os ciclos de desenvolvimento do país SITE  BRASIL  MUNDO  CIÊNCIAS  GERAL  levaram o homem a ocupar e destruir parte desse espaço. Fauna e Flora Rica em diversidade de espécies, a Mata Atlântica está entre Pesquisa no Site...  as cinco regiões do mundo com maior número de espécies endêmicas. Os animais podem ser considerados generalistas ou especialistas. Os generalistas apresentam hábitos alimentares variados, alta taxa de crescimento e dispersão; vivem em áreas de vegetação aberta e secundária, tolerantes e capazes de aproveitar diferentes recursos oferecidos pelo meio ambiente. Os animais especialistas são mais exigentes em relação aos habitats nos quais vivem, com dieta especí ca, uma alteração no meio ambiente exige dos animais especialistas a procura de novos habitats. Grupos da Mata Atlântica Mamíferos – A Mata Atlântica possui cerca de 250 espécies de mamíferos, das quais 55 são endêmicas. Os mamíferos são os</td>\n",
       "    </tr>\n",
       "    <tr>\n",
       "      <th>1</th>\n",
       "      <td>1</td>\n",
       "      <td>Qual a maior característica da fauna brasileira?</td>\n",
       "      <td>clueweb22-pt0001-01-18874_0</td>\n",
       "      <td>4875435</td>\n",
       "      <td>2</td>\n",
       "      <td>0.667840</td>\n",
       "      <td>Conheça 11 lindos animais típicos da fauna brasileira / Incrível Conheça 11 lindos animais típicos da fauna brasileira 4--4 Compartilhe no Facebook Compartilhe no Facebook Compartilhe no Pinterest Que o Brasil é gigante, todos nós sabemos e até já demos aqui exemplos chocantes sobre isso. Mas um outro exemplo dessa grandiosidade é quando sabemos que o país abriga 17% das espécies de aves e 10% das de anfíbios e mamíferos de todo o mundo. Neste post, o Incrível.club vai te mostrar uma lista de animais típicos do país. Mico-leão dourado © Nadine Doerle / Pixabay Este macaco “ruivo” ficou famoso ao tornar-se um símbolo de espécies brasileiras em extinção. O cuidado para a preservação da espécie, que é nativa da Mata Atlântica e aparece na nota de 20 reais, começou nos anos 1970 e se intensificou duas décadas depois. Embora a situação tenha melhorado, o risco de extinção ainda existe. Tamanduá-bandeira © joelfotos / Pixabay Este gigante que ama comer formigas — pode devorar até 30 mil por dia, inclusive cupins — é também um forte: com seus 2,20 metros, consegue até brigar com uma onça pintada. E vencer. Embora ele exista originalmente nas três Américas, já foi extinto em países como Estados Unidos e em Estados brasileiros como Espírito Santo e Rio e Janeiro. Onça pintada</td>\n",
       "    </tr>\n",
       "    <tr>\n",
       "      <th>2</th>\n",
       "      <td>1</td>\n",
       "      <td>Qual a maior característica da fauna brasileira?</td>\n",
       "      <td>clueweb22-pt0000-63-02968_1</td>\n",
       "      <td>2990727</td>\n",
       "      <td>3</td>\n",
       "      <td>0.661703</td>\n",
       "      <td>A classificação dos biomas segue um padrão mundial, que identifica os grandes conjuntos de ecossistemas relacionados de acordo com condições de clima e solo específicas. No Brasil, o IBGE é o órgão responsável pela classificação dos biomas, o último estudo foi realizado em 2014. Mapa e características dos Biomas Brasileiros Mapa dos Biomas Brasileiros. (Foto: Educa Mais Brasil) Biomas Brasileiros Área Aproximada (km²) Área / Total Brasil Bioma Amazônia 4.196.943 49,29% Bioma Cerrado 2.036.448 23,92% Bioma Mata Atlântica 1.110.182 13,04% Bioma Caatinga 844.453 9,92% Bioma Pampa 176.496 2,07% Bioma Pantanal 150.355 1,76% Bioma Amazônia É o maior bioma do Brasil e ocupa os estados do Acre, Amapá, Amazonas, Pará, Roraima, parte de Rondônia, Mato Grosso, Maranhão e Tocantins. Ele também se estende por nove países da América do Sul (Bolívia, Colômbia, Equador, Venezuela, Guiana, Guiana Francesa, Peru, Suriname). O Bioma Amazônia possui um flora rica com mais 30 mil espécies de plantas. A fauna corresponde a cerca de 20% de todas as espécies do planeta, são cerca de 2 milhões de animais, sendo os principais representantes o jabuti, o jacaré, a sucuri, a onça-pintada e a arara-azul. Bioma Caatinga</td>\n",
       "    </tr>\n",
       "    <tr>\n",
       "      <th>3</th>\n",
       "      <td>1</td>\n",
       "      <td>Qual a maior característica da fauna brasileira?</td>\n",
       "      <td>clueweb22-pt0000-55-02859_3</td>\n",
       "      <td>2605803</td>\n",
       "      <td>4</td>\n",
       "      <td>0.659614</td>\n",
       "      <td>Fauna do Pantanal - Répteis, aves, mamíferos e peixes. Isso faz do pantanal uma das faunas mais ricas do planeta. Flora do Pantanal - Vegetação, em geral, vinda de outros biomas adaptadas às poucas áreas secas ou áreas alagáveis e uma grande diversidade de espécies de plantas aquáticas. Veja também: Pantanal. Fauna e flora dos Pampas Fauna dos Pampas - Animais de planícies como algumas aves, veados, tatus, etc. Flora dos Pampas - Poucas árvores esparsas e diversas espécies de gramíneas. Os pampas correm risco de desaparecimento por conta do avanço da produção agropecuária, sobretudo, da criação de gado. Veja também: Pampa. Fauna e flora da Mata Atlântica Fauna da Mata Atlântica - Diversas espécies de pequenos primatas, felinos Flora da Mata Atlântica - Floresta tropical que abriga a maior diversidade de espécies por unidade de área. A Mata Atlântica preserva uma série de animais e plantas em risco de extinção, que sofre com queimadas, tráfico de animais e processos de urbanização. Veja também: Mata Atlântica. Fauna e flora da Amazônia A Amazônia é o maior bioma brasileiro, também é o que possui a maior biodiversidade. Fauna da Amazônia - Maior coleção de animais do planeta, muitas ainda não catalogadas por pesquisadores.</td>\n",
       "    </tr>\n",
       "    <tr>\n",
       "      <th>4</th>\n",
       "      <td>1</td>\n",
       "      <td>Qual a maior característica da fauna brasileira?</td>\n",
       "      <td>clueweb22-pt0000-17-01771_1</td>\n",
       "      <td>827050</td>\n",
       "      <td>5</td>\n",
       "      <td>0.652344</td>\n",
       "      <td>O Brasil é um país conhecido mundialmente por suas belezas naturais, incluindo a sua fauna que contém diversas espécies de animais exóticos como a arara-azul, o mico-leão-dourado e a onça-pintada. Há ... Redação completa Enviada em: 25/04/2017 A vasta natureza brasileira, exaltada desde o século dezesseis na carta de Pero Vaz de Caminha, continua sendo um dos maiores patrimônios nacionais, mas é também o maior alvo do contrabando e das dest... Redação completa Enviada em: 26/04/2017 Em vários locais do mundo, principalmente no Brasil, agrega inúmeras espécies de animais em ecossistemas e climas distintos. A essência atualizante da sociedade traz como característica admirável, a c... Redação completa Enviada em: 26/04/2017 Nos primórdios do século XVI,os lusitanos desembarcaram nas terras brasileiras já com o ideal de exploração.Nesse contexto,até mesmo os animais silvestres eram incorporados nas práticas mercantilistas... Redação completa Enviada em: 26/04/2017 Para Paul Atson, co-fundador do Greenspace, \\\"a inteligência é a habilidade de se viver em harmonia com o meio ambiente\\\". Desse modo, percebe-se que essa harmonia é rompida no Brasil com o tráfico de a... Redação completa Enviada em: 27/04/2017 Tráfico de animais silvestres: um problema secular</td>\n",
       "    </tr>\n",
       "  </tbody>\n",
       "</table>\n",
       "</div>"
      ],
      "text/plain": [
       "   query_id                                             query  \\\n",
       "0         1  Qual a maior característica da fauna brasileira?   \n",
       "1         1  Qual a maior característica da fauna brasileira?   \n",
       "2         1  Qual a maior característica da fauna brasileira?   \n",
       "3         1  Qual a maior característica da fauna brasileira?   \n",
       "4         1  Qual a maior característica da fauna brasileira?   \n",
       "\n",
       "                     passage_id  colbertx_id  position     score  \\\n",
       "0  clueweb22-pt0001-46-05303_17      7028401         1  0.676163   \n",
       "1   clueweb22-pt0001-01-18874_0      4875435         2  0.667840   \n",
       "2   clueweb22-pt0000-63-02968_1      2990727         3  0.661703   \n",
       "3   clueweb22-pt0000-55-02859_3      2605803         4  0.659614   \n",
       "4   clueweb22-pt0000-17-01771_1       827050         5  0.652344   \n",
       "\n",
       "                                                                                                                                                                                                                                                                                                                                                                                                                                                                                                                                                                                                                                                                                                                                                                                                                                                                                                                                                                                                                                                                                                                                                                                                                                                                                                                                   passage  \n",
       "0                                                                                                                                     http://www.klimanaturali.org/2014/03/biomas-e-fitofisionomias-brasileiros.html 8/17 f15/03/2018 BIOMAS E FITOFISIONOMIAS BRASILEIROS: CARACTERÍSTICAS E EVOLUÇÃO DA FAUNA E FLORA - Klima Naturali™ colonização no Brasil e os ciclos de desenvolvimento do país SITE  BRASIL  MUNDO  CIÊNCIAS  GERAL  levaram o homem a ocupar e destruir parte desse espaço. Fauna e Flora Rica em diversidade de espécies, a Mata Atlântica está entre Pesquisa no Site...  as cinco regiões do mundo com maior número de espécies endêmicas. Os animais podem ser considerados generalistas ou especialistas. Os generalistas apresentam hábitos alimentares variados, alta taxa de crescimento e dispersão; vivem em áreas de vegetação aberta e secundária, tolerantes e capazes de aproveitar diferentes recursos oferecidos pelo meio ambiente. Os animais especialistas são mais exigentes em relação aos habitats nos quais vivem, com dieta especí ca, uma alteração no meio ambiente exige dos animais especialistas a procura de novos habitats. Grupos da Mata Atlântica Mamíferos – A Mata Atlântica possui cerca de 250 espécies de mamíferos, das quais 55 são endêmicas. Os mamíferos são os  \n",
       "1  Conheça 11 lindos animais típicos da fauna brasileira / Incrível Conheça 11 lindos animais típicos da fauna brasileira 4--4 Compartilhe no Facebook Compartilhe no Facebook Compartilhe no Pinterest Que o Brasil é gigante, todos nós sabemos e até já demos aqui exemplos chocantes sobre isso. Mas um outro exemplo dessa grandiosidade é quando sabemos que o país abriga 17% das espécies de aves e 10% das de anfíbios e mamíferos de todo o mundo. Neste post, o Incrível.club vai te mostrar uma lista de animais típicos do país. Mico-leão dourado © Nadine Doerle / Pixabay Este macaco “ruivo” ficou famoso ao tornar-se um símbolo de espécies brasileiras em extinção. O cuidado para a preservação da espécie, que é nativa da Mata Atlântica e aparece na nota de 20 reais, começou nos anos 1970 e se intensificou duas décadas depois. Embora a situação tenha melhorado, o risco de extinção ainda existe. Tamanduá-bandeira © joelfotos / Pixabay Este gigante que ama comer formigas — pode devorar até 30 mil por dia, inclusive cupins — é também um forte: com seus 2,20 metros, consegue até brigar com uma onça pintada. E vencer. Embora ele exista originalmente nas três Américas, já foi extinto em países como Estados Unidos e em Estados brasileiros como Espírito Santo e Rio e Janeiro. Onça pintada  \n",
       "2                                                                                 A classificação dos biomas segue um padrão mundial, que identifica os grandes conjuntos de ecossistemas relacionados de acordo com condições de clima e solo específicas. No Brasil, o IBGE é o órgão responsável pela classificação dos biomas, o último estudo foi realizado em 2014. Mapa e características dos Biomas Brasileiros Mapa dos Biomas Brasileiros. (Foto: Educa Mais Brasil) Biomas Brasileiros Área Aproximada (km²) Área / Total Brasil Bioma Amazônia 4.196.943 49,29% Bioma Cerrado 2.036.448 23,92% Bioma Mata Atlântica 1.110.182 13,04% Bioma Caatinga 844.453 9,92% Bioma Pampa 176.496 2,07% Bioma Pantanal 150.355 1,76% Bioma Amazônia É o maior bioma do Brasil e ocupa os estados do Acre, Amapá, Amazonas, Pará, Roraima, parte de Rondônia, Mato Grosso, Maranhão e Tocantins. Ele também se estende por nove países da América do Sul (Bolívia, Colômbia, Equador, Venezuela, Guiana, Guiana Francesa, Peru, Suriname). O Bioma Amazônia possui um flora rica com mais 30 mil espécies de plantas. A fauna corresponde a cerca de 20% de todas as espécies do planeta, são cerca de 2 milhões de animais, sendo os principais representantes o jabuti, o jacaré, a sucuri, a onça-pintada e a arara-azul. Bioma Caatinga  \n",
       "3                                                 Fauna do Pantanal - Répteis, aves, mamíferos e peixes. Isso faz do pantanal uma das faunas mais ricas do planeta. Flora do Pantanal - Vegetação, em geral, vinda de outros biomas adaptadas às poucas áreas secas ou áreas alagáveis e uma grande diversidade de espécies de plantas aquáticas. Veja também: Pantanal. Fauna e flora dos Pampas Fauna dos Pampas - Animais de planícies como algumas aves, veados, tatus, etc. Flora dos Pampas - Poucas árvores esparsas e diversas espécies de gramíneas. Os pampas correm risco de desaparecimento por conta do avanço da produção agropecuária, sobretudo, da criação de gado. Veja também: Pampa. Fauna e flora da Mata Atlântica Fauna da Mata Atlântica - Diversas espécies de pequenos primatas, felinos Flora da Mata Atlântica - Floresta tropical que abriga a maior diversidade de espécies por unidade de área. A Mata Atlântica preserva uma série de animais e plantas em risco de extinção, que sofre com queimadas, tráfico de animais e processos de urbanização. Veja também: Mata Atlântica. Fauna e flora da Amazônia A Amazônia é o maior bioma brasileiro, também é o que possui a maior biodiversidade. Fauna da Amazônia - Maior coleção de animais do planeta, muitas ainda não catalogadas por pesquisadores.  \n",
       "4                 O Brasil é um país conhecido mundialmente por suas belezas naturais, incluindo a sua fauna que contém diversas espécies de animais exóticos como a arara-azul, o mico-leão-dourado e a onça-pintada. Há ... Redação completa Enviada em: 25/04/2017 A vasta natureza brasileira, exaltada desde o século dezesseis na carta de Pero Vaz de Caminha, continua sendo um dos maiores patrimônios nacionais, mas é também o maior alvo do contrabando e das dest... Redação completa Enviada em: 26/04/2017 Em vários locais do mundo, principalmente no Brasil, agrega inúmeras espécies de animais em ecossistemas e climas distintos. A essência atualizante da sociedade traz como característica admirável, a c... Redação completa Enviada em: 26/04/2017 Nos primórdios do século XVI,os lusitanos desembarcaram nas terras brasileiras já com o ideal de exploração.Nesse contexto,até mesmo os animais silvestres eram incorporados nas práticas mercantilistas... Redação completa Enviada em: 26/04/2017 Para Paul Atson, co-fundador do Greenspace, \\\"a inteligência é a habilidade de se viver em harmonia com o meio ambiente\\\". Desse modo, percebe-se que essa harmonia é rompida no Brasil com o tráfico de a... Redação completa Enviada em: 27/04/2017 Tráfico de animais silvestres: um problema secular  "
      ]
     },
     "metadata": {},
     "output_type": "display_data"
    },
    {
     "name": "stdout",
     "output_type": "stream",
     "text": [
      "output_filename=tests/text-embedding-3-small_1M_docs_000_999_sampled_50_queries_run.txt\n"
     ]
    }
   ],
   "source": [
    "text_embedding_3_small_filename, _ = prepare_run_format(TEXT_EMBEDDING_3_SMALL_1M_MASSIVEWEB, retriever_name=\"text-embedding-3-small\")"
   ]
  },
  {
   "cell_type": "code",
   "execution_count": 60,
   "id": "a4d7397d",
   "metadata": {},
   "outputs": [],
   "source": [
    "result = !{TREC_EVAL} -c -mndcg_cut.10 \\\n",
    "    {qrels_filename} {text_embedding_3_small_filename}\n",
    "\n",
    "retrievers_results.append({'retriever':'text-embedding-3-small 1M massiveweb', 'nDCG@10': result[0].split('\\t')[-1]})"
   ]
  },
  {
   "cell_type": "markdown",
   "id": "692581c7",
   "metadata": {},
   "source": [
    "### Prepare text-embedding-3-small_half normalized 1M massiveweb filtered run and compute nDCG@10"
   ]
  },
  {
   "cell_type": "code",
   "execution_count": 61,
   "id": "110dbfb2",
   "metadata": {},
   "outputs": [
    {
     "data": {
      "text/html": [
       "<div>\n",
       "<style scoped>\n",
       "    .dataframe tbody tr th:only-of-type {\n",
       "        vertical-align: middle;\n",
       "    }\n",
       "\n",
       "    .dataframe tbody tr th {\n",
       "        vertical-align: top;\n",
       "    }\n",
       "\n",
       "    .dataframe thead th {\n",
       "        text-align: right;\n",
       "    }\n",
       "</style>\n",
       "<table border=\"1\" class=\"dataframe\">\n",
       "  <thead>\n",
       "    <tr style=\"text-align: right;\">\n",
       "      <th></th>\n",
       "      <th>query_id</th>\n",
       "      <th>query</th>\n",
       "      <th>passage_id</th>\n",
       "      <th>colbertx_id</th>\n",
       "      <th>position</th>\n",
       "      <th>score</th>\n",
       "      <th>passage</th>\n",
       "    </tr>\n",
       "  </thead>\n",
       "  <tbody>\n",
       "    <tr>\n",
       "      <th>0</th>\n",
       "      <td>1</td>\n",
       "      <td>Qual a maior característica da fauna brasileira?</td>\n",
       "      <td>clueweb22-pt0001-01-18874_0</td>\n",
       "      <td>4875435</td>\n",
       "      <td>1</td>\n",
       "      <td>0.691713</td>\n",
       "      <td>Conheça 11 lindos animais típicos da fauna brasileira / Incrível Conheça 11 lindos animais típicos da fauna brasileira 4--4 Compartilhe no Facebook Compartilhe no Facebook Compartilhe no Pinterest Que o Brasil é gigante, todos nós sabemos e até já demos aqui exemplos chocantes sobre isso. Mas um outro exemplo dessa grandiosidade é quando sabemos que o país abriga 17% das espécies de aves e 10% das de anfíbios e mamíferos de todo o mundo. Neste post, o Incrível.club vai te mostrar uma lista de animais típicos do país. Mico-leão dourado © Nadine Doerle / Pixabay Este macaco “ruivo” ficou famoso ao tornar-se um símbolo de espécies brasileiras em extinção. O cuidado para a preservação da espécie, que é nativa da Mata Atlântica e aparece na nota de 20 reais, começou nos anos 1970 e se intensificou duas décadas depois. Embora a situação tenha melhorado, o risco de extinção ainda existe. Tamanduá-bandeira © joelfotos / Pixabay Este gigante que ama comer formigas — pode devorar até 30 mil por dia, inclusive cupins — é também um forte: com seus 2,20 metros, consegue até brigar com uma onça pintada. E vencer. Embora ele exista originalmente nas três Américas, já foi extinto em países como Estados Unidos e em Estados brasileiros como Espírito Santo e Rio e Janeiro. Onça pintada</td>\n",
       "    </tr>\n",
       "    <tr>\n",
       "      <th>1</th>\n",
       "      <td>1</td>\n",
       "      <td>Qual a maior característica da fauna brasileira?</td>\n",
       "      <td>clueweb22-pt0001-46-05303_17</td>\n",
       "      <td>7028401</td>\n",
       "      <td>2</td>\n",
       "      <td>0.683400</td>\n",
       "      <td>http://www.klimanaturali.org/2014/03/biomas-e-fitofisionomias-brasileiros.html 8/17 f15/03/2018 BIOMAS E FITOFISIONOMIAS BRASILEIROS: CARACTERÍSTICAS E EVOLUÇÃO DA FAUNA E FLORA - Klima Naturali™ colonização no Brasil e os ciclos de desenvolvimento do país SITE  BRASIL  MUNDO  CIÊNCIAS  GERAL  levaram o homem a ocupar e destruir parte desse espaço. Fauna e Flora Rica em diversidade de espécies, a Mata Atlântica está entre Pesquisa no Site...  as cinco regiões do mundo com maior número de espécies endêmicas. Os animais podem ser considerados generalistas ou especialistas. Os generalistas apresentam hábitos alimentares variados, alta taxa de crescimento e dispersão; vivem em áreas de vegetação aberta e secundária, tolerantes e capazes de aproveitar diferentes recursos oferecidos pelo meio ambiente. Os animais especialistas são mais exigentes em relação aos habitats nos quais vivem, com dieta especí ca, uma alteração no meio ambiente exige dos animais especialistas a procura de novos habitats. Grupos da Mata Atlântica Mamíferos – A Mata Atlântica possui cerca de 250 espécies de mamíferos, das quais 55 são endêmicas. Os mamíferos são os</td>\n",
       "    </tr>\n",
       "    <tr>\n",
       "      <th>2</th>\n",
       "      <td>1</td>\n",
       "      <td>Qual a maior característica da fauna brasileira?</td>\n",
       "      <td>clueweb22-pt0000-63-02968_1</td>\n",
       "      <td>2990727</td>\n",
       "      <td>3</td>\n",
       "      <td>0.671061</td>\n",
       "      <td>A classificação dos biomas segue um padrão mundial, que identifica os grandes conjuntos de ecossistemas relacionados de acordo com condições de clima e solo específicas. No Brasil, o IBGE é o órgão responsável pela classificação dos biomas, o último estudo foi realizado em 2014. Mapa e características dos Biomas Brasileiros Mapa dos Biomas Brasileiros. (Foto: Educa Mais Brasil) Biomas Brasileiros Área Aproximada (km²) Área / Total Brasil Bioma Amazônia 4.196.943 49,29% Bioma Cerrado 2.036.448 23,92% Bioma Mata Atlântica 1.110.182 13,04% Bioma Caatinga 844.453 9,92% Bioma Pampa 176.496 2,07% Bioma Pantanal 150.355 1,76% Bioma Amazônia É o maior bioma do Brasil e ocupa os estados do Acre, Amapá, Amazonas, Pará, Roraima, parte de Rondônia, Mato Grosso, Maranhão e Tocantins. Ele também se estende por nove países da América do Sul (Bolívia, Colômbia, Equador, Venezuela, Guiana, Guiana Francesa, Peru, Suriname). O Bioma Amazônia possui um flora rica com mais 30 mil espécies de plantas. A fauna corresponde a cerca de 20% de todas as espécies do planeta, são cerca de 2 milhões de animais, sendo os principais representantes o jabuti, o jacaré, a sucuri, a onça-pintada e a arara-azul. Bioma Caatinga</td>\n",
       "    </tr>\n",
       "    <tr>\n",
       "      <th>3</th>\n",
       "      <td>1</td>\n",
       "      <td>Qual a maior característica da fauna brasileira?</td>\n",
       "      <td>clueweb22-pt0000-55-02859_3</td>\n",
       "      <td>2605803</td>\n",
       "      <td>4</td>\n",
       "      <td>0.669454</td>\n",
       "      <td>Fauna do Pantanal - Répteis, aves, mamíferos e peixes. Isso faz do pantanal uma das faunas mais ricas do planeta. Flora do Pantanal - Vegetação, em geral, vinda de outros biomas adaptadas às poucas áreas secas ou áreas alagáveis e uma grande diversidade de espécies de plantas aquáticas. Veja também: Pantanal. Fauna e flora dos Pampas Fauna dos Pampas - Animais de planícies como algumas aves, veados, tatus, etc. Flora dos Pampas - Poucas árvores esparsas e diversas espécies de gramíneas. Os pampas correm risco de desaparecimento por conta do avanço da produção agropecuária, sobretudo, da criação de gado. Veja também: Pampa. Fauna e flora da Mata Atlântica Fauna da Mata Atlântica - Diversas espécies de pequenos primatas, felinos Flora da Mata Atlântica - Floresta tropical que abriga a maior diversidade de espécies por unidade de área. A Mata Atlântica preserva uma série de animais e plantas em risco de extinção, que sofre com queimadas, tráfico de animais e processos de urbanização. Veja também: Mata Atlântica. Fauna e flora da Amazônia A Amazônia é o maior bioma brasileiro, também é o que possui a maior biodiversidade. Fauna da Amazônia - Maior coleção de animais do planeta, muitas ainda não catalogadas por pesquisadores.</td>\n",
       "    </tr>\n",
       "    <tr>\n",
       "      <th>4</th>\n",
       "      <td>1</td>\n",
       "      <td>Qual a maior característica da fauna brasileira?</td>\n",
       "      <td>clueweb22-pt0000-17-01771_1</td>\n",
       "      <td>827050</td>\n",
       "      <td>5</td>\n",
       "      <td>0.658632</td>\n",
       "      <td>O Brasil é um país conhecido mundialmente por suas belezas naturais, incluindo a sua fauna que contém diversas espécies de animais exóticos como a arara-azul, o mico-leão-dourado e a onça-pintada. Há ... Redação completa Enviada em: 25/04/2017 A vasta natureza brasileira, exaltada desde o século dezesseis na carta de Pero Vaz de Caminha, continua sendo um dos maiores patrimônios nacionais, mas é também o maior alvo do contrabando e das dest... Redação completa Enviada em: 26/04/2017 Em vários locais do mundo, principalmente no Brasil, agrega inúmeras espécies de animais em ecossistemas e climas distintos. A essência atualizante da sociedade traz como característica admirável, a c... Redação completa Enviada em: 26/04/2017 Nos primórdios do século XVI,os lusitanos desembarcaram nas terras brasileiras já com o ideal de exploração.Nesse contexto,até mesmo os animais silvestres eram incorporados nas práticas mercantilistas... Redação completa Enviada em: 26/04/2017 Para Paul Atson, co-fundador do Greenspace, \\\"a inteligência é a habilidade de se viver em harmonia com o meio ambiente\\\". Desse modo, percebe-se que essa harmonia é rompida no Brasil com o tráfico de a... Redação completa Enviada em: 27/04/2017 Tráfico de animais silvestres: um problema secular</td>\n",
       "    </tr>\n",
       "  </tbody>\n",
       "</table>\n",
       "</div>"
      ],
      "text/plain": [
       "   query_id                                             query  \\\n",
       "0         1  Qual a maior característica da fauna brasileira?   \n",
       "1         1  Qual a maior característica da fauna brasileira?   \n",
       "2         1  Qual a maior característica da fauna brasileira?   \n",
       "3         1  Qual a maior característica da fauna brasileira?   \n",
       "4         1  Qual a maior característica da fauna brasileira?   \n",
       "\n",
       "                     passage_id  colbertx_id  position     score  \\\n",
       "0   clueweb22-pt0001-01-18874_0      4875435         1  0.691713   \n",
       "1  clueweb22-pt0001-46-05303_17      7028401         2  0.683400   \n",
       "2   clueweb22-pt0000-63-02968_1      2990727         3  0.671061   \n",
       "3   clueweb22-pt0000-55-02859_3      2605803         4  0.669454   \n",
       "4   clueweb22-pt0000-17-01771_1       827050         5  0.658632   \n",
       "\n",
       "                                                                                                                                                                                                                                                                                                                                                                                                                                                                                                                                                                                                                                                                                                                                                                                                                                                                                                                                                                                                                                                                                                                                                                                                                                                                                                                                   passage  \n",
       "0  Conheça 11 lindos animais típicos da fauna brasileira / Incrível Conheça 11 lindos animais típicos da fauna brasileira 4--4 Compartilhe no Facebook Compartilhe no Facebook Compartilhe no Pinterest Que o Brasil é gigante, todos nós sabemos e até já demos aqui exemplos chocantes sobre isso. Mas um outro exemplo dessa grandiosidade é quando sabemos que o país abriga 17% das espécies de aves e 10% das de anfíbios e mamíferos de todo o mundo. Neste post, o Incrível.club vai te mostrar uma lista de animais típicos do país. Mico-leão dourado © Nadine Doerle / Pixabay Este macaco “ruivo” ficou famoso ao tornar-se um símbolo de espécies brasileiras em extinção. O cuidado para a preservação da espécie, que é nativa da Mata Atlântica e aparece na nota de 20 reais, começou nos anos 1970 e se intensificou duas décadas depois. Embora a situação tenha melhorado, o risco de extinção ainda existe. Tamanduá-bandeira © joelfotos / Pixabay Este gigante que ama comer formigas — pode devorar até 30 mil por dia, inclusive cupins — é também um forte: com seus 2,20 metros, consegue até brigar com uma onça pintada. E vencer. Embora ele exista originalmente nas três Américas, já foi extinto em países como Estados Unidos e em Estados brasileiros como Espírito Santo e Rio e Janeiro. Onça pintada  \n",
       "1                                                                                                                                     http://www.klimanaturali.org/2014/03/biomas-e-fitofisionomias-brasileiros.html 8/17 f15/03/2018 BIOMAS E FITOFISIONOMIAS BRASILEIROS: CARACTERÍSTICAS E EVOLUÇÃO DA FAUNA E FLORA - Klima Naturali™ colonização no Brasil e os ciclos de desenvolvimento do país SITE  BRASIL  MUNDO  CIÊNCIAS  GERAL  levaram o homem a ocupar e destruir parte desse espaço. Fauna e Flora Rica em diversidade de espécies, a Mata Atlântica está entre Pesquisa no Site...  as cinco regiões do mundo com maior número de espécies endêmicas. Os animais podem ser considerados generalistas ou especialistas. Os generalistas apresentam hábitos alimentares variados, alta taxa de crescimento e dispersão; vivem em áreas de vegetação aberta e secundária, tolerantes e capazes de aproveitar diferentes recursos oferecidos pelo meio ambiente. Os animais especialistas são mais exigentes em relação aos habitats nos quais vivem, com dieta especí ca, uma alteração no meio ambiente exige dos animais especialistas a procura de novos habitats. Grupos da Mata Atlântica Mamíferos – A Mata Atlântica possui cerca de 250 espécies de mamíferos, das quais 55 são endêmicas. Os mamíferos são os  \n",
       "2                                                                                 A classificação dos biomas segue um padrão mundial, que identifica os grandes conjuntos de ecossistemas relacionados de acordo com condições de clima e solo específicas. No Brasil, o IBGE é o órgão responsável pela classificação dos biomas, o último estudo foi realizado em 2014. Mapa e características dos Biomas Brasileiros Mapa dos Biomas Brasileiros. (Foto: Educa Mais Brasil) Biomas Brasileiros Área Aproximada (km²) Área / Total Brasil Bioma Amazônia 4.196.943 49,29% Bioma Cerrado 2.036.448 23,92% Bioma Mata Atlântica 1.110.182 13,04% Bioma Caatinga 844.453 9,92% Bioma Pampa 176.496 2,07% Bioma Pantanal 150.355 1,76% Bioma Amazônia É o maior bioma do Brasil e ocupa os estados do Acre, Amapá, Amazonas, Pará, Roraima, parte de Rondônia, Mato Grosso, Maranhão e Tocantins. Ele também se estende por nove países da América do Sul (Bolívia, Colômbia, Equador, Venezuela, Guiana, Guiana Francesa, Peru, Suriname). O Bioma Amazônia possui um flora rica com mais 30 mil espécies de plantas. A fauna corresponde a cerca de 20% de todas as espécies do planeta, são cerca de 2 milhões de animais, sendo os principais representantes o jabuti, o jacaré, a sucuri, a onça-pintada e a arara-azul. Bioma Caatinga  \n",
       "3                                                 Fauna do Pantanal - Répteis, aves, mamíferos e peixes. Isso faz do pantanal uma das faunas mais ricas do planeta. Flora do Pantanal - Vegetação, em geral, vinda de outros biomas adaptadas às poucas áreas secas ou áreas alagáveis e uma grande diversidade de espécies de plantas aquáticas. Veja também: Pantanal. Fauna e flora dos Pampas Fauna dos Pampas - Animais de planícies como algumas aves, veados, tatus, etc. Flora dos Pampas - Poucas árvores esparsas e diversas espécies de gramíneas. Os pampas correm risco de desaparecimento por conta do avanço da produção agropecuária, sobretudo, da criação de gado. Veja também: Pampa. Fauna e flora da Mata Atlântica Fauna da Mata Atlântica - Diversas espécies de pequenos primatas, felinos Flora da Mata Atlântica - Floresta tropical que abriga a maior diversidade de espécies por unidade de área. A Mata Atlântica preserva uma série de animais e plantas em risco de extinção, que sofre com queimadas, tráfico de animais e processos de urbanização. Veja também: Mata Atlântica. Fauna e flora da Amazônia A Amazônia é o maior bioma brasileiro, também é o que possui a maior biodiversidade. Fauna da Amazônia - Maior coleção de animais do planeta, muitas ainda não catalogadas por pesquisadores.  \n",
       "4                 O Brasil é um país conhecido mundialmente por suas belezas naturais, incluindo a sua fauna que contém diversas espécies de animais exóticos como a arara-azul, o mico-leão-dourado e a onça-pintada. Há ... Redação completa Enviada em: 25/04/2017 A vasta natureza brasileira, exaltada desde o século dezesseis na carta de Pero Vaz de Caminha, continua sendo um dos maiores patrimônios nacionais, mas é também o maior alvo do contrabando e das dest... Redação completa Enviada em: 26/04/2017 Em vários locais do mundo, principalmente no Brasil, agrega inúmeras espécies de animais em ecossistemas e climas distintos. A essência atualizante da sociedade traz como característica admirável, a c... Redação completa Enviada em: 26/04/2017 Nos primórdios do século XVI,os lusitanos desembarcaram nas terras brasileiras já com o ideal de exploração.Nesse contexto,até mesmo os animais silvestres eram incorporados nas práticas mercantilistas... Redação completa Enviada em: 26/04/2017 Para Paul Atson, co-fundador do Greenspace, \\\"a inteligência é a habilidade de se viver em harmonia com o meio ambiente\\\". Desse modo, percebe-se que essa harmonia é rompida no Brasil com o tráfico de a... Redação completa Enviada em: 27/04/2017 Tráfico de animais silvestres: um problema secular  "
      ]
     },
     "metadata": {},
     "output_type": "display_data"
    },
    {
     "name": "stdout",
     "output_type": "stream",
     "text": [
      "output_filename=tests/text-embedding-3-small_half_normalized_1M_docs_000_999_sampled_50_queries_run.txt\n"
     ]
    }
   ],
   "source": [
    "text_embedding_3_small_half_filename, _ = prepare_run_format(TEXT_EMBEDDING_3_SMALL_HALF_1M_MASSIVEWEB, retriever_name=\"text-embedding-3-small_half_normalized\")"
   ]
  },
  {
   "cell_type": "code",
   "execution_count": 62,
   "id": "95f679ae",
   "metadata": {},
   "outputs": [],
   "source": [
    "result = !{TREC_EVAL} -c -mndcg_cut.10 \\\n",
    "    {qrels_filename} {text_embedding_3_small_half_filename}\n",
    "\n",
    "retrievers_results.append({'retriever':'text-embedding-3-small_half normalized 1M massiveweb', 'nDCG@10': result[0].split('\\t')[-1]})"
   ]
  },
  {
   "cell_type": "markdown",
   "id": "db253ca4",
   "metadata": {
    "id": "db253ca4"
   },
   "source": [
    "### Check the overall results"
   ]
  },
  {
   "cell_type": "code",
   "execution_count": 63,
   "id": "94f10846-bb1f-489a-8e29-8b4a5298e8a9",
   "metadata": {},
   "outputs": [
    {
     "data": {
      "text/html": [
       "<div>\n",
       "<style scoped>\n",
       "    .dataframe tbody tr th:only-of-type {\n",
       "        vertical-align: middle;\n",
       "    }\n",
       "\n",
       "    .dataframe tbody tr th {\n",
       "        vertical-align: top;\n",
       "    }\n",
       "\n",
       "    .dataframe thead th {\n",
       "        text-align: right;\n",
       "    }\n",
       "</style>\n",
       "<table border=\"1\" class=\"dataframe\">\n",
       "  <thead>\n",
       "    <tr style=\"text-align: right;\">\n",
       "      <th></th>\n",
       "      <th>retriever</th>\n",
       "      <th>nDCG@10</th>\n",
       "    </tr>\n",
       "  </thead>\n",
       "  <tbody>\n",
       "    <tr>\n",
       "      <th>2</th>\n",
       "      <td>BM25+mT5</td>\n",
       "      <td>0.7109</td>\n",
       "    </tr>\n",
       "    <tr>\n",
       "      <th>7</th>\n",
       "      <td>SPLADEv2_pt-BR + mT5</td>\n",
       "      <td>0.6966</td>\n",
       "    </tr>\n",
       "    <tr>\n",
       "      <th>8</th>\n",
       "      <td>E5 + ColBERT-X mMARCO_pt-BR RRF</td>\n",
       "      <td>0.6377</td>\n",
       "    </tr>\n",
       "    <tr>\n",
       "      <th>1</th>\n",
       "      <td>BM25+E5</td>\n",
       "      <td>0.6364</td>\n",
       "    </tr>\n",
       "    <tr>\n",
       "      <th>4</th>\n",
       "      <td>ColBERT-X_mMARCO_pt-BR</td>\n",
       "      <td>0.6279</td>\n",
       "    </tr>\n",
       "    <tr>\n",
       "      <th>9</th>\n",
       "      <td>E5 + SPLADEv2_pt-BR RRF</td>\n",
       "      <td>0.6272</td>\n",
       "    </tr>\n",
       "    <tr>\n",
       "      <th>3</th>\n",
       "      <td>SPLADEv2_pt-BR</td>\n",
       "      <td>0.5806</td>\n",
       "    </tr>\n",
       "    <tr>\n",
       "      <th>5</th>\n",
       "      <td>E5</td>\n",
       "      <td>0.5563</td>\n",
       "    </tr>\n",
       "    <tr>\n",
       "      <th>14</th>\n",
       "      <td>BM25+mT5 1M massiveweb</td>\n",
       "      <td>0.5310</td>\n",
       "    </tr>\n",
       "    <tr>\n",
       "      <th>16</th>\n",
       "      <td>text-embedding-3-large 1M massiveweb</td>\n",
       "      <td>0.5179</td>\n",
       "    </tr>\n",
       "    <tr>\n",
       "      <th>17</th>\n",
       "      <td>text-embedding-3-small 1M massiveweb</td>\n",
       "      <td>0.4635</td>\n",
       "    </tr>\n",
       "    <tr>\n",
       "      <th>18</th>\n",
       "      <td>text-embedding-3-small_half normalized 1M massiveweb</td>\n",
       "      <td>0.4621</td>\n",
       "    </tr>\n",
       "    <tr>\n",
       "      <th>13</th>\n",
       "      <td>ADA v2 1M massiveweb</td>\n",
       "      <td>0.4599</td>\n",
       "    </tr>\n",
       "    <tr>\n",
       "      <th>0</th>\n",
       "      <td>BM25</td>\n",
       "      <td>0.4467</td>\n",
       "    </tr>\n",
       "    <tr>\n",
       "      <th>15</th>\n",
       "      <td>BM25+E5 1M massiveweb</td>\n",
       "      <td>0.4418</td>\n",
       "    </tr>\n",
       "    <tr>\n",
       "      <th>12</th>\n",
       "      <td>ColBERT-X_mMARCO_pt-BR 1M massiveweb</td>\n",
       "      <td>0.4039</td>\n",
       "    </tr>\n",
       "    <tr>\n",
       "      <th>6</th>\n",
       "      <td>E5 base</td>\n",
       "      <td>0.3955</td>\n",
       "    </tr>\n",
       "    <tr>\n",
       "      <th>10</th>\n",
       "      <td>BM25 1M</td>\n",
       "      <td>0.3184</td>\n",
       "    </tr>\n",
       "    <tr>\n",
       "      <th>11</th>\n",
       "      <td>BM25 1M massiveweb</td>\n",
       "      <td>0.3156</td>\n",
       "    </tr>\n",
       "  </tbody>\n",
       "</table>\n",
       "</div>"
      ],
      "text/plain": [
       "                                               retriever nDCG@10\n",
       "2                                               BM25+mT5  0.7109\n",
       "7                                   SPLADEv2_pt-BR + mT5  0.6966\n",
       "8                        E5 + ColBERT-X mMARCO_pt-BR RRF  0.6377\n",
       "1                                                BM25+E5  0.6364\n",
       "4                                 ColBERT-X_mMARCO_pt-BR  0.6279\n",
       "9                                E5 + SPLADEv2_pt-BR RRF  0.6272\n",
       "3                                         SPLADEv2_pt-BR  0.5806\n",
       "5                                                     E5  0.5563\n",
       "14                                BM25+mT5 1M massiveweb  0.5310\n",
       "16                  text-embedding-3-large 1M massiveweb  0.5179\n",
       "17                  text-embedding-3-small 1M massiveweb  0.4635\n",
       "18  text-embedding-3-small_half normalized 1M massiveweb  0.4621\n",
       "13                                  ADA v2 1M massiveweb  0.4599\n",
       "0                                                   BM25  0.4467\n",
       "15                                 BM25+E5 1M massiveweb  0.4418\n",
       "12                  ColBERT-X_mMARCO_pt-BR 1M massiveweb  0.4039\n",
       "6                                                E5 base  0.3955\n",
       "10                                               BM25 1M  0.3184\n",
       "11                                    BM25 1M massiveweb  0.3156"
      ]
     },
     "execution_count": 63,
     "metadata": {},
     "output_type": "execute_result"
    }
   ],
   "source": [
    "pd.DataFrame(retrievers_results).sort_values(\"nDCG@10\", ascending=False)"
   ]
  },
  {
   "cell_type": "markdown",
   "id": "2304d606",
   "metadata": {
    "id": "2304d606"
   },
   "source": [
    "## 1M dataset"
   ]
  },
  {
   "cell_type": "markdown",
   "id": "65570622",
   "metadata": {
    "id": "65570622"
   },
   "source": [
    "### Compute BM25 1M massiveweb filtered nDCG@10"
   ]
  },
  {
   "cell_type": "code",
   "execution_count": 80,
   "id": "a6f6b6f9",
   "metadata": {
    "executionInfo": {
     "elapsed": 290,
     "status": "ok",
     "timestamp": 1706190635457,
     "user": {
      "displayName": "Eduardo Seiti de Oliveira",
      "userId": "03989307632206042931"
     },
     "user_tz": 180
    },
    "id": "a6f6b6f9"
   },
   "outputs": [],
   "source": [
    "result = !{TREC_EVAL} -c -mndcg_cut.10 \\\n",
    "    {qrels_1M_filename} {BM25_1M_MASSIVEWEB_RUN}\n",
    "\n",
    "retrievers_1M_results.append({'retriever':'BM25 1M massiveweb', 'nDCG@10': result[0].split('\\t')[-1]})"
   ]
  },
  {
   "cell_type": "markdown",
   "id": "cb5d2fdf",
   "metadata": {
    "id": "cb5d2fdf"
   },
   "source": [
    "### Compute ColBERT-X massiveweb filtered nDCG@10"
   ]
  },
  {
   "cell_type": "code",
   "execution_count": 81,
   "id": "42645e21",
   "metadata": {
    "executionInfo": {
     "elapsed": 16,
     "status": "ok",
     "timestamp": 1706190638482,
     "user": {
      "displayName": "Eduardo Seiti de Oliveira",
      "userId": "03989307632206042931"
     },
     "user_tz": 180
    },
    "id": "42645e21"
   },
   "outputs": [],
   "source": [
    "result = !{TREC_EVAL} -c -mndcg_cut.10 \\\n",
    "    {qrels_1M_filename} {COLBERTX_1M_MASSIVEWEB_RUN}\n",
    "\n",
    "retrievers_1M_results.append({'retriever':'ColBERT-X_mMARCO_pt-BR 1M massiveweb', 'nDCG@10': result[0].split('\\t')[-1]})"
   ]
  },
  {
   "cell_type": "markdown",
   "id": "yVADeRFlxtgI",
   "metadata": {
    "id": "yVADeRFlxtgI"
   },
   "source": [
    "### Compute ADA v2 massiveweb filtered nDCG@10"
   ]
  },
  {
   "cell_type": "code",
   "execution_count": 82,
   "id": "yV__mqsQxtge",
   "metadata": {
    "executionInfo": {
     "elapsed": 459,
     "status": "ok",
     "timestamp": 1706190640250,
     "user": {
      "displayName": "Eduardo Seiti de Oliveira",
      "userId": "03989307632206042931"
     },
     "user_tz": 180
    },
    "id": "yV__mqsQxtge"
   },
   "outputs": [],
   "source": [
    "result = !{TREC_EVAL} -c -mndcg_cut.10 \\\n",
    "    {qrels_1M_filename} {ADAV2_RUN}\n",
    "\n",
    "retrievers_1M_results.append({'retriever':'ADA v2 1M massiveweb', 'nDCG@10': result[0].split('\\t')[-1]})"
   ]
  },
  {
   "cell_type": "markdown",
   "id": "194db522",
   "metadata": {},
   "source": [
    "### Compute BM25 + mT5 1M massiveweb filtered nDCG@10"
   ]
  },
  {
   "cell_type": "code",
   "execution_count": 83,
   "id": "06f28231",
   "metadata": {},
   "outputs": [],
   "source": [
    "result = !{TREC_EVAL} -c -mndcg_cut.10 \\\n",
    "    {qrels_1M_filename} {BM25_MT5_1M_MASSIVEWEB_RUN}\n",
    "\n",
    "retrievers_1M_results.append({'retriever':'BM25+mT5 1M massiveweb', 'nDCG@10': result[0].split('\\t')[-1]})"
   ]
  },
  {
   "cell_type": "markdown",
   "id": "51008fba",
   "metadata": {},
   "source": [
    "### Compute BM25 + E5 1M massiveweb filtered nDCG@10"
   ]
  },
  {
   "cell_type": "code",
   "execution_count": 84,
   "id": "5570366f",
   "metadata": {},
   "outputs": [],
   "source": [
    "result = !{TREC_EVAL} -c -mndcg_cut.10 \\\n",
    "    {qrels_1M_filename} {BM25_E5_1M_MASSIVEWEB_RUN}\n",
    "\n",
    "retrievers_1M_results.append({'retriever':'BM25+E5 1M massiveweb', 'nDCG@10': result[0].split('\\t')[-1]})"
   ]
  },
  {
   "cell_type": "markdown",
   "id": "d5a74107",
   "metadata": {},
   "source": [
    "### Compute text-embedding-3-large 1M massiveweb filtered nDCG@10"
   ]
  },
  {
   "cell_type": "code",
   "execution_count": 85,
   "id": "94511d68",
   "metadata": {},
   "outputs": [],
   "source": [
    "result = !{TREC_EVAL} -c -mndcg_cut.10 \\\n",
    "    {qrels_1M_filename} {TEXT_EMBEDDING_3_LARGE_1M_MASSIVEWEB_RUN}\n",
    "\n",
    "retrievers_1M_results.append({'retriever':'text-embedding-3-large 1M massiveweb', 'nDCG@10': result[0].split('\\t')[-1]})"
   ]
  },
  {
   "cell_type": "markdown",
   "id": "a0b31274",
   "metadata": {},
   "source": [
    "### Compute text-embedding-3-small 1M massiveweb filtered nDCG@10"
   ]
  },
  {
   "cell_type": "code",
   "execution_count": 86,
   "id": "d07d61de",
   "metadata": {},
   "outputs": [],
   "source": [
    "result = !{TREC_EVAL} -c -mndcg_cut.10 \\\n",
    "    {qrels_1M_filename} {TEXT_EMBEDDING_3_SMALL_1M_MASSIVEWEB_RUN}\n",
    "\n",
    "retrievers_1M_results.append({'retriever':'text-embedding-3-small 1M massiveweb', 'nDCG@10': result[0].split('\\t')[-1]})"
   ]
  },
  {
   "cell_type": "markdown",
   "id": "659456af",
   "metadata": {},
   "source": [
    "### Compute text-embedding-3-small_half 1M massiveweb filtered nDCG@10"
   ]
  },
  {
   "cell_type": "code",
   "execution_count": 87,
   "id": "564e5e15",
   "metadata": {},
   "outputs": [],
   "source": [
    "result = !{TREC_EVAL} -c -mndcg_cut.10 \\\n",
    "    {qrels_1M_filename} {text_embedding_3_small_half_filename}\n",
    "\n",
    "retrievers_1M_results.append({'retriever':'text-embedding-3-small_half normalized 1M massiveweb', 'nDCG@10': result[0].split('\\t')[-1]})"
   ]
  },
  {
   "cell_type": "markdown",
   "id": "87dc05e9",
   "metadata": {
    "id": "87dc05e9"
   },
   "source": [
    "### Check the overall results"
   ]
  },
  {
   "cell_type": "code",
   "execution_count": 88,
   "id": "1985818e-b8e7-4ec7-b974-21f38a211b18",
   "metadata": {},
   "outputs": [
    {
     "data": {
      "text/html": [
       "<div>\n",
       "<style scoped>\n",
       "    .dataframe tbody tr th:only-of-type {\n",
       "        vertical-align: middle;\n",
       "    }\n",
       "\n",
       "    .dataframe tbody tr th {\n",
       "        vertical-align: top;\n",
       "    }\n",
       "\n",
       "    .dataframe thead th {\n",
       "        text-align: right;\n",
       "    }\n",
       "</style>\n",
       "<table border=\"1\" class=\"dataframe\">\n",
       "  <thead>\n",
       "    <tr style=\"text-align: right;\">\n",
       "      <th></th>\n",
       "      <th>retriever</th>\n",
       "      <th>nDCG@10</th>\n",
       "    </tr>\n",
       "  </thead>\n",
       "  <tbody>\n",
       "    <tr>\n",
       "      <th>3</th>\n",
       "      <td>BM25+mT5 1M massiveweb</td>\n",
       "      <td>0.6584</td>\n",
       "    </tr>\n",
       "    <tr>\n",
       "      <th>5</th>\n",
       "      <td>text-embedding-3-large 1M massiveweb</td>\n",
       "      <td>0.6305</td>\n",
       "    </tr>\n",
       "    <tr>\n",
       "      <th>6</th>\n",
       "      <td>text-embedding-3-small 1M massiveweb</td>\n",
       "      <td>0.5676</td>\n",
       "    </tr>\n",
       "    <tr>\n",
       "      <th>7</th>\n",
       "      <td>text-embedding-3-small_half normalized 1M massiveweb</td>\n",
       "      <td>0.5657</td>\n",
       "    </tr>\n",
       "    <tr>\n",
       "      <th>2</th>\n",
       "      <td>ADA v2 1M massiveweb</td>\n",
       "      <td>0.5618</td>\n",
       "    </tr>\n",
       "    <tr>\n",
       "      <th>4</th>\n",
       "      <td>BM25+E5 1M massiveweb</td>\n",
       "      <td>0.5415</td>\n",
       "    </tr>\n",
       "    <tr>\n",
       "      <th>1</th>\n",
       "      <td>ColBERT-X_mMARCO_pt-BR 1M massiveweb</td>\n",
       "      <td>0.4918</td>\n",
       "    </tr>\n",
       "    <tr>\n",
       "      <th>0</th>\n",
       "      <td>BM25 1M massiveweb</td>\n",
       "      <td>0.3982</td>\n",
       "    </tr>\n",
       "  </tbody>\n",
       "</table>\n",
       "</div>"
      ],
      "text/plain": [
       "                                              retriever nDCG@10\n",
       "3                                BM25+mT5 1M massiveweb  0.6584\n",
       "5                  text-embedding-3-large 1M massiveweb  0.6305\n",
       "6                  text-embedding-3-small 1M massiveweb  0.5676\n",
       "7  text-embedding-3-small_half normalized 1M massiveweb  0.5657\n",
       "2                                  ADA v2 1M massiveweb  0.5618\n",
       "4                                 BM25+E5 1M massiveweb  0.5415\n",
       "1                  ColBERT-X_mMARCO_pt-BR 1M massiveweb  0.4918\n",
       "0                                    BM25 1M massiveweb  0.3982"
      ]
     },
     "execution_count": 88,
     "metadata": {},
     "output_type": "execute_result"
    }
   ],
   "source": [
    "pd.DataFrame(retrievers_1M_results).sort_values('nDCG@10', ascending=False)"
   ]
  },
  {
   "cell_type": "code",
   "execution_count": null,
   "id": "3f3b10aa",
   "metadata": {},
   "outputs": [],
   "source": []
  },
  {
   "cell_type": "code",
   "execution_count": null,
   "id": "266451e8",
   "metadata": {},
   "outputs": [],
   "source": []
  }
 ],
 "metadata": {
  "colab": {
   "provenance": []
  },
  "kernelspec": {
   "display_name": "Python 3 (ipykernel)",
   "language": "python",
   "name": "python3"
  },
  "language_info": {
   "codemirror_mode": {
    "name": "ipython",
    "version": 3
   },
   "file_extension": ".py",
   "mimetype": "text/x-python",
   "name": "python",
   "nbconvert_exporter": "python",
   "pygments_lexer": "ipython3",
   "version": "3.10.14"
  }
 },
 "nbformat": 4,
 "nbformat_minor": 5
}
