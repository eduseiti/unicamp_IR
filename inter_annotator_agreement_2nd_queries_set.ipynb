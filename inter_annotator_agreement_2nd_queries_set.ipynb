{
 "cells": [
  {
   "cell_type": "code",
   "execution_count": 32,
   "id": "d13aaf21",
   "metadata": {},
   "outputs": [],
   "source": [
    "import pandas as pd\n",
    "import numpy as np\n",
    "import glob\n",
    "\n",
    "import os\n",
    "\n",
    "from sklearn.metrics import cohen_kappa_score\n",
    "\n",
    "from scipy.stats import spearmanr"
   ]
  },
  {
   "cell_type": "code",
   "execution_count": 33,
   "id": "3c23117c",
   "metadata": {},
   "outputs": [],
   "source": [
    "pd.set_option('display.max_colwidth', None)\n",
    "pd.set_option('display.max_rows', 200)"
   ]
  },
  {
   "cell_type": "code",
   "execution_count": 34,
   "id": "c77d30f1",
   "metadata": {},
   "outputs": [],
   "source": [
    "ANNOTATIONS_FOLDER=\"anotações_humanas\""
   ]
  },
  {
   "cell_type": "code",
   "execution_count": 35,
   "id": "a162b8f2",
   "metadata": {},
   "outputs": [],
   "source": [
    "annotations = glob.glob(os.path.join(ANNOTATIONS_FOLDER, \"*_2nd_queries_set.csv\"))"
   ]
  },
  {
   "cell_type": "code",
   "execution_count": 36,
   "id": "74c5f618",
   "metadata": {},
   "outputs": [
    {
     "data": {
      "text/plain": [
       "['anotações_humanas/admin_2nd_queries_set.csv',\n",
       " 'anotações_humanas/Eduardo_2nd_queries_set.csv',\n",
       " 'anotações_humanas/Leodécio_2nd_queries_set.csv']"
      ]
     },
     "execution_count": 36,
     "metadata": {},
     "output_type": "execute_result"
    }
   ],
   "source": [
    "annotations"
   ]
  },
  {
   "cell_type": "code",
   "execution_count": 37,
   "id": "398c775c",
   "metadata": {},
   "outputs": [],
   "source": [
    "a1_df = pd.read_csv(annotations[0])"
   ]
  },
  {
   "cell_type": "code",
   "execution_count": 38,
   "id": "3e5ae7b7",
   "metadata": {},
   "outputs": [
    {
     "data": {
      "text/plain": [
       "array(['Perfect', 'Highly Relevant', 'Relevant', 'Irrelevant'],\n",
       "      dtype=object)"
      ]
     },
     "execution_count": 38,
     "metadata": {},
     "output_type": "execute_result"
    }
   ],
   "source": [
    "a1_df['label'].unique()"
   ]
  },
  {
   "cell_type": "code",
   "execution_count": 39,
   "id": "2fc2a6c9",
   "metadata": {},
   "outputs": [],
   "source": [
    "classes_map = {\n",
    "    'Perfect': 3,\n",
    "    'Highly Relevant': 2,\n",
    "    'Relevant': 1,\n",
    "    'Irrelevant': 0\n",
    "}"
   ]
  },
  {
   "cell_type": "code",
   "execution_count": 40,
   "id": "81deefe7",
   "metadata": {},
   "outputs": [],
   "source": [
    "a1_df['score'] = a1_df['label'].map(classes_map)"
   ]
  },
  {
   "cell_type": "code",
   "execution_count": 42,
   "id": "f048901d",
   "metadata": {},
   "outputs": [],
   "source": [
    "a2_df = pd.read_csv(annotations[1])\n",
    "a3_df = pd.read_csv(annotations[2])"
   ]
  },
  {
   "cell_type": "code",
   "execution_count": 43,
   "id": "906a114b",
   "metadata": {},
   "outputs": [],
   "source": [
    "a2_df['score'] = a2_df['label'].map(classes_map)\n",
    "a3_df['score'] = a3_df['label'].map(classes_map)"
   ]
  },
  {
   "cell_type": "markdown",
   "id": "f098480a",
   "metadata": {},
   "source": [
    "## Check annotators agreement"
   ]
  },
  {
   "cell_type": "code",
   "execution_count": 47,
   "id": "dca544bb",
   "metadata": {
    "scrolled": true
   },
   "outputs": [
    {
     "name": "stdout",
     "output_type": "stream",
     "text": [
      "0.3693693693693695\n",
      "0.28662886409365285\n",
      "0.3226511289147851\n"
     ]
    }
   ],
   "source": [
    "print(cohen_kappa_score(a1_df['score'], a2_df['score']))\n",
    "print(cohen_kappa_score(a1_df['score'], a3_df['score']))\n",
    "print(cohen_kappa_score(a2_df['score'], a3_df['score']))"
   ]
  },
  {
   "cell_type": "markdown",
   "id": "9283e847",
   "metadata": {},
   "source": [
    "## Check annotators correlation against LLM evaluations"
   ]
  },
  {
   "cell_type": "markdown",
   "id": "3d79405c",
   "metadata": {},
   "source": [
    "### Start with GPT3.5 evaluations"
   ]
  },
  {
   "cell_type": "code",
   "execution_count": 48,
   "id": "1c39132e",
   "metadata": {},
   "outputs": [],
   "source": [
    "gpt3_redux_df = pd.read_csv(os.path.join(ANNOTATIONS_FOLDER, \"gpt_3_evaluations_120_samples_2nd_queries_set.tsv\"), sep='\\t')"
   ]
  },
  {
   "cell_type": "code",
   "execution_count": 49,
   "id": "340ffaeb",
   "metadata": {},
   "outputs": [
    {
     "name": "stdout",
     "output_type": "stream",
     "text": [
      "0.12866377401930396\n",
      "0.11330049261083752\n",
      "0.17313664596273282\n"
     ]
    }
   ],
   "source": [
    "print(cohen_kappa_score(a1_df['score'], gpt3_redux_df['score'].to_numpy()))\n",
    "print(cohen_kappa_score(a2_df['score'], gpt3_redux_df['score'].to_numpy()))\n",
    "print(cohen_kappa_score(a3_df['score'], gpt3_redux_df['score'].to_numpy()))"
   ]
  },
  {
   "cell_type": "markdown",
   "id": "20f60553",
   "metadata": {},
   "source": [
    "### Now the GPT4 evaluations"
   ]
  },
  {
   "cell_type": "code",
   "execution_count": 51,
   "id": "67df9903",
   "metadata": {},
   "outputs": [],
   "source": [
    "gpt4_redux_df = pd.read_csv(os.path.join(ANNOTATIONS_FOLDER, \"gpt_4_evaluations_120_samples_2nd_queries_set.tsv\"), sep='\\t')"
   ]
  },
  {
   "cell_type": "code",
   "execution_count": null,
   "id": "c3e6e607",
   "metadata": {},
   "outputs": [],
   "source": []
  },
  {
   "cell_type": "code",
   "execution_count": 52,
   "id": "4dd883d5",
   "metadata": {},
   "outputs": [
    {
     "name": "stdout",
     "output_type": "stream",
     "text": [
      "0.24521320876884656\n",
      "0.1358249772105743\n",
      "0.2600896860986547\n"
     ]
    }
   ],
   "source": [
    "print(cohen_kappa_score(a1_df['score'], gpt4_redux_df['score'].to_numpy()))\n",
    "print(cohen_kappa_score(a2_df['score'], gpt4_redux_df['score'].to_numpy()))\n",
    "print(cohen_kappa_score(a3_df['score'], gpt4_redux_df['score'].to_numpy()))"
   ]
  },
  {
   "cell_type": "code",
   "execution_count": null,
   "id": "9cb0cdaa",
   "metadata": {},
   "outputs": [],
   "source": []
  },
  {
   "cell_type": "code",
   "execution_count": 53,
   "id": "e0382b43",
   "metadata": {},
   "outputs": [
    {
     "data": {
      "text/plain": [
       "3.535769999999996"
      ]
     },
     "execution_count": 53,
     "metadata": {},
     "output_type": "execute_result"
    }
   ],
   "source": [
    "gpt4_redux_df['cost'].sum()"
   ]
  },
  {
   "cell_type": "code",
   "execution_count": 50,
   "id": "bf8a2e47",
   "metadata": {},
   "outputs": [
    {
     "data": {
      "text/plain": [
       "0.2516794999999988"
      ]
     },
     "execution_count": 50,
     "metadata": {},
     "output_type": "execute_result"
    }
   ],
   "source": [
    "gpt3_redux_df['cost'].sum()"
   ]
  },
  {
   "cell_type": "code",
   "execution_count": null,
   "id": "2fdce999",
   "metadata": {},
   "outputs": [],
   "source": []
  }
 ],
 "metadata": {
  "kernelspec": {
   "display_name": "Python 3 (ipykernel)",
   "language": "python",
   "name": "python3"
  },
  "language_info": {
   "codemirror_mode": {
    "name": "ipython",
    "version": 3
   },
   "file_extension": ".py",
   "mimetype": "text/x-python",
   "name": "python",
   "nbconvert_exporter": "python",
   "pygments_lexer": "ipython3",
   "version": "3.8.10"
  }
 },
 "nbformat": 4,
 "nbformat_minor": 5
}
