{
 "cells": [
  {
   "cell_type": "code",
   "execution_count": 1,
   "id": "d13aaf21",
   "metadata": {},
   "outputs": [],
   "source": [
    "import pandas as pd\n",
    "import numpy as np\n",
    "import glob\n",
    "\n",
    "import os\n",
    "\n",
    "from sklearn.metrics import cohen_kappa_score\n",
    "\n",
    "from scipy.stats import spearmanr, kendalltau\n",
    "\n",
    "import re\n",
    "\n",
    "import matplotlib.pyplot as plt"
   ]
  },
  {
   "cell_type": "code",
   "execution_count": 2,
   "id": "3c23117c",
   "metadata": {},
   "outputs": [],
   "source": [
    "pd.set_option('display.max_colwidth', None)\n",
    "pd.set_option('display.max_rows', 200)\n",
    "pd.options.display.float_format = '{:,.6f}'.format"
   ]
  },
  {
   "cell_type": "code",
   "execution_count": 3,
   "id": "c77d30f1",
   "metadata": {},
   "outputs": [],
   "source": [
    "ANNOTATIONS_FOLDER=\"anotações_humanas\""
   ]
  },
  {
   "cell_type": "code",
   "execution_count": 4,
   "id": "caaadc25",
   "metadata": {},
   "outputs": [],
   "source": [
    "a1_df = pd.read_csv(os.path.join(ANNOTATIONS_FOLDER, \"admin_240_annotations_with_questions.tsv\"), sep='\\t')"
   ]
  },
  {
   "cell_type": "code",
   "execution_count": 5,
   "id": "610e99b8",
   "metadata": {},
   "outputs": [],
   "source": [
    "a2_df = pd.read_csv(os.path.join(ANNOTATIONS_FOLDER, \"Eduardo_240_annotations_with_questions.tsv\"), sep='\\t')"
   ]
  },
  {
   "cell_type": "code",
   "execution_count": 6,
   "id": "a7532659",
   "metadata": {},
   "outputs": [],
   "source": [
    "a3_df = pd.read_csv(os.path.join(ANNOTATIONS_FOLDER, \"Leodecio_240_annotations_with_questions.tsv\"), sep='\\t')"
   ]
  },
  {
   "cell_type": "code",
   "execution_count": 7,
   "id": "3d4c9823",
   "metadata": {},
   "outputs": [],
   "source": [
    "score_mapper = {\n",
    "    0:0,\n",
    "    1:0,\n",
    "    2:1,\n",
    "    3:2\n",
    "}"
   ]
  },
  {
   "cell_type": "code",
   "execution_count": 8,
   "id": "ebb766ad",
   "metadata": {},
   "outputs": [],
   "source": [
    "score_mapper_original = {\n",
    "    0:0,\n",
    "    1:1,\n",
    "    2:1,\n",
    "    3:2\n",
    "}"
   ]
  },
  {
   "cell_type": "code",
   "execution_count": 9,
   "id": "b87bae8d",
   "metadata": {},
   "outputs": [],
   "source": [
    "score_mapper_for_2 = {\n",
    "    0:0,\n",
    "    1:0,\n",
    "    2:1,\n",
    "    3:1    \n",
    "}"
   ]
  },
  {
   "cell_type": "code",
   "execution_count": 10,
   "id": "49784415",
   "metadata": {},
   "outputs": [],
   "source": [
    "a1_df['03_score'] = a1_df['score'].map(score_mapper)\n",
    "a2_df['03_score'] = a2_df['score'].map(score_mapper)\n",
    "a3_df['03_score'] = a3_df['score'].map(score_mapper)"
   ]
  },
  {
   "cell_type": "code",
   "execution_count": 11,
   "id": "19692656",
   "metadata": {},
   "outputs": [],
   "source": [
    "a1_df['02_score'] = a1_df['score'].map(score_mapper_for_2)\n",
    "a2_df['02_score'] = a2_df['score'].map(score_mapper_for_2)\n",
    "a3_df['02_score'] = a3_df['score'].map(score_mapper_for_2)"
   ]
  },
  {
   "cell_type": "code",
   "execution_count": null,
   "id": "94e3a54a",
   "metadata": {},
   "outputs": [],
   "source": []
  },
  {
   "cell_type": "code",
   "execution_count": null,
   "id": "9a8140bb",
   "metadata": {},
   "outputs": [],
   "source": [
    "a1_df.iloc[126]"
   ]
  },
  {
   "cell_type": "code",
   "execution_count": null,
   "id": "db05d7bc",
   "metadata": {},
   "outputs": [],
   "source": [
    "a2_df[a2_df['query'] == \"Quando é o dia Mundial da Alimentação?\"]"
   ]
  },
  {
   "cell_type": "code",
   "execution_count": null,
   "id": "14bc2b12",
   "metadata": {},
   "outputs": [],
   "source": []
  },
  {
   "cell_type": "code",
   "execution_count": 12,
   "id": "c312ea15",
   "metadata": {},
   "outputs": [],
   "source": [
    "def check_agreement_per_questions(evaluation_a, evaluation_b, prefix=None):\n",
    "    merged_df = evaluation_a.merge(evaluation_b, left_on='doccano_id', right_on='doccano_id')[['query_x', 'passage_x', 'passage_id_x', 'score_x', 'score_y']]\n",
    "    \n",
    "    correlations = []\n",
    "    \n",
    "    for group_name, group_df in merged_df.groupby('query_x', sort=False):\n",
    "        correlations.append({'query': group_name,\n",
    "                             'cohen_kappa{}'.format(prefix): cohen_kappa_score(group_df['score_x'], group_df['score_y'])})\n",
    "        \n",
    "    return merged_df, pd.DataFrame(correlations).fillna(1.0)"
   ]
  },
  {
   "cell_type": "code",
   "execution_count": 13,
   "id": "70b6c2ad",
   "metadata": {},
   "outputs": [],
   "source": [
    "def plot_correlation_data_consolidated(correlation_df, columns_to_plot, plot_title):\n",
    "    \n",
    "    fig = plt.figure(figsize=[10, 10])\n",
    "\n",
    "    fig.suptitle(plot_title, y=0.91)\n",
    "\n",
    "    plt.grid()\n",
    "\n",
    "    all_boxplots = plt.boxplot(correlation_df[columns_to_plot], patch_artist=True, vert=False, meanline=True, showmeans=True)\n",
    "\n",
    "    colors = ['pink', 'lightblue', 'lightgreen']\n",
    "    \n",
    "    all_boxes = all_boxplots['boxes']\n",
    "    \n",
    "    print(all_boxes)\n",
    "    \n",
    "    for i, which_box in enumerate(all_boxes):\n",
    "        which_box.set_facecolor(colors[i // 3])\n",
    "    \n",
    "    \n",
    "    plt.yticks(range(1, len(columns_to_plot) + 1), columns_to_plot)\n",
    "    plt.xticks(np.arange(-0.3, 1.0, 0.1))\n",
    "    \n",
    "    plt.legend(handles=all_boxes[::3], labels=[\"Humanos x Humanos\", \"Humanos x GPT3.5\", \"Humanos x GPT4\"], bbox_to_anchor=(1.0, 1.0))\n",
    "\n",
    "    plt.show()"
   ]
  },
  {
   "cell_type": "code",
   "execution_count": 14,
   "id": "f154b571",
   "metadata": {},
   "outputs": [],
   "source": [
    "def plot_correlation_data(correlation_df, columns_to_plot, plot_title):\n",
    "    \n",
    "    fig = plt.figure(figsize=[15, 40])\n",
    "\n",
    "    fig.suptitle(plot_title, y=0.91)\n",
    "\n",
    "    plt.grid()\n",
    "\n",
    "    all_boxplots = plt.boxplot(correlation_df[columns_to_plot].to_numpy().transpose(), patch_artist=True, vert=False, meanline=True, showmeans=True)\n",
    "\n",
    "    colors = ['pink', 'lightblue', 'lightgreen', 'lightyellow'][::-1]\n",
    "    \n",
    "    all_boxes = all_boxplots['boxes']\n",
    "    \n",
    "#     print(all_boxes)\n",
    "    \n",
    "    for i, which_box in enumerate(all_boxes):\n",
    "        which_box.set_facecolor(colors[i % 4])\n",
    "\n",
    "        \n",
    "    \n",
    "    plt.yticks(range(4, correlation_df.shape[0] + 1, 4), correlation_df.iloc[::4]['query'])\n",
    "    plt.xticks(np.arange(-0.3, 1.0, 0.1))\n",
    "\n",
    "    plt.show()"
   ]
  },
  {
   "cell_type": "markdown",
   "id": "15e31bc0",
   "metadata": {},
   "source": [
    "## Read the passage evaluations"
   ]
  },
  {
   "cell_type": "code",
   "execution_count": 15,
   "id": "36a68e39",
   "metadata": {},
   "outputs": [],
   "source": [
    "gpt4_df = pd.read_csv(os.path.join(ANNOTATIONS_FOLDER, \"gpt_4_evaluations_240_samples_2nd_round_with_questions.tsv\"), sep='\\t')"
   ]
  },
  {
   "cell_type": "code",
   "execution_count": 16,
   "id": "b1cd227c",
   "metadata": {},
   "outputs": [],
   "source": [
    "gpt4_df['03_score'] = gpt4_df['score'].map(score_mapper)"
   ]
  },
  {
   "cell_type": "code",
   "execution_count": 17,
   "id": "a509dffd",
   "metadata": {},
   "outputs": [],
   "source": [
    "gpt4_df['03_score_2'] = gpt4_df['score'].map(score_mapper_original)"
   ]
  },
  {
   "cell_type": "code",
   "execution_count": 18,
   "id": "fc1b6e20",
   "metadata": {},
   "outputs": [],
   "source": [
    "gpt4_df['02_score'] = gpt4_df['score'].map(score_mapper_for_2)"
   ]
  },
  {
   "cell_type": "code",
   "execution_count": null,
   "id": "3db7cc32",
   "metadata": {},
   "outputs": [],
   "source": []
  },
  {
   "cell_type": "code",
   "execution_count": 35,
   "id": "e38cbef2",
   "metadata": {},
   "outputs": [],
   "source": [
    "gpt4_2nd_cot_2_6_df = pd.read_csv(os.path.join(ANNOTATIONS_FOLDER, \"gpt_4_evaluations_120_samples_2nd_queries_set_prompt_v2.6.tsv\"), sep='\\t')"
   ]
  },
  {
   "cell_type": "code",
   "execution_count": 70,
   "id": "10537f6f",
   "metadata": {},
   "outputs": [],
   "source": [
    "gpt4_1st_cot_2_6_df = pd.read_csv(os.path.join(ANNOTATIONS_FOLDER, \"gpt_4_evaluations_120_samples_1st_queries_set_prompt_v2.6.tsv\"), sep='\\t')"
   ]
  },
  {
   "cell_type": "code",
   "execution_count": null,
   "id": "84ec99dc",
   "metadata": {},
   "outputs": [],
   "source": []
  },
  {
   "cell_type": "code",
   "execution_count": 19,
   "id": "73353492",
   "metadata": {},
   "outputs": [],
   "source": [
    "gpt4_2nd_03_score_2_7_df = pd.read_csv(os.path.join(ANNOTATIONS_FOLDER, \"gpt_4_evaluations_120_samples_2nd_queries_set_prompt_v2.7.tsv\"), sep='\\t')"
   ]
  },
  {
   "cell_type": "code",
   "execution_count": 20,
   "id": "43c37864",
   "metadata": {},
   "outputs": [],
   "source": [
    "gpt4_2nd_03_score_2_8_df = pd.read_csv(os.path.join(ANNOTATIONS_FOLDER, \"gpt_4_evaluations_120_samples_2nd_queries_set_prompt_v2.8.tsv\"), sep='\\t')"
   ]
  },
  {
   "cell_type": "code",
   "execution_count": 21,
   "id": "5baa9153",
   "metadata": {},
   "outputs": [],
   "source": [
    "gpt4_2nd_03_score_2_9_df = pd.read_csv(os.path.join(ANNOTATIONS_FOLDER, \"gpt_4_evaluations_120_samples_2nd_queries_set_prompt_v2.9.tsv\"), sep='\\t')"
   ]
  },
  {
   "cell_type": "code",
   "execution_count": null,
   "id": "3b12591a",
   "metadata": {},
   "outputs": [],
   "source": []
  },
  {
   "cell_type": "code",
   "execution_count": 22,
   "id": "f3cb4a3e",
   "metadata": {},
   "outputs": [],
   "source": [
    "gpt4_1st_03_score_2_7_df = pd.read_csv(os.path.join(ANNOTATIONS_FOLDER, \"gpt_4_evaluations_120_samples_1st_queries_set_prompt_v2.7.tsv\"), sep='\\t')"
   ]
  },
  {
   "cell_type": "code",
   "execution_count": 23,
   "id": "a76c437a",
   "metadata": {},
   "outputs": [],
   "source": [
    "gpt4_1st_03_score_2_9_df = pd.read_csv(os.path.join(ANNOTATIONS_FOLDER, \"gpt_4_evaluations_120_samples_1st_queries_set_prompt_v2.9.tsv\"), sep='\\t')"
   ]
  },
  {
   "cell_type": "code",
   "execution_count": null,
   "id": "7f32ab17",
   "metadata": {},
   "outputs": [],
   "source": []
  },
  {
   "cell_type": "code",
   "execution_count": 40,
   "id": "6442308a",
   "metadata": {},
   "outputs": [],
   "source": [
    "gpt4_10_scores_df = pd.read_csv(os.path.join(ANNOTATIONS_FOLDER, \"gpt_4_evaluations_240_samples_2nd_round_with_questions.tsv\"), sep='\\t')"
   ]
  },
  {
   "cell_type": "code",
   "execution_count": 42,
   "id": "fee7ea33",
   "metadata": {},
   "outputs": [
    {
     "data": {
      "text/plain": [
       "(array([0, 1, 2, 3]), array([31, 74, 59, 76]))"
      ]
     },
     "execution_count": 42,
     "metadata": {},
     "output_type": "execute_result"
    }
   ],
   "source": [
    "np.unique(gpt4_10_scores_df['score'].to_numpy(), return_counts=True)"
   ]
  },
  {
   "cell_type": "code",
   "execution_count": null,
   "id": "4d7fa411",
   "metadata": {},
   "outputs": [],
   "source": []
  },
  {
   "cell_type": "code",
   "execution_count": null,
   "id": "27b47fff",
   "metadata": {},
   "outputs": [],
   "source": []
  },
  {
   "cell_type": "code",
   "execution_count": null,
   "id": "04f69489",
   "metadata": {},
   "outputs": [],
   "source": []
  },
  {
   "cell_type": "code",
   "execution_count": 24,
   "id": "f67d5cb6",
   "metadata": {},
   "outputs": [],
   "source": [
    "gpt4_2nd_03_score_2_7_df['02_score'] = gpt4_2nd_03_score_2_7_df['score'].map(score_mapper_for_2)\n",
    "gpt4_2nd_03_score_2_8_df['02_score'] = gpt4_2nd_03_score_2_8_df['score'].map(score_mapper_for_2)\n",
    "gpt4_2nd_03_score_2_9_df['02_score'] = gpt4_2nd_03_score_2_9_df['score'].map(score_mapper_for_2)\n",
    "\n",
    "gpt4_1st_03_score_2_7_df['02_score'] = gpt4_1st_03_score_2_7_df['score'].map(score_mapper_for_2)\n",
    "gpt4_1st_03_score_2_9_df['02_score'] = gpt4_1st_03_score_2_9_df['score'].map(score_mapper_for_2)"
   ]
  },
  {
   "cell_type": "code",
   "execution_count": null,
   "id": "f68a3da2",
   "metadata": {},
   "outputs": [],
   "source": []
  },
  {
   "cell_type": "code",
   "execution_count": 36,
   "id": "6fd413e3",
   "metadata": {},
   "outputs": [],
   "source": [
    "gpt4_2nd_cot_2_6_df['02_score'] = gpt4_2nd_cot_2_6_df['score'].map(score_mapper_for_2)"
   ]
  },
  {
   "cell_type": "code",
   "execution_count": 71,
   "id": "d0c3b0ff",
   "metadata": {},
   "outputs": [],
   "source": [
    "gpt4_1st_cot_2_6_df['02_score'] = gpt4_1st_cot_2_6_df['score'].map(score_mapper_for_2)"
   ]
  },
  {
   "cell_type": "code",
   "execution_count": null,
   "id": "46f48937",
   "metadata": {},
   "outputs": [],
   "source": []
  },
  {
   "cell_type": "code",
   "execution_count": 25,
   "id": "c798f523",
   "metadata": {},
   "outputs": [],
   "source": [
    "gpt4_03_score_2_7_df = pd.concat([gpt4_1st_03_score_2_7_df, gpt4_2nd_03_score_2_7_df], axis=0).reset_index(drop=True)"
   ]
  },
  {
   "cell_type": "code",
   "execution_count": 26,
   "id": "053e96d6",
   "metadata": {},
   "outputs": [
    {
     "data": {
      "text/html": [
       "<div>\n",
       "<style scoped>\n",
       "    .dataframe tbody tr th:only-of-type {\n",
       "        vertical-align: middle;\n",
       "    }\n",
       "\n",
       "    .dataframe tbody tr th {\n",
       "        vertical-align: top;\n",
       "    }\n",
       "\n",
       "    .dataframe thead th {\n",
       "        text-align: right;\n",
       "    }\n",
       "</style>\n",
       "<table border=\"1\" class=\"dataframe\">\n",
       "  <thead>\n",
       "    <tr style=\"text-align: right;\">\n",
       "      <th></th>\n",
       "      <th>doccano_id</th>\n",
       "      <th>query</th>\n",
       "      <th>passage</th>\n",
       "      <th>passage_id</th>\n",
       "      <th>score</th>\n",
       "      <th>reasoning</th>\n",
       "      <th>usage</th>\n",
       "      <th>cost</th>\n",
       "      <th>duration</th>\n",
       "      <th>02_score</th>\n",
       "    </tr>\n",
       "  </thead>\n",
       "  <tbody>\n",
       "    <tr>\n",
       "      <th>0</th>\n",
       "      <td>4101</td>\n",
       "      <td>Onde está localizada a Praça XV de Novembro?</td>\n",
       "      <td>Praça XV (Rio de Janeiro) – Wikipédia, a enciclopédia livre [ocultar] 5 línguas Praça XV (Rio de Janeiro) Origem: Wikipédia, a enciclopédia livre. Coordenadas: 22° 54′ 10″ S, 43° 10′ 24″ W Nota: Este artigo é sobre a praça da cidade do Rio de Janeiro. Para praças de outros lugares, veja Praça XV de Novembro. Esta página cita fontes, mas estas não cobrem todo o conteúdo. Ajude a inserir referências. Conteúdo não verificável poderá ser removido .— Encontre fontes: Google (notícias, livros e acadêmico)(Maio de 2019) A praça e as edificações das imediações. Trecho do Elevado da Perimetral que passava sobre a praça, em 2011. A Praça XV, também conhecida como Praça XV de Novembro, Praça Quinze de Novembro ou Praça Quinze, é uma praça situada no bairro do Centro, na Zona Central da cidade do Rio de Janeiro. Além de estar localizada na Rua Primeiro de Março, a praça integra a Orla Conde, um passeio público que margeia a Baía de Guanabara . A praça, que existe desde o século XVI, foi reinaugurada no dia 29 de maio de 2016 após ser revitalizada.[1] A revitalização da praça foi feita durante a gestão do prefeito Eduardo Paes no âmbito do Porto Maravilha, uma operação urbana que visa revitalizar a Zona Portuária do Rio de Janeiro.</td>\n",
       "      <td>clueweb22-pt0001-14-16263_0</td>\n",
       "      <td>2</td>\n",
       "      <td>A passagem responde claramente e diretamente à pergunta, indicando que a Praça XV de Novembro está localizada no bairro do Centro, na Zona Central da cidade do Rio de Janeiro</td>\n",
       "      <td>{'prompt_tokens': 1067, 'completion_tokens': 55, 'total_tokens': 1122}</td>\n",
       "      <td>0.035310</td>\n",
       "      <td>4.101760</td>\n",
       "      <td>1</td>\n",
       "    </tr>\n",
       "    <tr>\n",
       "      <th>1</th>\n",
       "      <td>4102</td>\n",
       "      <td>Onde está localizada a Praça XV de Novembro?</td>\n",
       "      <td>Rua XV de Novembro, 818 Centro, Pomerode, Santa Catarina 89107-000 Brasil Tela cheia O melhor por perto Restaurantes 100 dentro de 5 km Tarthurel Pizzaria 317 56 m $$ - $$$ • Italiana • Pizza Restaurante Torten Paradies 1.409 0.5 km $$ - $$$ • Docerias • Alemã • Brasileira Mon Cheri Bistro @ Casa Romena 106 0.7 km $$ - $$$ • Mediterrânea • Saudável • Leste europeia Veja tudo Atrações 24 dentro de 10 km Praça Jorge Lacerda 58 0.1 km Pontos de interesse Parque Municipal de Eventos 25 0.3 km Centros de convenção Parque Educativo Vila Encantada 1.057 0.9 km Parques Veja tudo Contribua Faça uma avaliação Carregue uma foto Avaliações Mais recente 4.5 722 avaliações Excelente 379 Muito boa 266 Razoável 68 Ruim 9 Horrível 1 Thais Leme, SP 161 contribuições Parada obrigatória para fotos mar de 2022 Quando eu via as fotos achava que era bem maior. O portal é muito bonito e tem um centro e informações turísticas. Estava no período da Osterfest, então estava todo com a decoração de Páscoa. Feita em 29 de abril de 2022 Esta avaliação representa a opinião subjetiva de um membro do Tripadvisor, e não da TripAdvisor LLC. daninoguei São Paulo, SP 2.143 contribuições MUITAS PESSOAS PARA TIRAR FOTOS mar de 2022 Portal turístico da cidade, local de parada para fotos com a representação da arquitetura local.</td>\n",
       "      <td>clueweb22-pt0000-27-16948_2</td>\n",
       "      <td>2</td>\n",
       "      <td>A passagem responde à pergunta de forma clara e direta, indicando que a Praça XV de Novembro está localizada em Pomerode, Santa Catarina, Brasil</td>\n",
       "      <td>{'prompt_tokens': 1083, 'completion_tokens': 51, 'total_tokens': 1134}</td>\n",
       "      <td>0.035550</td>\n",
       "      <td>3.668287</td>\n",
       "      <td>1</td>\n",
       "    </tr>\n",
       "    <tr>\n",
       "      <th>2</th>\n",
       "      <td>4103</td>\n",
       "      <td>Onde está localizada a Praça XV de Novembro?</td>\n",
       "      <td>A praça recebeu esse nome por homenagear o dia 15 de novembro de 1889, marcado pela Proclamação da República do Brasil. Nesse dia, foi instaurada a república federativa presidencialista no Brasil, em substituição à monarquia constitucional parlamentarista em vigor desde 1822. Índice 1 História 1.1 Período colonial 1.2 Século XIX 1.3 Século XX 1.4 Século XXI 2 Esculturas e Monumentos 2.1 Chafariz do Mestre Valentim 2.2 Estátua Equestre de Dom João VI 2.3 Estátua Equestre do General Osório 2.4 Estátua do Almirante Negro 2.5 Piskate 3 Transportes 3.1 Modais de transporte público 3.2 Elevado da Perimetral 3.3 Mergulhão da Praça XV 4 Pontos de interesse 5 Feiras 5.1 Feira de Antiguidades 5.2 Feirarte 6 Ver também 7 Referências 7.1 Bibliografia 8 Ligações externas História Período colonial Chafariz do Mestre Valentim, situado no centro da praça. A Praça XV hoje está localizada na região conhecida, nos primórdios da ocupação das terras da cidade, como Praia da Piaçaba. O local já teve diversas denominações: Largo do Terreiro da Polé;[4]Largo do Carmo;[5]Praça do Carmo; Terreiro do Paço; e Largo do Paço. Do século XVI até meados da década de 1770, com a construção do Cais do Valongo, o logradouro foi o principal ponto de desembarque de escravizados africanos na cidade.[6]</td>\n",
       "      <td>clueweb22-pt0001-14-16263_2</td>\n",
       "      <td>0</td>\n",
       "      <td>A passagem não responde à pergunta sobre a localização da Praça XV de Novembro. Ela fornece informações sobre a história e o significado do nome da praça, mas não indica onde ela está localizada.</td>\n",
       "      <td>{'prompt_tokens': 1104, 'completion_tokens': 59, 'total_tokens': 1163}</td>\n",
       "      <td>0.036660</td>\n",
       "      <td>5.538732</td>\n",
       "      <td>0</td>\n",
       "    </tr>\n",
       "    <tr>\n",
       "      <th>3</th>\n",
       "      <td>4104</td>\n",
       "      <td>Onde está localizada a Praça XV de Novembro?</td>\n",
       "      <td>Rua Xv de Novembro, Joinville - SC Rua Xv de Novembro, Joinville - SC Distrito: JOINVILLE Subdistrito: JOINVILLE Bairro(s): América / Glória / Vila Nova CEPs encontrados: 89201602 / 89216200 / 89216000 / 89237001 / 89237002 / 89237000 / 89237701 Total de endereços encontrados: 474 Domicílios particulares: 301 Domícilios coletivos: 4 Estabelecimentos agropecuários: 3 Estabelecimentos de ensino: 3 Estabelecimentos de saúde: 6 Estabelecimentos de outras finalidades (comercial, religioso, outros): 152 Edificações em construção: 5 Quantidade estimada de moradores nesse logradouro: 903 Rendimento médio estimado de moradores nesse logradouro: R$ 2.109,11 Visualizar os dados sintetizados de Joinville Cadastre uma nova empresa nessa rua Estabelecimentos de ensino ESCOLA ESTADUAL Rua Xv de Novembro, 0SN, Joinville - SC ESCOLA MUNICIPAL Rua Xv de Novembro, 7030, Joinville - SC ESCOLA MUNICIPAL BERNARDO TANK Rua Xv de Novembro, 8574, Joinville - SC Estabelecimentos de saúde POSTO DE SAUDE Rua Xv de Novembro, 0SN, Joinville - SC CLINICA DE UROLOGIA Rua Xv de Novembro, 1098, Joinville - SC CLINICA Rua Xv de Novembro, 1156, Joinville - SC CONSULTORIO ODONTOLOGICO Rua Xv de Novembro, 1565 - CASA FRENTE, Joinville - SC CONULTORIO ODONTOLOGICO Rua Xv de Novembro, 7276 - LOJA, Joinville - SC</td>\n",
       "      <td>clueweb22-pt0001-31-10534_0</td>\n",
       "      <td>0</td>\n",
       "      <td>A passagem não responde à pergunta. Ela fala sobre a Rua XV de Novembro em Joinville, SC, mas não menciona a Praça XV de Novembro.</td>\n",
       "      <td>{'prompt_tokens': 1111, 'completion_tokens': 50, 'total_tokens': 1161}</td>\n",
       "      <td>0.036330</td>\n",
       "      <td>4.128618</td>\n",
       "      <td>0</td>\n",
       "    </tr>\n",
       "    <tr>\n",
       "      <th>4</th>\n",
       "      <td>4105</td>\n",
       "      <td>Onde está localizada a Praça XV de Novembro?</td>\n",
       "      <td>No local onde Floripa foi inicialmente chamada de Nossa Senhora do Desterro, foi fundada, bem no centro da cidade, a Praça XV de Novembro e sua famosa e centenária figueira. Palco de diversas manifestações políticas e culturais, atualmente é um oásis verde no meio da cidade, ótimo para relaxar e participar dos diversos eventos que acontecem ao longo do ano. Pouco acima da Praça, localiza-se a Catedral Metropolitana de Florianópolis. Construída entre 1753 e 1773 em estilo neoclássico, ela é tombada pelo Instituto do Patrimônio Histórico e Artístico Nacional, sendo aberta à visitação e cujos horários das missas e celebrações podem ser conferidos em seu site. Não deixe de visitar a Catedral Metropolitana! Foto: Carlos Colonetti Neto 2.Passeios em Florianópolis: Memorial Miramar, Alfândega e Mercado Público Saindo da Praça XV e indo na direção oposta à da Catedral, você chegará ao Memorial Miramar, que marca o local onde ficava o píer de desembarque de passageiros, no início do Século XX, antes de ser realizado o aterro da Baía Sul.</td>\n",
       "      <td>clueweb22-pt0000-44-08794_4</td>\n",
       "      <td>2</td>\n",
       "      <td>A passagem responde à pergunta de forma clara e direta, indicando que a Praça XV de Novembro está localizada no centro da cidade de Florianópolis</td>\n",
       "      <td>{'prompt_tokens': 972, 'completion_tokens': 49, 'total_tokens': 1021}</td>\n",
       "      <td>0.032100</td>\n",
       "      <td>3.573821</td>\n",
       "      <td>1</td>\n",
       "    </tr>\n",
       "    <tr>\n",
       "      <th>...</th>\n",
       "      <td>...</td>\n",
       "      <td>...</td>\n",
       "      <td>...</td>\n",
       "      <td>...</td>\n",
       "      <td>...</td>\n",
       "      <td>...</td>\n",
       "      <td>...</td>\n",
       "      <td>...</td>\n",
       "      <td>...</td>\n",
       "      <td>...</td>\n",
       "    </tr>\n",
       "    <tr>\n",
       "      <th>235</th>\n",
       "      <td>4336</td>\n",
       "      <td>Qual o critério para classificação para a Copa do Brasil?</td>\n",
       "      <td>Classificação geral A classificação geral se dá pela pontuação das partidas das Taças Guanabara e Rio, excluindo-se as semifinais e finais destes turnos:[13] o campeão Estadual, ocupara a 1ª posição o vice-campeão (caso exista um disputa final do Campeonato), a 2ª posição as demais equipes que disputarem a fase principal, ocuparão da 3ª (e a 2ª, no caso de haver disputa da final) a 12ª posições, conforme a pontuação e aplicando-se os critérios de desempate as equipes que disputarem a fase especial, conforme os grupos X e Z, da 13ª a 16ª posições Taça Independência A equipe mais bem classificada — com exceção dos quatro grandes clubes (Botafogo, Flamengo, Fluminense e Vasco da Gama) — será declarada campeã da \"Taça Independência\" e terá assegurada uma vaga na Copa do Brasil de 2021.[13] Torneio Extra</td>\n",
       "      <td>clueweb22-pt0000-88-05704_6</td>\n",
       "      <td>1</td>\n",
       "      <td>A passagem responde à pergunta de forma indireta, mencionando que a equipe mais bem classificada, com exceção dos quatro grandes clubes, será declarada campeã da 'Taça Independência' e terá assegurada uma vaga na Copa do Brasil de 2021</td>\n",
       "      <td>{'prompt_tokens': 920, 'completion_tokens': 78, 'total_tokens': 998}</td>\n",
       "      <td>0.032280</td>\n",
       "      <td>5.132672</td>\n",
       "      <td>0</td>\n",
       "    </tr>\n",
       "    <tr>\n",
       "      <th>236</th>\n",
       "      <td>4337</td>\n",
       "      <td>Qual o critério para classificação para a Copa do Brasil?</td>\n",
       "      <td>Os três primeiros colocados ganharam o direito de disputar a Copa do Brasil de 2017. Caso algum clube se classifique para a Copa Libertadores da América de 2017, a vaga será repassada ao 4º colocado e assim por diante. Além disso, os dois clubes mais bem classificados que não pertençam a nenhuma divisão do Campeonato Brasileiro terão vaga na Série D de 2016. Doze clubes disputarão essas duas vagas na quarta divisão nacional.[2] A quantidade de times rebaixados foi maior que nas edições anteriores: os seis times que somaram menos pontos na primeira fase foram rebaixados, independentemente dos grupos em que jogaram. Em 2016, apenas dois times da Série A2 terão acesso à Série A1 de 2017, que será disputada por dezesseis clubes. Critérios de desempate Caso houvesse empate de pontos entre dois clubes, os critérios de desempates seriam aplicados na seguinte ordem: 1. Número de vitórias 2. Saldo de gols 3. Gols marcados 4. Número de cartões vermelhos 5. Número de cartões amarelos 6. Sorteio Equipes participantes Equipe Cidade Em 2015 Estádio Capacidade Títulos Esporte Clube Água Santa Diadema 4º (A2) Distrital do Inamar[3] 10 000 0 Grêmio Osasco Audax Osasco 9° José Liberatti 17 430 0 Botafogo Futebol Clube Ribeirão Preto 7º Santa Cruz 29 292 0 Capivariano Futebol Clube Capivari 14º Arena Capivari 19 000 0</td>\n",
       "      <td>clueweb22-pt0000-57-17300_3</td>\n",
       "      <td>1</td>\n",
       "      <td>A passagem não responde diretamente à pergunta. Ela menciona que os três primeiros colocados ganharam o direito de disputar a Copa do Brasil de 2017, mas não especifica os critérios para a classificação para a Copa do Brasil em geral.</td>\n",
       "      <td>{'prompt_tokens': 1097, 'completion_tokens': 71, 'total_tokens': 1168}</td>\n",
       "      <td>0.037170</td>\n",
       "      <td>5.595504</td>\n",
       "      <td>0</td>\n",
       "    </tr>\n",
       "    <tr>\n",
       "      <th>237</th>\n",
       "      <td>4338</td>\n",
       "      <td>Qual o critério para classificação para a Copa do Brasil?</td>\n",
       "      <td>As 54 vagas destinadas aos clubes mais bem colocados em seus campeonatos estaduais foram divididas entre as 27 federações de acordo com os pontos de seus clubes no ranking da CBF. Os cinco primeiros colocados (São Paulo, Rio de Janeiro, Rio Grande do Sul, Minas Gerais e Paraná) tiveram direito a três vagas; os classificados entre o 6º e 22º lugar tiveram direito a duas vagas; e os cinco últimos colocados (Acre, Rondônia, Tocantins, Amapá e Roraima) tiveram direito a apenas uma vaga. Normalmente, as equipes mais bem classificadas nos campeonatos estaduais ficam com as vagas daquela federação. Porém, algumas federações realizam torneios especiais, como a Taça Minas Gerais ou a Copa Paulista em São Paulo, Copa Federação Gaucha de Futebol e outras, para classificarem um representante para a Copa do Brasil. UF Clube Forma de Classificação Acre Juventus Campeão do Estadual 2009 Alagoas ASA Campeão do Estadual 2009 Corinthians Alagoano Vice-campeão do Estadual 2009 Amapá São José Campeão do Estadual 2009 Amazonas América Campeão do Estadual 2009 Nacional Vice-campeão do Estadual 2009 Bahia Vitória Campeão do Estadual 2009 Bahia Vice-campeão do Estadual 2009 Ceará Fortaleza Campeão do Estadual 2009 Ceará Vice-campeão do Estadual 2009 Distrito Federal Brasiliense Campeão do Metropolitano 2009 Brasília</td>\n",
       "      <td>clueweb22-pt0000-56-10959_2</td>\n",
       "      <td>2</td>\n",
       "      <td>A passagem responde à pergunta de forma clara e direta, explicando como as vagas para a Copa do Brasil são distribuídas entre os clubes com base em seus desempenhos nos campeonatos estaduais e no ranking da CBF</td>\n",
       "      <td>{'prompt_tokens': 1074, 'completion_tokens': 66, 'total_tokens': 1140}</td>\n",
       "      <td>0.036180</td>\n",
       "      <td>5.187159</td>\n",
       "      <td>1</td>\n",
       "    </tr>\n",
       "    <tr>\n",
       "      <th>238</th>\n",
       "      <td>4339</td>\n",
       "      <td>Qual o critério para classificação para a Copa do Brasil?</td>\n",
       "      <td>Gol fora de casa na Copa do Brasil não é mais critério de desempate; veja o regulamento | Goal.com Gol fora de casa na Copa do Brasil não é mais critério de desempate; veja o regulamento Redação Goal 20 de out. de 2021 19:46-07:00 0:00 Copa do Brasil São Paulo Boavista Cianorte 4 de Julho Palmeiras Flamengo Bahia Red Bull Bragantino Athletico PR Chapecoense Vila Nova-GO Vasco da Gama Atlético-MG Internacional Fortaleza Grêmio Corinthians Fluminense Santos Ceará Brasiliense A exemplo das duas edições anteriores, torneio mata-mata não tem o chamado gol qualificado como critério de desempate em 2021 O gol marcado fora de casa, também conhecido como gol qualificado, não é critério de desempate na Copa do Brasil, conforme previsto no novo regulamento elaborado pela Confederação Brasileira de Futebol. Futebol ao vivo ou quando quiser? Clique aqui e teste o DAZN grátis por um mês! Desta maneira, se a soma dos placares dos jogos de ida e volta do torneio termina empatada, a definição do classificado (ou do campeão, no caso da final) sai na disputa de pênaltis. Isso vale inclusive na atual fase de semifinais da edição 2021. Escolha dos editores São Paulo acerta venda de Marquinhos ao Arsenal; veja detalhes da negociação Inter prepara oferta de R$ 15 milhões ao Corinthians por Bruno Méndez</td>\n",
       "      <td>clueweb22-pt0000-57-08731_0</td>\n",
       "      <td>1</td>\n",
       "      <td>A passagem responde parcialmente à pergunta, explicando que o gol fora de casa não é mais um critério de desempate na Copa do Brasil e que, em caso de empate na soma dos placares dos jogos de ida e volta, a definição do classificado sai na disputa de pênaltis. No entanto, não fornece uma visão completa de todos os critérios para a classificação para a Copa do Brasil.</td>\n",
       "      <td>{'prompt_tokens': 1048, 'completion_tokens': 112, 'total_tokens': 1160}</td>\n",
       "      <td>0.038160</td>\n",
       "      <td>10.816283</td>\n",
       "      <td>0</td>\n",
       "    </tr>\n",
       "    <tr>\n",
       "      <th>239</th>\n",
       "      <td>4340</td>\n",
       "      <td>Qual o critério para classificação para a Copa do Brasil?</td>\n",
       "      <td>Atualmente, participam da Libertadores o atual campeão da competição, o campeão da Copa Sul-Americana e o campeão nacional dos países participantes. As outras equipes classificadas são definidas por meio dos critérios determinados pelas confederações de cada país, mas, em geral, são os primeiros colocados dos campeonatos nacionais. As equipes da Guiana, Guiana Francesa e Suriname, embora estejam localizadas na América do Sul, não participam da Libertadores porque são filiadas à Confederação de Futebol da América do Norte, Central e Caribe (Concacaf). No Brasil, classificam-se o campeão da Copa do Brasil e os seis primeiros colocados do Campeonato Brasileiro da Série A. Se o campeão da Copa do Brasil estiver entre os seis primeiros da Série A, o sétimo colocado do Brasileirão também entra na Libertadores. Caso o campeão da Libertadores ou da Sul-Americana seja um time brasileiro, a competição não tira uma vaga do país campeão. Sendo assim, o Brasil pode chegar a ter até nove representantes na Libertadores. Confira o número de vagas oficiais de cada país na Libertadores: País N.º de Vagas Brasil 7 Argentina 6 Bolívia 4 Chile 4 Colômbia 4 Equador 4 Paraguai 4 Peru 4 Uruguai 4 Venezuela 4 Formato de disputa</td>\n",
       "      <td>clueweb22-pt0001-58-12700_6</td>\n",
       "      <td>0</td>\n",
       "      <td>A passagem não responde à pergunta. Ela fala sobre a classificação para a Libertadores, mas não menciona os critérios para a classificação para a Copa do Brasil.</td>\n",
       "      <td>{'prompt_tokens': 1013, 'completion_tokens': 51, 'total_tokens': 1064}</td>\n",
       "      <td>0.033450</td>\n",
       "      <td>3.377190</td>\n",
       "      <td>0</td>\n",
       "    </tr>\n",
       "  </tbody>\n",
       "</table>\n",
       "<p>240 rows × 10 columns</p>\n",
       "</div>"
      ],
      "text/plain": [
       "     doccano_id                                                      query  \\\n",
       "0          4101               Onde está localizada a Praça XV de Novembro?   \n",
       "1          4102               Onde está localizada a Praça XV de Novembro?   \n",
       "2          4103               Onde está localizada a Praça XV de Novembro?   \n",
       "3          4104               Onde está localizada a Praça XV de Novembro?   \n",
       "4          4105               Onde está localizada a Praça XV de Novembro?   \n",
       "..          ...                                                        ...   \n",
       "235        4336  Qual o critério para classificação para a Copa do Brasil?   \n",
       "236        4337  Qual o critério para classificação para a Copa do Brasil?   \n",
       "237        4338  Qual o critério para classificação para a Copa do Brasil?   \n",
       "238        4339  Qual o critério para classificação para a Copa do Brasil?   \n",
       "239        4340  Qual o critério para classificação para a Copa do Brasil?   \n",
       "\n",
       "                                                                                                                                                                                                                                                                                                                                                                                                                                                                                                                                                                                                                                                                                                                                                                                                                                                                                                                                                                                                                                                                                                                                                                                                                                                                                                                                                                      passage  \\\n",
       "0                                                                                      Praça XV (Rio de Janeiro) – Wikipédia, a enciclopédia livre [ocultar] 5 línguas Praça XV (Rio de Janeiro) Origem: Wikipédia, a enciclopédia livre. Coordenadas: 22° 54′ 10″ S, 43° 10′ 24″ W Nota: Este artigo é sobre a praça da cidade do Rio de Janeiro. Para praças de outros lugares, veja Praça XV de Novembro. Esta página cita fontes, mas estas não cobrem todo o conteúdo. Ajude a inserir referências. Conteúdo não verificável poderá ser removido .— Encontre fontes: Google (notícias, livros e acadêmico)(Maio de 2019) A praça e as edificações das imediações. Trecho do Elevado da Perimetral que passava sobre a praça, em 2011. A Praça XV, também conhecida como Praça XV de Novembro, Praça Quinze de Novembro ou Praça Quinze, é uma praça situada no bairro do Centro, na Zona Central da cidade do Rio de Janeiro. Além de estar localizada na Rua Primeiro de Março, a praça integra a Orla Conde, um passeio público que margeia a Baía de Guanabara . A praça, que existe desde o século XVI, foi reinaugurada no dia 29 de maio de 2016 após ser revitalizada.[1] A revitalização da praça foi feita durante a gestão do prefeito Eduardo Paes no âmbito do Porto Maravilha, uma operação urbana que visa revitalizar a Zona Portuária do Rio de Janeiro.   \n",
       "1                Rua XV de Novembro, 818 Centro, Pomerode, Santa Catarina 89107-000 Brasil Tela cheia O melhor por perto Restaurantes 100 dentro de 5 km Tarthurel Pizzaria 317 56 m $$ - $$$ • Italiana • Pizza Restaurante Torten Paradies 1.409 0.5 km $$ - $$$ • Docerias • Alemã • Brasileira Mon Cheri Bistro @ Casa Romena 106 0.7 km $$ - $$$ • Mediterrânea • Saudável • Leste europeia Veja tudo Atrações 24 dentro de 10 km Praça Jorge Lacerda 58 0.1 km Pontos de interesse Parque Municipal de Eventos 25 0.3 km Centros de convenção Parque Educativo Vila Encantada 1.057 0.9 km Parques Veja tudo Contribua Faça uma avaliação Carregue uma foto Avaliações Mais recente 4.5 722 avaliações Excelente 379 Muito boa 266 Razoável 68 Ruim 9 Horrível 1 Thais Leme, SP 161 contribuições Parada obrigatória para fotos mar de 2022 Quando eu via as fotos achava que era bem maior. O portal é muito bonito e tem um centro e informações turísticas. Estava no período da Osterfest, então estava todo com a decoração de Páscoa. Feita em 29 de abril de 2022 Esta avaliação representa a opinião subjetiva de um membro do Tripadvisor, e não da TripAdvisor LLC. daninoguei São Paulo, SP 2.143 contribuições MUITAS PESSOAS PARA TIRAR FOTOS mar de 2022 Portal turístico da cidade, local de parada para fotos com a representação da arquitetura local.   \n",
       "2                                        A praça recebeu esse nome por homenagear o dia 15 de novembro de 1889, marcado pela Proclamação da República do Brasil. Nesse dia, foi instaurada a república federativa presidencialista no Brasil, em substituição à monarquia constitucional parlamentarista em vigor desde 1822. Índice 1 História 1.1 Período colonial 1.2 Século XIX 1.3 Século XX 1.4 Século XXI 2 Esculturas e Monumentos 2.1 Chafariz do Mestre Valentim 2.2 Estátua Equestre de Dom João VI 2.3 Estátua Equestre do General Osório 2.4 Estátua do Almirante Negro 2.5 Piskate 3 Transportes 3.1 Modais de transporte público 3.2 Elevado da Perimetral 3.3 Mergulhão da Praça XV 4 Pontos de interesse 5 Feiras 5.1 Feira de Antiguidades 5.2 Feirarte 6 Ver também 7 Referências 7.1 Bibliografia 8 Ligações externas História Período colonial Chafariz do Mestre Valentim, situado no centro da praça. A Praça XV hoje está localizada na região conhecida, nos primórdios da ocupação das terras da cidade, como Praia da Piaçaba. O local já teve diversas denominações: Largo do Terreiro da Polé;[4]Largo do Carmo;[5]Praça do Carmo; Terreiro do Paço; e Largo do Paço. Do século XVI até meados da década de 1770, com a construção do Cais do Valongo, o logradouro foi o principal ponto de desembarque de escravizados africanos na cidade.[6]   \n",
       "3                               Rua Xv de Novembro, Joinville - SC Rua Xv de Novembro, Joinville - SC Distrito: JOINVILLE Subdistrito: JOINVILLE Bairro(s): América / Glória / Vila Nova CEPs encontrados: 89201602 / 89216200 / 89216000 / 89237001 / 89237002 / 89237000 / 89237701 Total de endereços encontrados: 474 Domicílios particulares: 301 Domícilios coletivos: 4 Estabelecimentos agropecuários: 3 Estabelecimentos de ensino: 3 Estabelecimentos de saúde: 6 Estabelecimentos de outras finalidades (comercial, religioso, outros): 152 Edificações em construção: 5 Quantidade estimada de moradores nesse logradouro: 903 Rendimento médio estimado de moradores nesse logradouro: R$ 2.109,11 Visualizar os dados sintetizados de Joinville Cadastre uma nova empresa nessa rua Estabelecimentos de ensino ESCOLA ESTADUAL Rua Xv de Novembro, 0SN, Joinville - SC ESCOLA MUNICIPAL Rua Xv de Novembro, 7030, Joinville - SC ESCOLA MUNICIPAL BERNARDO TANK Rua Xv de Novembro, 8574, Joinville - SC Estabelecimentos de saúde POSTO DE SAUDE Rua Xv de Novembro, 0SN, Joinville - SC CLINICA DE UROLOGIA Rua Xv de Novembro, 1098, Joinville - SC CLINICA Rua Xv de Novembro, 1156, Joinville - SC CONSULTORIO ODONTOLOGICO Rua Xv de Novembro, 1565 - CASA FRENTE, Joinville - SC CONULTORIO ODONTOLOGICO Rua Xv de Novembro, 7276 - LOJA, Joinville - SC   \n",
       "4                                                                                                                                                                                                                                                                                        No local onde Floripa foi inicialmente chamada de Nossa Senhora do Desterro, foi fundada, bem no centro da cidade, a Praça XV de Novembro e sua famosa e centenária figueira. Palco de diversas manifestações políticas e culturais, atualmente é um oásis verde no meio da cidade, ótimo para relaxar e participar dos diversos eventos que acontecem ao longo do ano. Pouco acima da Praça, localiza-se a Catedral Metropolitana de Florianópolis. Construída entre 1753 e 1773 em estilo neoclássico, ela é tombada pelo Instituto do Patrimônio Histórico e Artístico Nacional, sendo aberta à visitação e cujos horários das missas e celebrações podem ser conferidos em seu site. Não deixe de visitar a Catedral Metropolitana! Foto: Carlos Colonetti Neto 2.Passeios em Florianópolis: Memorial Miramar, Alfândega e Mercado Público Saindo da Praça XV e indo na direção oposta à da Catedral, você chegará ao Memorial Miramar, que marca o local onde ficava o píer de desembarque de passageiros, no início do Século XX, antes de ser realizado o aterro da Baía Sul.   \n",
       "..                                                                                                                                                                                                                                                                                                                                                                                                                                                                                                                                                                                                                                                                                                                                                                                                                                                                                                                                                                                                                                                                                                                                                                                                                                                                                                                                                                        ...   \n",
       "235                                                                                                                                                                                                                                                                                                                                                                                                                                                                                                                                Classificação geral A classificação geral se dá pela pontuação das partidas das Taças Guanabara e Rio, excluindo-se as semifinais e finais destes turnos:[13] o campeão Estadual, ocupara a 1ª posição o vice-campeão (caso exista um disputa final do Campeonato), a 2ª posição as demais equipes que disputarem a fase principal, ocuparão da 3ª (e a 2ª, no caso de haver disputa da final) a 12ª posições, conforme a pontuação e aplicando-se os critérios de desempate as equipes que disputarem a fase especial, conforme os grupos X e Z, da 13ª a 16ª posições Taça Independência A equipe mais bem classificada — com exceção dos quatro grandes clubes (Botafogo, Flamengo, Fluminense e Vasco da Gama) — será declarada campeã da \"Taça Independência\" e terá assegurada uma vaga na Copa do Brasil de 2021.[13] Torneio Extra   \n",
       "236  Os três primeiros colocados ganharam o direito de disputar a Copa do Brasil de 2017. Caso algum clube se classifique para a Copa Libertadores da América de 2017, a vaga será repassada ao 4º colocado e assim por diante. Além disso, os dois clubes mais bem classificados que não pertençam a nenhuma divisão do Campeonato Brasileiro terão vaga na Série D de 2016. Doze clubes disputarão essas duas vagas na quarta divisão nacional.[2] A quantidade de times rebaixados foi maior que nas edições anteriores: os seis times que somaram menos pontos na primeira fase foram rebaixados, independentemente dos grupos em que jogaram. Em 2016, apenas dois times da Série A2 terão acesso à Série A1 de 2017, que será disputada por dezesseis clubes. Critérios de desempate Caso houvesse empate de pontos entre dois clubes, os critérios de desempates seriam aplicados na seguinte ordem: 1. Número de vitórias 2. Saldo de gols 3. Gols marcados 4. Número de cartões vermelhos 5. Número de cartões amarelos 6. Sorteio Equipes participantes Equipe Cidade Em 2015 Estádio Capacidade Títulos Esporte Clube Água Santa Diadema 4º (A2) Distrital do Inamar[3] 10 000 0 Grêmio Osasco Audax Osasco 9° José Liberatti 17 430 0 Botafogo Futebol Clube Ribeirão Preto 7º Santa Cruz 29 292 0 Capivariano Futebol Clube Capivari 14º Arena Capivari 19 000 0   \n",
       "237         As 54 vagas destinadas aos clubes mais bem colocados em seus campeonatos estaduais foram divididas entre as 27 federações de acordo com os pontos de seus clubes no ranking da CBF. Os cinco primeiros colocados (São Paulo, Rio de Janeiro, Rio Grande do Sul, Minas Gerais e Paraná) tiveram direito a três vagas; os classificados entre o 6º e 22º lugar tiveram direito a duas vagas; e os cinco últimos colocados (Acre, Rondônia, Tocantins, Amapá e Roraima) tiveram direito a apenas uma vaga. Normalmente, as equipes mais bem classificadas nos campeonatos estaduais ficam com as vagas daquela federação. Porém, algumas federações realizam torneios especiais, como a Taça Minas Gerais ou a Copa Paulista em São Paulo, Copa Federação Gaucha de Futebol e outras, para classificarem um representante para a Copa do Brasil. UF Clube Forma de Classificação Acre Juventus Campeão do Estadual 2009 Alagoas ASA Campeão do Estadual 2009 Corinthians Alagoano Vice-campeão do Estadual 2009 Amapá São José Campeão do Estadual 2009 Amazonas América Campeão do Estadual 2009 Nacional Vice-campeão do Estadual 2009 Bahia Vitória Campeão do Estadual 2009 Bahia Vice-campeão do Estadual 2009 Ceará Fortaleza Campeão do Estadual 2009 Ceará Vice-campeão do Estadual 2009 Distrito Federal Brasiliense Campeão do Metropolitano 2009 Brasília   \n",
       "238                      Gol fora de casa na Copa do Brasil não é mais critério de desempate; veja o regulamento | Goal.com Gol fora de casa na Copa do Brasil não é mais critério de desempate; veja o regulamento Redação Goal 20 de out. de 2021 19:46-07:00 0:00 Copa do Brasil São Paulo Boavista Cianorte 4 de Julho Palmeiras Flamengo Bahia Red Bull Bragantino Athletico PR Chapecoense Vila Nova-GO Vasco da Gama Atlético-MG Internacional Fortaleza Grêmio Corinthians Fluminense Santos Ceará Brasiliense A exemplo das duas edições anteriores, torneio mata-mata não tem o chamado gol qualificado como critério de desempate em 2021 O gol marcado fora de casa, também conhecido como gol qualificado, não é critério de desempate na Copa do Brasil, conforme previsto no novo regulamento elaborado pela Confederação Brasileira de Futebol. Futebol ao vivo ou quando quiser? Clique aqui e teste o DAZN grátis por um mês! Desta maneira, se a soma dos placares dos jogos de ida e volta do torneio termina empatada, a definição do classificado (ou do campeão, no caso da final) sai na disputa de pênaltis. Isso vale inclusive na atual fase de semifinais da edição 2021. Escolha dos editores São Paulo acerta venda de Marquinhos ao Arsenal; veja detalhes da negociação Inter prepara oferta de R$ 15 milhões ao Corinthians por Bruno Méndez   \n",
       "239                                                                                                    Atualmente, participam da Libertadores o atual campeão da competição, o campeão da Copa Sul-Americana e o campeão nacional dos países participantes. As outras equipes classificadas são definidas por meio dos critérios determinados pelas confederações de cada país, mas, em geral, são os primeiros colocados dos campeonatos nacionais. As equipes da Guiana, Guiana Francesa e Suriname, embora estejam localizadas na América do Sul, não participam da Libertadores porque são filiadas à Confederação de Futebol da América do Norte, Central e Caribe (Concacaf). No Brasil, classificam-se o campeão da Copa do Brasil e os seis primeiros colocados do Campeonato Brasileiro da Série A. Se o campeão da Copa do Brasil estiver entre os seis primeiros da Série A, o sétimo colocado do Brasileirão também entra na Libertadores. Caso o campeão da Libertadores ou da Sul-Americana seja um time brasileiro, a competição não tira uma vaga do país campeão. Sendo assim, o Brasil pode chegar a ter até nove representantes na Libertadores. Confira o número de vagas oficiais de cada país na Libertadores: País N.º de Vagas Brasil 7 Argentina 6 Bolívia 4 Chile 4 Colômbia 4 Equador 4 Paraguai 4 Peru 4 Uruguai 4 Venezuela 4 Formato de disputa   \n",
       "\n",
       "                      passage_id  score  \\\n",
       "0    clueweb22-pt0001-14-16263_0      2   \n",
       "1    clueweb22-pt0000-27-16948_2      2   \n",
       "2    clueweb22-pt0001-14-16263_2      0   \n",
       "3    clueweb22-pt0001-31-10534_0      0   \n",
       "4    clueweb22-pt0000-44-08794_4      2   \n",
       "..                           ...    ...   \n",
       "235  clueweb22-pt0000-88-05704_6      1   \n",
       "236  clueweb22-pt0000-57-17300_3      1   \n",
       "237  clueweb22-pt0000-56-10959_2      2   \n",
       "238  clueweb22-pt0000-57-08731_0      1   \n",
       "239  clueweb22-pt0001-58-12700_6      0   \n",
       "\n",
       "                                                                                                                                                                                                                                                                                                                                                                             reasoning  \\\n",
       "0                                                                                                                                                                                                       A passagem responde claramente e diretamente à pergunta, indicando que a Praça XV de Novembro está localizada no bairro do Centro, na Zona Central da cidade do Rio de Janeiro   \n",
       "1                                                                                                                                                                                                                                     A passagem responde à pergunta de forma clara e direta, indicando que a Praça XV de Novembro está localizada em Pomerode, Santa Catarina, Brasil   \n",
       "2                                                                                                                                                                                  A passagem não responde à pergunta sobre a localização da Praça XV de Novembro. Ela fornece informações sobre a história e o significado do nome da praça, mas não indica onde ela está localizada.   \n",
       "3                                                                                                                                                                                                                                                   A passagem não responde à pergunta. Ela fala sobre a Rua XV de Novembro em Joinville, SC, mas não menciona a Praça XV de Novembro.   \n",
       "4                                                                                                                                                                                                                                    A passagem responde à pergunta de forma clara e direta, indicando que a Praça XV de Novembro está localizada no centro da cidade de Florianópolis   \n",
       "..                                                                                                                                                                                                                                                                                                                                                                                 ...   \n",
       "235                                                                                                                                        A passagem responde à pergunta de forma indireta, mencionando que a equipe mais bem classificada, com exceção dos quatro grandes clubes, será declarada campeã da 'Taça Independência' e terá assegurada uma vaga na Copa do Brasil de 2021   \n",
       "236                                                                                                                                         A passagem não responde diretamente à pergunta. Ela menciona que os três primeiros colocados ganharam o direito de disputar a Copa do Brasil de 2017, mas não especifica os critérios para a classificação para a Copa do Brasil em geral.   \n",
       "237                                                                                                                                                                 A passagem responde à pergunta de forma clara e direta, explicando como as vagas para a Copa do Brasil são distribuídas entre os clubes com base em seus desempenhos nos campeonatos estaduais e no ranking da CBF   \n",
       "238  A passagem responde parcialmente à pergunta, explicando que o gol fora de casa não é mais um critério de desempate na Copa do Brasil e que, em caso de empate na soma dos placares dos jogos de ida e volta, a definição do classificado sai na disputa de pênaltis. No entanto, não fornece uma visão completa de todos os critérios para a classificação para a Copa do Brasil.   \n",
       "239                                                                                                                                                                                                                  A passagem não responde à pergunta. Ela fala sobre a classificação para a Libertadores, mas não menciona os critérios para a classificação para a Copa do Brasil.   \n",
       "\n",
       "                                                                       usage  \\\n",
       "0     {'prompt_tokens': 1067, 'completion_tokens': 55, 'total_tokens': 1122}   \n",
       "1     {'prompt_tokens': 1083, 'completion_tokens': 51, 'total_tokens': 1134}   \n",
       "2     {'prompt_tokens': 1104, 'completion_tokens': 59, 'total_tokens': 1163}   \n",
       "3     {'prompt_tokens': 1111, 'completion_tokens': 50, 'total_tokens': 1161}   \n",
       "4      {'prompt_tokens': 972, 'completion_tokens': 49, 'total_tokens': 1021}   \n",
       "..                                                                       ...   \n",
       "235     {'prompt_tokens': 920, 'completion_tokens': 78, 'total_tokens': 998}   \n",
       "236   {'prompt_tokens': 1097, 'completion_tokens': 71, 'total_tokens': 1168}   \n",
       "237   {'prompt_tokens': 1074, 'completion_tokens': 66, 'total_tokens': 1140}   \n",
       "238  {'prompt_tokens': 1048, 'completion_tokens': 112, 'total_tokens': 1160}   \n",
       "239   {'prompt_tokens': 1013, 'completion_tokens': 51, 'total_tokens': 1064}   \n",
       "\n",
       "        cost  duration  02_score  \n",
       "0   0.035310  4.101760         1  \n",
       "1   0.035550  3.668287         1  \n",
       "2   0.036660  5.538732         0  \n",
       "3   0.036330  4.128618         0  \n",
       "4   0.032100  3.573821         1  \n",
       "..       ...       ...       ...  \n",
       "235 0.032280  5.132672         0  \n",
       "236 0.037170  5.595504         0  \n",
       "237 0.036180  5.187159         1  \n",
       "238 0.038160 10.816283         0  \n",
       "239 0.033450  3.377190         0  \n",
       "\n",
       "[240 rows x 10 columns]"
      ]
     },
     "execution_count": 26,
     "metadata": {},
     "output_type": "execute_result"
    }
   ],
   "source": [
    "gpt4_03_score_2_7_df"
   ]
  },
  {
   "cell_type": "code",
   "execution_count": 27,
   "id": "c125b29a",
   "metadata": {},
   "outputs": [],
   "source": [
    "gpt4_03_score_2_7_df.to_csv(os.path.join(ANNOTATIONS_FOLDER, \"gpt_4_evaluations_240_samples_prompt_v2.7.tsv\"), sep='\\t', index=False)"
   ]
  },
  {
   "cell_type": "code",
   "execution_count": null,
   "id": "83ae54ac",
   "metadata": {},
   "outputs": [],
   "source": []
  },
  {
   "cell_type": "code",
   "execution_count": 28,
   "id": "8eabe53e",
   "metadata": {},
   "outputs": [
    {
     "data": {
      "text/html": [
       "<div>\n",
       "<style scoped>\n",
       "    .dataframe tbody tr th:only-of-type {\n",
       "        vertical-align: middle;\n",
       "    }\n",
       "\n",
       "    .dataframe tbody tr th {\n",
       "        vertical-align: top;\n",
       "    }\n",
       "\n",
       "    .dataframe thead th {\n",
       "        text-align: right;\n",
       "    }\n",
       "</style>\n",
       "<table border=\"1\" class=\"dataframe\">\n",
       "  <thead>\n",
       "    <tr style=\"text-align: right;\">\n",
       "      <th></th>\n",
       "      <th>doccano_id</th>\n",
       "      <th>query</th>\n",
       "      <th>passage</th>\n",
       "      <th>passage_id</th>\n",
       "      <th>score</th>\n",
       "      <th>reasoning</th>\n",
       "      <th>usage</th>\n",
       "      <th>cost</th>\n",
       "      <th>duration</th>\n",
       "      <th>02_score</th>\n",
       "    </tr>\n",
       "  </thead>\n",
       "  <tbody>\n",
       "    <tr>\n",
       "      <th>0</th>\n",
       "      <td>4101</td>\n",
       "      <td>Onde está localizada a Praça XV de Novembro?</td>\n",
       "      <td>Praça XV (Rio de Janeiro) – Wikipédia, a enciclopédia livre [ocultar] 5 línguas Praça XV (Rio de Janeiro) Origem: Wikipédia, a enciclopédia livre. Coordenadas: 22° 54′ 10″ S, 43° 10′ 24″ W Nota: Este artigo é sobre a praça da cidade do Rio de Janeiro. Para praças de outros lugares, veja Praça XV de Novembro. Esta página cita fontes, mas estas não cobrem todo o conteúdo. Ajude a inserir referências. Conteúdo não verificável poderá ser removido .— Encontre fontes: Google (notícias, livros e acadêmico)(Maio de 2019) A praça e as edificações das imediações. Trecho do Elevado da Perimetral que passava sobre a praça, em 2011. A Praça XV, também conhecida como Praça XV de Novembro, Praça Quinze de Novembro ou Praça Quinze, é uma praça situada no bairro do Centro, na Zona Central da cidade do Rio de Janeiro. Além de estar localizada na Rua Primeiro de Março, a praça integra a Orla Conde, um passeio público que margeia a Baía de Guanabara . A praça, que existe desde o século XVI, foi reinaugurada no dia 29 de maio de 2016 após ser revitalizada.[1] A revitalização da praça foi feita durante a gestão do prefeito Eduardo Paes no âmbito do Porto Maravilha, uma operação urbana que visa revitalizar a Zona Portuária do Rio de Janeiro.</td>\n",
       "      <td>clueweb22-pt0001-14-16263_0</td>\n",
       "      <td>2</td>\n",
       "      <td>A passagem responde claramente e de forma completa à pergunta, indicando que a Praça XV de Novembro está localizada no bairro do Centro, na Zona Central da cidade do Rio de Janeiro</td>\n",
       "      <td>{'prompt_tokens': 1040, 'completion_tokens': 56, 'total_tokens': 1096}</td>\n",
       "      <td>0.034560</td>\n",
       "      <td>3.822135</td>\n",
       "      <td>1</td>\n",
       "    </tr>\n",
       "    <tr>\n",
       "      <th>1</th>\n",
       "      <td>4102</td>\n",
       "      <td>Onde está localizada a Praça XV de Novembro?</td>\n",
       "      <td>Rua XV de Novembro, 818 Centro, Pomerode, Santa Catarina 89107-000 Brasil Tela cheia O melhor por perto Restaurantes 100 dentro de 5 km Tarthurel Pizzaria 317 56 m $$ - $$$ • Italiana • Pizza Restaurante Torten Paradies 1.409 0.5 km $$ - $$$ • Docerias • Alemã • Brasileira Mon Cheri Bistro @ Casa Romena 106 0.7 km $$ - $$$ • Mediterrânea • Saudável • Leste europeia Veja tudo Atrações 24 dentro de 10 km Praça Jorge Lacerda 58 0.1 km Pontos de interesse Parque Municipal de Eventos 25 0.3 km Centros de convenção Parque Educativo Vila Encantada 1.057 0.9 km Parques Veja tudo Contribua Faça uma avaliação Carregue uma foto Avaliações Mais recente 4.5 722 avaliações Excelente 379 Muito boa 266 Razoável 68 Ruim 9 Horrível 1 Thais Leme, SP 161 contribuições Parada obrigatória para fotos mar de 2022 Quando eu via as fotos achava que era bem maior. O portal é muito bonito e tem um centro e informações turísticas. Estava no período da Osterfest, então estava todo com a decoração de Páscoa. Feita em 29 de abril de 2022 Esta avaliação representa a opinião subjetiva de um membro do Tripadvisor, e não da TripAdvisor LLC. daninoguei São Paulo, SP 2.143 contribuições MUITAS PESSOAS PARA TIRAR FOTOS mar de 2022 Portal turístico da cidade, local de parada para fotos com a representação da arquitetura local.</td>\n",
       "      <td>clueweb22-pt0000-27-16948_2</td>\n",
       "      <td>2</td>\n",
       "      <td>A passagem indica que a Praça XV de Novembro está localizada em Pomerode, Santa Catarina, Brasil</td>\n",
       "      <td>{'prompt_tokens': 1056, 'completion_tokens': 37, 'total_tokens': 1093}</td>\n",
       "      <td>0.033900</td>\n",
       "      <td>3.115484</td>\n",
       "      <td>1</td>\n",
       "    </tr>\n",
       "    <tr>\n",
       "      <th>2</th>\n",
       "      <td>4103</td>\n",
       "      <td>Onde está localizada a Praça XV de Novembro?</td>\n",
       "      <td>A praça recebeu esse nome por homenagear o dia 15 de novembro de 1889, marcado pela Proclamação da República do Brasil. Nesse dia, foi instaurada a república federativa presidencialista no Brasil, em substituição à monarquia constitucional parlamentarista em vigor desde 1822. Índice 1 História 1.1 Período colonial 1.2 Século XIX 1.3 Século XX 1.4 Século XXI 2 Esculturas e Monumentos 2.1 Chafariz do Mestre Valentim 2.2 Estátua Equestre de Dom João VI 2.3 Estátua Equestre do General Osório 2.4 Estátua do Almirante Negro 2.5 Piskate 3 Transportes 3.1 Modais de transporte público 3.2 Elevado da Perimetral 3.3 Mergulhão da Praça XV 4 Pontos de interesse 5 Feiras 5.1 Feira de Antiguidades 5.2 Feirarte 6 Ver também 7 Referências 7.1 Bibliografia 8 Ligações externas História Período colonial Chafariz do Mestre Valentim, situado no centro da praça. A Praça XV hoje está localizada na região conhecida, nos primórdios da ocupação das terras da cidade, como Praia da Piaçaba. O local já teve diversas denominações: Largo do Terreiro da Polé;[4]Largo do Carmo;[5]Praça do Carmo; Terreiro do Paço; e Largo do Paço. Do século XVI até meados da década de 1770, com a construção do Cais do Valongo, o logradouro foi o principal ponto de desembarque de escravizados africanos na cidade.[6]</td>\n",
       "      <td>clueweb22-pt0001-14-16263_2</td>\n",
       "      <td>0</td>\n",
       "      <td>A passagem não fornece informações sobre a localização atual da Praça XV de Novembro.</td>\n",
       "      <td>{'prompt_tokens': 1077, 'completion_tokens': 31, 'total_tokens': 1108}</td>\n",
       "      <td>0.034170</td>\n",
       "      <td>2.358308</td>\n",
       "      <td>0</td>\n",
       "    </tr>\n",
       "    <tr>\n",
       "      <th>3</th>\n",
       "      <td>4104</td>\n",
       "      <td>Onde está localizada a Praça XV de Novembro?</td>\n",
       "      <td>Rua Xv de Novembro, Joinville - SC Rua Xv de Novembro, Joinville - SC Distrito: JOINVILLE Subdistrito: JOINVILLE Bairro(s): América / Glória / Vila Nova CEPs encontrados: 89201602 / 89216200 / 89216000 / 89237001 / 89237002 / 89237000 / 89237701 Total de endereços encontrados: 474 Domicílios particulares: 301 Domícilios coletivos: 4 Estabelecimentos agropecuários: 3 Estabelecimentos de ensino: 3 Estabelecimentos de saúde: 6 Estabelecimentos de outras finalidades (comercial, religioso, outros): 152 Edificações em construção: 5 Quantidade estimada de moradores nesse logradouro: 903 Rendimento médio estimado de moradores nesse logradouro: R$ 2.109,11 Visualizar os dados sintetizados de Joinville Cadastre uma nova empresa nessa rua Estabelecimentos de ensino ESCOLA ESTADUAL Rua Xv de Novembro, 0SN, Joinville - SC ESCOLA MUNICIPAL Rua Xv de Novembro, 7030, Joinville - SC ESCOLA MUNICIPAL BERNARDO TANK Rua Xv de Novembro, 8574, Joinville - SC Estabelecimentos de saúde POSTO DE SAUDE Rua Xv de Novembro, 0SN, Joinville - SC CLINICA DE UROLOGIA Rua Xv de Novembro, 1098, Joinville - SC CLINICA Rua Xv de Novembro, 1156, Joinville - SC CONSULTORIO ODONTOLOGICO Rua Xv de Novembro, 1565 - CASA FRENTE, Joinville - SC CONULTORIO ODONTOLOGICO Rua Xv de Novembro, 7276 - LOJA, Joinville - SC</td>\n",
       "      <td>clueweb22-pt0001-31-10534_0</td>\n",
       "      <td>0</td>\n",
       "      <td>A passagem não responde à pergunta. Ela fornece informações sobre a Rua XV de Novembro em Joinville, SC, mas não menciona a localização da Praça XV de Novembro.</td>\n",
       "      <td>{'prompt_tokens': 1084, 'completion_tokens': 55, 'total_tokens': 1139}</td>\n",
       "      <td>0.035820</td>\n",
       "      <td>3.553138</td>\n",
       "      <td>0</td>\n",
       "    </tr>\n",
       "    <tr>\n",
       "      <th>4</th>\n",
       "      <td>4105</td>\n",
       "      <td>Onde está localizada a Praça XV de Novembro?</td>\n",
       "      <td>No local onde Floripa foi inicialmente chamada de Nossa Senhora do Desterro, foi fundada, bem no centro da cidade, a Praça XV de Novembro e sua famosa e centenária figueira. Palco de diversas manifestações políticas e culturais, atualmente é um oásis verde no meio da cidade, ótimo para relaxar e participar dos diversos eventos que acontecem ao longo do ano. Pouco acima da Praça, localiza-se a Catedral Metropolitana de Florianópolis. Construída entre 1753 e 1773 em estilo neoclássico, ela é tombada pelo Instituto do Patrimônio Histórico e Artístico Nacional, sendo aberta à visitação e cujos horários das missas e celebrações podem ser conferidos em seu site. Não deixe de visitar a Catedral Metropolitana! Foto: Carlos Colonetti Neto 2.Passeios em Florianópolis: Memorial Miramar, Alfândega e Mercado Público Saindo da Praça XV e indo na direção oposta à da Catedral, você chegará ao Memorial Miramar, que marca o local onde ficava o píer de desembarque de passageiros, no início do Século XX, antes de ser realizado o aterro da Baía Sul.</td>\n",
       "      <td>clueweb22-pt0000-44-08794_4</td>\n",
       "      <td>2</td>\n",
       "      <td>A passagem responde claramente que a Praça XV de Novembro está localizada no centro da cidade de Florianópolis</td>\n",
       "      <td>{'prompt_tokens': 945, 'completion_tokens': 39, 'total_tokens': 984}</td>\n",
       "      <td>0.030690</td>\n",
       "      <td>3.096509</td>\n",
       "      <td>1</td>\n",
       "    </tr>\n",
       "    <tr>\n",
       "      <th>...</th>\n",
       "      <td>...</td>\n",
       "      <td>...</td>\n",
       "      <td>...</td>\n",
       "      <td>...</td>\n",
       "      <td>...</td>\n",
       "      <td>...</td>\n",
       "      <td>...</td>\n",
       "      <td>...</td>\n",
       "      <td>...</td>\n",
       "      <td>...</td>\n",
       "    </tr>\n",
       "    <tr>\n",
       "      <th>235</th>\n",
       "      <td>4336</td>\n",
       "      <td>Qual o critério para classificação para a Copa do Brasil?</td>\n",
       "      <td>Classificação geral A classificação geral se dá pela pontuação das partidas das Taças Guanabara e Rio, excluindo-se as semifinais e finais destes turnos:[13] o campeão Estadual, ocupara a 1ª posição o vice-campeão (caso exista um disputa final do Campeonato), a 2ª posição as demais equipes que disputarem a fase principal, ocuparão da 3ª (e a 2ª, no caso de haver disputa da final) a 12ª posições, conforme a pontuação e aplicando-se os critérios de desempate as equipes que disputarem a fase especial, conforme os grupos X e Z, da 13ª a 16ª posições Taça Independência A equipe mais bem classificada — com exceção dos quatro grandes clubes (Botafogo, Flamengo, Fluminense e Vasco da Gama) — será declarada campeã da \"Taça Independência\" e terá assegurada uma vaga na Copa do Brasil de 2021.[13] Torneio Extra</td>\n",
       "      <td>clueweb22-pt0000-88-05704_6</td>\n",
       "      <td>1</td>\n",
       "      <td>A passagem responde parcialmente à pergunta, indicando que a equipe mais bem classificada, com exceção dos quatro grandes clubes, será declarada campeã da 'Taça Independência' e terá assegurada uma vaga na Copa do Brasil de 2021. No entanto, não fornece detalhes sobre outros critérios de classificação para a Copa do Brasil</td>\n",
       "      <td>{'prompt_tokens': 893, 'completion_tokens': 99, 'total_tokens': 992}</td>\n",
       "      <td>0.032730</td>\n",
       "      <td>6.903746</td>\n",
       "      <td>0</td>\n",
       "    </tr>\n",
       "    <tr>\n",
       "      <th>236</th>\n",
       "      <td>4337</td>\n",
       "      <td>Qual o critério para classificação para a Copa do Brasil?</td>\n",
       "      <td>Os três primeiros colocados ganharam o direito de disputar a Copa do Brasil de 2017. Caso algum clube se classifique para a Copa Libertadores da América de 2017, a vaga será repassada ao 4º colocado e assim por diante. Além disso, os dois clubes mais bem classificados que não pertençam a nenhuma divisão do Campeonato Brasileiro terão vaga na Série D de 2016. Doze clubes disputarão essas duas vagas na quarta divisão nacional.[2] A quantidade de times rebaixados foi maior que nas edições anteriores: os seis times que somaram menos pontos na primeira fase foram rebaixados, independentemente dos grupos em que jogaram. Em 2016, apenas dois times da Série A2 terão acesso à Série A1 de 2017, que será disputada por dezesseis clubes. Critérios de desempate Caso houvesse empate de pontos entre dois clubes, os critérios de desempates seriam aplicados na seguinte ordem: 1. Número de vitórias 2. Saldo de gols 3. Gols marcados 4. Número de cartões vermelhos 5. Número de cartões amarelos 6. Sorteio Equipes participantes Equipe Cidade Em 2015 Estádio Capacidade Títulos Esporte Clube Água Santa Diadema 4º (A2) Distrital do Inamar[3] 10 000 0 Grêmio Osasco Audax Osasco 9° José Liberatti 17 430 0 Botafogo Futebol Clube Ribeirão Preto 7º Santa Cruz 29 292 0 Capivariano Futebol Clube Capivari 14º Arena Capivari 19 000 0</td>\n",
       "      <td>clueweb22-pt0000-57-17300_3</td>\n",
       "      <td>2</td>\n",
       "      <td>A passagem responde à pergunta indicando que os três primeiros colocados ganham o direito de disputar a Copa do Brasil de 2017</td>\n",
       "      <td>{'prompt_tokens': 1070, 'completion_tokens': 44, 'total_tokens': 1114}</td>\n",
       "      <td>0.034740</td>\n",
       "      <td>3.024766</td>\n",
       "      <td>1</td>\n",
       "    </tr>\n",
       "    <tr>\n",
       "      <th>237</th>\n",
       "      <td>4338</td>\n",
       "      <td>Qual o critério para classificação para a Copa do Brasil?</td>\n",
       "      <td>As 54 vagas destinadas aos clubes mais bem colocados em seus campeonatos estaduais foram divididas entre as 27 federações de acordo com os pontos de seus clubes no ranking da CBF. Os cinco primeiros colocados (São Paulo, Rio de Janeiro, Rio Grande do Sul, Minas Gerais e Paraná) tiveram direito a três vagas; os classificados entre o 6º e 22º lugar tiveram direito a duas vagas; e os cinco últimos colocados (Acre, Rondônia, Tocantins, Amapá e Roraima) tiveram direito a apenas uma vaga. Normalmente, as equipes mais bem classificadas nos campeonatos estaduais ficam com as vagas daquela federação. Porém, algumas federações realizam torneios especiais, como a Taça Minas Gerais ou a Copa Paulista em São Paulo, Copa Federação Gaucha de Futebol e outras, para classificarem um representante para a Copa do Brasil. UF Clube Forma de Classificação Acre Juventus Campeão do Estadual 2009 Alagoas ASA Campeão do Estadual 2009 Corinthians Alagoano Vice-campeão do Estadual 2009 Amapá São José Campeão do Estadual 2009 Amazonas América Campeão do Estadual 2009 Nacional Vice-campeão do Estadual 2009 Bahia Vitória Campeão do Estadual 2009 Bahia Vice-campeão do Estadual 2009 Ceará Fortaleza Campeão do Estadual 2009 Ceará Vice-campeão do Estadual 2009 Distrito Federal Brasiliense Campeão do Metropolitano 2009 Brasília</td>\n",
       "      <td>clueweb22-pt0000-56-10959_2</td>\n",
       "      <td>2</td>\n",
       "      <td>A passagem responde à pergunta de forma clara e completa, explicando que as vagas são destinadas aos clubes mais bem colocados em seus campeonatos estaduais e que são divididas entre as federações de acordo com os pontos de seus clubes no ranking da CBF. Além disso, menciona que algumas federações realizam torneios especiais para classificar um representante para a Copa do Brasil.</td>\n",
       "      <td>{'prompt_tokens': 1047, 'completion_tokens': 104, 'total_tokens': 1151}</td>\n",
       "      <td>0.037650</td>\n",
       "      <td>6.311922</td>\n",
       "      <td>1</td>\n",
       "    </tr>\n",
       "    <tr>\n",
       "      <th>238</th>\n",
       "      <td>4339</td>\n",
       "      <td>Qual o critério para classificação para a Copa do Brasil?</td>\n",
       "      <td>Gol fora de casa na Copa do Brasil não é mais critério de desempate; veja o regulamento | Goal.com Gol fora de casa na Copa do Brasil não é mais critério de desempate; veja o regulamento Redação Goal 20 de out. de 2021 19:46-07:00 0:00 Copa do Brasil São Paulo Boavista Cianorte 4 de Julho Palmeiras Flamengo Bahia Red Bull Bragantino Athletico PR Chapecoense Vila Nova-GO Vasco da Gama Atlético-MG Internacional Fortaleza Grêmio Corinthians Fluminense Santos Ceará Brasiliense A exemplo das duas edições anteriores, torneio mata-mata não tem o chamado gol qualificado como critério de desempate em 2021 O gol marcado fora de casa, também conhecido como gol qualificado, não é critério de desempate na Copa do Brasil, conforme previsto no novo regulamento elaborado pela Confederação Brasileira de Futebol. Futebol ao vivo ou quando quiser? Clique aqui e teste o DAZN grátis por um mês! Desta maneira, se a soma dos placares dos jogos de ida e volta do torneio termina empatada, a definição do classificado (ou do campeão, no caso da final) sai na disputa de pênaltis. Isso vale inclusive na atual fase de semifinais da edição 2021. Escolha dos editores São Paulo acerta venda de Marquinhos ao Arsenal; veja detalhes da negociação Inter prepara oferta de R$ 15 milhões ao Corinthians por Bruno Méndez</td>\n",
       "      <td>clueweb22-pt0000-57-08731_0</td>\n",
       "      <td>0</td>\n",
       "      <td>A passagem não responde à pergunta sobre o critério para classificação para a Copa do Brasil. Ela apenas menciona que o gol fora de casa não é mais um critério de desempate na competição</td>\n",
       "      <td>{'prompt_tokens': 1021, 'completion_tokens': 59, 'total_tokens': 1080}</td>\n",
       "      <td>0.034170</td>\n",
       "      <td>4.792235</td>\n",
       "      <td>0</td>\n",
       "    </tr>\n",
       "    <tr>\n",
       "      <th>239</th>\n",
       "      <td>4340</td>\n",
       "      <td>Qual o critério para classificação para a Copa do Brasil?</td>\n",
       "      <td>Atualmente, participam da Libertadores o atual campeão da competição, o campeão da Copa Sul-Americana e o campeão nacional dos países participantes. As outras equipes classificadas são definidas por meio dos critérios determinados pelas confederações de cada país, mas, em geral, são os primeiros colocados dos campeonatos nacionais. As equipes da Guiana, Guiana Francesa e Suriname, embora estejam localizadas na América do Sul, não participam da Libertadores porque são filiadas à Confederação de Futebol da América do Norte, Central e Caribe (Concacaf). No Brasil, classificam-se o campeão da Copa do Brasil e os seis primeiros colocados do Campeonato Brasileiro da Série A. Se o campeão da Copa do Brasil estiver entre os seis primeiros da Série A, o sétimo colocado do Brasileirão também entra na Libertadores. Caso o campeão da Libertadores ou da Sul-Americana seja um time brasileiro, a competição não tira uma vaga do país campeão. Sendo assim, o Brasil pode chegar a ter até nove representantes na Libertadores. Confira o número de vagas oficiais de cada país na Libertadores: País N.º de Vagas Brasil 7 Argentina 6 Bolívia 4 Chile 4 Colômbia 4 Equador 4 Paraguai 4 Peru 4 Uruguai 4 Venezuela 4 Formato de disputa</td>\n",
       "      <td>clueweb22-pt0001-58-12700_6</td>\n",
       "      <td>0</td>\n",
       "      <td>A passagem não responde à pergunta. Ela explica os critérios de classificação para a Libertadores, mas não menciona os critérios para a Copa do Brasil.</td>\n",
       "      <td>{'prompt_tokens': 986, 'completion_tokens': 50, 'total_tokens': 1036}</td>\n",
       "      <td>0.032580</td>\n",
       "      <td>3.996787</td>\n",
       "      <td>0</td>\n",
       "    </tr>\n",
       "  </tbody>\n",
       "</table>\n",
       "<p>240 rows × 10 columns</p>\n",
       "</div>"
      ],
      "text/plain": [
       "     doccano_id                                                      query  \\\n",
       "0          4101               Onde está localizada a Praça XV de Novembro?   \n",
       "1          4102               Onde está localizada a Praça XV de Novembro?   \n",
       "2          4103               Onde está localizada a Praça XV de Novembro?   \n",
       "3          4104               Onde está localizada a Praça XV de Novembro?   \n",
       "4          4105               Onde está localizada a Praça XV de Novembro?   \n",
       "..          ...                                                        ...   \n",
       "235        4336  Qual o critério para classificação para a Copa do Brasil?   \n",
       "236        4337  Qual o critério para classificação para a Copa do Brasil?   \n",
       "237        4338  Qual o critério para classificação para a Copa do Brasil?   \n",
       "238        4339  Qual o critério para classificação para a Copa do Brasil?   \n",
       "239        4340  Qual o critério para classificação para a Copa do Brasil?   \n",
       "\n",
       "                                                                                                                                                                                                                                                                                                                                                                                                                                                                                                                                                                                                                                                                                                                                                                                                                                                                                                                                                                                                                                                                                                                                                                                                                                                                                                                                                                      passage  \\\n",
       "0                                                                                      Praça XV (Rio de Janeiro) – Wikipédia, a enciclopédia livre [ocultar] 5 línguas Praça XV (Rio de Janeiro) Origem: Wikipédia, a enciclopédia livre. Coordenadas: 22° 54′ 10″ S, 43° 10′ 24″ W Nota: Este artigo é sobre a praça da cidade do Rio de Janeiro. Para praças de outros lugares, veja Praça XV de Novembro. Esta página cita fontes, mas estas não cobrem todo o conteúdo. Ajude a inserir referências. Conteúdo não verificável poderá ser removido .— Encontre fontes: Google (notícias, livros e acadêmico)(Maio de 2019) A praça e as edificações das imediações. Trecho do Elevado da Perimetral que passava sobre a praça, em 2011. A Praça XV, também conhecida como Praça XV de Novembro, Praça Quinze de Novembro ou Praça Quinze, é uma praça situada no bairro do Centro, na Zona Central da cidade do Rio de Janeiro. Além de estar localizada na Rua Primeiro de Março, a praça integra a Orla Conde, um passeio público que margeia a Baía de Guanabara . A praça, que existe desde o século XVI, foi reinaugurada no dia 29 de maio de 2016 após ser revitalizada.[1] A revitalização da praça foi feita durante a gestão do prefeito Eduardo Paes no âmbito do Porto Maravilha, uma operação urbana que visa revitalizar a Zona Portuária do Rio de Janeiro.   \n",
       "1                Rua XV de Novembro, 818 Centro, Pomerode, Santa Catarina 89107-000 Brasil Tela cheia O melhor por perto Restaurantes 100 dentro de 5 km Tarthurel Pizzaria 317 56 m $$ - $$$ • Italiana • Pizza Restaurante Torten Paradies 1.409 0.5 km $$ - $$$ • Docerias • Alemã • Brasileira Mon Cheri Bistro @ Casa Romena 106 0.7 km $$ - $$$ • Mediterrânea • Saudável • Leste europeia Veja tudo Atrações 24 dentro de 10 km Praça Jorge Lacerda 58 0.1 km Pontos de interesse Parque Municipal de Eventos 25 0.3 km Centros de convenção Parque Educativo Vila Encantada 1.057 0.9 km Parques Veja tudo Contribua Faça uma avaliação Carregue uma foto Avaliações Mais recente 4.5 722 avaliações Excelente 379 Muito boa 266 Razoável 68 Ruim 9 Horrível 1 Thais Leme, SP 161 contribuições Parada obrigatória para fotos mar de 2022 Quando eu via as fotos achava que era bem maior. O portal é muito bonito e tem um centro e informações turísticas. Estava no período da Osterfest, então estava todo com a decoração de Páscoa. Feita em 29 de abril de 2022 Esta avaliação representa a opinião subjetiva de um membro do Tripadvisor, e não da TripAdvisor LLC. daninoguei São Paulo, SP 2.143 contribuições MUITAS PESSOAS PARA TIRAR FOTOS mar de 2022 Portal turístico da cidade, local de parada para fotos com a representação da arquitetura local.   \n",
       "2                                        A praça recebeu esse nome por homenagear o dia 15 de novembro de 1889, marcado pela Proclamação da República do Brasil. Nesse dia, foi instaurada a república federativa presidencialista no Brasil, em substituição à monarquia constitucional parlamentarista em vigor desde 1822. Índice 1 História 1.1 Período colonial 1.2 Século XIX 1.3 Século XX 1.4 Século XXI 2 Esculturas e Monumentos 2.1 Chafariz do Mestre Valentim 2.2 Estátua Equestre de Dom João VI 2.3 Estátua Equestre do General Osório 2.4 Estátua do Almirante Negro 2.5 Piskate 3 Transportes 3.1 Modais de transporte público 3.2 Elevado da Perimetral 3.3 Mergulhão da Praça XV 4 Pontos de interesse 5 Feiras 5.1 Feira de Antiguidades 5.2 Feirarte 6 Ver também 7 Referências 7.1 Bibliografia 8 Ligações externas História Período colonial Chafariz do Mestre Valentim, situado no centro da praça. A Praça XV hoje está localizada na região conhecida, nos primórdios da ocupação das terras da cidade, como Praia da Piaçaba. O local já teve diversas denominações: Largo do Terreiro da Polé;[4]Largo do Carmo;[5]Praça do Carmo; Terreiro do Paço; e Largo do Paço. Do século XVI até meados da década de 1770, com a construção do Cais do Valongo, o logradouro foi o principal ponto de desembarque de escravizados africanos na cidade.[6]   \n",
       "3                               Rua Xv de Novembro, Joinville - SC Rua Xv de Novembro, Joinville - SC Distrito: JOINVILLE Subdistrito: JOINVILLE Bairro(s): América / Glória / Vila Nova CEPs encontrados: 89201602 / 89216200 / 89216000 / 89237001 / 89237002 / 89237000 / 89237701 Total de endereços encontrados: 474 Domicílios particulares: 301 Domícilios coletivos: 4 Estabelecimentos agropecuários: 3 Estabelecimentos de ensino: 3 Estabelecimentos de saúde: 6 Estabelecimentos de outras finalidades (comercial, religioso, outros): 152 Edificações em construção: 5 Quantidade estimada de moradores nesse logradouro: 903 Rendimento médio estimado de moradores nesse logradouro: R$ 2.109,11 Visualizar os dados sintetizados de Joinville Cadastre uma nova empresa nessa rua Estabelecimentos de ensino ESCOLA ESTADUAL Rua Xv de Novembro, 0SN, Joinville - SC ESCOLA MUNICIPAL Rua Xv de Novembro, 7030, Joinville - SC ESCOLA MUNICIPAL BERNARDO TANK Rua Xv de Novembro, 8574, Joinville - SC Estabelecimentos de saúde POSTO DE SAUDE Rua Xv de Novembro, 0SN, Joinville - SC CLINICA DE UROLOGIA Rua Xv de Novembro, 1098, Joinville - SC CLINICA Rua Xv de Novembro, 1156, Joinville - SC CONSULTORIO ODONTOLOGICO Rua Xv de Novembro, 1565 - CASA FRENTE, Joinville - SC CONULTORIO ODONTOLOGICO Rua Xv de Novembro, 7276 - LOJA, Joinville - SC   \n",
       "4                                                                                                                                                                                                                                                                                        No local onde Floripa foi inicialmente chamada de Nossa Senhora do Desterro, foi fundada, bem no centro da cidade, a Praça XV de Novembro e sua famosa e centenária figueira. Palco de diversas manifestações políticas e culturais, atualmente é um oásis verde no meio da cidade, ótimo para relaxar e participar dos diversos eventos que acontecem ao longo do ano. Pouco acima da Praça, localiza-se a Catedral Metropolitana de Florianópolis. Construída entre 1753 e 1773 em estilo neoclássico, ela é tombada pelo Instituto do Patrimônio Histórico e Artístico Nacional, sendo aberta à visitação e cujos horários das missas e celebrações podem ser conferidos em seu site. Não deixe de visitar a Catedral Metropolitana! Foto: Carlos Colonetti Neto 2.Passeios em Florianópolis: Memorial Miramar, Alfândega e Mercado Público Saindo da Praça XV e indo na direção oposta à da Catedral, você chegará ao Memorial Miramar, que marca o local onde ficava o píer de desembarque de passageiros, no início do Século XX, antes de ser realizado o aterro da Baía Sul.   \n",
       "..                                                                                                                                                                                                                                                                                                                                                                                                                                                                                                                                                                                                                                                                                                                                                                                                                                                                                                                                                                                                                                                                                                                                                                                                                                                                                                                                                                        ...   \n",
       "235                                                                                                                                                                                                                                                                                                                                                                                                                                                                                                                                Classificação geral A classificação geral se dá pela pontuação das partidas das Taças Guanabara e Rio, excluindo-se as semifinais e finais destes turnos:[13] o campeão Estadual, ocupara a 1ª posição o vice-campeão (caso exista um disputa final do Campeonato), a 2ª posição as demais equipes que disputarem a fase principal, ocuparão da 3ª (e a 2ª, no caso de haver disputa da final) a 12ª posições, conforme a pontuação e aplicando-se os critérios de desempate as equipes que disputarem a fase especial, conforme os grupos X e Z, da 13ª a 16ª posições Taça Independência A equipe mais bem classificada — com exceção dos quatro grandes clubes (Botafogo, Flamengo, Fluminense e Vasco da Gama) — será declarada campeã da \"Taça Independência\" e terá assegurada uma vaga na Copa do Brasil de 2021.[13] Torneio Extra   \n",
       "236  Os três primeiros colocados ganharam o direito de disputar a Copa do Brasil de 2017. Caso algum clube se classifique para a Copa Libertadores da América de 2017, a vaga será repassada ao 4º colocado e assim por diante. Além disso, os dois clubes mais bem classificados que não pertençam a nenhuma divisão do Campeonato Brasileiro terão vaga na Série D de 2016. Doze clubes disputarão essas duas vagas na quarta divisão nacional.[2] A quantidade de times rebaixados foi maior que nas edições anteriores: os seis times que somaram menos pontos na primeira fase foram rebaixados, independentemente dos grupos em que jogaram. Em 2016, apenas dois times da Série A2 terão acesso à Série A1 de 2017, que será disputada por dezesseis clubes. Critérios de desempate Caso houvesse empate de pontos entre dois clubes, os critérios de desempates seriam aplicados na seguinte ordem: 1. Número de vitórias 2. Saldo de gols 3. Gols marcados 4. Número de cartões vermelhos 5. Número de cartões amarelos 6. Sorteio Equipes participantes Equipe Cidade Em 2015 Estádio Capacidade Títulos Esporte Clube Água Santa Diadema 4º (A2) Distrital do Inamar[3] 10 000 0 Grêmio Osasco Audax Osasco 9° José Liberatti 17 430 0 Botafogo Futebol Clube Ribeirão Preto 7º Santa Cruz 29 292 0 Capivariano Futebol Clube Capivari 14º Arena Capivari 19 000 0   \n",
       "237         As 54 vagas destinadas aos clubes mais bem colocados em seus campeonatos estaduais foram divididas entre as 27 federações de acordo com os pontos de seus clubes no ranking da CBF. Os cinco primeiros colocados (São Paulo, Rio de Janeiro, Rio Grande do Sul, Minas Gerais e Paraná) tiveram direito a três vagas; os classificados entre o 6º e 22º lugar tiveram direito a duas vagas; e os cinco últimos colocados (Acre, Rondônia, Tocantins, Amapá e Roraima) tiveram direito a apenas uma vaga. Normalmente, as equipes mais bem classificadas nos campeonatos estaduais ficam com as vagas daquela federação. Porém, algumas federações realizam torneios especiais, como a Taça Minas Gerais ou a Copa Paulista em São Paulo, Copa Federação Gaucha de Futebol e outras, para classificarem um representante para a Copa do Brasil. UF Clube Forma de Classificação Acre Juventus Campeão do Estadual 2009 Alagoas ASA Campeão do Estadual 2009 Corinthians Alagoano Vice-campeão do Estadual 2009 Amapá São José Campeão do Estadual 2009 Amazonas América Campeão do Estadual 2009 Nacional Vice-campeão do Estadual 2009 Bahia Vitória Campeão do Estadual 2009 Bahia Vice-campeão do Estadual 2009 Ceará Fortaleza Campeão do Estadual 2009 Ceará Vice-campeão do Estadual 2009 Distrito Federal Brasiliense Campeão do Metropolitano 2009 Brasília   \n",
       "238                      Gol fora de casa na Copa do Brasil não é mais critério de desempate; veja o regulamento | Goal.com Gol fora de casa na Copa do Brasil não é mais critério de desempate; veja o regulamento Redação Goal 20 de out. de 2021 19:46-07:00 0:00 Copa do Brasil São Paulo Boavista Cianorte 4 de Julho Palmeiras Flamengo Bahia Red Bull Bragantino Athletico PR Chapecoense Vila Nova-GO Vasco da Gama Atlético-MG Internacional Fortaleza Grêmio Corinthians Fluminense Santos Ceará Brasiliense A exemplo das duas edições anteriores, torneio mata-mata não tem o chamado gol qualificado como critério de desempate em 2021 O gol marcado fora de casa, também conhecido como gol qualificado, não é critério de desempate na Copa do Brasil, conforme previsto no novo regulamento elaborado pela Confederação Brasileira de Futebol. Futebol ao vivo ou quando quiser? Clique aqui e teste o DAZN grátis por um mês! Desta maneira, se a soma dos placares dos jogos de ida e volta do torneio termina empatada, a definição do classificado (ou do campeão, no caso da final) sai na disputa de pênaltis. Isso vale inclusive na atual fase de semifinais da edição 2021. Escolha dos editores São Paulo acerta venda de Marquinhos ao Arsenal; veja detalhes da negociação Inter prepara oferta de R$ 15 milhões ao Corinthians por Bruno Méndez   \n",
       "239                                                                                                    Atualmente, participam da Libertadores o atual campeão da competição, o campeão da Copa Sul-Americana e o campeão nacional dos países participantes. As outras equipes classificadas são definidas por meio dos critérios determinados pelas confederações de cada país, mas, em geral, são os primeiros colocados dos campeonatos nacionais. As equipes da Guiana, Guiana Francesa e Suriname, embora estejam localizadas na América do Sul, não participam da Libertadores porque são filiadas à Confederação de Futebol da América do Norte, Central e Caribe (Concacaf). No Brasil, classificam-se o campeão da Copa do Brasil e os seis primeiros colocados do Campeonato Brasileiro da Série A. Se o campeão da Copa do Brasil estiver entre os seis primeiros da Série A, o sétimo colocado do Brasileirão também entra na Libertadores. Caso o campeão da Libertadores ou da Sul-Americana seja um time brasileiro, a competição não tira uma vaga do país campeão. Sendo assim, o Brasil pode chegar a ter até nove representantes na Libertadores. Confira o número de vagas oficiais de cada país na Libertadores: País N.º de Vagas Brasil 7 Argentina 6 Bolívia 4 Chile 4 Colômbia 4 Equador 4 Paraguai 4 Peru 4 Uruguai 4 Venezuela 4 Formato de disputa   \n",
       "\n",
       "                      passage_id  score  \\\n",
       "0    clueweb22-pt0001-14-16263_0      2   \n",
       "1    clueweb22-pt0000-27-16948_2      2   \n",
       "2    clueweb22-pt0001-14-16263_2      0   \n",
       "3    clueweb22-pt0001-31-10534_0      0   \n",
       "4    clueweb22-pt0000-44-08794_4      2   \n",
       "..                           ...    ...   \n",
       "235  clueweb22-pt0000-88-05704_6      1   \n",
       "236  clueweb22-pt0000-57-17300_3      2   \n",
       "237  clueweb22-pt0000-56-10959_2      2   \n",
       "238  clueweb22-pt0000-57-08731_0      0   \n",
       "239  clueweb22-pt0001-58-12700_6      0   \n",
       "\n",
       "                                                                                                                                                                                                                                                                                                                                                                                           reasoning  \\\n",
       "0                                                                                                                                                                                                               A passagem responde claramente e de forma completa à pergunta, indicando que a Praça XV de Novembro está localizada no bairro do Centro, na Zona Central da cidade do Rio de Janeiro   \n",
       "1                                                                                                                                                                                                                                                                                                   A passagem indica que a Praça XV de Novembro está localizada em Pomerode, Santa Catarina, Brasil   \n",
       "2                                                                                                                                                                                                                                                                                                              A passagem não fornece informações sobre a localização atual da Praça XV de Novembro.   \n",
       "3                                                                                                                                                                                                                                   A passagem não responde à pergunta. Ela fornece informações sobre a Rua XV de Novembro em Joinville, SC, mas não menciona a localização da Praça XV de Novembro.   \n",
       "4                                                                                                                                                                                                                                                                                     A passagem responde claramente que a Praça XV de Novembro está localizada no centro da cidade de Florianópolis   \n",
       "..                                                                                                                                                                                                                                                                                                                                                                                               ...   \n",
       "235                                                             A passagem responde parcialmente à pergunta, indicando que a equipe mais bem classificada, com exceção dos quatro grandes clubes, será declarada campeã da 'Taça Independência' e terá assegurada uma vaga na Copa do Brasil de 2021. No entanto, não fornece detalhes sobre outros critérios de classificação para a Copa do Brasil   \n",
       "236                                                                                                                                                                                                                                                                   A passagem responde à pergunta indicando que os três primeiros colocados ganham o direito de disputar a Copa do Brasil de 2017   \n",
       "237  A passagem responde à pergunta de forma clara e completa, explicando que as vagas são destinadas aos clubes mais bem colocados em seus campeonatos estaduais e que são divididas entre as federações de acordo com os pontos de seus clubes no ranking da CBF. Além disso, menciona que algumas federações realizam torneios especiais para classificar um representante para a Copa do Brasil.   \n",
       "238                                                                                                                                                                                                       A passagem não responde à pergunta sobre o critério para classificação para a Copa do Brasil. Ela apenas menciona que o gol fora de casa não é mais um critério de desempate na competição   \n",
       "239                                                                                                                                                                                                                                          A passagem não responde à pergunta. Ela explica os critérios de classificação para a Libertadores, mas não menciona os critérios para a Copa do Brasil.   \n",
       "\n",
       "                                                                       usage  \\\n",
       "0     {'prompt_tokens': 1040, 'completion_tokens': 56, 'total_tokens': 1096}   \n",
       "1     {'prompt_tokens': 1056, 'completion_tokens': 37, 'total_tokens': 1093}   \n",
       "2     {'prompt_tokens': 1077, 'completion_tokens': 31, 'total_tokens': 1108}   \n",
       "3     {'prompt_tokens': 1084, 'completion_tokens': 55, 'total_tokens': 1139}   \n",
       "4       {'prompt_tokens': 945, 'completion_tokens': 39, 'total_tokens': 984}   \n",
       "..                                                                       ...   \n",
       "235     {'prompt_tokens': 893, 'completion_tokens': 99, 'total_tokens': 992}   \n",
       "236   {'prompt_tokens': 1070, 'completion_tokens': 44, 'total_tokens': 1114}   \n",
       "237  {'prompt_tokens': 1047, 'completion_tokens': 104, 'total_tokens': 1151}   \n",
       "238   {'prompt_tokens': 1021, 'completion_tokens': 59, 'total_tokens': 1080}   \n",
       "239    {'prompt_tokens': 986, 'completion_tokens': 50, 'total_tokens': 1036}   \n",
       "\n",
       "        cost  duration  02_score  \n",
       "0   0.034560  3.822135         1  \n",
       "1   0.033900  3.115484         1  \n",
       "2   0.034170  2.358308         0  \n",
       "3   0.035820  3.553138         0  \n",
       "4   0.030690  3.096509         1  \n",
       "..       ...       ...       ...  \n",
       "235 0.032730  6.903746         0  \n",
       "236 0.034740  3.024766         1  \n",
       "237 0.037650  6.311922         1  \n",
       "238 0.034170  4.792235         0  \n",
       "239 0.032580  3.996787         0  \n",
       "\n",
       "[240 rows x 10 columns]"
      ]
     },
     "execution_count": 28,
     "metadata": {},
     "output_type": "execute_result"
    }
   ],
   "source": [
    "gpt4_03_score_2_9_df = pd.concat([gpt4_1st_03_score_2_9_df, gpt4_2nd_03_score_2_9_df], axis=0).reset_index(drop=True)\n",
    "\n",
    "gpt4_03_score_2_9_df"
   ]
  },
  {
   "cell_type": "code",
   "execution_count": 29,
   "id": "79358294",
   "metadata": {},
   "outputs": [],
   "source": [
    "gpt4_03_score_2_9_df.to_csv(os.path.join(ANNOTATIONS_FOLDER, \"gpt_4_evaluations_240_samples_prompt_v2.9.tsv\"), sep='\\t', index=False)"
   ]
  },
  {
   "cell_type": "code",
   "execution_count": null,
   "id": "6f99050c",
   "metadata": {},
   "outputs": [],
   "source": []
  },
  {
   "cell_type": "code",
   "execution_count": 72,
   "id": "e0950182",
   "metadata": {
    "scrolled": true
   },
   "outputs": [
    {
     "data": {
      "text/html": [
       "<div>\n",
       "<style scoped>\n",
       "    .dataframe tbody tr th:only-of-type {\n",
       "        vertical-align: middle;\n",
       "    }\n",
       "\n",
       "    .dataframe tbody tr th {\n",
       "        vertical-align: top;\n",
       "    }\n",
       "\n",
       "    .dataframe thead th {\n",
       "        text-align: right;\n",
       "    }\n",
       "</style>\n",
       "<table border=\"1\" class=\"dataframe\">\n",
       "  <thead>\n",
       "    <tr style=\"text-align: right;\">\n",
       "      <th></th>\n",
       "      <th>doccano_id</th>\n",
       "      <th>query</th>\n",
       "      <th>passage</th>\n",
       "      <th>passage_id</th>\n",
       "      <th>score</th>\n",
       "      <th>reasoning</th>\n",
       "      <th>usage</th>\n",
       "      <th>cost</th>\n",
       "      <th>duration</th>\n",
       "      <th>02_score</th>\n",
       "    </tr>\n",
       "  </thead>\n",
       "  <tbody>\n",
       "    <tr>\n",
       "      <th>0</th>\n",
       "      <td>4101</td>\n",
       "      <td>Onde está localizada a Praça XV de Novembro?</td>\n",
       "      <td>Praça XV (Rio de Janeiro) – Wikipédia, a enciclopédia livre [ocultar] 5 línguas Praça XV (Rio de Janeiro) Origem: Wikipédia, a enciclopédia livre. Coordenadas: 22° 54′ 10″ S, 43° 10′ 24″ W Nota: Este artigo é sobre a praça da cidade do Rio de Janeiro. Para praças de outros lugares, veja Praça XV de Novembro. Esta página cita fontes, mas estas não cobrem todo o conteúdo. Ajude a inserir referências. Conteúdo não verificável poderá ser removido .— Encontre fontes: Google (notícias, livros e acadêmico)(Maio de 2019) A praça e as edificações das imediações. Trecho do Elevado da Perimetral que passava sobre a praça, em 2011. A Praça XV, também conhecida como Praça XV de Novembro, Praça Quinze de Novembro ou Praça Quinze, é uma praça situada no bairro do Centro, na Zona Central da cidade do Rio de Janeiro. Além de estar localizada na Rua Primeiro de Março, a praça integra a Orla Conde, um passeio público que margeia a Baía de Guanabara . A praça, que existe desde o século XVI, foi reinaugurada no dia 29 de maio de 2016 após ser revitalizada.[1] A revitalização da praça foi feita durante a gestão do prefeito Eduardo Paes no âmbito do Porto Maravilha, uma operação urbana que visa revitalizar a Zona Portuária do Rio de Janeiro.</td>\n",
       "      <td>clueweb22-pt0001-14-16263_0</td>\n",
       "      <td>3</td>\n",
       "      <td>A passagem fornece uma resposta clara e direta à pergunta, indicando que a Praça XV de Novembro está localizada no bairro do Centro, na Zona Central da cidade do Rio de Janeiro. Além disso, a passagem fornece informações adicionais relevantes, como a rua em que a praça está localizada (Rua Primeiro de Março) e que a praça integra a Orla Conde, um passeio público que margeia a Baía de Guanabara.</td>\n",
       "      <td>{'prompt_tokens': 824, 'completion_tokens': 127, 'total_tokens': 951}</td>\n",
       "      <td>0.032340</td>\n",
       "      <td>9.277456</td>\n",
       "      <td>1</td>\n",
       "    </tr>\n",
       "    <tr>\n",
       "      <th>1</th>\n",
       "      <td>4102</td>\n",
       "      <td>Onde está localizada a Praça XV de Novembro?</td>\n",
       "      <td>Rua XV de Novembro, 818 Centro, Pomerode, Santa Catarina 89107-000 Brasil Tela cheia O melhor por perto Restaurantes 100 dentro de 5 km Tarthurel Pizzaria 317 56 m $$ - $$$ • Italiana • Pizza Restaurante Torten Paradies 1.409 0.5 km $$ - $$$ • Docerias • Alemã • Brasileira Mon Cheri Bistro @ Casa Romena 106 0.7 km $$ - $$$ • Mediterrânea • Saudável • Leste europeia Veja tudo Atrações 24 dentro de 10 km Praça Jorge Lacerda 58 0.1 km Pontos de interesse Parque Municipal de Eventos 25 0.3 km Centros de convenção Parque Educativo Vila Encantada 1.057 0.9 km Parques Veja tudo Contribua Faça uma avaliação Carregue uma foto Avaliações Mais recente 4.5 722 avaliações Excelente 379 Muito boa 266 Razoável 68 Ruim 9 Horrível 1 Thais Leme, SP 161 contribuições Parada obrigatória para fotos mar de 2022 Quando eu via as fotos achava que era bem maior. O portal é muito bonito e tem um centro e informações turísticas. Estava no período da Osterfest, então estava todo com a decoração de Páscoa. Feita em 29 de abril de 2022 Esta avaliação representa a opinião subjetiva de um membro do Tripadvisor, e não da TripAdvisor LLC. daninoguei São Paulo, SP 2.143 contribuições MUITAS PESSOAS PARA TIRAR FOTOS mar de 2022 Portal turístico da cidade, local de parada para fotos com a representação da arquitetura local.</td>\n",
       "      <td>clueweb22-pt0000-27-16948_2</td>\n",
       "      <td>0</td>\n",
       "      <td>A passagem não fornece informações sobre a localização da Praça XV de Novembro. A passagem menciona a Rua XV de Novembro, mas não a praça.</td>\n",
       "      <td>{'prompt_tokens': 840, 'completion_tokens': 52, 'total_tokens': 892}</td>\n",
       "      <td>0.028320</td>\n",
       "      <td>4.544968</td>\n",
       "      <td>0</td>\n",
       "    </tr>\n",
       "    <tr>\n",
       "      <th>2</th>\n",
       "      <td>4103</td>\n",
       "      <td>Onde está localizada a Praça XV de Novembro?</td>\n",
       "      <td>A praça recebeu esse nome por homenagear o dia 15 de novembro de 1889, marcado pela Proclamação da República do Brasil. Nesse dia, foi instaurada a república federativa presidencialista no Brasil, em substituição à monarquia constitucional parlamentarista em vigor desde 1822. Índice 1 História 1.1 Período colonial 1.2 Século XIX 1.3 Século XX 1.4 Século XXI 2 Esculturas e Monumentos 2.1 Chafariz do Mestre Valentim 2.2 Estátua Equestre de Dom João VI 2.3 Estátua Equestre do General Osório 2.4 Estátua do Almirante Negro 2.5 Piskate 3 Transportes 3.1 Modais de transporte público 3.2 Elevado da Perimetral 3.3 Mergulhão da Praça XV 4 Pontos de interesse 5 Feiras 5.1 Feira de Antiguidades 5.2 Feirarte 6 Ver também 7 Referências 7.1 Bibliografia 8 Ligações externas História Período colonial Chafariz do Mestre Valentim, situado no centro da praça. A Praça XV hoje está localizada na região conhecida, nos primórdios da ocupação das terras da cidade, como Praia da Piaçaba. O local já teve diversas denominações: Largo do Terreiro da Polé;[4]Largo do Carmo;[5]Praça do Carmo; Terreiro do Paço; e Largo do Paço. Do século XVI até meados da década de 1770, com a construção do Cais do Valongo, o logradouro foi o principal ponto de desembarque de escravizados africanos na cidade.[6]</td>\n",
       "      <td>clueweb22-pt0001-14-16263_2</td>\n",
       "      <td>0</td>\n",
       "      <td>A passagem não fornece informações sobre a localização atual da Praça XV de Novembro. Embora mencione a história e o significado do nome da praça, não especifica em qual cidade ou região ela está localizada.</td>\n",
       "      <td>{'prompt_tokens': 861, 'completion_tokens': 64, 'total_tokens': 925}</td>\n",
       "      <td>0.029670</td>\n",
       "      <td>5.857727</td>\n",
       "      <td>0</td>\n",
       "    </tr>\n",
       "    <tr>\n",
       "      <th>3</th>\n",
       "      <td>4104</td>\n",
       "      <td>Onde está localizada a Praça XV de Novembro?</td>\n",
       "      <td>Rua Xv de Novembro, Joinville - SC Rua Xv de Novembro, Joinville - SC Distrito: JOINVILLE Subdistrito: JOINVILLE Bairro(s): América / Glória / Vila Nova CEPs encontrados: 89201602 / 89216200 / 89216000 / 89237001 / 89237002 / 89237000 / 89237701 Total de endereços encontrados: 474 Domicílios particulares: 301 Domícilios coletivos: 4 Estabelecimentos agropecuários: 3 Estabelecimentos de ensino: 3 Estabelecimentos de saúde: 6 Estabelecimentos de outras finalidades (comercial, religioso, outros): 152 Edificações em construção: 5 Quantidade estimada de moradores nesse logradouro: 903 Rendimento médio estimado de moradores nesse logradouro: R$ 2.109,11 Visualizar os dados sintetizados de Joinville Cadastre uma nova empresa nessa rua Estabelecimentos de ensino ESCOLA ESTADUAL Rua Xv de Novembro, 0SN, Joinville - SC ESCOLA MUNICIPAL Rua Xv de Novembro, 7030, Joinville - SC ESCOLA MUNICIPAL BERNARDO TANK Rua Xv de Novembro, 8574, Joinville - SC Estabelecimentos de saúde POSTO DE SAUDE Rua Xv de Novembro, 0SN, Joinville - SC CLINICA DE UROLOGIA Rua Xv de Novembro, 1098, Joinville - SC CLINICA Rua Xv de Novembro, 1156, Joinville - SC CONSULTORIO ODONTOLOGICO Rua Xv de Novembro, 1565 - CASA FRENTE, Joinville - SC CONULTORIO ODONTOLOGICO Rua Xv de Novembro, 7276 - LOJA, Joinville - SC</td>\n",
       "      <td>clueweb22-pt0001-31-10534_0</td>\n",
       "      <td>0</td>\n",
       "      <td>A passagem fornece informações sobre a Rua XV de Novembro em Joinville - SC, mas não responde à pergunta sobre a localização da Praça XV de Novembro.</td>\n",
       "      <td>{'prompt_tokens': 868, 'completion_tokens': 53, 'total_tokens': 921}</td>\n",
       "      <td>0.029220</td>\n",
       "      <td>6.968609</td>\n",
       "      <td>0</td>\n",
       "    </tr>\n",
       "    <tr>\n",
       "      <th>4</th>\n",
       "      <td>4105</td>\n",
       "      <td>Onde está localizada a Praça XV de Novembro?</td>\n",
       "      <td>No local onde Floripa foi inicialmente chamada de Nossa Senhora do Desterro, foi fundada, bem no centro da cidade, a Praça XV de Novembro e sua famosa e centenária figueira. Palco de diversas manifestações políticas e culturais, atualmente é um oásis verde no meio da cidade, ótimo para relaxar e participar dos diversos eventos que acontecem ao longo do ano. Pouco acima da Praça, localiza-se a Catedral Metropolitana de Florianópolis. Construída entre 1753 e 1773 em estilo neoclássico, ela é tombada pelo Instituto do Patrimônio Histórico e Artístico Nacional, sendo aberta à visitação e cujos horários das missas e celebrações podem ser conferidos em seu site. Não deixe de visitar a Catedral Metropolitana! Foto: Carlos Colonetti Neto 2.Passeios em Florianópolis: Memorial Miramar, Alfândega e Mercado Público Saindo da Praça XV e indo na direção oposta à da Catedral, você chegará ao Memorial Miramar, que marca o local onde ficava o píer de desembarque de passageiros, no início do Século XX, antes de ser realizado o aterro da Baía Sul.</td>\n",
       "      <td>clueweb22-pt0000-44-08794_4</td>\n",
       "      <td>3</td>\n",
       "      <td>A passagem responde perfeitamente à pergunta, indicando que a Praça XV de Novembro está localizada no centro da cidade de Florianópolis, onde a cidade foi inicialmente chamada de Nossa Senhora do Desterro. Não há informações desnecessárias ou confusas que possam atrapalhar a compreensão da resposta.</td>\n",
       "      <td>{'prompt_tokens': 729, 'completion_tokens': 92, 'total_tokens': 821}</td>\n",
       "      <td>0.027390</td>\n",
       "      <td>7.568819</td>\n",
       "      <td>1</td>\n",
       "    </tr>\n",
       "    <tr>\n",
       "      <th>...</th>\n",
       "      <td>...</td>\n",
       "      <td>...</td>\n",
       "      <td>...</td>\n",
       "      <td>...</td>\n",
       "      <td>...</td>\n",
       "      <td>...</td>\n",
       "      <td>...</td>\n",
       "      <td>...</td>\n",
       "      <td>...</td>\n",
       "      <td>...</td>\n",
       "    </tr>\n",
       "    <tr>\n",
       "      <th>235</th>\n",
       "      <td>4336</td>\n",
       "      <td>Qual o critério para classificação para a Copa do Brasil?</td>\n",
       "      <td>Classificação geral A classificação geral se dá pela pontuação das partidas das Taças Guanabara e Rio, excluindo-se as semifinais e finais destes turnos:[13] o campeão Estadual, ocupara a 1ª posição o vice-campeão (caso exista um disputa final do Campeonato), a 2ª posição as demais equipes que disputarem a fase principal, ocuparão da 3ª (e a 2ª, no caso de haver disputa da final) a 12ª posições, conforme a pontuação e aplicando-se os critérios de desempate as equipes que disputarem a fase especial, conforme os grupos X e Z, da 13ª a 16ª posições Taça Independência A equipe mais bem classificada — com exceção dos quatro grandes clubes (Botafogo, Flamengo, Fluminense e Vasco da Gama) — será declarada campeã da \"Taça Independência\" e terá assegurada uma vaga na Copa do Brasil de 2021.[13] Torneio Extra</td>\n",
       "      <td>clueweb22-pt0000-88-05704_6</td>\n",
       "      <td>3</td>\n",
       "      <td>A passagem fornece uma resposta clara à pergunta, indicando que a equipe mais bem classificada, com exceção dos quatro grandes clubes, será declarada campeã da 'Taça Independência' e terá assegurada uma vaga na Copa do Brasil.</td>\n",
       "      <td>{'prompt_tokens': 677, 'completion_tokens': 76, 'total_tokens': 753}</td>\n",
       "      <td>0.024870</td>\n",
       "      <td>9.088650</td>\n",
       "      <td>1</td>\n",
       "    </tr>\n",
       "    <tr>\n",
       "      <th>236</th>\n",
       "      <td>4337</td>\n",
       "      <td>Qual o critério para classificação para a Copa do Brasil?</td>\n",
       "      <td>Os três primeiros colocados ganharam o direito de disputar a Copa do Brasil de 2017. Caso algum clube se classifique para a Copa Libertadores da América de 2017, a vaga será repassada ao 4º colocado e assim por diante. Além disso, os dois clubes mais bem classificados que não pertençam a nenhuma divisão do Campeonato Brasileiro terão vaga na Série D de 2016. Doze clubes disputarão essas duas vagas na quarta divisão nacional.[2] A quantidade de times rebaixados foi maior que nas edições anteriores: os seis times que somaram menos pontos na primeira fase foram rebaixados, independentemente dos grupos em que jogaram. Em 2016, apenas dois times da Série A2 terão acesso à Série A1 de 2017, que será disputada por dezesseis clubes. Critérios de desempate Caso houvesse empate de pontos entre dois clubes, os critérios de desempates seriam aplicados na seguinte ordem: 1. Número de vitórias 2. Saldo de gols 3. Gols marcados 4. Número de cartões vermelhos 5. Número de cartões amarelos 6. Sorteio Equipes participantes Equipe Cidade Em 2015 Estádio Capacidade Títulos Esporte Clube Água Santa Diadema 4º (A2) Distrital do Inamar[3] 10 000 0 Grêmio Osasco Audax Osasco 9° José Liberatti 17 430 0 Botafogo Futebol Clube Ribeirão Preto 7º Santa Cruz 29 292 0 Capivariano Futebol Clube Capivari 14º Arena Capivari 19 000 0</td>\n",
       "      <td>clueweb22-pt0000-57-17300_3</td>\n",
       "      <td>3</td>\n",
       "      <td>A passagem fornece informações claras e diretas sobre o critério de classificação para a Copa do Brasil. Os três primeiros colocados ganham o direito de disputar a Copa do Brasil de 2017. Se algum clube se classificar para a Copa Libertadores da América de 2017, a vaga será repassada ao 4º colocado e assim por diante.</td>\n",
       "      <td>{'prompt_tokens': 854, 'completion_tokens': 100, 'total_tokens': 954}</td>\n",
       "      <td>0.031620</td>\n",
       "      <td>13.181029</td>\n",
       "      <td>1</td>\n",
       "    </tr>\n",
       "    <tr>\n",
       "      <th>237</th>\n",
       "      <td>4338</td>\n",
       "      <td>Qual o critério para classificação para a Copa do Brasil?</td>\n",
       "      <td>As 54 vagas destinadas aos clubes mais bem colocados em seus campeonatos estaduais foram divididas entre as 27 federações de acordo com os pontos de seus clubes no ranking da CBF. Os cinco primeiros colocados (São Paulo, Rio de Janeiro, Rio Grande do Sul, Minas Gerais e Paraná) tiveram direito a três vagas; os classificados entre o 6º e 22º lugar tiveram direito a duas vagas; e os cinco últimos colocados (Acre, Rondônia, Tocantins, Amapá e Roraima) tiveram direito a apenas uma vaga. Normalmente, as equipes mais bem classificadas nos campeonatos estaduais ficam com as vagas daquela federação. Porém, algumas federações realizam torneios especiais, como a Taça Minas Gerais ou a Copa Paulista em São Paulo, Copa Federação Gaucha de Futebol e outras, para classificarem um representante para a Copa do Brasil. UF Clube Forma de Classificação Acre Juventus Campeão do Estadual 2009 Alagoas ASA Campeão do Estadual 2009 Corinthians Alagoano Vice-campeão do Estadual 2009 Amapá São José Campeão do Estadual 2009 Amazonas América Campeão do Estadual 2009 Nacional Vice-campeão do Estadual 2009 Bahia Vitória Campeão do Estadual 2009 Bahia Vice-campeão do Estadual 2009 Ceará Fortaleza Campeão do Estadual 2009 Ceará Vice-campeão do Estadual 2009 Distrito Federal Brasiliense Campeão do Metropolitano 2009 Brasília</td>\n",
       "      <td>clueweb22-pt0000-56-10959_2</td>\n",
       "      <td>3</td>\n",
       "      <td>A passagem responde à pergunta de forma adequada, explicando que as vagas para a Copa do Brasil são distribuídas com base na classificação dos clubes em seus respectivos campeonatos estaduais. Além disso, detalha como as vagas são distribuídas entre as federações e menciona que algumas federações realizam torneios especiais para classificar um representante para a Copa do Brasil.</td>\n",
       "      <td>{'prompt_tokens': 831, 'completion_tokens': 106, 'total_tokens': 937}</td>\n",
       "      <td>0.031290</td>\n",
       "      <td>11.899545</td>\n",
       "      <td>1</td>\n",
       "    </tr>\n",
       "    <tr>\n",
       "      <th>238</th>\n",
       "      <td>4339</td>\n",
       "      <td>Qual o critério para classificação para a Copa do Brasil?</td>\n",
       "      <td>Gol fora de casa na Copa do Brasil não é mais critério de desempate; veja o regulamento | Goal.com Gol fora de casa na Copa do Brasil não é mais critério de desempate; veja o regulamento Redação Goal 20 de out. de 2021 19:46-07:00 0:00 Copa do Brasil São Paulo Boavista Cianorte 4 de Julho Palmeiras Flamengo Bahia Red Bull Bragantino Athletico PR Chapecoense Vila Nova-GO Vasco da Gama Atlético-MG Internacional Fortaleza Grêmio Corinthians Fluminense Santos Ceará Brasiliense A exemplo das duas edições anteriores, torneio mata-mata não tem o chamado gol qualificado como critério de desempate em 2021 O gol marcado fora de casa, também conhecido como gol qualificado, não é critério de desempate na Copa do Brasil, conforme previsto no novo regulamento elaborado pela Confederação Brasileira de Futebol. Futebol ao vivo ou quando quiser? Clique aqui e teste o DAZN grátis por um mês! Desta maneira, se a soma dos placares dos jogos de ida e volta do torneio termina empatada, a definição do classificado (ou do campeão, no caso da final) sai na disputa de pênaltis. Isso vale inclusive na atual fase de semifinais da edição 2021. Escolha dos editores São Paulo acerta venda de Marquinhos ao Arsenal; veja detalhes da negociação Inter prepara oferta de R$ 15 milhões ao Corinthians por Bruno Méndez</td>\n",
       "      <td>clueweb22-pt0000-57-08731_0</td>\n",
       "      <td>1</td>\n",
       "      <td>A passagem fornece informações relevantes sobre o critério de desempate na Copa do Brasil, mas não aborda todos os critérios para a classificação para a Copa do Brasil. A passagem menciona que o gol fora de casa não é mais um critério de desempate e que, em caso de empate na soma dos placares dos jogos de ida e volta, a definição do classificado sai na disputa de pênaltis. No entanto, a passagem não fornece informações sobre outros critérios de classificação, como a pontuação na fase de grupos ou a classificação na liga nacional.</td>\n",
       "      <td>{'prompt_tokens': 805, 'completion_tokens': 154, 'total_tokens': 959}</td>\n",
       "      <td>0.033390</td>\n",
       "      <td>20.540073</td>\n",
       "      <td>0</td>\n",
       "    </tr>\n",
       "    <tr>\n",
       "      <th>239</th>\n",
       "      <td>4340</td>\n",
       "      <td>Qual o critério para classificação para a Copa do Brasil?</td>\n",
       "      <td>Atualmente, participam da Libertadores o atual campeão da competição, o campeão da Copa Sul-Americana e o campeão nacional dos países participantes. As outras equipes classificadas são definidas por meio dos critérios determinados pelas confederações de cada país, mas, em geral, são os primeiros colocados dos campeonatos nacionais. As equipes da Guiana, Guiana Francesa e Suriname, embora estejam localizadas na América do Sul, não participam da Libertadores porque são filiadas à Confederação de Futebol da América do Norte, Central e Caribe (Concacaf). No Brasil, classificam-se o campeão da Copa do Brasil e os seis primeiros colocados do Campeonato Brasileiro da Série A. Se o campeão da Copa do Brasil estiver entre os seis primeiros da Série A, o sétimo colocado do Brasileirão também entra na Libertadores. Caso o campeão da Libertadores ou da Sul-Americana seja um time brasileiro, a competição não tira uma vaga do país campeão. Sendo assim, o Brasil pode chegar a ter até nove representantes na Libertadores. Confira o número de vagas oficiais de cada país na Libertadores: País N.º de Vagas Brasil 7 Argentina 6 Bolívia 4 Chile 4 Colômbia 4 Equador 4 Paraguai 4 Peru 4 Uruguai 4 Venezuela 4 Formato de disputa</td>\n",
       "      <td>clueweb22-pt0001-58-12700_6</td>\n",
       "      <td>0</td>\n",
       "      <td>A passagem não fornece nenhuma informação sobre os critérios de classificação para a Copa do Brasil. Ela apenas menciona que o campeão da Copa do Brasil se classifica para a Libertadores.</td>\n",
       "      <td>{'prompt_tokens': 770, 'completion_tokens': 61, 'total_tokens': 831}</td>\n",
       "      <td>0.026760</td>\n",
       "      <td>6.071606</td>\n",
       "      <td>0</td>\n",
       "    </tr>\n",
       "  </tbody>\n",
       "</table>\n",
       "<p>240 rows × 10 columns</p>\n",
       "</div>"
      ],
      "text/plain": [
       "     doccano_id                                                      query  \\\n",
       "0          4101               Onde está localizada a Praça XV de Novembro?   \n",
       "1          4102               Onde está localizada a Praça XV de Novembro?   \n",
       "2          4103               Onde está localizada a Praça XV de Novembro?   \n",
       "3          4104               Onde está localizada a Praça XV de Novembro?   \n",
       "4          4105               Onde está localizada a Praça XV de Novembro?   \n",
       "..          ...                                                        ...   \n",
       "235        4336  Qual o critério para classificação para a Copa do Brasil?   \n",
       "236        4337  Qual o critério para classificação para a Copa do Brasil?   \n",
       "237        4338  Qual o critério para classificação para a Copa do Brasil?   \n",
       "238        4339  Qual o critério para classificação para a Copa do Brasil?   \n",
       "239        4340  Qual o critério para classificação para a Copa do Brasil?   \n",
       "\n",
       "                                                                                                                                                                                                                                                                                                                                                                                                                                                                                                                                                                                                                                                                                                                                                                                                                                                                                                                                                                                                                                                                                                                                                                                                                                                                                                                                                                      passage  \\\n",
       "0                                                                                      Praça XV (Rio de Janeiro) – Wikipédia, a enciclopédia livre [ocultar] 5 línguas Praça XV (Rio de Janeiro) Origem: Wikipédia, a enciclopédia livre. Coordenadas: 22° 54′ 10″ S, 43° 10′ 24″ W Nota: Este artigo é sobre a praça da cidade do Rio de Janeiro. Para praças de outros lugares, veja Praça XV de Novembro. Esta página cita fontes, mas estas não cobrem todo o conteúdo. Ajude a inserir referências. Conteúdo não verificável poderá ser removido .— Encontre fontes: Google (notícias, livros e acadêmico)(Maio de 2019) A praça e as edificações das imediações. Trecho do Elevado da Perimetral que passava sobre a praça, em 2011. A Praça XV, também conhecida como Praça XV de Novembro, Praça Quinze de Novembro ou Praça Quinze, é uma praça situada no bairro do Centro, na Zona Central da cidade do Rio de Janeiro. Além de estar localizada na Rua Primeiro de Março, a praça integra a Orla Conde, um passeio público que margeia a Baía de Guanabara . A praça, que existe desde o século XVI, foi reinaugurada no dia 29 de maio de 2016 após ser revitalizada.[1] A revitalização da praça foi feita durante a gestão do prefeito Eduardo Paes no âmbito do Porto Maravilha, uma operação urbana que visa revitalizar a Zona Portuária do Rio de Janeiro.   \n",
       "1                Rua XV de Novembro, 818 Centro, Pomerode, Santa Catarina 89107-000 Brasil Tela cheia O melhor por perto Restaurantes 100 dentro de 5 km Tarthurel Pizzaria 317 56 m $$ - $$$ • Italiana • Pizza Restaurante Torten Paradies 1.409 0.5 km $$ - $$$ • Docerias • Alemã • Brasileira Mon Cheri Bistro @ Casa Romena 106 0.7 km $$ - $$$ • Mediterrânea • Saudável • Leste europeia Veja tudo Atrações 24 dentro de 10 km Praça Jorge Lacerda 58 0.1 km Pontos de interesse Parque Municipal de Eventos 25 0.3 km Centros de convenção Parque Educativo Vila Encantada 1.057 0.9 km Parques Veja tudo Contribua Faça uma avaliação Carregue uma foto Avaliações Mais recente 4.5 722 avaliações Excelente 379 Muito boa 266 Razoável 68 Ruim 9 Horrível 1 Thais Leme, SP 161 contribuições Parada obrigatória para fotos mar de 2022 Quando eu via as fotos achava que era bem maior. O portal é muito bonito e tem um centro e informações turísticas. Estava no período da Osterfest, então estava todo com a decoração de Páscoa. Feita em 29 de abril de 2022 Esta avaliação representa a opinião subjetiva de um membro do Tripadvisor, e não da TripAdvisor LLC. daninoguei São Paulo, SP 2.143 contribuições MUITAS PESSOAS PARA TIRAR FOTOS mar de 2022 Portal turístico da cidade, local de parada para fotos com a representação da arquitetura local.   \n",
       "2                                        A praça recebeu esse nome por homenagear o dia 15 de novembro de 1889, marcado pela Proclamação da República do Brasil. Nesse dia, foi instaurada a república federativa presidencialista no Brasil, em substituição à monarquia constitucional parlamentarista em vigor desde 1822. Índice 1 História 1.1 Período colonial 1.2 Século XIX 1.3 Século XX 1.4 Século XXI 2 Esculturas e Monumentos 2.1 Chafariz do Mestre Valentim 2.2 Estátua Equestre de Dom João VI 2.3 Estátua Equestre do General Osório 2.4 Estátua do Almirante Negro 2.5 Piskate 3 Transportes 3.1 Modais de transporte público 3.2 Elevado da Perimetral 3.3 Mergulhão da Praça XV 4 Pontos de interesse 5 Feiras 5.1 Feira de Antiguidades 5.2 Feirarte 6 Ver também 7 Referências 7.1 Bibliografia 8 Ligações externas História Período colonial Chafariz do Mestre Valentim, situado no centro da praça. A Praça XV hoje está localizada na região conhecida, nos primórdios da ocupação das terras da cidade, como Praia da Piaçaba. O local já teve diversas denominações: Largo do Terreiro da Polé;[4]Largo do Carmo;[5]Praça do Carmo; Terreiro do Paço; e Largo do Paço. Do século XVI até meados da década de 1770, com a construção do Cais do Valongo, o logradouro foi o principal ponto de desembarque de escravizados africanos na cidade.[6]   \n",
       "3                               Rua Xv de Novembro, Joinville - SC Rua Xv de Novembro, Joinville - SC Distrito: JOINVILLE Subdistrito: JOINVILLE Bairro(s): América / Glória / Vila Nova CEPs encontrados: 89201602 / 89216200 / 89216000 / 89237001 / 89237002 / 89237000 / 89237701 Total de endereços encontrados: 474 Domicílios particulares: 301 Domícilios coletivos: 4 Estabelecimentos agropecuários: 3 Estabelecimentos de ensino: 3 Estabelecimentos de saúde: 6 Estabelecimentos de outras finalidades (comercial, religioso, outros): 152 Edificações em construção: 5 Quantidade estimada de moradores nesse logradouro: 903 Rendimento médio estimado de moradores nesse logradouro: R$ 2.109,11 Visualizar os dados sintetizados de Joinville Cadastre uma nova empresa nessa rua Estabelecimentos de ensino ESCOLA ESTADUAL Rua Xv de Novembro, 0SN, Joinville - SC ESCOLA MUNICIPAL Rua Xv de Novembro, 7030, Joinville - SC ESCOLA MUNICIPAL BERNARDO TANK Rua Xv de Novembro, 8574, Joinville - SC Estabelecimentos de saúde POSTO DE SAUDE Rua Xv de Novembro, 0SN, Joinville - SC CLINICA DE UROLOGIA Rua Xv de Novembro, 1098, Joinville - SC CLINICA Rua Xv de Novembro, 1156, Joinville - SC CONSULTORIO ODONTOLOGICO Rua Xv de Novembro, 1565 - CASA FRENTE, Joinville - SC CONULTORIO ODONTOLOGICO Rua Xv de Novembro, 7276 - LOJA, Joinville - SC   \n",
       "4                                                                                                                                                                                                                                                                                        No local onde Floripa foi inicialmente chamada de Nossa Senhora do Desterro, foi fundada, bem no centro da cidade, a Praça XV de Novembro e sua famosa e centenária figueira. Palco de diversas manifestações políticas e culturais, atualmente é um oásis verde no meio da cidade, ótimo para relaxar e participar dos diversos eventos que acontecem ao longo do ano. Pouco acima da Praça, localiza-se a Catedral Metropolitana de Florianópolis. Construída entre 1753 e 1773 em estilo neoclássico, ela é tombada pelo Instituto do Patrimônio Histórico e Artístico Nacional, sendo aberta à visitação e cujos horários das missas e celebrações podem ser conferidos em seu site. Não deixe de visitar a Catedral Metropolitana! Foto: Carlos Colonetti Neto 2.Passeios em Florianópolis: Memorial Miramar, Alfândega e Mercado Público Saindo da Praça XV e indo na direção oposta à da Catedral, você chegará ao Memorial Miramar, que marca o local onde ficava o píer de desembarque de passageiros, no início do Século XX, antes de ser realizado o aterro da Baía Sul.   \n",
       "..                                                                                                                                                                                                                                                                                                                                                                                                                                                                                                                                                                                                                                                                                                                                                                                                                                                                                                                                                                                                                                                                                                                                                                                                                                                                                                                                                                        ...   \n",
       "235                                                                                                                                                                                                                                                                                                                                                                                                                                                                                                                                Classificação geral A classificação geral se dá pela pontuação das partidas das Taças Guanabara e Rio, excluindo-se as semifinais e finais destes turnos:[13] o campeão Estadual, ocupara a 1ª posição o vice-campeão (caso exista um disputa final do Campeonato), a 2ª posição as demais equipes que disputarem a fase principal, ocuparão da 3ª (e a 2ª, no caso de haver disputa da final) a 12ª posições, conforme a pontuação e aplicando-se os critérios de desempate as equipes que disputarem a fase especial, conforme os grupos X e Z, da 13ª a 16ª posições Taça Independência A equipe mais bem classificada — com exceção dos quatro grandes clubes (Botafogo, Flamengo, Fluminense e Vasco da Gama) — será declarada campeã da \"Taça Independência\" e terá assegurada uma vaga na Copa do Brasil de 2021.[13] Torneio Extra   \n",
       "236  Os três primeiros colocados ganharam o direito de disputar a Copa do Brasil de 2017. Caso algum clube se classifique para a Copa Libertadores da América de 2017, a vaga será repassada ao 4º colocado e assim por diante. Além disso, os dois clubes mais bem classificados que não pertençam a nenhuma divisão do Campeonato Brasileiro terão vaga na Série D de 2016. Doze clubes disputarão essas duas vagas na quarta divisão nacional.[2] A quantidade de times rebaixados foi maior que nas edições anteriores: os seis times que somaram menos pontos na primeira fase foram rebaixados, independentemente dos grupos em que jogaram. Em 2016, apenas dois times da Série A2 terão acesso à Série A1 de 2017, que será disputada por dezesseis clubes. Critérios de desempate Caso houvesse empate de pontos entre dois clubes, os critérios de desempates seriam aplicados na seguinte ordem: 1. Número de vitórias 2. Saldo de gols 3. Gols marcados 4. Número de cartões vermelhos 5. Número de cartões amarelos 6. Sorteio Equipes participantes Equipe Cidade Em 2015 Estádio Capacidade Títulos Esporte Clube Água Santa Diadema 4º (A2) Distrital do Inamar[3] 10 000 0 Grêmio Osasco Audax Osasco 9° José Liberatti 17 430 0 Botafogo Futebol Clube Ribeirão Preto 7º Santa Cruz 29 292 0 Capivariano Futebol Clube Capivari 14º Arena Capivari 19 000 0   \n",
       "237         As 54 vagas destinadas aos clubes mais bem colocados em seus campeonatos estaduais foram divididas entre as 27 federações de acordo com os pontos de seus clubes no ranking da CBF. Os cinco primeiros colocados (São Paulo, Rio de Janeiro, Rio Grande do Sul, Minas Gerais e Paraná) tiveram direito a três vagas; os classificados entre o 6º e 22º lugar tiveram direito a duas vagas; e os cinco últimos colocados (Acre, Rondônia, Tocantins, Amapá e Roraima) tiveram direito a apenas uma vaga. Normalmente, as equipes mais bem classificadas nos campeonatos estaduais ficam com as vagas daquela federação. Porém, algumas federações realizam torneios especiais, como a Taça Minas Gerais ou a Copa Paulista em São Paulo, Copa Federação Gaucha de Futebol e outras, para classificarem um representante para a Copa do Brasil. UF Clube Forma de Classificação Acre Juventus Campeão do Estadual 2009 Alagoas ASA Campeão do Estadual 2009 Corinthians Alagoano Vice-campeão do Estadual 2009 Amapá São José Campeão do Estadual 2009 Amazonas América Campeão do Estadual 2009 Nacional Vice-campeão do Estadual 2009 Bahia Vitória Campeão do Estadual 2009 Bahia Vice-campeão do Estadual 2009 Ceará Fortaleza Campeão do Estadual 2009 Ceará Vice-campeão do Estadual 2009 Distrito Federal Brasiliense Campeão do Metropolitano 2009 Brasília   \n",
       "238                      Gol fora de casa na Copa do Brasil não é mais critério de desempate; veja o regulamento | Goal.com Gol fora de casa na Copa do Brasil não é mais critério de desempate; veja o regulamento Redação Goal 20 de out. de 2021 19:46-07:00 0:00 Copa do Brasil São Paulo Boavista Cianorte 4 de Julho Palmeiras Flamengo Bahia Red Bull Bragantino Athletico PR Chapecoense Vila Nova-GO Vasco da Gama Atlético-MG Internacional Fortaleza Grêmio Corinthians Fluminense Santos Ceará Brasiliense A exemplo das duas edições anteriores, torneio mata-mata não tem o chamado gol qualificado como critério de desempate em 2021 O gol marcado fora de casa, também conhecido como gol qualificado, não é critério de desempate na Copa do Brasil, conforme previsto no novo regulamento elaborado pela Confederação Brasileira de Futebol. Futebol ao vivo ou quando quiser? Clique aqui e teste o DAZN grátis por um mês! Desta maneira, se a soma dos placares dos jogos de ida e volta do torneio termina empatada, a definição do classificado (ou do campeão, no caso da final) sai na disputa de pênaltis. Isso vale inclusive na atual fase de semifinais da edição 2021. Escolha dos editores São Paulo acerta venda de Marquinhos ao Arsenal; veja detalhes da negociação Inter prepara oferta de R$ 15 milhões ao Corinthians por Bruno Méndez   \n",
       "239                                                                                                    Atualmente, participam da Libertadores o atual campeão da competição, o campeão da Copa Sul-Americana e o campeão nacional dos países participantes. As outras equipes classificadas são definidas por meio dos critérios determinados pelas confederações de cada país, mas, em geral, são os primeiros colocados dos campeonatos nacionais. As equipes da Guiana, Guiana Francesa e Suriname, embora estejam localizadas na América do Sul, não participam da Libertadores porque são filiadas à Confederação de Futebol da América do Norte, Central e Caribe (Concacaf). No Brasil, classificam-se o campeão da Copa do Brasil e os seis primeiros colocados do Campeonato Brasileiro da Série A. Se o campeão da Copa do Brasil estiver entre os seis primeiros da Série A, o sétimo colocado do Brasileirão também entra na Libertadores. Caso o campeão da Libertadores ou da Sul-Americana seja um time brasileiro, a competição não tira uma vaga do país campeão. Sendo assim, o Brasil pode chegar a ter até nove representantes na Libertadores. Confira o número de vagas oficiais de cada país na Libertadores: País N.º de Vagas Brasil 7 Argentina 6 Bolívia 4 Chile 4 Colômbia 4 Equador 4 Paraguai 4 Peru 4 Uruguai 4 Venezuela 4 Formato de disputa   \n",
       "\n",
       "                      passage_id  score  \\\n",
       "0    clueweb22-pt0001-14-16263_0      3   \n",
       "1    clueweb22-pt0000-27-16948_2      0   \n",
       "2    clueweb22-pt0001-14-16263_2      0   \n",
       "3    clueweb22-pt0001-31-10534_0      0   \n",
       "4    clueweb22-pt0000-44-08794_4      3   \n",
       "..                           ...    ...   \n",
       "235  clueweb22-pt0000-88-05704_6      3   \n",
       "236  clueweb22-pt0000-57-17300_3      3   \n",
       "237  clueweb22-pt0000-56-10959_2      3   \n",
       "238  clueweb22-pt0000-57-08731_0      1   \n",
       "239  clueweb22-pt0001-58-12700_6      0   \n",
       "\n",
       "                                                                                                                                                                                                                                                                                                                                                                                                                                                                                                                                                   reasoning  \\\n",
       "0                                                                                                                                              A passagem fornece uma resposta clara e direta à pergunta, indicando que a Praça XV de Novembro está localizada no bairro do Centro, na Zona Central da cidade do Rio de Janeiro. Além disso, a passagem fornece informações adicionais relevantes, como a rua em que a praça está localizada (Rua Primeiro de Março) e que a praça integra a Orla Conde, um passeio público que margeia a Baía de Guanabara.   \n",
       "1                                                                                                                                                                                                                                                                                                                                                                                                                 A passagem não fornece informações sobre a localização da Praça XV de Novembro. A passagem menciona a Rua XV de Novembro, mas não a praça.   \n",
       "2                                                                                                                                                                                                                                                                                                                                            A passagem não fornece informações sobre a localização atual da Praça XV de Novembro. Embora mencione a história e o significado do nome da praça, não especifica em qual cidade ou região ela está localizada.   \n",
       "3                                                                                                                                                                                                                                                                                                                                                                                                      A passagem fornece informações sobre a Rua XV de Novembro em Joinville - SC, mas não responde à pergunta sobre a localização da Praça XV de Novembro.   \n",
       "4                                                                                                                                                                                                                                               A passagem responde perfeitamente à pergunta, indicando que a Praça XV de Novembro está localizada no centro da cidade de Florianópolis, onde a cidade foi inicialmente chamada de Nossa Senhora do Desterro. Não há informações desnecessárias ou confusas que possam atrapalhar a compreensão da resposta.   \n",
       "..                                                                                                                                                                                                                                                                                                                                                                                                                                                                                                                                                       ...   \n",
       "235                                                                                                                                                                                                                                                                                                                       A passagem fornece uma resposta clara à pergunta, indicando que a equipe mais bem classificada, com exceção dos quatro grandes clubes, será declarada campeã da 'Taça Independência' e terá assegurada uma vaga na Copa do Brasil.   \n",
       "236                                                                                                                                                                                                                          A passagem fornece informações claras e diretas sobre o critério de classificação para a Copa do Brasil. Os três primeiros colocados ganham o direito de disputar a Copa do Brasil de 2017. Se algum clube se classificar para a Copa Libertadores da América de 2017, a vaga será repassada ao 4º colocado e assim por diante.   \n",
       "237                                                                                                                                                           A passagem responde à pergunta de forma adequada, explicando que as vagas para a Copa do Brasil são distribuídas com base na classificação dos clubes em seus respectivos campeonatos estaduais. Além disso, detalha como as vagas são distribuídas entre as federações e menciona que algumas federações realizam torneios especiais para classificar um representante para a Copa do Brasil.   \n",
       "238  A passagem fornece informações relevantes sobre o critério de desempate na Copa do Brasil, mas não aborda todos os critérios para a classificação para a Copa do Brasil. A passagem menciona que o gol fora de casa não é mais um critério de desempate e que, em caso de empate na soma dos placares dos jogos de ida e volta, a definição do classificado sai na disputa de pênaltis. No entanto, a passagem não fornece informações sobre outros critérios de classificação, como a pontuação na fase de grupos ou a classificação na liga nacional.   \n",
       "239                                                                                                                                                                                                                                                                                                                                                              A passagem não fornece nenhuma informação sobre os critérios de classificação para a Copa do Brasil. Ela apenas menciona que o campeão da Copa do Brasil se classifica para a Libertadores.   \n",
       "\n",
       "                                                                     usage  \\\n",
       "0    {'prompt_tokens': 824, 'completion_tokens': 127, 'total_tokens': 951}   \n",
       "1     {'prompt_tokens': 840, 'completion_tokens': 52, 'total_tokens': 892}   \n",
       "2     {'prompt_tokens': 861, 'completion_tokens': 64, 'total_tokens': 925}   \n",
       "3     {'prompt_tokens': 868, 'completion_tokens': 53, 'total_tokens': 921}   \n",
       "4     {'prompt_tokens': 729, 'completion_tokens': 92, 'total_tokens': 821}   \n",
       "..                                                                     ...   \n",
       "235   {'prompt_tokens': 677, 'completion_tokens': 76, 'total_tokens': 753}   \n",
       "236  {'prompt_tokens': 854, 'completion_tokens': 100, 'total_tokens': 954}   \n",
       "237  {'prompt_tokens': 831, 'completion_tokens': 106, 'total_tokens': 937}   \n",
       "238  {'prompt_tokens': 805, 'completion_tokens': 154, 'total_tokens': 959}   \n",
       "239   {'prompt_tokens': 770, 'completion_tokens': 61, 'total_tokens': 831}   \n",
       "\n",
       "        cost  duration  02_score  \n",
       "0   0.032340  9.277456         1  \n",
       "1   0.028320  4.544968         0  \n",
       "2   0.029670  5.857727         0  \n",
       "3   0.029220  6.968609         0  \n",
       "4   0.027390  7.568819         1  \n",
       "..       ...       ...       ...  \n",
       "235 0.024870  9.088650         1  \n",
       "236 0.031620 13.181029         1  \n",
       "237 0.031290 11.899545         1  \n",
       "238 0.033390 20.540073         0  \n",
       "239 0.026760  6.071606         0  \n",
       "\n",
       "[240 rows x 10 columns]"
      ]
     },
     "execution_count": 72,
     "metadata": {},
     "output_type": "execute_result"
    }
   ],
   "source": [
    "gpt4_cot_2_6_df = pd.concat([gpt4_1st_cot_2_6_df, gpt4_2nd_cot_2_6_df], axis=0).reset_index(drop=True)\n",
    "\n",
    "gpt4_cot_2_6_df"
   ]
  },
  {
   "cell_type": "code",
   "execution_count": 73,
   "id": "a6fba90f",
   "metadata": {},
   "outputs": [],
   "source": [
    "gpt4_cot_2_6_df.to_csv(os.path.join(ANNOTATIONS_FOLDER, \"gpt_4_evaluations_240_samples_prompt_v2.6.tsv\"), sep='\\t', index=False)"
   ]
  },
  {
   "cell_type": "code",
   "execution_count": null,
   "id": "fca6be2c",
   "metadata": {},
   "outputs": [],
   "source": []
  },
  {
   "cell_type": "code",
   "execution_count": null,
   "id": "c2e6dbf9",
   "metadata": {},
   "outputs": [],
   "source": []
  },
  {
   "cell_type": "code",
   "execution_count": null,
   "id": "8ef19fae",
   "metadata": {},
   "outputs": [],
   "source": []
  },
  {
   "cell_type": "code",
   "execution_count": 74,
   "id": "ac022c6d",
   "metadata": {},
   "outputs": [
    {
     "data": {
      "text/plain": [
       "True"
      ]
     },
     "execution_count": 74,
     "metadata": {},
     "output_type": "execute_result"
    }
   ],
   "source": [
    "np.all(gpt4_cot_2_6_df['doccano_id'] == a3_df['doccano_id'])"
   ]
  },
  {
   "cell_type": "code",
   "execution_count": null,
   "id": "53004be0",
   "metadata": {},
   "outputs": [],
   "source": []
  },
  {
   "cell_type": "markdown",
   "id": "a9bd80a7",
   "metadata": {},
   "source": [
    "# Check general agreement per annotator / LLM generation"
   ]
  },
  {
   "cell_type": "code",
   "execution_count": null,
   "id": "7b8b6669",
   "metadata": {},
   "outputs": [],
   "source": [
    "print(cohen_kappa_score(a1_df['score'], a2_df['score']))\n",
    "print(cohen_kappa_score(a1_df['score'], a3_df['score']))\n",
    "print(cohen_kappa_score(a2_df['score'], a3_df['score']))"
   ]
  },
  {
   "cell_type": "code",
   "execution_count": null,
   "id": "d73854bd",
   "metadata": {},
   "outputs": [],
   "source": [
    "print(cohen_kappa_score(a1_df['score'], gpt4_df['score']))\n",
    "print(cohen_kappa_score(a2_df['score'], gpt4_df['score']))\n",
    "print(cohen_kappa_score(a3_df['score'], gpt4_df['score']))"
   ]
  },
  {
   "cell_type": "code",
   "execution_count": null,
   "id": "968a9a3a",
   "metadata": {},
   "outputs": [],
   "source": [
    "print(cohen_kappa_score(a1_df['03_score'], gpt4_df['03_score']))\n",
    "print(cohen_kappa_score(a2_df['03_score'], gpt4_df['03_score']))\n",
    "print(cohen_kappa_score(a3_df['03_score'], gpt4_df['03_score']))"
   ]
  },
  {
   "cell_type": "markdown",
   "id": "d8c88069",
   "metadata": {},
   "source": [
    "### Put the results in a single table"
   ]
  },
  {
   "cell_type": "code",
   "execution_count": null,
   "id": "c1a2ecae",
   "metadata": {},
   "outputs": [],
   "source": [
    "general_agreement_df = pd.DataFrame()"
   ]
  },
  {
   "cell_type": "code",
   "execution_count": null,
   "id": "7ea01f41",
   "metadata": {},
   "outputs": [],
   "source": [
    "general_agreement_df['comparisson'] = ['a1', 'a2', 'a3']"
   ]
  },
  {
   "cell_type": "code",
   "execution_count": null,
   "id": "19405314",
   "metadata": {},
   "outputs": [],
   "source": [
    "general_agreement_df['a1'] = [\"\", \n",
    "                              cohen_kappa_score(a1_df['score'], a2_df['score']), \n",
    "                              cohen_kappa_score(a1_df['score'], a3_df['score'])]\n",
    "\n",
    "general_agreement_df['a2'] = [cohen_kappa_score(a1_df['score'], a2_df['score']), \n",
    "                              \"\", \n",
    "                              cohen_kappa_score(a2_df['score'], a3_df['score'])]\n",
    "\n",
    "general_agreement_df['a3'] = [cohen_kappa_score(a1_df['score'], a3_df['score']), \n",
    "                              cohen_kappa_score(a2_df['score'], a3_df['score']), \n",
    "                              \"\"]\n",
    "\n",
    "general_agreement_df['GPT4'] = [cohen_kappa_score(a1_df['score'], gpt4_df['score']), \n",
    "                                cohen_kappa_score(a2_df['score'], gpt4_df['score']), \n",
    "                                cohen_kappa_score(a3_df['score'], gpt4_df['score'])]"
   ]
  },
  {
   "cell_type": "code",
   "execution_count": null,
   "id": "9bd1c8bb",
   "metadata": {},
   "outputs": [],
   "source": [
    "general_agreement_df"
   ]
  },
  {
   "cell_type": "code",
   "execution_count": null,
   "id": "10311364",
   "metadata": {},
   "outputs": [],
   "source": []
  },
  {
   "cell_type": "code",
   "execution_count": 62,
   "id": "5036f539",
   "metadata": {},
   "outputs": [],
   "source": [
    "general_agreement_03_score_df = pd.DataFrame()"
   ]
  },
  {
   "cell_type": "code",
   "execution_count": 63,
   "id": "f6e16e3d",
   "metadata": {},
   "outputs": [],
   "source": [
    "general_agreement_03_score_df['comparisson'] = ['a1 03 score', 'a2 03 score', 'a3 03 score']"
   ]
  },
  {
   "cell_type": "code",
   "execution_count": 65,
   "id": "c31d9086",
   "metadata": {},
   "outputs": [],
   "source": [
    "general_agreement_03_score_df['a1 03 score'] = [\"\", cohen_kappa_score(a1_df['03_score'], a2_df['03_score']), cohen_kappa_score(a1_df['03_score'], a3_df['03_score'])]\n",
    "general_agreement_03_score_df['a2 03 score'] = [cohen_kappa_score(a1_df['03_score'], a2_df['03_score']), \"\", cohen_kappa_score(a2_df['03_score'], a3_df['03_score'])]\n",
    "general_agreement_03_score_df['a3 03 score'] = [cohen_kappa_score(a1_df['03_score'], a3_df['03_score']), cohen_kappa_score(a2_df['03_score'], a3_df['03_score']), \"\"]\n",
    "\n",
    "general_agreement_03_score_df['GPT4 03 score'] = [cohen_kappa_score(a1_df['03_score'], gpt4_df['03_score']), \n",
    "                                                  cohen_kappa_score(a2_df['03_score'], gpt4_df['03_score']), \n",
    "                                                  cohen_kappa_score(a3_df['03_score'], gpt4_df['03_score'])]\n",
    "\n",
    "general_agreement_03_score_df['GPT4 2nd 03 score reduced'] = [cohen_kappa_score(a1_df.iloc[120:240]['03_score'], gpt4_df.iloc[120:240]['03_score']), \n",
    "                                                              cohen_kappa_score(a2_df.iloc[120:240]['03_score'], gpt4_df.iloc[120:240]['03_score']), \n",
    "                                                              cohen_kappa_score(a3_df.iloc[120:240]['03_score'], gpt4_df.iloc[120:240]['03_score'])]\n",
    "\n",
    "general_agreement_03_score_df['GPT4 2nd 03 score predicted 2.7'] = [cohen_kappa_score(a1_df.iloc[120:240]['03_score'], gpt4_2nd_03_score_2_7_df['score']), \n",
    "                                                                    cohen_kappa_score(a2_df.iloc[120:240]['03_score'], gpt4_2nd_03_score_2_7_df['score']), \n",
    "                                                                    cohen_kappa_score(a3_df.iloc[120:240]['03_score'], gpt4_2nd_03_score_2_7_df['score'])]\n",
    "\n",
    "general_agreement_03_score_df['GPT4 2nd 03 score predicted 2.8'] = [cohen_kappa_score(a1_df.iloc[120:240]['03_score'], gpt4_2nd_03_score_2_8_df['score']), \n",
    "                                                                    cohen_kappa_score(a2_df.iloc[120:240]['03_score'], gpt4_2nd_03_score_2_8_df['score']), \n",
    "                                                                    cohen_kappa_score(a3_df.iloc[120:240]['03_score'], gpt4_2nd_03_score_2_8_df['score'])]\n",
    "\n",
    "general_agreement_03_score_df['GPT4 2nd 03 score predicted 2.9'] = [cohen_kappa_score(a1_df.iloc[120:240]['03_score'], gpt4_2nd_03_score_2_9_df['score']), \n",
    "                                                                    cohen_kappa_score(a2_df.iloc[120:240]['03_score'], gpt4_2nd_03_score_2_9_df['score']), \n",
    "                                                                    cohen_kappa_score(a3_df.iloc[120:240]['03_score'], gpt4_2nd_03_score_2_9_df['score'])]"
   ]
  },
  {
   "cell_type": "code",
   "execution_count": 66,
   "id": "362d9449",
   "metadata": {},
   "outputs": [
    {
     "data": {
      "text/html": [
       "<div>\n",
       "<style scoped>\n",
       "    .dataframe tbody tr th:only-of-type {\n",
       "        vertical-align: middle;\n",
       "    }\n",
       "\n",
       "    .dataframe tbody tr th {\n",
       "        vertical-align: top;\n",
       "    }\n",
       "\n",
       "    .dataframe thead th {\n",
       "        text-align: right;\n",
       "    }\n",
       "</style>\n",
       "<table border=\"1\" class=\"dataframe\">\n",
       "  <thead>\n",
       "    <tr style=\"text-align: right;\">\n",
       "      <th></th>\n",
       "      <th>comparisson</th>\n",
       "      <th>a1 03 score</th>\n",
       "      <th>a2 03 score</th>\n",
       "      <th>a3 03 score</th>\n",
       "      <th>GPT4 03 score</th>\n",
       "      <th>GPT4 2nd 03 score reduced</th>\n",
       "      <th>GPT4 2nd 03 score predicted 2.7</th>\n",
       "      <th>GPT4 2nd 03 score predicted 2.8</th>\n",
       "      <th>GPT4 2nd 03 score predicted 2.9</th>\n",
       "    </tr>\n",
       "  </thead>\n",
       "  <tbody>\n",
       "    <tr>\n",
       "      <th>0</th>\n",
       "      <td>a1 03 score</td>\n",
       "      <td></td>\n",
       "      <td>0.462148</td>\n",
       "      <td>0.435904</td>\n",
       "      <td>0.364067</td>\n",
       "      <td>0.309821</td>\n",
       "      <td>0.230688</td>\n",
       "      <td>0.135827</td>\n",
       "      <td>0.259653</td>\n",
       "    </tr>\n",
       "    <tr>\n",
       "      <th>1</th>\n",
       "      <td>a2 03 score</td>\n",
       "      <td>0.462148</td>\n",
       "      <td></td>\n",
       "      <td>0.425263</td>\n",
       "      <td>0.353236</td>\n",
       "      <td>0.240262</td>\n",
       "      <td>0.175341</td>\n",
       "      <td>0.124684</td>\n",
       "      <td>0.210932</td>\n",
       "    </tr>\n",
       "    <tr>\n",
       "      <th>2</th>\n",
       "      <td>a3 03 score</td>\n",
       "      <td>0.435904</td>\n",
       "      <td>0.425263</td>\n",
       "      <td></td>\n",
       "      <td>0.433279</td>\n",
       "      <td>0.362584</td>\n",
       "      <td>0.305838</td>\n",
       "      <td>0.245915</td>\n",
       "      <td>0.305392</td>\n",
       "    </tr>\n",
       "  </tbody>\n",
       "</table>\n",
       "</div>"
      ],
      "text/plain": [
       "   comparisson a1 03 score a2 03 score a3 03 score  GPT4 03 score  \\\n",
       "0  a1 03 score                0.462148    0.435904       0.364067   \n",
       "1  a2 03 score    0.462148                0.425263       0.353236   \n",
       "2  a3 03 score    0.435904    0.425263                   0.433279   \n",
       "\n",
       "   GPT4 2nd 03 score reduced  GPT4 2nd 03 score predicted 2.7  \\\n",
       "0                   0.309821                         0.230688   \n",
       "1                   0.240262                         0.175341   \n",
       "2                   0.362584                         0.305838   \n",
       "\n",
       "   GPT4 2nd 03 score predicted 2.8  GPT4 2nd 03 score predicted 2.9  \n",
       "0                         0.135827                         0.259653  \n",
       "1                         0.124684                         0.210932  \n",
       "2                         0.245915                         0.305392  "
      ]
     },
     "execution_count": 66,
     "metadata": {},
     "output_type": "execute_result"
    }
   ],
   "source": [
    "general_agreement_03_score_df"
   ]
  },
  {
   "cell_type": "code",
   "execution_count": null,
   "id": "378088e2",
   "metadata": {},
   "outputs": [],
   "source": []
  },
  {
   "cell_type": "code",
   "execution_count": 67,
   "id": "efcec6e2",
   "metadata": {},
   "outputs": [
    {
     "data": {
      "text/plain": [
       "0.7964592388423619"
      ]
     },
     "execution_count": 67,
     "metadata": {},
     "output_type": "execute_result"
    }
   ],
   "source": [
    "cohen_kappa_score(gpt4_df.iloc[120:240]['03_score'], gpt4_2nd_03_score_2_9_df['score'])"
   ]
  },
  {
   "cell_type": "code",
   "execution_count": 68,
   "id": "2dbfaf35",
   "metadata": {},
   "outputs": [
    {
     "data": {
      "text/plain": [
       "0.7204870301746955"
      ]
     },
     "execution_count": 68,
     "metadata": {},
     "output_type": "execute_result"
    }
   ],
   "source": [
    "cohen_kappa_score(gpt4_df.iloc[120:240]['03_score'], gpt4_2nd_03_score_2_7_df['score'])"
   ]
  },
  {
   "cell_type": "code",
   "execution_count": 69,
   "id": "1270109b",
   "metadata": {},
   "outputs": [
    {
     "data": {
      "text/plain": [
       "0.550046870117696"
      ]
     },
     "execution_count": 69,
     "metadata": {},
     "output_type": "execute_result"
    }
   ],
   "source": [
    "cohen_kappa_score(gpt4_df.iloc[120:240]['03_score'], gpt4_2nd_03_score_2_8_df['score'])"
   ]
  },
  {
   "cell_type": "markdown",
   "id": "03c20230",
   "metadata": {},
   "source": [
    "### Check the classifications between the translated 3 score and the predicted 3 score"
   ]
  },
  {
   "cell_type": "code",
   "execution_count": null,
   "id": "4d4b62f9",
   "metadata": {},
   "outputs": [],
   "source": [
    "from sklearn.metrics import confusion_matrix"
   ]
  },
  {
   "cell_type": "code",
   "execution_count": null,
   "id": "0a622cae",
   "metadata": {},
   "outputs": [],
   "source": [
    "cohen_kappa_score(gpt4_df.iloc[120:240]['03_score'], gpt4_2nd_03_score_df['score'])"
   ]
  },
  {
   "cell_type": "code",
   "execution_count": null,
   "id": "97e2bec1",
   "metadata": {},
   "outputs": [],
   "source": [
    "cm_translated_versus_predicted = confusion_matrix(gpt4_df.iloc[120:240]['03_score'], gpt4_2nd_03_score_df['score'])"
   ]
  },
  {
   "cell_type": "code",
   "execution_count": null,
   "id": "13457b7d",
   "metadata": {},
   "outputs": [],
   "source": [
    "cm_translated_versus_predicted"
   ]
  },
  {
   "cell_type": "code",
   "execution_count": null,
   "id": "1bd3f40c",
   "metadata": {},
   "outputs": [],
   "source": [
    "np.sum(cm_translated_versus_predicted, axis=1)"
   ]
  },
  {
   "cell_type": "code",
   "execution_count": null,
   "id": "de608caf",
   "metadata": {},
   "outputs": [],
   "source": [
    "np.sum(cm_translated_versus_predicted, axis=0)"
   ]
  },
  {
   "cell_type": "code",
   "execution_count": null,
   "id": "cead4921",
   "metadata": {},
   "outputs": [],
   "source": [
    "np.unique(gpt4_df.iloc[120:240]['03_score'].to_numpy(), return_counts=True)"
   ]
  },
  {
   "cell_type": "code",
   "execution_count": null,
   "id": "eeae45a4",
   "metadata": {},
   "outputs": [],
   "source": [
    "cohen_kappa_score(gpt4_df.iloc[120:240]['03_score_2'], gpt4_2nd_03_score_df['score'])"
   ]
  },
  {
   "cell_type": "code",
   "execution_count": null,
   "id": "6ebe1230",
   "metadata": {},
   "outputs": [],
   "source": [
    "cm_translated2_versus_predicted = confusion_matrix(gpt4_df.iloc[120:240]['03_score_2'], gpt4_2nd_03_score_df['score'])"
   ]
  },
  {
   "cell_type": "code",
   "execution_count": null,
   "id": "efdc3564",
   "metadata": {},
   "outputs": [],
   "source": [
    "cm_translated2_versus_predicted"
   ]
  },
  {
   "cell_type": "code",
   "execution_count": null,
   "id": "c4768964",
   "metadata": {},
   "outputs": [],
   "source": [
    "np.sum(cm_translated2_versus_predicted, axis=1)"
   ]
  },
  {
   "cell_type": "code",
   "execution_count": null,
   "id": "8f15d6d8",
   "metadata": {},
   "outputs": [],
   "source": []
  },
  {
   "cell_type": "markdown",
   "id": "f90a2f20",
   "metadata": {},
   "source": [
    "### Which zeros the model predicted as 1 and 2?"
   ]
  },
  {
   "cell_type": "code",
   "execution_count": null,
   "id": "72acd38e",
   "metadata": {
    "scrolled": true
   },
   "outputs": [],
   "source": [
    "gpt4_2nd_03_score_df[(gpt4_df.iloc[120:240]['03_score'] == 0).reset_index(drop=True)]"
   ]
  },
  {
   "cell_type": "code",
   "execution_count": null,
   "id": "f4b77a1c",
   "metadata": {},
   "outputs": [],
   "source": []
  },
  {
   "cell_type": "markdown",
   "id": "69f90932",
   "metadata": {},
   "source": [
    "## Two score correlations"
   ]
  },
  {
   "cell_type": "code",
   "execution_count": 31,
   "id": "c9ad987f",
   "metadata": {},
   "outputs": [],
   "source": [
    "general_agreement_02_score_df = pd.DataFrame()\n",
    "\n",
    "general_agreement_02_score_df['comparisson'] = ['a1 02 score', 'a2 02 score', 'a3 02 score']"
   ]
  },
  {
   "cell_type": "code",
   "execution_count": 32,
   "id": "57f93ef5",
   "metadata": {},
   "outputs": [],
   "source": [
    "general_agreement_02_score_df['a1 02 score'] = [np.nan, cohen_kappa_score(a1_df['02_score'], a2_df['02_score']), cohen_kappa_score(a1_df['02_score'], a3_df['02_score'])]\n",
    "general_agreement_02_score_df['a2 02 score'] = [cohen_kappa_score(a1_df['02_score'], a2_df['02_score']), np.nan, cohen_kappa_score(a2_df['02_score'], a3_df['02_score'])]\n",
    "general_agreement_02_score_df['a3 02 score'] = [cohen_kappa_score(a1_df['02_score'], a3_df['02_score']), cohen_kappa_score(a2_df['02_score'], a3_df['02_score']), np.nan]\n",
    "\n",
    "general_agreement_02_score_df['GPT4 02 score'] = [cohen_kappa_score(a1_df['02_score'], gpt4_df['02_score']), \n",
    "                                                  cohen_kappa_score(a2_df['02_score'], gpt4_df['02_score']), \n",
    "                                                  cohen_kappa_score(a3_df['02_score'], gpt4_df['02_score'])]\n",
    "\n",
    "general_agreement_02_score_df['GPT4 2nd 02 score reduced'] = [cohen_kappa_score(a1_df.iloc[120:240]['02_score'], gpt4_df.iloc[120:240]['02_score']), \n",
    "                                                              cohen_kappa_score(a2_df.iloc[120:240]['02_score'], gpt4_df.iloc[120:240]['02_score']), \n",
    "                                                              cohen_kappa_score(a3_df.iloc[120:240]['02_score'], gpt4_df.iloc[120:240]['02_score'])]\n",
    "\n",
    "general_agreement_02_score_df['GPT4 2nd 02 score predicted 2.7'] = [cohen_kappa_score(a1_df.iloc[120:240]['02_score'], gpt4_2nd_03_score_2_7_df['02_score']), \n",
    "                                                                    cohen_kappa_score(a2_df.iloc[120:240]['02_score'], gpt4_2nd_03_score_2_7_df['02_score']), \n",
    "                                                                    cohen_kappa_score(a3_df.iloc[120:240]['02_score'], gpt4_2nd_03_score_2_7_df['02_score'])]\n",
    "\n",
    "general_agreement_02_score_df['GPT4 2nd 02 score predicted 2.8'] = [cohen_kappa_score(a1_df.iloc[120:240]['02_score'], gpt4_2nd_03_score_2_8_df['02_score']), \n",
    "                                                                    cohen_kappa_score(a2_df.iloc[120:240]['02_score'], gpt4_2nd_03_score_2_8_df['02_score']), \n",
    "                                                                    cohen_kappa_score(a3_df.iloc[120:240]['02_score'], gpt4_2nd_03_score_2_8_df['02_score'])]\n",
    "\n",
    "general_agreement_02_score_df['GPT4 2nd 02 score predicted 2.9'] = [cohen_kappa_score(a1_df.iloc[120:240]['02_score'], gpt4_2nd_03_score_2_9_df['02_score']), \n",
    "                                                                    cohen_kappa_score(a2_df.iloc[120:240]['02_score'], gpt4_2nd_03_score_2_9_df['02_score']), \n",
    "                                                                    cohen_kappa_score(a3_df.iloc[120:240]['02_score'], gpt4_2nd_03_score_2_9_df['02_score'])]\n",
    "\n",
    "general_agreement_02_score_df['GPT4 02 score predicted 2.7'] = [cohen_kappa_score(a1_df['02_score'], gpt4_03_score_2_7_df['02_score']), \n",
    "                                                                cohen_kappa_score(a2_df['02_score'], gpt4_03_score_2_7_df['02_score']), \n",
    "                                                                cohen_kappa_score(a3_df['02_score'], gpt4_03_score_2_7_df['02_score'])]\n",
    "\n",
    "general_agreement_02_score_df['GPT4 02 score predicted 2.9'] = [cohen_kappa_score(a1_df['02_score'], gpt4_03_score_2_9_df['02_score']), \n",
    "                                                                cohen_kappa_score(a2_df['02_score'], gpt4_03_score_2_9_df['02_score']), \n",
    "                                                                cohen_kappa_score(a3_df['02_score'], gpt4_03_score_2_9_df['02_score'])]"
   ]
  },
  {
   "cell_type": "code",
   "execution_count": 37,
   "id": "35d56ea7",
   "metadata": {},
   "outputs": [],
   "source": [
    "general_agreement_02_score_df['GPT4 2nd cot 2.6'] = [cohen_kappa_score(a1_df.iloc[120:240]['02_score'], gpt4_2nd_cot_2_6_df['02_score']), \n",
    "                                                     cohen_kappa_score(a2_df.iloc[120:240]['02_score'], gpt4_2nd_cot_2_6_df['02_score']), \n",
    "                                                     cohen_kappa_score(a3_df.iloc[120:240]['02_score'], gpt4_2nd_cot_2_6_df['02_score'])]\n"
   ]
  },
  {
   "cell_type": "code",
   "execution_count": 75,
   "id": "3c4f673f",
   "metadata": {},
   "outputs": [],
   "source": [
    "general_agreement_02_score_df['GPT4 cot 2.6'] = [cohen_kappa_score(a1_df['02_score'], gpt4_cot_2_6_df['02_score']), \n",
    "                                                 cohen_kappa_score(a2_df['02_score'], gpt4_cot_2_6_df['02_score']), \n",
    "                                                 cohen_kappa_score(a3_df['02_score'], gpt4_cot_2_6_df['02_score'])]\n"
   ]
  },
  {
   "cell_type": "code",
   "execution_count": 76,
   "id": "6d96b20c",
   "metadata": {},
   "outputs": [
    {
     "data": {
      "text/html": [
       "<div>\n",
       "<style scoped>\n",
       "    .dataframe tbody tr th:only-of-type {\n",
       "        vertical-align: middle;\n",
       "    }\n",
       "\n",
       "    .dataframe tbody tr th {\n",
       "        vertical-align: top;\n",
       "    }\n",
       "\n",
       "    .dataframe thead th {\n",
       "        text-align: right;\n",
       "    }\n",
       "</style>\n",
       "<table border=\"1\" class=\"dataframe\">\n",
       "  <thead>\n",
       "    <tr style=\"text-align: right;\">\n",
       "      <th></th>\n",
       "      <th>comparisson</th>\n",
       "      <th>a1 02 score</th>\n",
       "      <th>a2 02 score</th>\n",
       "      <th>a3 02 score</th>\n",
       "      <th>GPT4 02 score</th>\n",
       "      <th>GPT4 2nd 02 score reduced</th>\n",
       "      <th>GPT4 2nd 02 score predicted 2.7</th>\n",
       "      <th>GPT4 2nd 02 score predicted 2.8</th>\n",
       "      <th>GPT4 2nd 02 score predicted 2.9</th>\n",
       "      <th>GPT4 02 score predicted 2.7</th>\n",
       "      <th>GPT4 02 score predicted 2.9</th>\n",
       "      <th>GPT4 2nd cot 2.6</th>\n",
       "      <th>GPT4 cot 2.6</th>\n",
       "    </tr>\n",
       "  </thead>\n",
       "  <tbody>\n",
       "    <tr>\n",
       "      <th>0</th>\n",
       "      <td>a1 02 score</td>\n",
       "      <td>NaN</td>\n",
       "      <td>0.533333</td>\n",
       "      <td>0.558333</td>\n",
       "      <td>0.441667</td>\n",
       "      <td>0.466307</td>\n",
       "      <td>0.509859</td>\n",
       "      <td>0.481894</td>\n",
       "      <td>0.538462</td>\n",
       "      <td>0.450000</td>\n",
       "      <td>0.475000</td>\n",
       "      <td>0.535912</td>\n",
       "      <td>0.500000</td>\n",
       "    </tr>\n",
       "    <tr>\n",
       "      <th>1</th>\n",
       "      <td>a2 02 score</td>\n",
       "      <td>0.533333</td>\n",
       "      <td>NaN</td>\n",
       "      <td>0.551797</td>\n",
       "      <td>0.484144</td>\n",
       "      <td>0.361702</td>\n",
       "      <td>0.445378</td>\n",
       "      <td>0.382304</td>\n",
       "      <td>0.441624</td>\n",
       "      <td>0.381107</td>\n",
       "      <td>0.390987</td>\n",
       "      <td>0.435216</td>\n",
       "      <td>0.389271</td>\n",
       "    </tr>\n",
       "    <tr>\n",
       "      <th>2</th>\n",
       "      <td>a3 02 score</td>\n",
       "      <td>0.558333</td>\n",
       "      <td>0.551797</td>\n",
       "      <td>NaN</td>\n",
       "      <td>0.525926</td>\n",
       "      <td>0.504556</td>\n",
       "      <td>0.521978</td>\n",
       "      <td>0.550998</td>\n",
       "      <td>0.493464</td>\n",
       "      <td>0.471545</td>\n",
       "      <td>0.465046</td>\n",
       "      <td>0.497768</td>\n",
       "      <td>0.496907</td>\n",
       "    </tr>\n",
       "  </tbody>\n",
       "</table>\n",
       "</div>"
      ],
      "text/plain": [
       "   comparisson  a1 02 score  a2 02 score  a3 02 score  GPT4 02 score  \\\n",
       "0  a1 02 score          NaN     0.533333     0.558333       0.441667   \n",
       "1  a2 02 score     0.533333          NaN     0.551797       0.484144   \n",
       "2  a3 02 score     0.558333     0.551797          NaN       0.525926   \n",
       "\n",
       "   GPT4 2nd 02 score reduced  GPT4 2nd 02 score predicted 2.7  \\\n",
       "0                   0.466307                         0.509859   \n",
       "1                   0.361702                         0.445378   \n",
       "2                   0.504556                         0.521978   \n",
       "\n",
       "   GPT4 2nd 02 score predicted 2.8  GPT4 2nd 02 score predicted 2.9  \\\n",
       "0                         0.481894                         0.538462   \n",
       "1                         0.382304                         0.441624   \n",
       "2                         0.550998                         0.493464   \n",
       "\n",
       "   GPT4 02 score predicted 2.7  GPT4 02 score predicted 2.9  GPT4 2nd cot 2.6  \\\n",
       "0                     0.450000                     0.475000          0.535912   \n",
       "1                     0.381107                     0.390987          0.435216   \n",
       "2                     0.471545                     0.465046          0.497768   \n",
       "\n",
       "   GPT4 cot 2.6  \n",
       "0      0.500000  \n",
       "1      0.389271  \n",
       "2      0.496907  "
      ]
     },
     "execution_count": 76,
     "metadata": {},
     "output_type": "execute_result"
    }
   ],
   "source": [
    "general_agreement_02_score_df"
   ]
  },
  {
   "cell_type": "code",
   "execution_count": 77,
   "id": "9c78c4d7",
   "metadata": {},
   "outputs": [
    {
     "data": {
      "text/html": [
       "<div>\n",
       "<style scoped>\n",
       "    .dataframe tbody tr th:only-of-type {\n",
       "        vertical-align: middle;\n",
       "    }\n",
       "\n",
       "    .dataframe tbody tr th {\n",
       "        vertical-align: top;\n",
       "    }\n",
       "\n",
       "    .dataframe thead th {\n",
       "        text-align: right;\n",
       "    }\n",
       "</style>\n",
       "<table border=\"1\" class=\"dataframe\">\n",
       "  <thead>\n",
       "    <tr style=\"text-align: right;\">\n",
       "      <th></th>\n",
       "      <th>comparisson</th>\n",
       "      <th>a1 02 score</th>\n",
       "      <th>a2 02 score</th>\n",
       "      <th>a3 02 score</th>\n",
       "      <th>GPT4 02 score</th>\n",
       "      <th>GPT4 2nd 02 score reduced</th>\n",
       "      <th>GPT4 2nd 02 score predicted 2.7</th>\n",
       "      <th>GPT4 2nd 02 score predicted 2.8</th>\n",
       "      <th>GPT4 2nd 02 score predicted 2.9</th>\n",
       "      <th>GPT4 02 score predicted 2.7</th>\n",
       "      <th>GPT4 02 score predicted 2.9</th>\n",
       "      <th>GPT4 2nd cot 2.6</th>\n",
       "      <th>GPT4 cot 2.6</th>\n",
       "    </tr>\n",
       "  </thead>\n",
       "  <tbody>\n",
       "    <tr>\n",
       "      <th>0</th>\n",
       "      <td>a1 02 score</td>\n",
       "      <td>NaN</td>\n",
       "      <td>0.533333</td>\n",
       "      <td>0.558333</td>\n",
       "      <td>0.441667</td>\n",
       "      <td>0.466307</td>\n",
       "      <td>0.509859</td>\n",
       "      <td>0.481894</td>\n",
       "      <td>0.538462</td>\n",
       "      <td>0.450000</td>\n",
       "      <td>0.475000</td>\n",
       "      <td>0.535912</td>\n",
       "      <td>0.500000</td>\n",
       "    </tr>\n",
       "    <tr>\n",
       "      <th>1</th>\n",
       "      <td>a2 02 score</td>\n",
       "      <td>0.533333</td>\n",
       "      <td>NaN</td>\n",
       "      <td>0.551797</td>\n",
       "      <td>0.484144</td>\n",
       "      <td>0.361702</td>\n",
       "      <td>0.445378</td>\n",
       "      <td>0.382304</td>\n",
       "      <td>0.441624</td>\n",
       "      <td>0.381107</td>\n",
       "      <td>0.390987</td>\n",
       "      <td>0.435216</td>\n",
       "      <td>0.389271</td>\n",
       "    </tr>\n",
       "    <tr>\n",
       "      <th>2</th>\n",
       "      <td>a3 02 score</td>\n",
       "      <td>0.558333</td>\n",
       "      <td>0.551797</td>\n",
       "      <td>NaN</td>\n",
       "      <td>0.525926</td>\n",
       "      <td>0.504556</td>\n",
       "      <td>0.521978</td>\n",
       "      <td>0.550998</td>\n",
       "      <td>0.493464</td>\n",
       "      <td>0.471545</td>\n",
       "      <td>0.465046</td>\n",
       "      <td>0.497768</td>\n",
       "      <td>0.496907</td>\n",
       "    </tr>\n",
       "    <tr>\n",
       "      <th>0</th>\n",
       "      <td>mean</td>\n",
       "      <td>0.545833</td>\n",
       "      <td>0.542565</td>\n",
       "      <td>0.555065</td>\n",
       "      <td>0.483912</td>\n",
       "      <td>0.444188</td>\n",
       "      <td>0.492405</td>\n",
       "      <td>0.471732</td>\n",
       "      <td>0.491183</td>\n",
       "      <td>0.434217</td>\n",
       "      <td>0.443677</td>\n",
       "      <td>0.489632</td>\n",
       "      <td>0.462059</td>\n",
       "    </tr>\n",
       "  </tbody>\n",
       "</table>\n",
       "</div>"
      ],
      "text/plain": [
       "   comparisson  a1 02 score  a2 02 score  a3 02 score  GPT4 02 score  \\\n",
       "0  a1 02 score          NaN     0.533333     0.558333       0.441667   \n",
       "1  a2 02 score     0.533333          NaN     0.551797       0.484144   \n",
       "2  a3 02 score     0.558333     0.551797          NaN       0.525926   \n",
       "0         mean     0.545833     0.542565     0.555065       0.483912   \n",
       "\n",
       "   GPT4 2nd 02 score reduced  GPT4 2nd 02 score predicted 2.7  \\\n",
       "0                   0.466307                         0.509859   \n",
       "1                   0.361702                         0.445378   \n",
       "2                   0.504556                         0.521978   \n",
       "0                   0.444188                         0.492405   \n",
       "\n",
       "   GPT4 2nd 02 score predicted 2.8  GPT4 2nd 02 score predicted 2.9  \\\n",
       "0                         0.481894                         0.538462   \n",
       "1                         0.382304                         0.441624   \n",
       "2                         0.550998                         0.493464   \n",
       "0                         0.471732                         0.491183   \n",
       "\n",
       "   GPT4 02 score predicted 2.7  GPT4 02 score predicted 2.9  GPT4 2nd cot 2.6  \\\n",
       "0                     0.450000                     0.475000          0.535912   \n",
       "1                     0.381107                     0.390987          0.435216   \n",
       "2                     0.471545                     0.465046          0.497768   \n",
       "0                     0.434217                     0.443677          0.489632   \n",
       "\n",
       "   GPT4 cot 2.6  \n",
       "0      0.500000  \n",
       "1      0.389271  \n",
       "2      0.496907  \n",
       "0      0.462059  "
      ]
     },
     "execution_count": 77,
     "metadata": {},
     "output_type": "execute_result"
    }
   ],
   "source": [
    "pd.concat([general_agreement_02_score_df, pd.DataFrame(data=[['mean'] + general_agreement_02_score_df.iloc[:, 1:].mean().to_list()], columns=general_agreement_02_score_df.columns)])"
   ]
  },
  {
   "cell_type": "code",
   "execution_count": null,
   "id": "38e39c72",
   "metadata": {},
   "outputs": [],
   "source": []
  },
  {
   "cell_type": "markdown",
   "id": "f7938e7f",
   "metadata": {},
   "source": [
    "### Check the classifications between the translated 2 score from original 4-score predictions and the last 3-score predictions for the first set of questions"
   ]
  },
  {
   "cell_type": "code",
   "execution_count": null,
   "id": "6d691419",
   "metadata": {},
   "outputs": [],
   "source": [
    "from sklearn.metrics import confusion_matrix"
   ]
  },
  {
   "cell_type": "code",
   "execution_count": 48,
   "id": "ba6593bd",
   "metadata": {},
   "outputs": [
    {
     "data": {
      "text/plain": [
       "0.607843137254902"
      ]
     },
     "execution_count": 48,
     "metadata": {},
     "output_type": "execute_result"
    }
   ],
   "source": [
    "cohen_kappa_score(gpt4_df.iloc[0:120]['02_score'], gpt4_03_score_2_9_df.iloc[0:120]['02_score'])"
   ]
  },
  {
   "cell_type": "code",
   "execution_count": 49,
   "id": "30c87294",
   "metadata": {},
   "outputs": [
    {
     "data": {
      "text/plain": [
       "0.8307291666666667"
      ]
     },
     "execution_count": 49,
     "metadata": {},
     "output_type": "execute_result"
    }
   ],
   "source": [
    "cohen_kappa_score(gpt4_df.iloc[0:120]['03_score'], gpt4_03_score_2_9_df.iloc[0:120]['score'])"
   ]
  },
  {
   "cell_type": "code",
   "execution_count": 50,
   "id": "aa5b5e04",
   "metadata": {},
   "outputs": [
    {
     "data": {
      "text/plain": [
       "0.643146796431468"
      ]
     },
     "execution_count": 50,
     "metadata": {},
     "output_type": "execute_result"
    }
   ],
   "source": [
    "cohen_kappa_score(gpt4_df.iloc[120:240]['02_score'], gpt4_03_score_2_9_df.iloc[120:240]['02_score'])"
   ]
  },
  {
   "cell_type": "code",
   "execution_count": 52,
   "id": "890b6810",
   "metadata": {},
   "outputs": [
    {
     "data": {
      "text/plain": [
       "0.7964592388423619"
      ]
     },
     "execution_count": 52,
     "metadata": {},
     "output_type": "execute_result"
    }
   ],
   "source": [
    "cohen_kappa_score(gpt4_df.iloc[120:240]['03_score'], gpt4_03_score_2_9_df.iloc[120:240]['score'])"
   ]
  },
  {
   "cell_type": "code",
   "execution_count": 57,
   "id": "762d83b5",
   "metadata": {},
   "outputs": [
    {
     "name": "stdout",
     "output_type": "stream",
     "text": [
      "0.4285714285714286\n",
      "0.5384615384615384\n"
     ]
    }
   ],
   "source": [
    "print(cohen_kappa_score(a1_df.iloc[0:120]['02_score'], gpt4_03_score_2_9_df.iloc[0:120]['02_score']))\n",
    "print(cohen_kappa_score(a1_df.iloc[120:240]['02_score'], gpt4_03_score_2_9_df.iloc[120:240]['02_score']))"
   ]
  },
  {
   "cell_type": "code",
   "execution_count": 55,
   "id": "65b0d61c",
   "metadata": {},
   "outputs": [
    {
     "name": "stdout",
     "output_type": "stream",
     "text": [
      "0.36363636363636365\n",
      "0.4416243654822335\n"
     ]
    }
   ],
   "source": [
    "print(cohen_kappa_score(a2_df.iloc[0:120]['02_score'], gpt4_03_score_2_9_df.iloc[0:120]['02_score']))\n",
    "print(cohen_kappa_score(a2_df.iloc[120:240]['02_score'], gpt4_03_score_2_9_df.iloc[120:240]['02_score']))"
   ]
  },
  {
   "cell_type": "code",
   "execution_count": 56,
   "id": "597b33e0",
   "metadata": {},
   "outputs": [
    {
     "name": "stdout",
     "output_type": "stream",
     "text": [
      "0.43639291465378416\n",
      "0.4934640522875817\n"
     ]
    }
   ],
   "source": [
    "print(cohen_kappa_score(a3_df.iloc[0:120]['02_score'], gpt4_03_score_2_9_df.iloc[0:120]['02_score']))\n",
    "print(cohen_kappa_score(a3_df.iloc[120:240]['02_score'], gpt4_03_score_2_9_df.iloc[120:240]['02_score']))"
   ]
  },
  {
   "cell_type": "code",
   "execution_count": null,
   "id": "626e4bff",
   "metadata": {},
   "outputs": [],
   "source": []
  },
  {
   "cell_type": "code",
   "execution_count": 59,
   "id": "f497406d",
   "metadata": {},
   "outputs": [
    {
     "name": "stdout",
     "output_type": "stream",
     "text": [
      "0.4022891055532004\n",
      "0.25965322837995963\n"
     ]
    }
   ],
   "source": [
    "print(cohen_kappa_score(a1_df.iloc[0:120]['03_score'], gpt4_03_score_2_9_df.iloc[0:120]['score']))\n",
    "print(cohen_kappa_score(a1_df.iloc[120:240]['03_score'], gpt4_03_score_2_9_df.iloc[120:240]['score']))"
   ]
  },
  {
   "cell_type": "code",
   "execution_count": 60,
   "id": "dbd29ef1",
   "metadata": {},
   "outputs": [
    {
     "name": "stdout",
     "output_type": "stream",
     "text": [
      "0.44762684124386254\n",
      "0.21093188122880924\n"
     ]
    }
   ],
   "source": [
    "print(cohen_kappa_score(a2_df.iloc[0:120]['03_score'], gpt4_03_score_2_9_df.iloc[0:120]['score']))\n",
    "print(cohen_kappa_score(a2_df.iloc[120:240]['03_score'], gpt4_03_score_2_9_df.iloc[120:240]['score']))"
   ]
  },
  {
   "cell_type": "code",
   "execution_count": 61,
   "id": "89575bb8",
   "metadata": {},
   "outputs": [
    {
     "name": "stdout",
     "output_type": "stream",
     "text": [
      "0.44288490606780395\n",
      "0.3053917890449136\n"
     ]
    }
   ],
   "source": [
    "print(cohen_kappa_score(a3_df.iloc[0:120]['03_score'], gpt4_03_score_2_9_df.iloc[0:120]['score']))\n",
    "print(cohen_kappa_score(a3_df.iloc[120:240]['03_score'], gpt4_03_score_2_9_df.iloc[120:240]['score']))"
   ]
  },
  {
   "cell_type": "code",
   "execution_count": null,
   "id": "fabb691a",
   "metadata": {},
   "outputs": [],
   "source": []
  },
  {
   "cell_type": "code",
   "execution_count": null,
   "id": "6a436678",
   "metadata": {},
   "outputs": [],
   "source": []
  },
  {
   "cell_type": "code",
   "execution_count": null,
   "id": "195710d9",
   "metadata": {},
   "outputs": [],
   "source": [
    "cm_translated_versus_predicted = confusion_matrix(gpt4_df.iloc[0:120]['03_score'], gpt4_2nd_cot_2_6_df['score'])\n",
    "\n",
    "cm_translated_versus_predicted"
   ]
  },
  {
   "cell_type": "code",
   "execution_count": null,
   "id": "46d62658",
   "metadata": {},
   "outputs": [],
   "source": [
    "np.sum(cm_translated_versus_predicted, axis=1)\n",
    "\n",
    "np.sum(cm_translated_versus_predicted, axis=0)\n",
    "\n",
    "np.unique(gpt4_df.iloc[120:240]['03_score'].to_numpy(), return_counts=True)\n",
    "\n",
    "cohen_kappa_score(gpt4_df.iloc[120:240]['03_score_2'], gpt4_2nd_03_score_df['score'])\n",
    "\n",
    "cm_translated2_versus_predicted = confusion_matrix(gpt4_df.iloc[120:240]['03_score_2'], gpt4_2nd_03_score_df['score'])\n",
    "\n",
    "cm_translated2_versus_predicted\n",
    "\n",
    "np.sum(cm_translated2_versus_predicted, axis=1)"
   ]
  },
  {
   "cell_type": "code",
   "execution_count": null,
   "id": "a915e226",
   "metadata": {},
   "outputs": [],
   "source": []
  },
  {
   "cell_type": "code",
   "execution_count": null,
   "id": "4c123445",
   "metadata": {},
   "outputs": [],
   "source": [
    "from scipy.stats import pearsonr"
   ]
  },
  {
   "cell_type": "code",
   "execution_count": null,
   "id": "02d21255",
   "metadata": {},
   "outputs": [],
   "source": [
    "general_agreement_pearson_df = pd.DataFrame()\n",
    "\n",
    "general_agreement_pearson_df['comparisson'] = ['a1', 'a2', 'a3']\n",
    "\n",
    "general_agreement_pearson_df['a1'] = [\"\", \n",
    "                              pearsonr(a1_df['score'], a2_df['score'])[0], \n",
    "                              pearsonr(a1_df['score'], a3_df['score'])[0]]\n",
    "\n",
    "general_agreement_pearson_df['a2'] = [pearsonr(a1_df['score'], a2_df['score'])[0], \n",
    "                              \"\", \n",
    "                              pearsonr(a2_df['score'], a3_df['score'])[0]]\n",
    "\n",
    "general_agreement_pearson_df['a3'] = [pearsonr(a1_df['score'], a3_df['score'])[0], \n",
    "                              pearsonr(a2_df['score'], a3_df['score'])[0], \n",
    "                              \"\"]\n",
    "\n",
    "general_agreement_pearson_df['GPT4'] = [pearsonr(a1_df['score'], gpt4_df['score'])[0], \n",
    "                                pearsonr(a2_df['score'], gpt4_df['score'])[0], \n",
    "                                pearsonr(a3_df['score'], gpt4_df['score'])[0]]"
   ]
  },
  {
   "cell_type": "code",
   "execution_count": null,
   "id": "a072aa52",
   "metadata": {},
   "outputs": [],
   "source": [
    "general_agreement_pearson_df"
   ]
  },
  {
   "cell_type": "code",
   "execution_count": null,
   "id": "b9dc4afb",
   "metadata": {},
   "outputs": [],
   "source": [
    "general_agreement_03_score_pearson_df = pd.DataFrame()\n",
    "\n",
    "general_agreement_03_score_pearson_df['comparisson'] = ['a1 03 score', 'a2 03 score', 'a3 03 score']\n",
    "\n",
    "general_agreement_03_score_pearson_df['a1 03 score'] = [\"\", \n",
    "                                                        pearsonr(a1_df['03_score'], a2_df['03_score'])[0], \n",
    "                                                        pearsonr(a1_df['03_score'], a3_df['03_score'])[0]]\n",
    "\n",
    "general_agreement_03_score_pearson_df['a2 03 score'] = [pearsonr(a1_df['03_score'], a2_df['03_score'])[0], \n",
    "                                                        \"\", \n",
    "                                                        pearsonr(a2_df['03_score'], a3_df['03_score'])[0]]\n",
    "\n",
    "general_agreement_03_score_pearson_df['a3 03 score'] = [pearsonr(a1_df['03_score'], a3_df['03_score'])[0], \n",
    "                                                        pearsonr(a2_df['03_score'], a3_df['03_score'])[0], \"\"]\n",
    "\n",
    "general_agreement_03_score_pearson_df['GPT4 03 score'] = [pearsonr(a1_df['03_score'], gpt4_df['03_score'])[0], \n",
    "                                                  pearsonr(a2_df['03_score'], gpt4_df['03_score'])[0], \n",
    "                                                  pearsonr(a3_df['03_score'], gpt4_df['03_score'])[0]]\n",
    "\n",
    "general_agreement_03_score_pearson_df['GPT4 2nd 03 score reduced'] = [pearsonr(a1_df.iloc[120:240]['03_score'], gpt4_df.iloc[120:240]['03_score'])[0], \n",
    "                                                              pearsonr(a2_df.iloc[120:240]['03_score'], gpt4_df.iloc[120:240]['03_score'])[0], \n",
    "                                                              pearsonr(a3_df.iloc[120:240]['03_score'], gpt4_df.iloc[120:240]['03_score'])[0]]\n",
    "\n",
    "general_agreement_03_score_pearson_df['GPT4 2nd 03 score predicted'] = [pearsonr(a1_df.iloc[120:240]['03_score'], gpt4_2nd_03_score_df['score'])[0], \n",
    "                                                                pearsonr(a2_df.iloc[120:240]['03_score'], gpt4_2nd_03_score_df['score'])[0], \n",
    "                                                                pearsonr(a3_df.iloc[120:240]['03_score'], gpt4_2nd_03_score_df['score'])[0]]"
   ]
  },
  {
   "cell_type": "code",
   "execution_count": null,
   "id": "2a48a2be",
   "metadata": {},
   "outputs": [],
   "source": [
    "general_agreement_03_score_pearson_df"
   ]
  },
  {
   "cell_type": "code",
   "execution_count": null,
   "id": "23a30a78",
   "metadata": {},
   "outputs": [],
   "source": []
  },
  {
   "cell_type": "code",
   "execution_count": null,
   "id": "9e35fb95",
   "metadata": {},
   "outputs": [],
   "source": []
  },
  {
   "cell_type": "code",
   "execution_count": null,
   "id": "6ff7a19c",
   "metadata": {},
   "outputs": [],
   "source": []
  },
  {
   "cell_type": "code",
   "execution_count": null,
   "id": "536a49e5",
   "metadata": {},
   "outputs": [],
   "source": [
    "gpt4_df.iloc[120:240]['score'].to_numpy()"
   ]
  },
  {
   "cell_type": "code",
   "execution_count": null,
   "id": "5e55b008",
   "metadata": {},
   "outputs": [],
   "source": [
    "gpt4_df.iloc[120:240]['03_score'].to_numpy()"
   ]
  },
  {
   "cell_type": "code",
   "execution_count": null,
   "id": "3cf6aa2d",
   "metadata": {},
   "outputs": [],
   "source": [
    "gpt4_2nd_03_score_df['score'].to_numpy()"
   ]
  },
  {
   "cell_type": "code",
   "execution_count": null,
   "id": "73e2059b",
   "metadata": {},
   "outputs": [],
   "source": []
  },
  {
   "cell_type": "markdown",
   "id": "86435f4f",
   "metadata": {},
   "source": [
    "# Check agreement per question"
   ]
  },
  {
   "cell_type": "code",
   "execution_count": null,
   "id": "f08b0b87",
   "metadata": {},
   "outputs": [],
   "source": [
    "res_a1_a2 = check_agreement_per_questions(a1_df, a2_df, \"_a1_a2\")\n",
    "res_a1_a3 = check_agreement_per_questions(a1_df, a3_df, \"_a1_a3\")\n",
    "res_a2_a3 = check_agreement_per_questions(a2_df, a3_df, \"_a2_a3\")"
   ]
  },
  {
   "cell_type": "code",
   "execution_count": null,
   "id": "438b8230",
   "metadata": {},
   "outputs": [],
   "source": [
    "res_a1_gpt4 = check_agreement_per_questions(a1_df, gpt4_df, \"_a1_gpt4\")\n",
    "res_a1_gpt4_n5 = check_agreement_per_questions(a1_df, gpt4_n5_df, \"_a1_gpt4_n5\")\n",
    "res_a1_gpt4_n10 = check_agreement_per_questions(a1_df, gpt4_n10_df, \"_a1_gpt4_n10\")"
   ]
  },
  {
   "cell_type": "code",
   "execution_count": null,
   "id": "1ba872ec",
   "metadata": {},
   "outputs": [],
   "source": [
    "res_a2_gpt4 = check_agreement_per_questions(a2_df, gpt4_df, \"_a2_gpt4\")\n",
    "res_a2_gpt4_n5 = check_agreement_per_questions(a2_df, gpt4_n5_df, \"_a2_gpt4_n5\")\n",
    "res_a2_gpt4_n10 = check_agreement_per_questions(a2_df, gpt4_n10_df, \"_a2_gpt4_n10\")"
   ]
  },
  {
   "cell_type": "code",
   "execution_count": null,
   "id": "10db92c9",
   "metadata": {},
   "outputs": [],
   "source": [
    "res_a3_gpt4 = check_agreement_per_questions(a3_df, gpt4_df, \"_a3_gpt4\")\n",
    "res_a3_gpt4_n5 = check_agreement_per_questions(a3_df, gpt4_n5_df, \"_a3_gpt4_n5\")\n",
    "res_a3_gpt4_n10 = check_agreement_per_questions(a3_df, gpt4_n10_df, \"_a3_gpt4_n10\")"
   ]
  },
  {
   "cell_type": "code",
   "execution_count": null,
   "id": "c535342c",
   "metadata": {},
   "outputs": [],
   "source": []
  },
  {
   "cell_type": "code",
   "execution_count": null,
   "id": "5fa6b440",
   "metadata": {},
   "outputs": [],
   "source": [
    "human_combined_res = pd.concat([res_a1_a2[1], res_a1_a3[1].iloc[:, -1], res_a2_a3[1].iloc[:, -1]], axis=1)"
   ]
  },
  {
   "cell_type": "code",
   "execution_count": null,
   "id": "f9352e85",
   "metadata": {},
   "outputs": [],
   "source": [
    "human_combined_res['cohen_kappa_mean'] = human_combined_res.iloc[:, 1:].mean(axis=1)\n",
    "human_combined_res['cohen_kappa_std'] = human_combined_res.iloc[:, 1:].std(axis=1)"
   ]
  },
  {
   "cell_type": "code",
   "execution_count": null,
   "id": "c54d73fd",
   "metadata": {},
   "outputs": [],
   "source": []
  },
  {
   "cell_type": "code",
   "execution_count": null,
   "id": "c00e1477",
   "metadata": {},
   "outputs": [],
   "source": [
    "human_gpt4_combined_res = pd.concat([res_a1_gpt4[1], res_a2_gpt4[1].iloc[:, -1], res_a3_gpt4[1].iloc[:, -1]], axis=1)"
   ]
  },
  {
   "cell_type": "code",
   "execution_count": null,
   "id": "6966ec66",
   "metadata": {},
   "outputs": [],
   "source": [
    "human_gpt4_combined_res['cohen_kappa_mean'] = human_gpt4_combined_res.iloc[:, 1:].mean(axis=1)\n",
    "human_gpt4_combined_res['cohen_kappa_std'] = human_gpt4_combined_res.iloc[:, 1:].std(axis=1)"
   ]
  },
  {
   "cell_type": "code",
   "execution_count": null,
   "id": "3fe4e18e",
   "metadata": {},
   "outputs": [],
   "source": [
    "human_gpt4_n5_combined_res = pd.concat([res_a1_gpt4_n5[1], res_a2_gpt4_n5[1].iloc[:, -1], res_a3_gpt4_n5[1].iloc[:, -1]], axis=1)"
   ]
  },
  {
   "cell_type": "code",
   "execution_count": null,
   "id": "fe50dcf1",
   "metadata": {},
   "outputs": [],
   "source": [
    "human_gpt4_n5_combined_res['cohen_kappa_mean'] = human_gpt4_n5_combined_res.iloc[:, 1:].mean(axis=1)\n",
    "human_gpt4_n5_combined_res['cohen_kappa_std'] = human_gpt4_n5_combined_res.iloc[:, 1:].std(axis=1)"
   ]
  },
  {
   "cell_type": "code",
   "execution_count": null,
   "id": "52c15588",
   "metadata": {},
   "outputs": [],
   "source": []
  },
  {
   "cell_type": "code",
   "execution_count": null,
   "id": "6c015ac3",
   "metadata": {},
   "outputs": [],
   "source": [
    "human_gpt4_n10_combined_res = pd.concat([res_a1_gpt4_n10[1], res_a2_gpt4_n10[1].iloc[:, -1], res_a3_gpt4_n10[1].iloc[:, -1]], axis=1)"
   ]
  },
  {
   "cell_type": "code",
   "execution_count": null,
   "id": "109e9475",
   "metadata": {},
   "outputs": [],
   "source": [
    "human_gpt4_n10_combined_res['cohen_kappa_mean'] = human_gpt4_n10_combined_res.iloc[:, 1:].mean(axis=1)\n",
    "human_gpt4_n10_combined_res['cohen_kappa_std'] = human_gpt4_n10_combined_res.iloc[:, 1:].std(axis=1)"
   ]
  },
  {
   "cell_type": "code",
   "execution_count": null,
   "id": "53b0ff2f",
   "metadata": {},
   "outputs": [],
   "source": [
    "all_questions_comparisson_df = pd.concat([human_combined_res.iloc[:, [0, 5, 4]], \n",
    "                                          human_gpt4_combined_res.iloc[:, [4, 5]],\n",
    "                                          human_gpt4_n5_combined_res.iloc[:, [4, 5]],\n",
    "                                          human_gpt4_n10_combined_res.iloc[:, [4, 5]]], axis=1)"
   ]
  },
  {
   "cell_type": "code",
   "execution_count": null,
   "id": "88b0b4c9",
   "metadata": {},
   "outputs": [],
   "source": [
    "all_questions_comparisson_df.columns"
   ]
  },
  {
   "cell_type": "code",
   "execution_count": null,
   "id": "f37dfdef",
   "metadata": {},
   "outputs": [],
   "source": [
    "all_questions_comparisson_df.columns=['query', 'human_human_mean', 'human_human_std', 'human_gpt4_mean', 'human_gpt4_std', 'human_gpt4_n5_mean', 'human_gpt4_n5_std', 'human_gpt4_n10_mean', 'human_gpt4_n10_std']"
   ]
  },
  {
   "cell_type": "markdown",
   "id": "aa57f877",
   "metadata": {},
   "source": [
    "### Agreement per question comparisson"
   ]
  },
  {
   "cell_type": "code",
   "execution_count": null,
   "id": "cba049b6",
   "metadata": {},
   "outputs": [],
   "source": [
    "all_questions_comparisson_df"
   ]
  },
  {
   "cell_type": "code",
   "execution_count": null,
   "id": "05162684",
   "metadata": {},
   "outputs": [],
   "source": []
  },
  {
   "cell_type": "code",
   "execution_count": null,
   "id": "cb75a498",
   "metadata": {},
   "outputs": [],
   "source": [
    "all_questions_comparisson_df.iloc[:, [1, 3, 5, 7]].mean()"
   ]
  },
  {
   "cell_type": "code",
   "execution_count": null,
   "id": "833ef309",
   "metadata": {},
   "outputs": [],
   "source": []
  },
  {
   "cell_type": "code",
   "execution_count": null,
   "id": "7fd35de4",
   "metadata": {},
   "outputs": [],
   "source": [
    "all_questions_comparisson_df['max'] = all_questions_comparisson_df.iloc[:, [1, 3, 5, 7]].idxmax(axis='columns')"
   ]
  },
  {
   "cell_type": "code",
   "execution_count": null,
   "id": "ac85fe69",
   "metadata": {},
   "outputs": [],
   "source": []
  },
  {
   "cell_type": "code",
   "execution_count": null,
   "id": "71a96bb0",
   "metadata": {},
   "outputs": [],
   "source": [
    "np.unique(all_questions_comparisson_df['max'].to_numpy(), return_counts=True)"
   ]
  },
  {
   "cell_type": "markdown",
   "id": "fcd3b8d2",
   "metadata": {},
   "source": [
    "### Agreement per question per annotator / LLM generation"
   ]
  },
  {
   "cell_type": "code",
   "execution_count": null,
   "id": "d440bd6f",
   "metadata": {},
   "outputs": [],
   "source": [
    "indexes = [\n",
    "    np.repeat(human_combined_res['query'].to_numpy(), 3),\n",
    "    np.tile(['a1', 'a2', 'a3'], 24)\n",
    "]"
   ]
  },
  {
   "cell_type": "code",
   "execution_count": null,
   "id": "de3544b6",
   "metadata": {},
   "outputs": [],
   "source": [
    "comparisson_results_a1 = []\n",
    "comparisson_results_a2 = []\n",
    "comparisson_results_a3 = []\n",
    "\n",
    "for i, row in human_combined_res.iterrows():\n",
    "    comparisson_results_a1.append(None)\n",
    "    comparisson_results_a1.append(row['cohen_kappa_a1_a2'])\n",
    "    comparisson_results_a1.append(row['cohen_kappa_a1_a3'])\n",
    "    \n",
    "    comparisson_results_a2.append(row['cohen_kappa_a1_a2'])\n",
    "    comparisson_results_a2.append(None)\n",
    "    comparisson_results_a2.append(row['cohen_kappa_a2_a3'])    \n",
    "    \n",
    "    comparisson_results_a3.append(row['cohen_kappa_a1_a3'])\n",
    "    comparisson_results_a3.append(row['cohen_kappa_a2_a3'])        \n",
    "    comparisson_results_a3.append(None)"
   ]
  },
  {
   "cell_type": "code",
   "execution_count": null,
   "id": "a5df8fb1",
   "metadata": {},
   "outputs": [],
   "source": [
    "all_comparissons_per_question_df = pd.DataFrame(comparisson_results_a1, index=indexes, columns=['a1'])"
   ]
  },
  {
   "cell_type": "code",
   "execution_count": null,
   "id": "a9739002",
   "metadata": {},
   "outputs": [],
   "source": [
    "all_comparissons_per_question_df['a2'] = comparisson_results_a2\n",
    "all_comparissons_per_question_df['a3'] = comparisson_results_a3"
   ]
  },
  {
   "cell_type": "code",
   "execution_count": null,
   "id": "f969ac39",
   "metadata": {},
   "outputs": [],
   "source": [
    "comparisson_results_gpt4 = []\n",
    "comparisson_results_gpt4_n5 = []\n",
    "comparisson_results_gpt4_n10 = []\n",
    "\n",
    "for i in range(human_gpt4_combined_res.shape[0]):\n",
    "    comparisson_results_gpt4.append(human_gpt4_combined_res.iloc[i, 1])\n",
    "    comparisson_results_gpt4.append(human_gpt4_combined_res.iloc[i, 2])\n",
    "    comparisson_results_gpt4.append(human_gpt4_combined_res.iloc[i, 3])\n",
    "    \n",
    "    comparisson_results_gpt4_n5.append(human_gpt4_n5_combined_res.iloc[i, 1])\n",
    "    comparisson_results_gpt4_n5.append(human_gpt4_n5_combined_res.iloc[i, 2])\n",
    "    comparisson_results_gpt4_n5.append(human_gpt4_n5_combined_res.iloc[i, 3])\n",
    "\n",
    "    comparisson_results_gpt4_n10.append(human_gpt4_n10_combined_res.iloc[i, 1])\n",
    "    comparisson_results_gpt4_n10.append(human_gpt4_n10_combined_res.iloc[i, 2])\n",
    "    comparisson_results_gpt4_n10.append(human_gpt4_n10_combined_res.iloc[i, 3])\n",
    "                                    "
   ]
  },
  {
   "cell_type": "code",
   "execution_count": null,
   "id": "132365a7",
   "metadata": {},
   "outputs": [],
   "source": [
    "all_comparissons_per_question_df['gpt4'] = comparisson_results_gpt4\n",
    "all_comparissons_per_question_df['gpt4_n5'] = comparisson_results_gpt4_n5\n",
    "all_comparissons_per_question_df['gpt4_n10'] = comparisson_results_gpt4_n10"
   ]
  },
  {
   "cell_type": "code",
   "execution_count": null,
   "id": "1c74fc82",
   "metadata": {},
   "outputs": [],
   "source": [
    "all_comparissons_per_question_df['mean_human'] = all_comparissons_per_question_df.iloc[:,:3].mean(axis=1)\n",
    "all_comparissons_per_question_df['std_human'] = all_comparissons_per_question_df.iloc[:, :3].std(axis=1)"
   ]
  },
  {
   "cell_type": "code",
   "execution_count": null,
   "id": "7e37621a",
   "metadata": {},
   "outputs": [],
   "source": [
    "all_comparissons_per_question_df['mean_gpt4'] = all_comparissons_per_question_df.iloc[:, 3:6].mean(axis=1)\n",
    "all_comparissons_per_question_df['std_gpt4'] = all_comparissons_per_question_df.iloc[:, 3:6].std(axis=1)"
   ]
  },
  {
   "cell_type": "code",
   "execution_count": null,
   "id": "f1ca6e02",
   "metadata": {
    "scrolled": false
   },
   "outputs": [],
   "source": [
    "all_comparissons_per_question_df"
   ]
  },
  {
   "cell_type": "code",
   "execution_count": null,
   "id": "981856db",
   "metadata": {},
   "outputs": [],
   "source": [
    "all_comparissons_per_question_df['mean_human'].mean()"
   ]
  },
  {
   "cell_type": "code",
   "execution_count": null,
   "id": "38bfb56e",
   "metadata": {},
   "outputs": [],
   "source": [
    "all_comparissons_per_question_df['mean_gpt4'].mean()"
   ]
  },
  {
   "cell_type": "markdown",
   "id": "05005372",
   "metadata": {},
   "source": [
    "## Build boxplot comparing the correlations per question"
   ]
  },
  {
   "cell_type": "code",
   "execution_count": null,
   "id": "10a73f65",
   "metadata": {},
   "outputs": [],
   "source": [
    "all_combined = []"
   ]
  },
  {
   "cell_type": "code",
   "execution_count": null,
   "id": "29bcc6ee",
   "metadata": {},
   "outputs": [],
   "source": [
    "for i, row in human_combined_res.iterrows():\n",
    "    all_combined.append({\"query\": row['query'],\n",
    "                         \"first\": row['cohen_kappa_a1_a2'],\n",
    "                         \"second\": row['cohen_kappa_a1_a3'],\n",
    "                         \"third\": row['cohen_kappa_a2_a3'],\n",
    "                         \"type\": \"human_human\"})\n",
    "    \n",
    "    all_combined.append({\"query\": human_gpt4_combined_res.iloc[i, 0],\n",
    "                         \"first\": human_gpt4_combined_res.iloc[i, 1],\n",
    "                         \"second\": human_gpt4_combined_res.iloc[i, 2],\n",
    "                         \"third\": human_gpt4_combined_res.iloc[i, 3],\n",
    "                         \"type\": \"human_gpt4\"})\n",
    "    \n",
    "    all_combined.append({\"query\": human_gpt4_n5_combined_res.iloc[i, 0],\n",
    "                         \"first\": human_gpt4_n5_combined_res.iloc[i, 1],\n",
    "                         \"second\": human_gpt4_n5_combined_res.iloc[i, 2],\n",
    "                         \"third\": human_gpt4_n5_combined_res.iloc[i, 3],\n",
    "                         \"type\": \"human_gpt4_n5\"})\n",
    "    \n",
    "    all_combined.append({\"query\": human_gpt4_n10_combined_res.iloc[i, 0],\n",
    "                         \"first\": human_gpt4_n10_combined_res.iloc[i, 1],\n",
    "                         \"second\": human_gpt4_n10_combined_res.iloc[i, 2],\n",
    "                         \"third\": human_gpt4_n10_combined_res.iloc[i, 3],\n",
    "                         \"type\": \"human_gpt4_n10\"})    "
   ]
  },
  {
   "cell_type": "code",
   "execution_count": null,
   "id": "3978ccbb",
   "metadata": {},
   "outputs": [],
   "source": [
    "all_combined_df = pd.DataFrame(all_combined)"
   ]
  },
  {
   "cell_type": "code",
   "execution_count": null,
   "id": "d5a2b2be",
   "metadata": {},
   "outputs": [],
   "source": []
  },
  {
   "cell_type": "code",
   "execution_count": null,
   "id": "d290f8d6",
   "metadata": {
    "scrolled": false
   },
   "outputs": [],
   "source": [
    "plot_correlation_data(all_combined_df.iloc[::-1], all_combined_df.columns[1:4], \"Cohen Kappa por questão\")"
   ]
  },
  {
   "cell_type": "code",
   "execution_count": null,
   "id": "3d674694",
   "metadata": {},
   "outputs": [],
   "source": []
  }
 ],
 "metadata": {
  "kernelspec": {
   "display_name": "Python 3 (ipykernel)",
   "language": "python",
   "name": "python3"
  },
  "language_info": {
   "codemirror_mode": {
    "name": "ipython",
    "version": 3
   },
   "file_extension": ".py",
   "mimetype": "text/x-python",
   "name": "python",
   "nbconvert_exporter": "python",
   "pygments_lexer": "ipython3",
   "version": "3.10.12"
  }
 },
 "nbformat": 4,
 "nbformat_minor": 5
}
